{
 "cells": [
  {
   "cell_type": "markdown",
   "id": "79599fd2",
   "metadata": {},
   "source": [
    " - https://docs.python.org/3/library/re.html"
   ]
  },
  {
   "cell_type": "markdown",
   "id": "5e0ae5b8",
   "metadata": {},
   "source": [
    "#### 파이썬이 제공하는 객체 또는 메서드\n",
    "\n",
    "+ compile() : 정규표현식 객체 생성\n",
    "+ match() : 문자열의 처음부터 정규식과 매치되는지 조사\n",
    "+ search() : 문자열 전체를 검색해서 정규식과 매치되는지 조사\n",
    "+ findall() : 정규식과 매치되는 모든 문자열을 리스트로 리턴\n",
    "+ finditer() : 정규식과 매치되는 모든 문자열을 반복 가능한 객체로 리턴\n",
    "+ split() : 문자열 분리\n",
    "+ sub() : 문자열 변경(교체)\n",
    "+ ..."
   ]
  },
  {
   "cell_type": "code",
   "execution_count": 1,
   "id": "3939875b",
   "metadata": {},
   "outputs": [],
   "source": [
    "import re"
   ]
  },
  {
   "cell_type": "code",
   "execution_count": 42,
   "id": "0f1eff32",
   "metadata": {},
   "outputs": [
    {
     "name": "stdout",
     "output_type": "stream",
     "text": [
      "True\n",
      "---------------------------------------------------\n",
      "True\n",
      "False\n",
      "True\n",
      "<re.Match object; span=(12, 16), match='35th'>\n",
      "---------------------------------------------------\n",
      "True\n"
     ]
    }
   ],
   "source": [
    "# 객체를 생성해서 사용하는 방법\n",
    "p = re.compile(\"[0-9] [a-z]+ .+\")\n",
    "print(bool(p.match(\"3 aldfjladj alsdjflaj343\")))\n",
    "\n",
    "print(\"---------------------------------------------------\")\n",
    "\n",
    "# 바로 함수를 사용하는 방법\n",
    "print(bool(re.match(\"[0-9]+th\", \"35th is everything\")))\n",
    "print(bool(re.match(\"[0-9]+th\", \"aaa bbb ccc 35th is everything\")))\n",
    "print(bool(re.search(\"[0-9]+th\", \"aaa bbb ccc 35th is everything\")))\n",
    "print(re.search(\"[0-9]+th\", \"aaa bbb ccc 35th is everything\"))\n",
    "\n",
    "print(\"---------------------------------------------------\")\n",
    "\n",
    "# 전화번호 매칭되는 패턴 작성 : \"010-222-2222은 내 전화번호 입니다.\"\n",
    "print(bool(re.match(\"[0-9]{3}-[0-9]{3,4}-[0-9]{4}\",\"010-222-2222은 내 전화번호 입니다.\")))"
   ]
  },
  {
   "cell_type": "code",
   "execution_count": 43,
   "id": "0b000c61",
   "metadata": {},
   "outputs": [
    {
     "name": "stdout",
     "output_type": "stream",
     "text": [
      "['life', 'is', 'too', 'short']\n",
      "------------------------------------\n",
      "<callable_iterator object at 0x000001A9CA1E6670>\n",
      "------------------------------------\n",
      "<re.Match object; span=(0, 4), match='life'>\n",
      "life\n",
      "(0, 4)\n",
      "<re.Match object; span=(10, 12), match='is'>\n",
      "is\n",
      "(10, 12)\n",
      "<re.Match object; span=(27, 30), match='too'>\n",
      "too\n",
      "(27, 30)\n",
      "<re.Match object; span=(34, 39), match='short'>\n",
      "short\n",
      "(34, 39)\n"
     ]
    }
   ],
   "source": [
    "##### findall() 과 finditer()\n",
    "\n",
    "data = \"life 3333 is 2222 3333 444 too 10 short\"\n",
    "p = re.compile(\"[a-z]+\")\n",
    "\n",
    "# 반복해서 모든 문자열에서 계속해서 매치 \n",
    "m = p.findall(data)\n",
    "print(m)\n",
    "\n",
    "print(\"------------------------------------\")\n",
    "m1 = p.finditer(data)\n",
    "print(m1)\n",
    "\n",
    "print(\"------------------------------------\")\n",
    "for i in m1:\n",
    "    print(i)\n",
    "    print(i.group())\n",
    "    print(i.span())"
   ]
  },
  {
   "cell_type": "code",
   "execution_count": 106,
   "id": "74eb1278",
   "metadata": {},
   "outputs": [
    {
     "name": "stdout",
     "output_type": "stream",
     "text": [
      "['1', '2', '3', '4', '5', '5', '5', '6']\n",
      "['1234', '555', '6']\n",
      "['12', '34', '55']\n",
      "['123', '555']\n"
     ]
    }
   ],
   "source": [
    "data = \"1234 abc가나다ABC_555_6\"\n",
    "\n",
    "# 숫자 1개만 일치하는 패턴\n",
    "p = re.compile(\"[0-9]\")\n",
    "m = p.findall(data)\n",
    "print(m)\n",
    "\n",
    "# 숫자 1개이상 일치하는 패턴\n",
    "p = re.compile(\"[0-9]+\")\n",
    "m = p.findall(data)\n",
    "print(m)\n",
    "\n",
    "# 숫자 2개와 일치하는 패턴\n",
    "p = re.compile(\"[0-9]{2}\")\n",
    "m = p.findall(data)\n",
    "print(m)\n",
    "\n",
    "# 숫자 2개부터 3개까지 일치하는 패턴\n",
    "p = re.compile(\"[0-9]{2,3}\")\n",
    "m = p.findall(data)\n",
    "print(m)\n"
   ]
  },
  {
   "cell_type": "code",
   "execution_count": 116,
   "id": "d2dca72a",
   "metadata": {},
   "outputs": [
    {
     "name": "stdout",
     "output_type": "stream",
     "text": [
      "['abc', 'mbc']\n",
      "['abc', 'air', 'air']\n",
      "[' air', ' air']\n",
      "['1234']\n",
      "['234 abc가나다ABC_555_6 mbc air air']\n"
     ]
    }
   ],
   "source": [
    "data = \"1234 abc가나다ABC_555_6 mbc air air\"\n",
    "\n",
    "# bc로 끝나는 세글자(abc, mbc)\n",
    "p = re.compile(\"[a-z]bc\")\n",
    "m = p.findall(data)\n",
    "print(m)\n",
    "\n",
    "# a로 시작하는 세글자(abc, air, air)\n",
    "p = re.compile(\"a[a-z]{2}\")\n",
    "m = p.findall(data)\n",
    "print(m)\n",
    "\n",
    "# 가장 마지막에 air로 끝나는 패턴(air)\n",
    "p = re.compile(\".air\")\n",
    "m = p.findall(data)\n",
    "print(m)\n",
    "\n",
    "# 가장 처음에 1로 시작하는 숫자들 (1, 1234)\n",
    "p = re.compile(\"1[0-9]*\")\n",
    "m = p.findall(data)\n",
    "print(m)\n",
    "\n",
    "# 1을 뺀 모든 데이터(234 abc가나다ABC_555_6 mbc air air)\n",
    "p = re.compile(\"[^1]+\")\n",
    "m = p.findall(data)\n",
    "print(m)\n"
   ]
  },
  {
   "cell_type": "code",
   "execution_count": 46,
   "id": "9fca021b",
   "metadata": {},
   "outputs": [
    {
     "name": "stdout",
     "output_type": "stream",
     "text": [
      "['mbc,kbs', 'sbs:ytn']\n",
      "['mbc', 'kbs sbs:ytn']\n",
      "----------------------------\n",
      "['mbc', 'kbs', 'sbs', 'ytn']\n",
      "['mbc', 'kbs sbs', 'ytn']\n",
      "['mbc', 'kbs', 'sbs', 'ytn']\n",
      "['mbc', 'kbs', 'sbs', 'ytn']\n"
     ]
    }
   ],
   "source": [
    "##### split()\n",
    "\n",
    "data = \"mbc,kbs sbs:ytn\"\n",
    "\n",
    "print(data.split(\" \"))\n",
    "print(data.split(\",\"))\n",
    "print(\"----------------------------\")\n",
    "print(re.split(\"[\\s,:]\",data))\n",
    "print(re.split(\"[,:]\",data))\n",
    "print(re.split(\"\\W+\",data))\n",
    "print(re.split(\",|:| \",data))"
   ]
  },
  {
   "cell_type": "code",
   "execution_count": 65,
   "id": "0b6eee38",
   "metadata": {},
   "outputs": [
    {
     "name": "stdout",
     "output_type": "stream",
     "text": [
      "888 abc가나다ABC_888_888\n",
      "8888 abc가나다ABC_888_8\n",
      "----------------------------------------\n",
      "mbc,kbs,sbs,ytn\n"
     ]
    }
   ],
   "source": [
    "##### sub\n",
    "\n",
    "data = \"1234 abc가나다ABC_555_6\"\n",
    "\n",
    "m = re.sub(\"[0-9]+\", \"888\", data)\n",
    "print(m)\n",
    "\n",
    "m = re.sub(\"[0-9]\", \"8\", data)\n",
    "print(m)\n",
    "\n",
    "print(\"----------------------------------------\")\n",
    "\n",
    "data = \"mbc,kbs sbs:ytn\"\n",
    "\n",
    "m = re.sub(\"\\W+\",\",\",data)\n",
    "print(m)"
   ]
  },
  {
   "cell_type": "code",
   "execution_count": 12,
   "id": "1bb885bf",
   "metadata": {},
   "outputs": [
    {
     "name": "stdout",
     "output_type": "stream",
     "text": [
      "<re.Match object; span=(0, 3), match='axb'>\n",
      "<re.Match object; span=(0, 3), match='a+b'>\n",
      "<re.Match object; span=(0, 3), match='a\\nb'>\n",
      "-------------------------------------------------\n",
      "<re.Match object; span=(0, 1), match='p'>\n",
      "<re.Match object; span=(0, 1), match='P'>\n",
      "-------------------------------------------------\n",
      "['python one ', 'python two ', 'Python three']\n"
     ]
    }
   ],
   "source": [
    "##### 컴파일 옵션 : S(or DOTALL), I(or IGNORECASE), M(or MULTILINE)\n",
    "\n",
    "p = re.compile(\"a.b\",re.S) # 모두 그냥 하나의 문자로 인식 \n",
    "\n",
    "m1 = p.match(\"axb is bla bla bla ~~\")\n",
    "print(m1)\n",
    "\n",
    "m2 = p.match(\"a+b is bla bla bla ~~\")\n",
    "print(m2)\n",
    "\n",
    "m3 = p.match(\"a\\nb is bla bla bla ~~\")\n",
    "print(m3)\n",
    "\n",
    "print(\"-------------------------------------------------\")\n",
    "\n",
    "# p = re.compile(\"[a-zA-Z]\")\n",
    "p = re.compile(\"[a-z]\",re.I) # 대소문자 무시\n",
    "\n",
    "print(p.match(\"python\"))\n",
    "print(p.match(\"Python\"))\n",
    "\n",
    "print(\"-------------------------------------------------\")\n",
    "\n",
    "data = \"\"\"python one \n",
    "life is too short\n",
    "python two \n",
    "you need python \n",
    "Python three\n",
    "\"\"\"\n",
    "\n",
    "# 첫글자 대소문자 상관없이 python으로 시작하는 문자열\n",
    "p = re.compile(\"^[p|P]ython.+\",re.M) # 여러 줄에서 찾아라 \n",
    "print(p.findall(data))"
   ]
  },
  {
   "cell_type": "code",
   "execution_count": 17,
   "id": "1ad92c43",
   "metadata": {},
   "outputs": [
    {
     "name": "stdout",
     "output_type": "stream",
     "text": [
      "<re.Match object; span=(0, 6), match='python'>\n",
      "python\n",
      "0 6\n",
      "(0, 6)\n"
     ]
    }
   ],
   "source": [
    "##### match(), search() 객체의 메서드\n",
    "\n",
    "p = re.compile(\"[a-z]+\")\n",
    "data = \"python 123 !? python\"\n",
    "\n",
    "m = p.match(data)\n",
    "print(m)\n",
    "\n",
    "print(m.group()) # 매치되는 문자의 그룹\n",
    "print(m.start(), m.end()) # 매치된 문자의 시작 위치, 끝 위치\n",
    "print(m.span())"
   ]
  },
  {
   "cell_type": "code",
   "execution_count": 26,
   "id": "3e44d26c",
   "metadata": {},
   "outputs": [
    {
     "name": "stdout",
     "output_type": "stream",
     "text": [
      "['abc1.html', 'abc2.html', 'abc3.html', 'xyz.html', 'pic.jpg']\n",
      "['abc1.html', 'abc2.html', 'abc3.html', 'xyz.html', 'pic.jpg']\n",
      "['abc1.html', 'abc2.html', 'abc3.html', 'xyz.html', 'pic.jpg']\n",
      "['abc1.html', 'abc2.html', 'abc3.html', 'xyz.html', 'pic.jpg']\n",
      "['abc1.html', 'abc2.html', 'abc3.html', 'xyz.html', 'pic.jpg']\n",
      "[]\n"
     ]
    }
   ],
   "source": [
    "data = \"\"\"\n",
    "<a href = \"abc1.html\">abc1</a>\n",
    "<a href = \"abc2.html\">abc2</a>\n",
    "<a href = \"abc3.html\">abc3</a>\n",
    "<a href = \"xyz.html\">xyz</a>\n",
    "<a href = \"pic.jpg\">pic</a>\n",
    "\"\"\"\n",
    "\n",
    "# [abc1.html, abc2.html, abc3.html, xyz.html, pic.jpg]\n",
    "\n",
    "p = re.findall(\"\\w+[.]\\w+\", data)\n",
    "print(p)\n",
    "\n",
    "p = re.findall(\"[a-z0-9]+[.][h|j]\\w+\",data)\n",
    "print(p)\n",
    "\n",
    "p = re.findall(\"\\w+\\.\\w+\",data)\n",
    "print(p)\n",
    "               \n",
    "p = re.findall(\"\\w*[.][a-z]*\",data)\n",
    "print(p)\n",
    "\n",
    "p = re.findall(\"[a-z0-9]+[.][a-z]+\",data)\n",
    "print(p)\n",
    "\n",
    "p = re.findall('href=\"(.+)\"',data)\n",
    "print(p)"
   ]
  },
  {
   "cell_type": "code",
   "execution_count": null,
   "id": "28fac254",
   "metadata": {},
   "outputs": [],
   "source": []
  }
 ],
 "metadata": {
  "kernelspec": {
   "display_name": "Python 3",
   "language": "python",
   "name": "python3"
  },
  "language_info": {
   "codemirror_mode": {
    "name": "ipython",
    "version": 3
   },
   "file_extension": ".py",
   "mimetype": "text/x-python",
   "name": "python",
   "nbconvert_exporter": "python",
   "pygments_lexer": "ipython3",
   "version": "3.8.8"
  }
 },
 "nbformat": 4,
 "nbformat_minor": 5
}
