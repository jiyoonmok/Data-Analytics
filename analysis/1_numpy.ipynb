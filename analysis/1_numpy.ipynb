{
 "cells": [
  {
   "cell_type": "markdown",
   "id": "d232f83e",
   "metadata": {},
   "source": [
    "# 특징\n",
    "\n",
    "+ 벡터 및 행렬 연산과 관련된 편리한 기능을 제공 (선형대수 관련)\n",
    "+ 리스트에 비해 빠르고 메모리를 효율적으로 사용할 수 있는 배열(ndarray) 제공\n",
    "+ 반복문 없이 데이터 배열에 대한 처리를 지원 (인덱싱, 질의)\n",
    "+ http://www.numpy.org\n"
   ]
  },
  {
   "cell_type": "code",
   "execution_count": 2,
   "id": "2fc61898",
   "metadata": {},
   "outputs": [],
   "source": [
    "import numpy as np"
   ]
  },
  {
   "cell_type": "markdown",
   "id": "8bb975d4",
   "metadata": {},
   "source": [
    "# 1. 1차원 배열"
   ]
  },
  {
   "cell_type": "code",
   "execution_count": 4,
   "id": "a704d0f7",
   "metadata": {},
   "outputs": [
    {
     "name": "stdout",
     "output_type": "stream",
     "text": [
      "[1, 2, 3, 4, 5, 10, 20, '가', '나']\n",
      "<class 'list'>\n"
     ]
    }
   ],
   "source": [
    "a1 = [1, 2, 3, 4, 5, 10, 20, \"가\", \"나\"]\n",
    "print(a1)\n",
    "print(type(a1))\n",
    "# print(a1.shape)\n",
    "# print(a1.dtype)"
   ]
  },
  {
   "cell_type": "code",
   "execution_count": 7,
   "id": "4c92529a",
   "metadata": {},
   "outputs": [
    {
     "name": "stdout",
     "output_type": "stream",
     "text": [
      "['1' '2' '3' '4' '5' '10' '20' '가' '나']\n",
      "(9,)\n",
      "<U11\n"
     ]
    }
   ],
   "source": [
    "# 배열로 받기\n",
    "a2 = np.array([1, 2, 3, 4, 5, 10, 20, \"가\", \"나\"])\n",
    "print(a2)\n",
    "\n",
    "# 배열의 구조\n",
    "print(a2.shape)\n",
    "# 문자 (유니코드)\n",
    "print(a2.dtype)"
   ]
  },
  {
   "cell_type": "code",
   "execution_count": 8,
   "id": "aaf7354d",
   "metadata": {},
   "outputs": [
    {
     "name": "stdout",
     "output_type": "stream",
     "text": [
      "[ 1.  2.  3.  4.  5. 10. 20. 30. 40.]\n",
      "float64\n"
     ]
    }
   ],
   "source": [
    "# a3 = np.array([1, 2, 3, 4, 5, 10, 20, \"30\", \"40\"], dtype=float)\n",
    "\n",
    "a3 = np.array([1, 2, 3, 4, 5, 10, 20, \"30\", \"40\"], float)\n",
    "print(a3)\n",
    "print(a3.dtype)"
   ]
  },
  {
   "cell_type": "code",
   "execution_count": 10,
   "id": "a6de7566",
   "metadata": {},
   "outputs": [
    {
     "name": "stdout",
     "output_type": "stream",
     "text": [
      "[0, 1, 2, 3, 4, 5, 6, 7, 8, 9, 0, 1, 2, 3, 4, 5, 6, 7, 8, 9]\n"
     ]
    }
   ],
   "source": [
    "# 벡터화 연산\n",
    "\n",
    "data1 = [0, 1, 2, 3, 4, 5, 6, 7, 8, 9]\n",
    "print(data1 *2)"
   ]
  },
  {
   "cell_type": "code",
   "execution_count": 12,
   "id": "bc436edc",
   "metadata": {},
   "outputs": [
    {
     "name": "stdout",
     "output_type": "stream",
     "text": [
      "[ 0  2  4  6  8 10 12 14 16 18]\n",
      "[-2 -1  0  1  2  3  4  5  6  7]\n",
      "[ 2  3  4  5  6  7  8  9 10 11]\n"
     ]
    }
   ],
   "source": [
    "data2 = np.array(data1)\n",
    "print(data2 *2)\n",
    "print(data2 -2)\n",
    "print(data2 +2)"
   ]
  },
  {
   "cell_type": "code",
   "execution_count": 13,
   "id": "5a1f580f",
   "metadata": {},
   "outputs": [
    {
     "name": "stdout",
     "output_type": "stream",
     "text": [
      "0 1\n"
     ]
    }
   ],
   "source": [
    "# 인덱스 접근\n",
    "print(data2[0], data2[1])"
   ]
  },
  {
   "cell_type": "markdown",
   "id": "e05a2ee1",
   "metadata": {},
   "source": [
    "# 2. 2차원 배열"
   ]
  },
  {
   "cell_type": "code",
   "execution_count": 16,
   "id": "69259fd7",
   "metadata": {},
   "outputs": [
    {
     "name": "stdout",
     "output_type": "stream",
     "text": [
      "[[1 2 3]\n",
      " [4 5 6]]\n",
      "(2, 3)\n",
      "int32\n"
     ]
    }
   ],
   "source": [
    "arr = np.array([[1, 2, 3], [4, 5, 6]])\n",
    "print(arr)\n",
    "print(arr.shape)\n",
    "print(arr.dtype)"
   ]
  },
  {
   "cell_type": "code",
   "execution_count": 18,
   "id": "a1f7e538",
   "metadata": {},
   "outputs": [
    {
     "name": "stdout",
     "output_type": "stream",
     "text": [
      "[1 2 3]\n",
      "2\n",
      "------------------\n",
      "2\n",
      "3\n"
     ]
    }
   ],
   "source": [
    "# 접근\n",
    "print(arr[0])\n",
    "print(arr[0][1])\n",
    "print(\"------------------\")\n",
    "print(len(arr)) # 행길이\n",
    "print(len(arr[0])) # 열길이"
   ]
  },
  {
   "cell_type": "markdown",
   "id": "0890133e",
   "metadata": {},
   "source": [
    "# 3. 3차원 배열"
   ]
  },
  {
   "cell_type": "code",
   "execution_count": 20,
   "id": "38a8e7f4",
   "metadata": {},
   "outputs": [
    {
     "name": "stdout",
     "output_type": "stream",
     "text": [
      "[[[ 1  2  3  4]\n",
      "  [ 3  4  5  6]]\n",
      "\n",
      " [[ 7  8  9 10]\n",
      "  [11 12 13 14]]]\n",
      "(2, 2, 4)\n",
      "3\n"
     ]
    }
   ],
   "source": [
    "arr = np.array([[[1, 2, 3, 4],[3, 4, 5, 6]],[[7, 8, 9, 10], [11, 12, 13, 14]]])\n",
    "print(arr)\n",
    "print(arr.shape)\n",
    "print(arr.ndim)"
   ]
  },
  {
   "cell_type": "code",
   "execution_count": 23,
   "id": "9fa7350a",
   "metadata": {},
   "outputs": [
    {
     "name": "stdout",
     "output_type": "stream",
     "text": [
      "[10]\n",
      "int32\n",
      "(1,)\n",
      "1\n"
     ]
    }
   ],
   "source": [
    "arr = np.array([10])\n",
    "print(arr)\n",
    "print(arr.dtype)\n",
    "print(arr.shape)\n",
    "print(arr.ndim)"
   ]
  },
  {
   "cell_type": "markdown",
   "id": "64095984",
   "metadata": {},
   "source": [
    "# 4. 집계함수"
   ]
  },
  {
   "cell_type": "code",
   "execution_count": 24,
   "id": "726d5ee0",
   "metadata": {},
   "outputs": [
    {
     "name": "stdout",
     "output_type": "stream",
     "text": [
      "[-1.50518526  1.40446973 -0.18925727 -0.65655271 -0.17873488 -1.07937529\n",
      "  1.65468518  0.3140516 ]\n",
      "[-0.78877085  0.723881   -1.06143625 -0.13431266 -1.21992878 -1.07024796\n",
      " -1.3701243   0.85614092]\n"
     ]
    }
   ],
   "source": [
    "x = np.random.randn(8)\n",
    "y = np.random.randn(8)\n",
    "\n",
    "print(x)\n",
    "print(y)"
   ]
  },
  {
   "cell_type": "code",
   "execution_count": 25,
   "id": "fa8309fb",
   "metadata": {},
   "outputs": [
    {
     "data": {
      "text/plain": [
       "array([-0.78877085,  1.40446973, -0.18925727, -0.13431266, -0.17873488,\n",
       "       -1.07024796,  1.65468518,  0.85614092])"
      ]
     },
     "execution_count": 25,
     "metadata": {},
     "output_type": "execute_result"
    }
   ],
   "source": [
    "# 큰 값을 찾아준다\n",
    "np.maximum(x, y)"
   ]
  },
  {
   "cell_type": "code",
   "execution_count": 26,
   "id": "c55f0a4d",
   "metadata": {},
   "outputs": [
    {
     "data": {
      "text/plain": [
       "array([[-0.02738434,  0.71767429, -1.69305427, -0.64500068],\n",
       "       [-0.58113093,  1.28954328, -1.05655696, -1.56512688],\n",
       "       [ 1.19541703,  0.0521775 , -0.65737567,  0.17987321],\n",
       "       [ 1.69398088,  0.28648543,  0.12159602,  1.36906283],\n",
       "       [ 0.4760602 ,  0.2403859 ,  2.3544433 ,  0.07448737]])"
      ]
     },
     "execution_count": 26,
     "metadata": {},
     "output_type": "execute_result"
    }
   ],
   "source": [
    "arr = np.random.randn(5,4)\n",
    "arr"
   ]
  },
  {
   "cell_type": "code",
   "execution_count": 28,
   "id": "45f629f5",
   "metadata": {},
   "outputs": [
    {
     "name": "stdout",
     "output_type": "stream",
     "text": [
      "3.8255574951419824\n",
      "[ 2.75694284  2.5862664  -0.93094759 -0.58670415]\n",
      "[-1.64776501 -1.91327148  0.77009207  3.47112515  3.14537677]\n"
     ]
    }
   ],
   "source": [
    "# ?np.sum\n",
    "print(arr.sum())\n",
    "print(arr.sum(axis=0)) # 열별 합계\n",
    "print(arr.sum(axis=1)) # 행별 합계"
   ]
  },
  {
   "cell_type": "markdown",
   "id": "aabfa006",
   "metadata": {},
   "source": [
    "# 5. 배열의 인덱싱"
   ]
  },
  {
   "cell_type": "code",
   "execution_count": 31,
   "id": "837ef925",
   "metadata": {},
   "outputs": [
    {
     "name": "stdout",
     "output_type": "stream",
     "text": [
      "300 500 500 300\n"
     ]
    }
   ],
   "source": [
    "arr = np.array([100, 200, 300, 400, 500])\n",
    "print(arr[2], arr[4], arr[-1], arr[-3])"
   ]
  },
  {
   "cell_type": "code",
   "execution_count": 33,
   "id": "0c6a0165",
   "metadata": {},
   "outputs": [
    {
     "name": "stdout",
     "output_type": "stream",
     "text": [
      "2 2 5\n"
     ]
    }
   ],
   "source": [
    "arr = np.array([[0, 1, 2], [3, 4, 5]])\n",
    "print(arr[0][2], arr[0, 2], arr[-1, -1])"
   ]
  },
  {
   "cell_type": "code",
   "execution_count": 66,
   "id": "3e3642c5",
   "metadata": {},
   "outputs": [
    {
     "name": "stdout",
     "output_type": "stream",
     "text": [
      "[0 2 4 6 8]\n",
      "[0 2 4 6 8]\n",
      "[9]\n"
     ]
    }
   ],
   "source": [
    "#### fancy index\n",
    "\n",
    "arr = np.array([i for i in range(10)]) # 0~9\n",
    "arr \n",
    "idx = np.array([True, False, True, False, True, False, True, False, True, False])\n",
    "\n",
    "print(arr[idx])\n",
    "print(arr[arr % 2 == 0])\n",
    "\n",
    "# arr에서 3으로 나누면 나눠지고 4로 나누면 1이 남는 수를 찾아라\n",
    "print(arr[(arr % 3 == 0 )& (arr % 4 ==1)])"
   ]
  },
  {
   "cell_type": "code",
   "execution_count": 47,
   "id": "c4ecf911",
   "metadata": {},
   "outputs": [
    {
     "name": "stdout",
     "output_type": "stream",
     "text": [
      "[0 1]\n",
      "--------------------------------\n",
      "[[4 5]\n",
      " [8 9]]\n",
      "--------------------------------\n",
      "[0 1 2 3]\n",
      "--------------------------------\n",
      "[[0 1]\n",
      " [4 5]]\n",
      "--------------------------------\n",
      "[[0 1]\n",
      " [4 5]]\n",
      "--------------------------------\n",
      "[[0 1]\n",
      " [4 5]]\n"
     ]
    }
   ],
   "source": [
    "arr = np.array([[0, 1, 2, 3],\n",
    "               [4, 5, 6, 7],\n",
    "               [8, 9, 10, 11]])\n",
    "arr\n",
    "\n",
    "print(arr[0, 0:2])\n",
    "print(\"--------------------------------\")\n",
    "print(arr[1:3 , 0:2])\n",
    "print(\"--------------------------------\")\n",
    "print(arr[0, :])\n",
    "print(\"--------------------------------\")\n",
    "\n",
    "# [[0,1], [4,5]]\n",
    "print(arr[0:2, 0:2])\n",
    "print(\"--------------------------------\")\n",
    "print(arr[0:2,[0,1]])\n",
    "print(\"--------------------------------\")\n",
    "print(arr[:2, :2])"
   ]
  },
  {
   "cell_type": "markdown",
   "id": "0c56db0c",
   "metadata": {},
   "source": [
    "# 7. numpy 자료형\n",
    "\n",
    "- b : 불리언\n",
    "- i : 정수형\n",
    "- u : 부호없는 정수형\n",
    "- f : 부동 소수점\n",
    "- c : 복소수\n",
    "- O : 객체\n",
    "- S : 바이트 문자열\n",
    "- U : 유니코드 문자열"
   ]
  },
  {
   "cell_type": "code",
   "execution_count": 50,
   "id": "1470fdf0",
   "metadata": {},
   "outputs": [
    {
     "name": "stdout",
     "output_type": "stream",
     "text": [
      ">i4\n",
      "int32\n",
      ">i8\n",
      "int64\n"
     ]
    }
   ],
   "source": [
    "a1 = np.dtype(\">i4\")\n",
    "print(a1)\n",
    "print(a1.name)\n",
    "\n",
    "a2 = np.dtype(\">i8\")\n",
    "print(a2)\n",
    "print(a2.name)"
   ]
  },
  {
   "cell_type": "code",
   "execution_count": 51,
   "id": "4b484b2a",
   "metadata": {},
   "outputs": [
    {
     "name": "stdout",
     "output_type": "stream",
     "text": [
      "float16\n"
     ]
    }
   ],
   "source": [
    "# arr = np.array([1, 2, 3], dtype=\"f\")\n",
    "arr = np.array([1, 2, 3], dtype=np.float16)\n",
    "print(arr.dtype)\n"
   ]
  },
  {
   "cell_type": "markdown",
   "id": "8ba9734e",
   "metadata": {},
   "source": [
    "# 8. 배열 생성 "
   ]
  },
  {
   "cell_type": "code",
   "execution_count": 54,
   "id": "95619fa5",
   "metadata": {},
   "outputs": [
    {
     "name": "stdout",
     "output_type": "stream",
     "text": [
      "[0. 0. 0. 0. 0.]\n",
      "float64\n",
      "<class 'numpy.ndarray'>\n",
      "-------------------------------------------\n",
      "[0 0 0 0 0]\n",
      "int64\n",
      "------------------------------------------\n",
      "['' '' '' '' '']\n",
      "<U4\n",
      "['abc' 'abcd' 'abcd' '' '']\n",
      "-------------------------------------------\n",
      "[[0. 0. 0.]\n",
      " [0. 0. 0.]]\n"
     ]
    }
   ],
   "source": [
    "arr = np.zeros(5)\n",
    "print(arr)\n",
    "print(arr.dtype)\n",
    "print(type(arr))\n",
    "\n",
    "print(\"-------------------------------------------\")\n",
    "\n",
    "arr = np.zeros(5, dtype=\"i8\")\n",
    "print(arr)\n",
    "print(arr.dtype)\n",
    "\n",
    "print(\"------------------------------------------\")\n",
    "\n",
    "arr = np.zeros(5, dtype=\"U4\")\n",
    "print(arr)\n",
    "print(arr.dtype)\n",
    "arr[0] = \"abc\"\n",
    "arr[1] = \"abcd\"\n",
    "arr[2] = \"abcde\"\n",
    "print(arr)\n",
    "\n",
    "print(\"-------------------------------------------\")\n",
    "\n",
    "arr = np.zeros((2, 3))\n",
    "print(arr)"
   ]
  },
  {
   "cell_type": "code",
   "execution_count": 65,
   "id": "8bcb9b70",
   "metadata": {},
   "outputs": [
    {
     "name": "stdout",
     "output_type": "stream",
     "text": [
      "[[[1. 1. 1. 1.]\n",
      "  [1. 1. 1. 1.]\n",
      "  [1. 1. 1. 1.]]\n",
      "\n",
      " [[1. 1. 1. 1.]\n",
      "  [1. 1. 1. 1.]\n",
      "  [1. 1. 1. 1.]]]\n",
      "----------------------------------------\n",
      "[[1. 1. 1.]\n",
      " [1. 1. 1.]]\n",
      "----------------------------------------\n",
      "[[1.29647791e-311 3.16202013e-322 0.00000000e+000]\n",
      " [0.00000000e+000 0.00000000e+000 9.30235049e+165]\n",
      " [2.92940959e-057 7.27135134e-043 3.88453348e-057]\n",
      " [2.88025826e+180 1.08551587e-042 2.21540458e+160]]\n",
      "----------------------------------------\n",
      "[0 1 2 3 4 5 6 7 8 9]\n",
      "----------------------------------------\n",
      "[  1.    25.75  50.5   75.25 100.  ]\n"
     ]
    }
   ],
   "source": [
    "arr = np.ones((2, 3, 4))\n",
    "print(arr)\n",
    "\n",
    "print(\"----------------------------------------\")\n",
    "\n",
    "arr1 = np.zeros((2, 3))\n",
    "arr2 = np.ones_like(arr1)\n",
    "print(arr2)\n",
    "\n",
    "print(\"----------------------------------------\")\n",
    "\n",
    "arr = np.empty((4, 3))\n",
    "print(arr)\n",
    "\n",
    "print(\"----------------------------------------\")\n",
    "\n",
    "arr = np.arange(10)\n",
    "print(arr)\n",
    "\n",
    "print(\"----------------------------------------\")\n",
    "\n",
    "arr = np.linspace(1, 100, 5)\n",
    "print(arr)"
   ]
  },
  {
   "cell_type": "markdown",
   "id": "8fd807a4",
   "metadata": {},
   "source": [
    "# 9. 전치 연산 (Transpose)"
   ]
  },
  {
   "cell_type": "code",
   "execution_count": 66,
   "id": "dbf2448e",
   "metadata": {},
   "outputs": [
    {
     "name": "stdout",
     "output_type": "stream",
     "text": [
      "[[1 2 3]\n",
      " [4 5 6]]\n",
      "[[1 4]\n",
      " [2 5]\n",
      " [3 6]]\n"
     ]
    }
   ],
   "source": [
    "arr = np.array([[1, 2, 3], [4, 5, 6]])\n",
    "print(arr)\n",
    "print(arr.T)"
   ]
  },
  {
   "cell_type": "markdown",
   "id": "833e5a39",
   "metadata": {},
   "source": [
    "# 10. 배열의 크기 변형 : reshape(), flatten(), ravel()"
   ]
  },
  {
   "cell_type": "code",
   "execution_count": 67,
   "id": "b9811261",
   "metadata": {},
   "outputs": [
    {
     "name": "stdout",
     "output_type": "stream",
     "text": [
      "[ 0  1  2  3  4  5  6  7  8  9 10 11]\n",
      "(12,)\n"
     ]
    }
   ],
   "source": [
    "arr = np.arange(12)\n",
    "print(arr)\n",
    "print(arr.shape)"
   ]
  },
  {
   "cell_type": "code",
   "execution_count": 74,
   "id": "ff994dba",
   "metadata": {},
   "outputs": [
    {
     "name": "stdout",
     "output_type": "stream",
     "text": [
      "[[ 0  1  2  3]\n",
      " [ 4  5  6  7]\n",
      " [ 8  9 10 11]]\n",
      "(3, 4)\n",
      "-------------------------------------------\n",
      "[[ 0  1  2  3]\n",
      " [ 4  5  6  7]\n",
      " [ 8  9 10 11]]\n",
      "(3, 4)\n",
      "-------------------------------------------\n",
      "[[ 0  1  2  3]\n",
      " [ 4  5  6  7]\n",
      " [ 8  9 10 11]]\n",
      "(3, 4)\n"
     ]
    }
   ],
   "source": [
    "arr1 = arr.reshape(3,4)\n",
    "print(arr1)\n",
    "print(arr1.shape)\n",
    "\n",
    "print(\"-------------------------------------------\")\n",
    "\n",
    "# 행, 열 중에 하나만 적어도 알아서 채워짐 \n",
    "\n",
    "arr1 = arr.reshape(3, -1)\n",
    "print(arr1)\n",
    "print(arr1.shape)\n",
    "\n",
    "print(\"-------------------------------------------\")\n",
    "\n",
    "arr1 = arr.reshape(-1, 4)\n",
    "print(arr1)\n",
    "print(arr1.shape)"
   ]
  },
  {
   "cell_type": "code",
   "execution_count": 75,
   "id": "83bdad3f",
   "metadata": {},
   "outputs": [
    {
     "name": "stdout",
     "output_type": "stream",
     "text": [
      "[[[ 0  1  2]\n",
      "  [ 3  4  5]]\n",
      "\n",
      " [[ 6  7  8]\n",
      "  [ 9 10 11]]]\n",
      "(2, 2, 3)\n",
      "-------------------------------\n",
      "[[[ 0  1  2]\n",
      "  [ 3  4  5]]\n",
      "\n",
      " [[ 6  7  8]\n",
      "  [ 9 10 11]]]\n",
      "(2, 2, 3)\n",
      "-------------------------------\n",
      "[[[ 0  1  2]\n",
      "  [ 3  4  5]]\n",
      "\n",
      " [[ 6  7  8]\n",
      "  [ 9 10 11]]]\n",
      "(2, 2, 3)\n",
      "-------------------------------\n",
      "[[[ 0  1  2]\n",
      "  [ 3  4  5]]\n",
      "\n",
      " [[ 6  7  8]\n",
      "  [ 9 10 11]]]\n",
      "(2, 2, 3)\n",
      "-------------------------------\n"
     ]
    }
   ],
   "source": [
    "arr2 = arr.reshape(2, 2, 3)\n",
    "print(arr2)\n",
    "print(arr2. shape)\n",
    "\n",
    "print(\"-------------------------------\")\n",
    "\n",
    "arr2 = arr.reshape(2, 2, -1)\n",
    "print(arr2)\n",
    "print(arr2. shape)\n",
    "\n",
    "print(\"-------------------------------\")\n",
    "\n",
    "arr2 = arr.reshape(2, -1, 3)\n",
    "print(arr2)\n",
    "print(arr2. shape)\n",
    "\n",
    "print(\"-------------------------------\")\n",
    "\n",
    "arr2 = arr.reshape(-1, 2, 3)\n",
    "print(arr2)\n",
    "print(arr2. shape)\n",
    "\n",
    "print(\"-------------------------------\")"
   ]
  },
  {
   "cell_type": "code",
   "execution_count": 77,
   "id": "492b2e64",
   "metadata": {},
   "outputs": [
    {
     "name": "stdout",
     "output_type": "stream",
     "text": [
      "[ 0  1  2  3  4  5  6  7  8  9 10 11]\n",
      "[ 0  1  2  3  4  5  6  7  8  9 10 11]\n",
      "-------------------------------------\n",
      "[ 0  1  2  3  4  5  6  7  8  9 10 11]\n",
      "[ 0  1  2  3  4  5  6  7  8  9 10 11]\n"
     ]
    }
   ],
   "source": [
    "print(arr1.flatten())\n",
    "print(arr1.ravel())\n",
    "\n",
    "print(\"-------------------------------------\")\n",
    "\n",
    "print(arr2.flatten())\n",
    "print(arr2.ravel())"
   ]
  },
  {
   "cell_type": "code",
   "execution_count": 78,
   "id": "c640441a",
   "metadata": {},
   "outputs": [
    {
     "name": "stdout",
     "output_type": "stream",
     "text": [
      "[[0 1 2 3 4]]\n",
      "[[0]\n",
      " [1]\n",
      " [2]\n",
      " [3]\n",
      " [4]]\n",
      "----------------------------------------\n",
      "[[0]\n",
      " [1]\n",
      " [2]\n",
      " [3]\n",
      " [4]]\n",
      "[[0 1 2 3 4]]\n",
      "----------------------------------------\n",
      "[[0]\n",
      " [1]\n",
      " [2]\n",
      " [3]\n",
      " [4]]\n"
     ]
    }
   ],
   "source": [
    "arr = np.arange(5)\n",
    "\n",
    "print(arr.reshape(1, 5))\n",
    "print(arr.reshape(5, 1))\n",
    "\n",
    "print(\"----------------------------------------\")\n",
    "\n",
    "print(arr.reshape(1, 5).T)\n",
    "print(arr.reshape(5, 1).T)\n",
    "\n",
    "print(\"----------------------------------------\")\n",
    "\n",
    "print(arr[:, np.newaxis])"
   ]
  },
  {
   "cell_type": "markdown",
   "id": "6a17bbab",
   "metadata": {},
   "source": [
    "# 11. 배열 연결(병합) : stack(), hstack(), vstack(), dstack(), tile()"
   ]
  },
  {
   "cell_type": "code",
   "execution_count": 81,
   "id": "44103ce2",
   "metadata": {},
   "outputs": [
    {
     "name": "stdout",
     "output_type": "stream",
     "text": [
      "[[1. 1. 1.]\n",
      " [1. 1. 1.]]\n",
      "[[1. 1.]\n",
      " [1. 1.]]\n",
      "[[1. 1. 1. 1. 1.]\n",
      " [1. 1. 1. 1. 1.]]\n"
     ]
    }
   ],
   "source": [
    "##### hstack(). vstack()\n",
    "\n",
    "arr1 = np.ones((2, 3))\n",
    "arr2 = np.ones((2, 2))\n",
    "\n",
    "print(arr1)\n",
    "print(arr2)\n",
    "\n",
    "# 수평으로 묶기\n",
    "arr3 = np.hstack([arr1, arr2])\n",
    "print(arr3)\n",
    "\n",
    "# 수직으로 묶기 (지금은 안맞아서 실행안됨)\n",
    "# arr3 = np.vstack([arr1, arr2])"
   ]
  },
  {
   "cell_type": "code",
   "execution_count": 85,
   "id": "4eb24f76",
   "metadata": {},
   "outputs": [
    {
     "name": "stdout",
     "output_type": "stream",
     "text": [
      "[[1. 1. 1. 1.]\n",
      " [1. 1. 1. 1.]\n",
      " [1. 1. 1. 1.]]\n",
      "[[1. 1. 1. 1.]\n",
      " [1. 1. 1. 1.]\n",
      " [1. 1. 1. 1.]]\n",
      "[[1. 1. 1. 1.]\n",
      " [1. 1. 1. 1.]\n",
      " [1. 1. 1. 1.]]\n",
      "------------------------------------------------\n",
      "[[[1. 1. 1.]\n",
      "  [1. 1. 1.]\n",
      "  [1. 1. 1.]\n",
      "  [1. 1. 1.]]\n",
      "\n",
      " [[1. 1. 1.]\n",
      "  [1. 1. 1.]\n",
      "  [1. 1. 1.]\n",
      "  [1. 1. 1.]]\n",
      "\n",
      " [[1. 1. 1.]\n",
      "  [1. 1. 1.]\n",
      "  [1. 1. 1.]\n",
      "  [1. 1. 1.]]]\n"
     ]
    }
   ],
   "source": [
    "##### dstack()\n",
    "\n",
    "arr1 = np.ones((3,4))\n",
    "arr2 = np.ones((3,4))\n",
    "arr3 = np.ones((3,4))\n",
    "\n",
    "print(arr1)\n",
    "print(arr2)\n",
    "print(arr3)\n",
    "\n",
    "print(\"------------------------------------------------\")\n",
    "\n",
    "# 3면 4행 3열로 바뀜\n",
    "# 차원이 하나 늘어나면서 3행 4열 -> 3면 4행\n",
    "arr3 = np.dstack([arr1, arr2, arr3])\n",
    "print(arr3)"
   ]
  },
  {
   "cell_type": "code",
   "execution_count": 86,
   "id": "59401838",
   "metadata": {},
   "outputs": [
    {
     "name": "stdout",
     "output_type": "stream",
     "text": [
      "[[[1. 1. 1. 1.]\n",
      "  [1. 1. 1. 1.]\n",
      "  [1. 1. 1. 1.]]\n",
      "\n",
      " [[1. 1. 1. 1.]\n",
      "  [1. 1. 1. 1.]\n",
      "  [1. 1. 1. 1.]]]\n",
      "(2, 3, 4)\n",
      "-----------------------------------\n",
      "[[[1. 1. 1. 1.]\n",
      "  [1. 1. 1. 1.]\n",
      "  [1. 1. 1. 1.]]\n",
      "\n",
      " [[1. 1. 1. 1.]\n",
      "  [1. 1. 1. 1.]\n",
      "  [1. 1. 1. 1.]]]\n",
      "(2, 3, 4)\n",
      "------------------------------------\n",
      "[[[1. 1. 1. 1.]\n",
      "  [1. 1. 1. 1.]]\n",
      "\n",
      " [[1. 1. 1. 1.]\n",
      "  [1. 1. 1. 1.]]\n",
      "\n",
      " [[1. 1. 1. 1.]\n",
      "  [1. 1. 1. 1.]]]\n",
      "(3, 2, 4)\n",
      "-----------------------------------\n",
      "[[[1. 1.]\n",
      "  [1. 1.]\n",
      "  [1. 1.]\n",
      "  [1. 1.]]\n",
      "\n",
      " [[1. 1.]\n",
      "  [1. 1.]\n",
      "  [1. 1.]\n",
      "  [1. 1.]]\n",
      "\n",
      " [[1. 1.]\n",
      "  [1. 1.]\n",
      "  [1. 1.]\n",
      "  [1. 1.]]]\n",
      "(3, 4, 2)\n"
     ]
    }
   ],
   "source": [
    "##### stack()\n",
    "# axis : 새로운 축을 세울 위치\n",
    "arr1 = np.ones((3,4))\n",
    "arr2 = np.ones((3,4))\n",
    "\n",
    "arr3 = np.stack([arr1, arr2])\n",
    "print(arr3)\n",
    "print(arr3.shape)\n",
    "\n",
    "print(\"-----------------------------------\")\n",
    "arr3 = np.stack([arr1, arr2], axis = 0)\n",
    "print(arr3)\n",
    "print(arr3.shape)\n",
    "\n",
    "print(\"------------------------------------\")\n",
    "arr3 = np.stack([arr1, arr2], axis = 1)\n",
    "print(arr3)\n",
    "print(arr3.shape)\n",
    "\n",
    "print(\"-----------------------------------\")\n",
    "arr3 = np.stack([arr1, arr2], axis = 2)\n",
    "print(arr3)\n",
    "print(arr3.shape)"
   ]
  },
  {
   "cell_type": "code",
   "execution_count": 90,
   "id": "6387684d",
   "metadata": {},
   "outputs": [
    {
     "name": "stdout",
     "output_type": "stream",
     "text": [
      "[[0 1 2 0 1 2]\n",
      " [3 4 5 3 4 5]]\n",
      "---------------------------------------\n",
      "[[0 1 2 0 1 2]\n",
      " [3 4 5 3 4 5]\n",
      " [0 1 2 0 1 2]\n",
      " [3 4 5 3 4 5]\n",
      " [0 1 2 0 1 2]\n",
      " [3 4 5 3 4 5]]\n"
     ]
    }
   ],
   "source": [
    "#### tile()\n",
    "\n",
    "arr = np.array([[0, 1, 2],[3 ,4, 5]])\n",
    "print(np.tile(arr, 2))\n",
    "\n",
    "print(\"---------------------------------------\")\n",
    "\n",
    "print(np.tile(arr, (3,2)))"
   ]
  },
  {
   "cell_type": "markdown",
   "id": "05ed0910",
   "metadata": {},
   "source": [
    "# 12. 2차원 그리드 포인트 생성 : meshgrid()"
   ]
  },
  {
   "cell_type": "code",
   "execution_count": 92,
   "id": "f497cac8",
   "metadata": {},
   "outputs": [
    {
     "data": {
      "text/plain": [
       "array([0, 1, 2])"
      ]
     },
     "execution_count": 92,
     "metadata": {},
     "output_type": "execute_result"
    }
   ],
   "source": [
    "x = np.arange(3)\n",
    "x"
   ]
  },
  {
   "cell_type": "code",
   "execution_count": 94,
   "id": "0b2504e5",
   "metadata": {},
   "outputs": [
    {
     "data": {
      "text/plain": [
       "array([0, 1, 2, 3, 4])"
      ]
     },
     "execution_count": 94,
     "metadata": {},
     "output_type": "execute_result"
    }
   ],
   "source": [
    "y = np.arange(5)\n",
    "y"
   ]
  },
  {
   "cell_type": "code",
   "execution_count": 95,
   "id": "4e4bb03b",
   "metadata": {},
   "outputs": [
    {
     "name": "stdout",
     "output_type": "stream",
     "text": [
      "[[0 1 2]\n",
      " [0 1 2]\n",
      " [0 1 2]\n",
      " [0 1 2]\n",
      " [0 1 2]]\n",
      "----------------------\n",
      "[[0 0 0]\n",
      " [1 1 1]\n",
      " [2 2 2]\n",
      " [3 3 3]\n",
      " [4 4 4]]\n"
     ]
    }
   ],
   "source": [
    "X, Y = np.meshgrid(x, y)\n",
    "print(X)\n",
    "print(\"----------------------\")\n",
    "print(Y)"
   ]
  },
  {
   "cell_type": "code",
   "execution_count": 97,
   "id": "4088fabe",
   "metadata": {},
   "outputs": [
    {
     "name": "stderr",
     "output_type": "stream",
     "text": [
      "Matplotlib is building the font cache; this may take a moment.\n"
     ]
    },
    {
     "data": {
      "text/plain": [
       "<matplotlib.collections.PathCollection at 0x262fb512520>"
      ]
     },
     "execution_count": 97,
     "metadata": {},
     "output_type": "execute_result"
    },
    {
     "data": {
      "image/png": "[encoded data removed]",
      "text/plain": [
       "<Figure size 432x288 with 1 Axes>"
      ]
     },
     "metadata": {
      "needs_background": "light"
     },
     "output_type": "display_data"
    }
   ],
   "source": [
    "import matplotlib.pylab as plt\n",
    "plt.scatter(X, Y)"
   ]
  },
  {
   "cell_type": "markdown",
   "id": "8f2692bd",
   "metadata": {},
   "source": [
    "# 13. BroadCasting\n",
    "\n",
    "+ 크기가 서로 다른 행렬(벡터)끼리 연산을 가능하게 하는 것"
   ]
  },
  {
   "cell_type": "code",
   "execution_count": 103,
   "id": "bb1ad964",
   "metadata": {},
   "outputs": [
    {
     "name": "stdout",
     "output_type": "stream",
     "text": [
      "[[0 1 2]\n",
      " [1 2 3]\n",
      " [2 3 4]\n",
      " [3 4 5]\n",
      " [4 5 6]]\n",
      "[[0]\n",
      " [1]\n",
      " [2]\n",
      " [3]\n",
      " [4]]\n",
      "[[ 0  1  2]\n",
      " [ 2  3  4]\n",
      " [ 4  5  6]\n",
      " [ 6  7  8]\n",
      " [ 8  9 10]]\n",
      "------------------------------------------\n",
      "[[0 2 4]\n",
      " [1 3 5]\n",
      " [2 4 6]\n",
      " [3 5 7]\n",
      " [4 6 8]]\n"
     ]
    }
   ],
   "source": [
    "x = np.vstack([range(7)[i:i+3] for i in range(5)])\n",
    "print(x)\n",
    "\n",
    "y = np.arange(5)[:, np.newaxis]\n",
    "print(y)\n",
    "\n",
    "print(x + y)\n",
    "\n",
    "print(\"------------------------------------------\")\n",
    "\n",
    "y = np.arange(3)\n",
    "print(x + y)"
   ]
  },
  {
   "cell_type": "markdown",
   "id": "845ad524",
   "metadata": {},
   "source": [
    "# 14. 차원축소(dimension reduction)연산\n",
    "\n",
    "+ 최대값 / 최소값 : max(), min(), argmax(), argmin()\n",
    "+ 대표값 : sum(), mean(), median(), sid(), var()\n",
    "+ 논리값 : all(), any()\n",
    "\n",
    "---\n",
    "행렬의 하나의 행에 있는 원소들을 하나의 데이터 집합으로 보고 그 집합의 평균을 구하면 각 행에 대해 하나의 숫자가 나오게 된다. 이러한 연산을 차원축소연산이라고 한다."
   ]
  },
  {
   "cell_type": "code",
   "execution_count": 105,
   "id": "b06487e5",
   "metadata": {},
   "outputs": [
    {
     "name": "stdout",
     "output_type": "stream",
     "text": [
      "3\n",
      "------------------------------------\n",
      "1\n"
     ]
    }
   ],
   "source": [
    "x = np.array([1, 3, 2, -3])\n",
    "\n",
    "# 최소값의 위치\n",
    "result = np.argmin(x)\n",
    "print(result)\n",
    "\n",
    "print(\"------------------------------------\")\n",
    "\n",
    "# 최대값의 위치\n",
    "result = np.argmax(x)\n",
    "print(result)"
   ]
  },
  {
   "cell_type": "markdown",
   "id": "55b6b657",
   "metadata": {},
   "source": [
    "# 15. 기술 통계\n",
    "\n",
    "- len()\n",
    "- sum(), mean()\n",
    "- var(), std()\n",
    "- max(), min()\n",
    "- median()\n",
    "- percentile()\n",
    "- .."
   ]
  },
  {
   "cell_type": "code",
   "execution_count": 106,
   "id": "5858a34c",
   "metadata": {},
   "outputs": [
    {
     "data": {
      "text/plain": [
       "DescribeResult(nobs=20, minmax=(-1.193747607585232, 1.6632426070740847), mean=0.13209656757900168, variance=0.5897754921476721, skewness=0.366646344279975, kurtosis=-0.5706308090193386)"
      ]
     },
     "execution_count": 106,
     "metadata": {},
     "output_type": "execute_result"
    }
   ],
   "source": [
    "from scipy.stats import describe\n",
    "\n",
    "x = np.random.randn(20)\n",
    "describe(x)\n",
    "\n",
    "# skewness: 왜도 (좌우 비대칭)\n",
    "# kurtosis: 첨도 (위 아래 뾰족한 정도)"
   ]
  },
  {
   "cell_type": "markdown",
   "id": "7ca3ab98",
   "metadata": {},
   "source": [
    "# 16. 정렬"
   ]
  },
  {
   "cell_type": "code",
   "execution_count": 109,
   "id": "d263e9a9",
   "metadata": {},
   "outputs": [
    {
     "name": "stdout",
     "output_type": "stream",
     "text": [
      "[[ 3  4  5  7]\n",
      " [ 1  9 11 12]\n",
      " [ 1  2 14 15]]\n",
      "--------------------------------\n",
      "[[ 3  4  5  7]\n",
      " [ 1  9 11 12]\n",
      " [ 1  2 14 15]]\n",
      "--------------------------------\n",
      "[[ 1  3  1  7]\n",
      " [ 2 12  5  9]\n",
      " [ 4 15 11 14]]\n"
     ]
    }
   ],
   "source": [
    "arr = np.array([[4, 3, 5, 7],\n",
    "               [1, 12, 11, 9],\n",
    "               [2, 15, 1, 14]])\n",
    "\n",
    "# 행 안에서 정렬\n",
    "print(np.sort(arr))\n",
    "print(\"--------------------------------\")\n",
    "print(np.sort(arr, axis=1))\n",
    "print(\"--------------------------------\")\n",
    "\n",
    "# 열 안에서 정렬\n",
    "print(np.sort(arr, axis=0))"
   ]
  },
  {
   "cell_type": "code",
   "execution_count": 111,
   "id": "44bba9a7",
   "metadata": {},
   "outputs": [
    {
     "name": "stdout",
     "output_type": "stream",
     "text": [
      "[[ 3  4  5  7]\n",
      " [ 1  9 11 12]\n",
      " [ 1  2 14 15]]\n"
     ]
    }
   ],
   "source": [
    "# 원본에 적용\n",
    "arr = np.sort(arr)\n",
    "\n",
    "# 또는\n",
    "arr.sort()\n",
    "\n",
    "print(arr)"
   ]
  },
  {
   "cell_type": "code",
   "execution_count": 115,
   "id": "e7dc24f8",
   "metadata": {},
   "outputs": [
    {
     "name": "stdout",
     "output_type": "stream",
     "text": [
      "[2 3 1 0]\n",
      "[12 25 38 42]\n"
     ]
    }
   ],
   "source": [
    "##### argsort\n",
    "# 정렬한 인덱스 값을 알려줌\n",
    "arr = np.array([42, 38, 12, 25])\n",
    "idx = np.argsort(arr)\n",
    "print(idx)\n",
    "\n",
    "print(arr[idx])"
   ]
  },
  {
   "cell_type": "code",
   "execution_count": 119,
   "id": "cb38b183",
   "metadata": {},
   "outputs": [
    {
     "name": "stdout",
     "output_type": "stream",
     "text": [
      "[42 38 25 12]\n",
      "[42 38 25 12]\n"
     ]
    }
   ],
   "source": [
    "##### 내림차순\n",
    "print(np.sort(arr)[::-1])\n",
    "\n",
    "# 또는\n",
    "print(arr[np.argsort(-arr)])"
   ]
  },
  {
   "cell_type": "code",
   "execution_count": 118,
   "id": "f4a576b9",
   "metadata": {},
   "outputs": [
    {
     "name": "stdout",
     "output_type": "stream",
     "text": [
      "[0, 1, 2, 3, 4, 5, 6, 7, 8, 9]\n",
      "[0, 2, 4, 6, 8]\n",
      "[9, 8, 7, 6, 5, 4, 3, 2, 1, 0]\n",
      "[9, 7, 5, 3, 1]\n"
     ]
    }
   ],
   "source": [
    "# 슬라이스 : 배열[시작위치 : 끝위치 : 간격]\n",
    "ex = range(10)\n",
    "list(ex)\n",
    "\n",
    "print(list(ex[::1]))\n",
    "print(list(ex[::2]))\n",
    "print(list(ex[::-1]))\n",
    "print(list(ex[::-2]))"
   ]
  },
  {
   "cell_type": "markdown",
   "id": "29e3d54b",
   "metadata": {},
   "source": [
    "# 17. 난수\n",
    "\n",
    "+ rand() : 0 ~ 1 사이의 균일분포 \n",
    "+ randn() : 표준 정규분포\n",
    "+ randint() : 균일분포의 정수"
   ]
  },
  {
   "cell_type": "code",
   "execution_count": 3,
   "id": "e8bb454e",
   "metadata": {},
   "outputs": [
    {
     "name": "stdout",
     "output_type": "stream",
     "text": [
      "[0.50403014 0.85446889 0.41534833 0.54416357 0.16187284 0.39143954\n",
      " 0.7913006  0.72732321 0.01590304 0.00585291]\n",
      "-------------------------------------\n",
      "[[0.26642895 0.60678346 0.88083121 0.77882837 0.71983852]\n",
      " [0.01203249 0.17842858 0.92681845 0.65446945 0.7813789 ]\n",
      " [0.23518018 0.50395071 0.76152264 0.78299863 0.25190147]]\n"
     ]
    }
   ],
   "source": [
    "print(np.random.rand(10))\n",
    "print(\"-------------------------------------\")\n",
    "print(np.random.rand(3, 5))"
   ]
  },
  {
   "cell_type": "code",
   "execution_count": 4,
   "id": "5d25b8b3",
   "metadata": {},
   "outputs": [
    {
     "name": "stdout",
     "output_type": "stream",
     "text": [
      "5\n",
      "-------------------------------------\n",
      "17\n",
      "-------------------------------------\n",
      "[11 12 15 15 15 15 18 18 13 14 12 19 15 11 19 13 16 15 17 14 13 14 16 18\n",
      " 13 11 18 15 13 19 15 14 19 12 12 15 14 15 11 14 14 11 12 14 18 11 13 12\n",
      " 17 16 15 15 13 16 12 17 11 11 11 11 12 16 19 12 13 14 12 12 15 13 11 14\n",
      " 17 15 13 18 13 15 16 16 15 15 11 11 14 11 16 16 16 15 14 12 17 16 17 18\n",
      " 17 19 14 19]\n",
      "-------------------------------------\n",
      "[[18 19 16 16]\n",
      " [18 12 14 14]\n",
      " [18 12 12 15]]\n"
     ]
    }
   ],
   "source": [
    "print(np.random.randint(10)) # 0~9까지의 난수 1개\n",
    "print(\"-------------------------------------\")\n",
    "print(np.random.randint(11, 20))\n",
    "print(\"-------------------------------------\")\n",
    "print(np.random.randint(11, 20, size=100))\n",
    "print(\"-------------------------------------\")\n",
    "print(np.random.randint(11, 20, size=(3,4)))\n"
   ]
  },
  {
   "cell_type": "code",
   "execution_count": 5,
   "id": "7562ce84",
   "metadata": {},
   "outputs": [
    {
     "data": {
      "text/plain": [
       "array([0.54340494, 0.27836939])"
      ]
     },
     "execution_count": 5,
     "metadata": {},
     "output_type": "execute_result"
    }
   ],
   "source": [
    "##### 재현성 (난수고정)\n",
    "np.random.seed(100)\n",
    "np.random.rand(2)"
   ]
  },
  {
   "cell_type": "code",
   "execution_count": 6,
   "id": "16378052",
   "metadata": {},
   "outputs": [
    {
     "name": "stdout",
     "output_type": "stream",
     "text": [
      "[0 1 2 3 4 5 6 7 8 9]\n",
      "[3 8 5 1 9 4 6 2 0 7]\n"
     ]
    }
   ],
   "source": [
    "##### 데이터의 순서 바꾸기\n",
    "\n",
    "x= np.arange(10)\n",
    "print(x)\n",
    "\n",
    "np.random.shuffle(x)\n",
    "print(x)"
   ]
  },
  {
   "cell_type": "code",
   "execution_count": 8,
   "id": "932d7c38",
   "metadata": {},
   "outputs": [
    {
     "name": "stdout",
     "output_type": "stream",
     "text": [
      "[2 3 4 4 1 3 4]\n",
      "---------------------------------------------------------\n",
      "[0 2 1 3 4]\n",
      "---------------------------------------------------------\n",
      "[2 2 2 0 2 3 0 3 3 2]\n"
     ]
    }
   ],
   "source": [
    "##### 샘플링 : 복원(default), 비복원\n",
    "\n",
    "print(np.random.choice(5, 7)) # 0~4까지의 수 중에서 7번 추출 (복원 추출)\n",
    "print(\"---------------------------------------------------------\")\n",
    "print(np.random.choice(5, 5, replace=False)) # 비복원 추출\n",
    "print(\"---------------------------------------------------------\")\n",
    "print(np.random.choice(5, 10, p = [0.1, 0, 0.3, 0.6, 0])) # 각 원소 별로 뽑힐 확률을 정해줌"
   ]
  },
  {
   "cell_type": "markdown",
   "id": "db5e2701",
   "metadata": {},
   "source": [
    "# 18. 정수형 데이터 카운팅 : unique(), bincount()\n"
   ]
  },
  {
   "cell_type": "code",
   "execution_count": 10,
   "id": "017b0bf0",
   "metadata": {},
   "outputs": [
    {
     "name": "stdout",
     "output_type": "stream",
     "text": [
      "5\n",
      "['a' 'b' 'c']\n",
      "3\n",
      "-----------------------------------------------------------\n",
      "['a' 'b' 'c'] [2 2 1]\n"
     ]
    }
   ],
   "source": [
    "##### unique\n",
    "\n",
    "arr = np.array(['a','b','b','c','a'])\n",
    "print(len(arr))\n",
    "print(np.unique(arr))\n",
    "print(len(np.unique(arr))) # 중복된 것은 빼고 카운팅\n",
    "\n",
    "print(\"-----------------------------------------------------------\")\n",
    "\n",
    "# 중복을 뺀 원소와 각각의 갯수 \n",
    "idx, cnt = np.unique(arr, return_counts=True)\n",
    "print(idx,cnt)"
   ]
  },
  {
   "cell_type": "code",
   "execution_count": 11,
   "id": "4aa3dbdb",
   "metadata": {},
   "outputs": [
    {
     "name": "stdout",
     "output_type": "stream",
     "text": [
      "(array([1, 2, 3]), array([2, 3, 1], dtype=int64))\n",
      "[0 2 3 1 0 0]\n"
     ]
    }
   ],
   "source": [
    "##### bincount : 발생하지 않은 사건에 대해서도 카운팅\n",
    "\n",
    "arr = np.array([1, 1, 2, 2, 2, 3])\n",
    "\n",
    "print(np.unique(arr, return_counts = True))\n",
    "print(np.bincount(arr, minlength=6)) # minlength : (0~5) 나올수 있는 범위의 데이터 \n",
    "# 0 : 0번, 1: 2번, 2: 3번, 3: 1번, 4: 0번, 5: 0번"
   ]
  },
  {
   "cell_type": "markdown",
   "id": "0008bc3e",
   "metadata": {},
   "source": [
    "# 실습 : 영화 평점 데이터\n",
    "\n",
    "+ https://grouplens.org/datasets/movielens/\n",
    "    - Older Dataset에서 MovieLens 1M DataSet 받기 : ml-1m.zip"
   ]
  },
  {
   "cell_type": "code",
   "execution_count": 13,
   "id": "0383b5b0",
   "metadata": {},
   "outputs": [],
   "source": [
    "data = np.loadtxt(\"data/ml-1m/ratings.dat\", delimiter=\"::\", dtype=np.int64)"
   ]
  },
  {
   "cell_type": "code",
   "execution_count": 14,
   "id": "6d42ee10",
   "metadata": {},
   "outputs": [
    {
     "name": "stdout",
     "output_type": "stream",
     "text": [
      "[[        1      1193         5 978300760]\n",
      " [        1       661         3 978302109]\n",
      " [        1       914         3 978301968]\n",
      " ...\n",
      " [     6040       562         5 956704746]\n",
      " [     6040      1096         4 956715648]\n",
      " [     6040      1097         4 956715569]]\n",
      "(1000209, 4)\n"
     ]
    }
   ],
   "source": [
    "print(data)\n",
    "print(data.shape)"
   ]
  },
  {
   "cell_type": "code",
   "execution_count": 22,
   "id": "098e2d59",
   "metadata": {},
   "outputs": [
    {
     "name": "stdout",
     "output_type": "stream",
     "text": [
      "[[        1      1193         5 978300760]\n",
      " [        1       661         3 978302109]\n",
      " [        1       914         3 978301968]\n",
      " [        1      3408         4 978300275]\n",
      " [        1      2355         5 978824291]\n",
      " [        1      1197         3 978302268]\n",
      " [        1      1287         5 978302039]\n",
      " [        1      2804         5 978300719]\n",
      " [        1       594         4 978302268]\n",
      " [        1       919         4 978301368]\n",
      " [        1       595         5 978824268]\n",
      " [        1       938         4 978301752]\n",
      " [        1      2398         4 978302281]\n",
      " [        1      2918         4 978302124]\n",
      " [        1      1035         5 978301753]\n",
      " [        1      2791         4 978302188]\n",
      " [        1      2687         3 978824268]\n",
      " [        1      2018         4 978301777]\n",
      " [        1      3105         5 978301713]\n",
      " [        1      2797         4 978302039]]\n"
     ]
    }
   ],
   "source": [
    "# 첫행 부터 20행까지 출력\n",
    "print(data[0:20,])"
   ]
  },
  {
   "cell_type": "code",
   "execution_count": 24,
   "id": "45bf9838",
   "metadata": {},
   "outputs": [
    {
     "name": "stdout",
     "output_type": "stream",
     "text": [
      "[[   1  720]\n",
      " [   1 1270]\n",
      " [   1  527]\n",
      " [   1 2340]\n",
      " [   1   48]\n",
      " [   1 1097]\n",
      " [   1 1721]\n",
      " [   1 1545]\n",
      " [   1  745]\n",
      " [   1 2294]]\n"
     ]
    }
   ],
   "source": [
    "# 21행부터 30행까지의 userid와 movieid만 출력\n",
    "print(data[21:31,[0,1]])"
   ]
  },
  {
   "cell_type": "code",
   "execution_count": 47,
   "id": "5aa9db01",
   "metadata": {},
   "outputs": [
    {
     "name": "stdout",
     "output_type": "stream",
     "text": [
      "3.581564453029317\n"
     ]
    }
   ],
   "source": [
    "# 전체 평점에 대한 평균\n",
    "print(np.mean(data[:,2]))"
   ]
  },
  {
   "cell_type": "code",
   "execution_count": 48,
   "id": "06e96880",
   "metadata": {},
   "outputs": [
    {
     "name": "stdout",
     "output_type": "stream",
     "text": [
      "1 4.188679245283019\n",
      "2 3.7131782945736433\n",
      "3 3.9019607843137254\n",
      "4 4.190476190476191\n",
      "5 3.1464646464646466\n",
      "6 3.9014084507042255\n",
      "7 4.32258064516129\n",
      "8 3.884892086330935\n",
      "9 3.7358490566037736\n",
      "10 4.114713216957606\n"
     ]
    }
   ],
   "source": [
    "# 사용자별로 평점 평균 (10명 출력)\n",
    "\n",
    "for i in range(1,11):\n",
    "    id_mean = np.mean(data[:,2][data[:,0]==i])\n",
    "    print(i, id_mean)"
   ]
  },
  {
   "cell_type": "code",
   "execution_count": 64,
   "id": "d7fb98d6",
   "metadata": {},
   "outputs": [
    {
     "name": "stdout",
     "output_type": "stream",
     "text": [
      "userid:  7 , 평점:  4.32258064516129\n"
     ]
    }
   ],
   "source": [
    "# 위의 결과 중 최고 평점 평균을 구하기 (userid와 함께)\n",
    "\n",
    "movie_mean = []\n",
    "for i in range(1,11):\n",
    "    id_mean = np.mean(data[:,2][data[:,0]==i])\n",
    "    movie_mean.append(id_mean)\n",
    "\n",
    "print(\"userid: \",np.argmax(movie_mean)+1,\",\",\"평점: \",max(movie_mean))\n"
   ]
  },
  {
   "cell_type": "code",
   "execution_count": null,
   "id": "26b33736",
   "metadata": {},
   "outputs": [],
   "source": []
  }
 ],
 "metadata": {
  "kernelspec": {
   "display_name": "Python 3",
   "language": "python",
   "name": "python3"
  },
  "language_info": {
   "codemirror_mode": {
    "name": "ipython",
    "version": 3
   },
   "file_extension": ".py",
   "mimetype": "text/x-python",
   "name": "python",
   "nbconvert_exporter": "python",
   "pygments_lexer": "ipython3",
   "version": "3.8.8"
  }
 },
 "nbformat": 4,
 "nbformat_minor": 5
}
