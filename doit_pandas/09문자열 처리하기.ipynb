{
 "cells": [
  {
   "cell_type": "markdown",
   "metadata": {},
   "source": [
    "# 1. 문자열 다루기"
   ]
  },
  {
   "cell_type": "code",
   "execution_count": 1,
   "metadata": {},
   "outputs": [],
   "source": [
    "# 문자열은 작은 따옴표나 큰 다옴표로 감싸서 만든다\n",
    "word = 'grail'\n",
    "sent = 'a scratch'"
   ]
  },
  {
   "cell_type": "markdown",
   "metadata": {},
   "source": [
    "- 문자열 추출하기"
   ]
  },
  {
   "cell_type": "code",
   "execution_count": 2,
   "metadata": {},
   "outputs": [
    {
     "name": "stdout",
     "output_type": "stream",
     "text": [
      "g\n",
      "a\n"
     ]
    }
   ],
   "source": [
    "# 문자열의 첫번째 문자 추출\n",
    "print(word[0])\n",
    "print(sent[0])"
   ]
  },
  {
   "cell_type": "code",
   "execution_count": 3,
   "metadata": {},
   "outputs": [
    {
     "name": "stdout",
     "output_type": "stream",
     "text": [
      "gra\n"
     ]
    }
   ],
   "source": [
    "# 여러개의 문자 추출\n",
    "print(word[0:3])"
   ]
  },
  {
   "cell_type": "code",
   "execution_count": 4,
   "metadata": {},
   "outputs": [
    {
     "name": "stdout",
     "output_type": "stream",
     "text": [
      "h\n",
      "a\n",
      "a\n"
     ]
    }
   ],
   "source": [
    "# 음수 인덱스 사용해서 추출\n",
    "print(sent[-1])\n",
    "print(sent[-9:-8])\n",
    "print(sent[0:-8])"
   ]
  },
  {
   "cell_type": "markdown",
   "metadata": {},
   "source": [
    "- 전체 문자열 추출하기"
   ]
  },
  {
   "cell_type": "code",
   "execution_count": 5,
   "metadata": {},
   "outputs": [
    {
     "name": "stdout",
     "output_type": "stream",
     "text": [
      "gra\n",
      "gra\n"
     ]
    }
   ],
   "source": [
    "print(word[0:3])\n",
    "print(word[:3])"
   ]
  },
  {
   "cell_type": "code",
   "execution_count": 6,
   "metadata": {},
   "outputs": [
    {
     "name": "stdout",
     "output_type": "stream",
     "text": [
      "scratch\n",
      "scratch\n"
     ]
    }
   ],
   "source": [
    "print(sent[2:len(sent)])\n",
    "print(sent[2:])"
   ]
  },
  {
   "cell_type": "code",
   "execution_count": 7,
   "metadata": {},
   "outputs": [
    {
     "name": "stdout",
     "output_type": "stream",
     "text": [
      "a scratch\n"
     ]
    }
   ],
   "source": [
    "# 전체 문자열 추출\n",
    "print(sent[:])"
   ]
  },
  {
   "cell_type": "code",
   "execution_count": 8,
   "metadata": {},
   "outputs": [
    {
     "name": "stdout",
     "output_type": "stream",
     "text": [
      "asrth\n"
     ]
    }
   ],
   "source": [
    "# 문자열을 일정한 간격으로 건너뛰며 추출\n",
    "# 자신을 포함하여 거리가 2인 인덱스의 문자를 추출\n",
    "print(sent[::2])"
   ]
  },
  {
   "cell_type": "markdown",
   "metadata": {},
   "source": [
    "# 2. 문자열 메서드  \n",
    "- capitalize : 첫문자를 대문자로 변환  \n",
    "- count : 문자열의 개수 반환  \n",
    "- startswith : 문자열이 특정 문자로 시작하면 참  \n",
    "- endswith : 문자열이 특정 문자로 끝나면 참  \n",
    "- find : 찾을 문자열의 인덱스를 반환, 실패시 -1  \n",
    "- index : find 메서드와 같은 역할, 실패시 ValueError  \n",
    "- isalpha : 모든 문자가 알파벳이면 참  \n",
    "- isdecimal : 모든 문자가 숫자면 참  \n",
    "- isalnum : 모든 문자가 알파벳이나 숫자면 참  \n",
    "- lower : 모든 문자를 소문자로 변환  \n",
    "- upper : 모든 문자를 대문자로 변환  \n",
    "- replace : 문자열의 문자를 다른 문자로 교체  \n",
    "- strip : 문자열의 맨 앞과 맨 뒤에 있는 빈 칸 제거  \n",
    "- split : 구분자를 지정하여 문자열을 나누고, 나눈 값들의 리스트 반환  \n",
    "- partition : split 메서드와 비슷한 역할, 구분자도 반환  \n",
    "- center : 지정한 너비로 문자열을 늘이고 문자열을 가운데 정렬  \n",
    "- zfill : 문자열의 빈칸을 0으로 채움  "
   ]
  },
  {
   "cell_type": "code",
   "execution_count": 9,
   "metadata": {},
   "outputs": [
    {
     "name": "stdout",
     "output_type": "stream",
     "text": [
      "40 46' 52.837\" N 73 58' 26.302\" W\n"
     ]
    }
   ],
   "source": [
    "# join 메서드\n",
    "# ' ' 를 지정하면 단어 사이에 넣어 연결\n",
    "d1 = '40'\n",
    "m1 = \"46'\"\n",
    "s1 = '52.837\"'\n",
    "u1 = 'N'\n",
    "\n",
    "d2 = '73'\n",
    "m2 = \"58'\"\n",
    "s2 = '26.302\"'\n",
    "u2 = 'W'\n",
    "\n",
    "coords = ' '.join([d1,m1,s1,u1,d2,m2,s2,u2])\n",
    "print(coords)"
   ]
  },
  {
   "cell_type": "code",
   "execution_count": 10,
   "metadata": {},
   "outputs": [
    {
     "name": "stdout",
     "output_type": "stream",
     "text": [
      "Guard: What? Ridden on a horse?\n",
      "King Arthur: Yes!\n",
      "Guard: You're using coconuts!\n",
      "King Arthur: What?\n",
      "Guard: You've got ... coconut[s] and you're bangin' 'em together.\n",
      "\n"
     ]
    }
   ],
   "source": [
    "# splitlines 메서드\n",
    "# 여러행을 가진 문자열을 분리한 다음 리스트로 반환\n",
    "multi_str = \"\"\"Guard: What? Ridden on a horse?\n",
    "King Arthur: Yes!\n",
    "Guard: You're using coconuts!\n",
    "King Arthur: What?\n",
    "Guard: You've got ... coconut[s] and you're bangin' 'em together.\n",
    "\"\"\"\n",
    "\n",
    "print(multi_str)"
   ]
  },
  {
   "cell_type": "code",
   "execution_count": 11,
   "metadata": {},
   "outputs": [
    {
     "name": "stdout",
     "output_type": "stream",
     "text": [
      "['Guard: What? Ridden on a horse?', 'King Arthur: Yes!', \"Guard: You're using coconuts!\", 'King Arthur: What?', \"Guard: You've got ... coconut[s] and you're bangin' 'em together.\"]\n"
     ]
    }
   ],
   "source": [
    "multi_str_split = multi_str.splitlines()\n",
    "print(multi_str_split)"
   ]
  },
  {
   "cell_type": "code",
   "execution_count": 12,
   "metadata": {},
   "outputs": [
    {
     "name": "stdout",
     "output_type": "stream",
     "text": [
      "['Guard: What? Ridden on a horse?', \"Guard: You're using coconuts!\", \"Guard: You've got ... coconut[s] and you're bangin' 'em together.\"]\n"
     ]
    }
   ],
   "source": [
    "# 특정 문자열만 가져오기\n",
    "guard = multi_str_split[::2]\n",
    "print(guard)"
   ]
  },
  {
   "cell_type": "code",
   "execution_count": 13,
   "metadata": {},
   "outputs": [
    {
     "name": "stdout",
     "output_type": "stream",
     "text": [
      "['What? Ridden on a horse?', \"You're using coconuts!\", \"You've got ... coconut[s] and you're bangin' 'em together.\"]\n"
     ]
    }
   ],
   "source": [
    "# replace 메서드 \n",
    "# 문자열을 치환하기\n",
    "guard = multi_str.replace(\"Guard: \",\"\").splitlines()[::2]\n",
    "print(guard)"
   ]
  },
  {
   "cell_type": "markdown",
   "metadata": {},
   "source": [
    "# 3. 문자열 포매팅  \n",
    "출력할 문자열의 형식을 지정하거나 변수를 조합하여 출력하는 방법  \n",
    "- 문자열 포매팅하기"
   ]
  },
  {
   "cell_type": "code",
   "execution_count": 16,
   "metadata": {},
   "outputs": [
    {
     "name": "stdout",
     "output_type": "stream",
     "text": [
      "It's just a flesh wound!\n",
      "It's just a scratch!\n"
     ]
    }
   ],
   "source": [
    "# 삽입위치를 {}로 정하고 format 메서드에 원하는 단어를 전달\n",
    "var = 'flesh wound'\n",
    "s = \"It's just a {}!\"\n",
    "\n",
    "print(s.format(var))\n",
    "print(s.format('scratch'))"
   ]
  },
  {
   "cell_type": "code",
   "execution_count": 17,
   "metadata": {},
   "outputs": [
    {
     "name": "stdout",
     "output_type": "stream",
     "text": [
      "Black Knight: 'Tis but a scratch.\n",
      "King Arthur: A scratch? Your arm's off!\n",
      "\n"
     ]
    }
   ],
   "source": [
    "# 여러 단어를 전달할 때\n",
    "s = \"\"\"Black Knight: 'Tis but a {0}.\n",
    "King Arthur: A {0}? Your arm's off!\n",
    "\"\"\"\n",
    "print(s.format('scratch'))"
   ]
  },
  {
   "cell_type": "code",
   "execution_count": 18,
   "metadata": {},
   "outputs": [
    {
     "name": "stdout",
     "output_type": "stream",
     "text": [
      "Hayden Planetarium Coordinates: 40.7815,73.9733\n"
     ]
    }
   ],
   "source": [
    "# 플레이스 홀더에 변수 지정\n",
    "s = 'Hayden Planetarium Coordinates: {lat},{lon}'\n",
    "print(s.format(lat='40.7815',lon='73.9733'))"
   ]
  },
  {
   "cell_type": "markdown",
   "metadata": {},
   "source": [
    "- 숫자 데이터 포매팅하기"
   ]
  },
  {
   "cell_type": "code",
   "execution_count": 19,
   "metadata": {},
   "outputs": [
    {
     "name": "stdout",
     "output_type": "stream",
     "text": [
      "Some digits of pi: 3.141592\n"
     ]
    }
   ],
   "source": [
    "print('Some digits of pi: {}'.format(3.141592))"
   ]
  },
  {
   "cell_type": "code",
   "execution_count": 20,
   "metadata": {},
   "outputs": [
    {
     "name": "stdout",
     "output_type": "stream",
     "text": [
      "In 2005, Lu Chao of China recited 67,890 digits of pi\n"
     ]
    }
   ],
   "source": [
    "# 플레이스 홀더에 :, 를 넣으면 쉼표를 넣어 숫자 표현 가능\n",
    "print(\"In 2005, Lu Chao of China recited {:,} digits of pi\".format(67890))"
   ]
  },
  {
   "cell_type": "code",
   "execution_count": 22,
   "metadata": {},
   "outputs": [
    {
     "name": "stdout",
     "output_type": "stream",
     "text": [
      "I remember 0.0001031 or 0.0103% of what Lu Chao recited\n"
     ]
    }
   ],
   "source": [
    "# {0:.4} 전달받을 인덱스값0, 소수점 이하의 숫자를 4개까지 출력\n",
    "# {0:.4%} 백분율로 환산\n",
    "print(\"I remember {0:.4} or {0:.4%} of what Lu Chao recited\".format(7/67890))"
   ]
  },
  {
   "cell_type": "code",
   "execution_count": 23,
   "metadata": {},
   "outputs": [
    {
     "name": "stdout",
     "output_type": "stream",
     "text": [
      "My ID number is 00042\n"
     ]
    }
   ],
   "source": [
    "# {0:05d} format의 0번째 자리값을 5자리의 수로 표현하되 빈칸을 0으로 채워 출력\n",
    "print(\"My ID number is {0:05d}\".format(42))"
   ]
  },
  {
   "cell_type": "markdown",
   "metadata": {},
   "source": [
    "- % 연산자로 포매팅하기"
   ]
  },
  {
   "cell_type": "code",
   "execution_count": 25,
   "metadata": {},
   "outputs": [
    {
     "name": "stdout",
     "output_type": "stream",
     "text": [
      "I only know 7 digits of pi\n"
     ]
    }
   ],
   "source": [
    "# 삽입할 값이 10진수라면 %d\n",
    "s = 'I only know %d digits of pi' % 7\n",
    "print(s)"
   ]
  },
  {
   "cell_type": "code",
   "execution_count": 26,
   "metadata": {},
   "outputs": [
    {
     "name": "stdout",
     "output_type": "stream",
     "text": [
      "Some digits of e: 2.72\n"
     ]
    }
   ],
   "source": [
    "# 삽입할 값이 문자열이라면 %s \n",
    "# %s사이에 소괄호를 사용하여 변수 지정\n",
    "print('Some digits of %(cont)s: %(value).2f' % {'cont':'e','value':2.718})"
   ]
  },
  {
   "cell_type": "markdown",
   "metadata": {},
   "source": [
    "# 4. 정규식으로 문자열 처리에 날개 달기"
   ]
  },
  {
   "cell_type": "code",
   "execution_count": 1,
   "metadata": {},
   "outputs": [
    {
     "name": "stdout",
     "output_type": "stream",
     "text": [
      "<class 're.Match'>\n",
      "<re.Match object; span=(0, 10), match='1234567890'>\n"
     ]
    }
   ],
   "source": [
    "# 정규식으로 전화번호 패턴 찾기\n",
    "import re\n",
    "\n",
    "tele_num = '1234567890'\n",
    "\n",
    "# match 메서드를 이용해 길이가 10인 숫자 확인 \n",
    "m = re.match(pattern = '\\d\\d\\d\\d\\d\\d\\d\\d\\d\\d', string=tele_num)\n",
    "print(type(m))\n",
    "print(m)"
   ]
  },
  {
   "cell_type": "code",
   "execution_count": 2,
   "metadata": {},
   "outputs": [
    {
     "name": "stdout",
     "output_type": "stream",
     "text": [
      "True\n"
     ]
    }
   ],
   "source": [
    "print(bool(m))"
   ]
  },
  {
   "cell_type": "code",
   "execution_count": 4,
   "metadata": {},
   "outputs": [
    {
     "name": "stdout",
     "output_type": "stream",
     "text": [
      "0\n",
      "10\n",
      "(0, 10)\n",
      "1234567890\n"
     ]
    }
   ],
   "source": [
    "# start ,end 메서드 -> 첫번째, 마지막 인덱스 반환\n",
    "print(m.start())\n",
    "print(m.end())\n",
    "print(m.span())\n",
    "print(m.group())"
   ]
  }
 ],
 "metadata": {
  "kernelspec": {
   "display_name": "Python 3",
   "language": "python",
   "name": "python3"
  },
  "language_info": {
   "codemirror_mode": {
    "name": "ipython",
    "version": 3
   },
   "file_extension": ".py",
   "mimetype": "text/x-python",
   "name": "python",
   "nbconvert_exporter": "python",
   "pygments_lexer": "ipython3",
   "version": "3.8.5"
  }
 },
 "nbformat": 4,
 "nbformat_minor": 4
}
