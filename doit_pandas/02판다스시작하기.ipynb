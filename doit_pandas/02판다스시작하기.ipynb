{
 "cells": [
  {
   "cell_type": "markdown",
   "metadata": {},
   "source": [
    "# 1. 데이터 집합 불러오기"
   ]
  },
  {
   "cell_type": "code",
   "execution_count": 1,
   "metadata": {},
   "outputs": [],
   "source": [
    "import pandas as pd"
   ]
  },
  {
   "cell_type": "code",
   "execution_count": 7,
   "metadata": {},
   "outputs": [],
   "source": [
    "# 열이 탭으로 구분되어있으므로 sep=\"\\t\"\n",
    "df = pd.read_csv('doit_pandas-master/data/gapminder.tsv',sep=\"\\t\")"
   ]
  },
  {
   "cell_type": "code",
   "execution_count": 8,
   "metadata": {},
   "outputs": [
    {
     "name": "stdout",
     "output_type": "stream",
     "text": [
      "       country continent  year  lifeExp       pop   gdpPercap\n",
      "0  Afghanistan      Asia  1952   28.801   8425333  779.445314\n",
      "1  Afghanistan      Asia  1957   30.332   9240934  820.853030\n",
      "2  Afghanistan      Asia  1962   31.997  10267083  853.100710\n",
      "3  Afghanistan      Asia  1967   34.020  11537966  836.197138\n",
      "4  Afghanistan      Asia  1972   36.088  13079460  739.981106\n"
     ]
    }
   ],
   "source": [
    "print(df.head())"
   ]
  },
  {
   "cell_type": "code",
   "execution_count": 12,
   "metadata": {},
   "outputs": [
    {
     "name": "stdout",
     "output_type": "stream",
     "text": [
      "<class 'pandas.core.frame.DataFrame'>\n"
     ]
    }
   ],
   "source": [
    "# 자료형\n",
    "print(type(df))"
   ]
  },
  {
   "cell_type": "code",
   "execution_count": 10,
   "metadata": {},
   "outputs": [
    {
     "name": "stdout",
     "output_type": "stream",
     "text": [
      "(1704, 6)\n"
     ]
    }
   ],
   "source": [
    "# 행, 열 크기\n",
    "print(df.shape)"
   ]
  },
  {
   "cell_type": "code",
   "execution_count": 11,
   "metadata": {},
   "outputs": [
    {
     "name": "stdout",
     "output_type": "stream",
     "text": [
      "Index(['country', 'continent', 'year', 'lifeExp', 'pop', 'gdpPercap'], dtype='object')\n"
     ]
    }
   ],
   "source": [
    "# 열 이름\n",
    "print(df.columns)"
   ]
  },
  {
   "cell_type": "code",
   "execution_count": 16,
   "metadata": {},
   "outputs": [
    {
     "name": "stdout",
     "output_type": "stream",
     "text": [
      "country       object\n",
      "continent     object\n",
      "year           int64\n",
      "lifeExp      float64\n",
      "pop            int64\n",
      "gdpPercap    float64\n",
      "dtype: object\n"
     ]
    }
   ],
   "source": [
    "# 구성하는 값의 자료형\n",
    "print(df.dtypes)"
   ]
  },
  {
   "cell_type": "code",
   "execution_count": 17,
   "metadata": {},
   "outputs": [
    {
     "name": "stdout",
     "output_type": "stream",
     "text": [
      "<class 'pandas.core.frame.DataFrame'>\n",
      "RangeIndex: 1704 entries, 0 to 1703\n",
      "Data columns (total 6 columns):\n",
      " #   Column     Non-Null Count  Dtype  \n",
      "---  ------     --------------  -----  \n",
      " 0   country    1704 non-null   object \n",
      " 1   continent  1704 non-null   object \n",
      " 2   year       1704 non-null   int64  \n",
      " 3   lifeExp    1704 non-null   float64\n",
      " 4   pop        1704 non-null   int64  \n",
      " 5   gdpPercap  1704 non-null   float64\n",
      "dtypes: float64(2), int64(2), object(2)\n",
      "memory usage: 80.0+ KB\n",
      "None\n"
     ]
    }
   ],
   "source": [
    "print(df.info())"
   ]
  },
  {
   "cell_type": "markdown",
   "metadata": {},
   "source": [
    "# 2. 데이터 추출하기"
   ]
  },
  {
   "cell_type": "markdown",
   "metadata": {},
   "source": [
    "### 1) 열 단위로 추출하기"
   ]
  },
  {
   "cell_type": "code",
   "execution_count": 18,
   "metadata": {},
   "outputs": [
    {
     "name": "stdout",
     "output_type": "stream",
     "text": [
      "<class 'pandas.core.series.Series'>\n",
      "0    Afghanistan\n",
      "1    Afghanistan\n",
      "2    Afghanistan\n",
      "3    Afghanistan\n",
      "4    Afghanistan\n",
      "Name: country, dtype: object\n",
      "1699    Zimbabwe\n",
      "1700    Zimbabwe\n",
      "1701    Zimbabwe\n",
      "1702    Zimbabwe\n",
      "1703    Zimbabwe\n",
      "Name: country, dtype: object\n"
     ]
    }
   ],
   "source": [
    "# 열 하나 추출하기\n",
    "country_df = df['country']\n",
    "print(type(country_df))\n",
    "print(country_df.head())\n",
    "print(country_df.tail())"
   ]
  },
  {
   "cell_type": "code",
   "execution_count": 21,
   "metadata": {},
   "outputs": [
    {
     "name": "stdout",
     "output_type": "stream",
     "text": [
      "<class 'pandas.core.frame.DataFrame'>\n",
      "       country continent  year\n",
      "0  Afghanistan      Asia  1952\n",
      "1  Afghanistan      Asia  1957\n",
      "2  Afghanistan      Asia  1962\n",
      "3  Afghanistan      Asia  1967\n",
      "4  Afghanistan      Asia  1972\n",
      "       country continent  year\n",
      "1699  Zimbabwe    Africa  1987\n",
      "1700  Zimbabwe    Africa  1992\n",
      "1701  Zimbabwe    Africa  1997\n",
      "1702  Zimbabwe    Africa  2002\n",
      "1703  Zimbabwe    Africa  2007\n"
     ]
    }
   ],
   "source": [
    "# 리스트에 열 이름을 전달하여 여러개의 열 추출하기\n",
    "subset = df[['country','continent','year']]\n",
    "print(type(subset))\n",
    "print(subset.head())\n",
    "print(subset.tail())"
   ]
  },
  {
   "cell_type": "markdown",
   "metadata": {},
   "source": [
    "### 2) 행 단위로 추출하기"
   ]
  },
  {
   "cell_type": "markdown",
   "metadata": {},
   "source": [
    "loc : 인덱스를 기준으로 행 데이터 추출\n",
    "\n",
    "iloc : 행 번호를 기준으로 행 데이터 추출 "
   ]
  },
  {
   "cell_type": "code",
   "execution_count": 23,
   "metadata": {},
   "outputs": [
    {
     "name": "stdout",
     "output_type": "stream",
     "text": [
      "country      Afghanistan\n",
      "continent           Asia\n",
      "year                1952\n",
      "lifeExp           28.801\n",
      "pop              8425333\n",
      "gdpPercap        779.445\n",
      "Name: 0, dtype: object\n",
      "country      Bangladesh\n",
      "continent          Asia\n",
      "year               1967\n",
      "lifeExp          43.453\n",
      "pop            62821884\n",
      "gdpPercap       721.186\n",
      "Name: 99, dtype: object\n"
     ]
    }
   ],
   "source": [
    "# loc 속성으로 행 데이터 추출하기\n",
    "# 인덱스가 0인 행\n",
    "print(df.loc[0])\n",
    "\n",
    "# 인덱스가 99인 행\n",
    "print(df.loc[99])"
   ]
  },
  {
   "cell_type": "code",
   "execution_count": 25,
   "metadata": {},
   "outputs": [
    {
     "name": "stdout",
     "output_type": "stream",
     "text": [
      "country      Zimbabwe\n",
      "continent      Africa\n",
      "year             2007\n",
      "lifeExp        43.487\n",
      "pop          12311143\n",
      "gdpPercap     469.709\n",
      "Name: 1703, dtype: object\n",
      "       country continent  year  lifeExp       pop   gdpPercap\n",
      "1703  Zimbabwe    Africa  2007   43.487  12311143  469.709298\n"
     ]
    }
   ],
   "source": [
    "# 마지막 행 추출\n",
    "# shape[0] = 행 크기\n",
    "number_of_rows = df.shape[0]\n",
    "last_row_index = number_of_rows -1\n",
    "print(df.loc[last_row_index])\n",
    "\n",
    "print(df.tail(n=1))"
   ]
  },
  {
   "cell_type": "markdown",
   "metadata": {},
   "source": [
    "tail 메서드와 loc 속성이 반환하는 자료형은 다르다.  \n",
    "tail 메서드가 반환한 자료형 = 데이터프레임  \n",
    "loc 속성이 반환한 자료형 = 시리즈"
   ]
  },
  {
   "cell_type": "code",
   "execution_count": 26,
   "metadata": {},
   "outputs": [
    {
     "name": "stdout",
     "output_type": "stream",
     "text": [
      "         country continent  year  lifeExp       pop    gdpPercap\n",
      "0    Afghanistan      Asia  1952   28.801   8425333   779.445314\n",
      "99    Bangladesh      Asia  1967   43.453  62821884   721.186086\n",
      "999     Mongolia      Asia  1967   51.253   1149500  1226.041130\n"
     ]
    }
   ],
   "source": [
    "# 인덱스 0, 99, 999인 데이터\n",
    "print(df.loc[[0,99,999]])"
   ]
  },
  {
   "cell_type": "code",
   "execution_count": 28,
   "metadata": {},
   "outputs": [
    {
     "name": "stdout",
     "output_type": "stream",
     "text": [
      "country      Afghanistan\n",
      "continent           Asia\n",
      "year                1957\n",
      "lifeExp           30.332\n",
      "pop              9240934\n",
      "gdpPercap        820.853\n",
      "Name: 1, dtype: object\n",
      "country      Bangladesh\n",
      "continent          Asia\n",
      "year               1967\n",
      "lifeExp          43.453\n",
      "pop            62821884\n",
      "gdpPercap       721.186\n",
      "Name: 99, dtype: object\n"
     ]
    }
   ],
   "source": [
    "# iloc 속성으로 데이터 추출하기\n",
    "print(df.iloc[1])\n",
    "print(df.iloc[99])"
   ]
  },
  {
   "cell_type": "code",
   "execution_count": 31,
   "metadata": {},
   "outputs": [
    {
     "name": "stdout",
     "output_type": "stream",
     "text": [
      "country      Zimbabwe\n",
      "continent      Africa\n",
      "year             2007\n",
      "lifeExp        43.487\n",
      "pop          12311143\n",
      "gdpPercap     469.709\n",
      "Name: 1703, dtype: object\n"
     ]
    }
   ],
   "source": [
    "# 마지막 행 데이터 추출\n",
    "print(df.iloc[-1])"
   ]
  },
  {
   "cell_type": "code",
   "execution_count": 33,
   "metadata": {},
   "outputs": [
    {
     "name": "stdout",
     "output_type": "stream",
     "text": [
      "         country continent  year  lifeExp       pop    gdpPercap\n",
      "0    Afghanistan      Asia  1952   28.801   8425333   779.445314\n",
      "99    Bangladesh      Asia  1967   43.453  62821884   721.186086\n",
      "999     Mongolia      Asia  1967   51.253   1149500  1226.041130\n"
     ]
    }
   ],
   "source": [
    "# 행번호 0, 99, 999 인 데이터\n",
    "print(df.iloc[[0,99,999]])"
   ]
  },
  {
   "cell_type": "markdown",
   "metadata": {},
   "source": [
    "### 3) 슬라이싱 구문으로 추출하기"
   ]
  },
  {
   "cell_type": "code",
   "execution_count": 35,
   "metadata": {},
   "outputs": [
    {
     "name": "stdout",
     "output_type": "stream",
     "text": [
      "   year       pop\n",
      "0  1952   8425333\n",
      "1  1957   9240934\n",
      "2  1962  10267083\n",
      "3  1967  11537966\n",
      "4  1972  13079460\n"
     ]
    }
   ],
   "source": [
    "# year, pop 열 추출하기\n",
    "subset = df.loc[:, ['year', 'pop']]\n",
    "print(subset.head())"
   ]
  },
  {
   "cell_type": "code",
   "execution_count": 37,
   "metadata": {},
   "outputs": [
    {
     "name": "stdout",
     "output_type": "stream",
     "text": [
      "   year       pop   gdpPercap\n",
      "0  1952   8425333  779.445314\n",
      "1  1957   9240934  820.853030\n",
      "2  1962  10267083  853.100710\n",
      "3  1967  11537966  836.197138\n",
      "4  1972  13079460  739.981106\n"
     ]
    }
   ],
   "source": [
    "subset = df.iloc[:,[2,4,-1]]\n",
    "print(subset.head())"
   ]
  },
  {
   "cell_type": "markdown",
   "metadata": {},
   "source": [
    "### 4) range 메서드로 추출하기  \n",
    "range 메서드는 지정한 구간의 정수 리스트를 반환함 "
   ]
  },
  {
   "cell_type": "code",
   "execution_count": 38,
   "metadata": {},
   "outputs": [
    {
     "name": "stdout",
     "output_type": "stream",
     "text": [
      "[0, 1, 2, 3, 4]\n"
     ]
    }
   ],
   "source": [
    "small_range = list(range(5))\n",
    "print(small_range)"
   ]
  },
  {
   "cell_type": "code",
   "execution_count": 40,
   "metadata": {},
   "outputs": [
    {
     "name": "stdout",
     "output_type": "stream",
     "text": [
      "<class 'list'>\n"
     ]
    }
   ],
   "source": [
    "print(type(small_range))"
   ]
  },
  {
   "cell_type": "code",
   "execution_count": 41,
   "metadata": {},
   "outputs": [
    {
     "name": "stdout",
     "output_type": "stream",
     "text": [
      "       country continent  year  lifeExp       pop\n",
      "0  Afghanistan      Asia  1952   28.801   8425333\n",
      "1  Afghanistan      Asia  1957   30.332   9240934\n",
      "2  Afghanistan      Asia  1962   31.997  10267083\n",
      "3  Afghanistan      Asia  1967   34.020  11537966\n",
      "4  Afghanistan      Asia  1972   36.088  13079460\n"
     ]
    }
   ],
   "source": [
    "subset = df.iloc[:, small_range]\n",
    "print(subset.head())"
   ]
  },
  {
   "cell_type": "code",
   "execution_count": 43,
   "metadata": {},
   "outputs": [
    {
     "name": "stdout",
     "output_type": "stream",
     "text": [
      "[3, 4, 5]\n"
     ]
    }
   ],
   "source": [
    "small_range = list(range(3,6))\n",
    "print(small_range)"
   ]
  },
  {
   "cell_type": "code",
   "execution_count": 46,
   "metadata": {},
   "outputs": [
    {
     "name": "stdout",
     "output_type": "stream",
     "text": [
      "   lifeExp       pop   gdpPercap\n",
      "0   28.801   8425333  779.445314\n",
      "1   30.332   9240934  820.853030\n",
      "2   31.997  10267083  853.100710\n",
      "3   34.020  11537966  836.197138\n",
      "4   36.088  13079460  739.981106\n"
     ]
    }
   ],
   "source": [
    "subset = df.iloc[:, small_range]\n",
    "print(subset.head())"
   ]
  },
  {
   "cell_type": "code",
   "execution_count": 49,
   "metadata": {},
   "outputs": [
    {
     "name": "stdout",
     "output_type": "stream",
     "text": [
      "       country  year       pop\n",
      "0  Afghanistan  1952   8425333\n",
      "1  Afghanistan  1957   9240934\n",
      "2  Afghanistan  1962  10267083\n",
      "3  Afghanistan  1967  11537966\n",
      "4  Afghanistan  1972  13079460\n"
     ]
    }
   ],
   "source": [
    "# range(0,6,2) -> 0부터5까지 2만큼 뛰어넘는 제네레이터 0 2 4 \n",
    "small_range = list(range(0,6,2))\n",
    "subset = df.iloc[:, small_range]\n",
    "print(subset.head())"
   ]
  },
  {
   "cell_type": "code",
   "execution_count": 51,
   "metadata": {},
   "outputs": [
    {
     "name": "stdout",
     "output_type": "stream",
     "text": [
      "       country continent  year\n",
      "0  Afghanistan      Asia  1952\n",
      "1  Afghanistan      Asia  1957\n",
      "2  Afghanistan      Asia  1962\n",
      "3  Afghanistan      Asia  1967\n",
      "4  Afghanistan      Asia  1972\n"
     ]
    }
   ],
   "source": [
    "# 슬라이싱 구문\n",
    "subset = df.iloc[:,:3]\n",
    "print(subset.head())"
   ]
  },
  {
   "cell_type": "code",
   "execution_count": 53,
   "metadata": {},
   "outputs": [
    {
     "name": "stdout",
     "output_type": "stream",
     "text": [
      "       country  year       pop\n",
      "0  Afghanistan  1952   8425333\n",
      "1  Afghanistan  1957   9240934\n",
      "2  Afghanistan  1962  10267083\n",
      "3  Afghanistan  1967  11537966\n",
      "4  Afghanistan  1972  13079460\n"
     ]
    }
   ],
   "source": [
    "# range(0,6,2)와 같은 결과 \n",
    "subset = df.iloc[:,0:6:2]\n",
    "print(subset.head())"
   ]
  },
  {
   "cell_type": "code",
   "execution_count": 55,
   "metadata": {},
   "outputs": [
    {
     "name": "stdout",
     "output_type": "stream",
     "text": [
      "         country  lifeExp    gdpPercap\n",
      "0    Afghanistan   28.801   779.445314\n",
      "99    Bangladesh   43.453   721.186086\n",
      "999     Mongolia   51.253  1226.041130\n",
      "         country  lifeExp    gdpPercap\n",
      "0    Afghanistan   28.801   779.445314\n",
      "99    Bangladesh   43.453   721.186086\n",
      "999     Mongolia   51.253  1226.041130\n"
     ]
    }
   ],
   "source": [
    "# 0, 99, 999번째 행의 0,3,5번째 열 데이터 추출\n",
    "print(df.iloc[[0,99,999],[0,3,5]])\n",
    "print(df.loc[[0,99,999],['country','lifeExp','gdpPercap']])"
   ]
  },
  {
   "cell_type": "markdown",
   "metadata": {},
   "source": [
    "# 4. 기초적인 통계 계산하기"
   ]
  },
  {
   "cell_type": "code",
   "execution_count": 56,
   "metadata": {},
   "outputs": [
    {
     "name": "stdout",
     "output_type": "stream",
     "text": [
      "year\n",
      "1952    49.057620\n",
      "1957    51.507401\n",
      "1962    53.609249\n",
      "1967    55.678290\n",
      "1972    57.647386\n",
      "1977    59.570157\n",
      "1982    61.533197\n",
      "1987    63.212613\n",
      "1992    64.160338\n",
      "1997    65.014676\n",
      "2002    65.694923\n",
      "2007    67.007423\n",
      "Name: lifeExp, dtype: float64\n"
     ]
    }
   ],
   "source": [
    "# lifeExp 열을 연도별로 그룹화하여 평균 계산하기\n",
    "print(df.groupby('year')['lifeExp'].mean())"
   ]
  },
  {
   "cell_type": "code",
   "execution_count": 57,
   "metadata": {},
   "outputs": [
    {
     "name": "stdout",
     "output_type": "stream",
     "text": [
      "                  lifeExp     gdpPercap\n",
      "year continent                         \n",
      "1952 Africa     39.135500   1252.572466\n",
      "     Americas   53.279840   4079.062552\n",
      "     Asia       46.314394   5195.484004\n",
      "     Europe     64.408500   5661.057435\n",
      "     Oceania    69.255000  10298.085650\n",
      "1957 Africa     41.266346   1385.236062\n",
      "     Americas   55.960280   4616.043733\n",
      "     Asia       49.318544   5787.732940\n",
      "     Europe     66.703067   6963.012816\n",
      "     Oceania    70.295000  11598.522455\n",
      "1962 Africa     43.319442   1598.078825\n",
      "     Americas   58.398760   4901.541870\n",
      "     Asia       51.563223   5729.369625\n",
      "     Europe     68.539233   8365.486814\n",
      "     Oceania    71.085000  12696.452430\n",
      "1967 Africa     45.334538   2050.363801\n",
      "     Americas   60.410920   5668.253496\n",
      "     Asia       54.663640   5971.173374\n",
      "     Europe     69.737600  10143.823757\n",
      "     Oceania    71.310000  14495.021790\n",
      "1972 Africa     47.450942   2339.615674\n",
      "     Americas   62.394920   6491.334139\n",
      "     Asia       57.319269   8187.468699\n",
      "     Europe     70.775033  12479.575246\n",
      "     Oceania    71.910000  16417.333380\n",
      "1977 Africa     49.580423   2585.938508\n",
      "     Americas   64.391560   7352.007126\n",
      "     Asia       59.610556   7791.314020\n",
      "     Europe     71.937767  14283.979110\n",
      "     Oceania    72.855000  17283.957605\n",
      "1982 Africa     51.592865   2481.592960\n",
      "     Americas   66.228840   7506.737088\n",
      "     Asia       62.617939   7434.135157\n",
      "     Europe     72.806400  15617.896551\n",
      "     Oceania    74.290000  18554.709840\n",
      "1987 Africa     53.344788   2282.668991\n",
      "     Americas   68.090720   7793.400261\n",
      "     Asia       64.851182   7608.226508\n",
      "     Europe     73.642167  17214.310727\n",
      "     Oceania    75.320000  20448.040160\n",
      "1992 Africa     53.629577   2281.810333\n",
      "     Americas   69.568360   8044.934406\n",
      "     Asia       66.537212   8639.690248\n",
      "     Europe     74.440100  17061.568084\n",
      "     Oceania    76.945000  20894.045885\n",
      "1997 Africa     53.598269   2378.759555\n",
      "     Americas   71.150480   8889.300863\n",
      "     Asia       68.020515   9834.093295\n",
      "     Europe     75.505167  19076.781802\n",
      "     Oceania    78.190000  24024.175170\n",
      "2002 Africa     53.325231   2599.385159\n",
      "     Americas   72.422040   9287.677107\n",
      "     Asia       69.233879  10174.090397\n",
      "     Europe     76.700600  21711.732422\n",
      "     Oceania    79.740000  26938.778040\n",
      "2007 Africa     54.806038   3089.032605\n",
      "     Americas   73.608120  11003.031625\n",
      "     Asia       70.728485  12473.026870\n",
      "     Europe     77.648600  25054.481636\n",
      "     Oceania    80.719500  29810.188275\n"
     ]
    }
   ],
   "source": [
    "# lifeExp, gdpPercap 열의 평균값을 연도, 지역별로 그룹화하여 계산\n",
    "multi_group_var = df.groupby(['year','continent'])[['lifeExp','gdpPercap']].mean()\n",
    "print(multi_group_var)"
   ]
  },
  {
   "cell_type": "code",
   "execution_count": 58,
   "metadata": {},
   "outputs": [
    {
     "name": "stdout",
     "output_type": "stream",
     "text": [
      "continent\n",
      "Africa      52\n",
      "Americas    25\n",
      "Asia        33\n",
      "Europe      30\n",
      "Oceania      2\n",
      "Name: country, dtype: int64\n"
     ]
    }
   ],
   "source": [
    "# 그룹화한 데이터 개수 세기\n",
    "# continent 기준으로 그룹화하고 country 열만 가져와 빈도수 세기\n",
    "print(df.groupby('continent')['country'].nunique())"
   ]
  },
  {
   "cell_type": "markdown",
   "metadata": {},
   "source": [
    "# 4. 그래프 그리기"
   ]
  },
  {
   "cell_type": "code",
   "execution_count": 59,
   "metadata": {},
   "outputs": [],
   "source": [
    "%matplotlib inline\n",
    "import matplotlib.pyplot as plt"
   ]
  },
  {
   "cell_type": "code",
   "execution_count": 60,
   "metadata": {},
   "outputs": [],
   "source": [
    "# year열을 기준으로 그룹화한 데이터프레임에서 lifeExp의 평균값\n",
    "global_yearly_life_expectancy = df.groupby('year')['lifeExp'].mean()\n",
    "global_yearly_life_expectancy.plot()"
   ]
  },
  {
   "cell_type": "code",
   "execution_count": null,
   "metadata": {},
   "outputs": [],
   "source": []
  }
 ],
 "metadata": {
  "kernelspec": {
   "display_name": "Python 3",
   "language": "python",
   "name": "python3"
  },
  "language_info": {
   "codemirror_mode": {
    "name": "ipython",
    "version": 3
   },
   "file_extension": ".py",
   "mimetype": "text/x-python",
   "name": "python",
   "nbconvert_exporter": "python",
   "pygments_lexer": "ipython3",
   "version": "3.8.5"
  }
 },
 "nbformat": 4,
 "nbformat_minor": 4
}
