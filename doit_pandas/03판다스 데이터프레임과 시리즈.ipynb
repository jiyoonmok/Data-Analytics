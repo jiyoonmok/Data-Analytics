{
 "cells": [
  {
   "cell_type": "markdown",
   "metadata": {},
   "source": [
    "# 1. 나만의 데이터 만들기"
   ]
  },
  {
   "cell_type": "markdown",
   "metadata": {},
   "source": [
    "### 1) 시리즈와 데이터프레임 만들기"
   ]
  },
  {
   "cell_type": "code",
   "execution_count": 4,
   "metadata": {},
   "outputs": [
    {
     "name": "stdout",
     "output_type": "stream",
     "text": [
      "0    banana\n",
      "1        42\n",
      "dtype: object\n"
     ]
    }
   ],
   "source": [
    "# 시리즈 만들기\n",
    "import pandas as pd\n",
    "s = pd.Series(['banana',42])\n",
    "print(s)"
   ]
  },
  {
   "cell_type": "code",
   "execution_count": 5,
   "metadata": {},
   "outputs": [
    {
     "name": "stdout",
     "output_type": "stream",
     "text": [
      "0         Wes McKinney\n",
      "1    Creator of Pandas\n",
      "dtype: object\n"
     ]
    }
   ],
   "source": [
    "s = pd.Series(['Wes McKinney','Creator of Pandas'])\n",
    "print(s)"
   ]
  },
  {
   "cell_type": "code",
   "execution_count": 6,
   "metadata": {},
   "outputs": [
    {
     "name": "stdout",
     "output_type": "stream",
     "text": [
      "Person         Wes McKinney\n",
      "Who       Creator of Pandas\n",
      "dtype: object\n"
     ]
    }
   ],
   "source": [
    "# 문자열을 인덱스로 지정하여 시리즈 생성하기 \n",
    "s = pd.Series(['Wes McKinney', 'Creator of Pandas'], index=['Person','Who'])\n",
    "print(s)"
   ]
  },
  {
   "cell_type": "code",
   "execution_count": 7,
   "metadata": {},
   "outputs": [
    {
     "name": "stdout",
     "output_type": "stream",
     "text": [
      "                Name    Occupation        Born        Died  Age\n",
      "0  Rosaline Franklin       Chemist  1920-07-25  1958-04-16   37\n",
      "1     William Gosset  Statistician  1876-06-13  1937-10-16   61\n"
     ]
    }
   ],
   "source": [
    "# 데이터프레임 만들기\n",
    "scientists = pd.DataFrame({\n",
    "    'Name' : ['Rosaline Franklin', 'William Gosset'],\n",
    "    'Occupation' : ['Chemist','Statistician'],\n",
    "    'Born' : ['1920-07-25', '1876-06-13'],\n",
    "    'Died' : ['1958-04-16', '1937-10-16'],\n",
    "    'Age' : [37,61]}\n",
    ")\n",
    "print(scientists)\n",
    "\n"
   ]
  },
  {
   "cell_type": "code",
   "execution_count": 8,
   "metadata": {},
   "outputs": [
    {
     "name": "stdout",
     "output_type": "stream",
     "text": [
      "                     Occupation        Born  Age        Died\n",
      "Rosaline Franklin       Chemist  1920-07-25   37  1958-04-16\n",
      "William Gosset     Statistician  1876-06-13   61  1937-10-16\n"
     ]
    }
   ],
   "source": [
    "# 인덱스를 문자열로 지정하여 데이터 프레임 만들기\n",
    "# columns 인자를 사용하여 열 순서를 지정함\n",
    "scientists = pd.DataFrame(\n",
    "    data={'Occupation' : ['Chemist','Statistician'],\n",
    "        'Born' : ['1920-07-25', '1876-06-13'],\n",
    "        'Died' : ['1958-04-16', '1937-10-16'],\n",
    "        'Age' : [37,61]},\n",
    "    index=['Rosaline Franklin','William Gosset'],\n",
    "    columns=['Occupation','Born','Age','Died']\n",
    ")\n",
    "print(scientists)"
   ]
  },
  {
   "cell_type": "code",
   "execution_count": 9,
   "metadata": {},
   "outputs": [
    {
     "name": "stdout",
     "output_type": "stream",
     "text": [
      "                Name    Occupation        Born        Died  Age\n",
      "0  Rosaline Franklin       Chemist  1920-07-25  1958-04-16   37\n",
      "1     William Gosset  Statistician  1876-06-13  1937-10-16   61\n"
     ]
    }
   ],
   "source": [
    "# 딕셔너리의 데이터 순서를 유지시키기\n",
    "from collections import OrderedDict\n",
    "scientists = pd.DataFrame(OrderedDict([\n",
    "    ('Name' , ['Rosaline Franklin', 'William Gosset']),\n",
    "    ('Occupation' , ['Chemist','Statistician']),\n",
    "    ('Born' , ['1920-07-25', '1876-06-13']),\n",
    "    ('Died' , ['1958-04-16', '1937-10-16']),\n",
    "    ('Age' , [37,61])\n",
    "])\n",
    ")\n",
    "print(scientists)"
   ]
  },
  {
   "cell_type": "markdown",
   "metadata": {},
   "source": [
    "# 2. 시리즈 다루기 - 기초  \n",
    "### 1) 데이터프레임에서 시리즈 선택하기"
   ]
  },
  {
   "cell_type": "code",
   "execution_count": 10,
   "metadata": {},
   "outputs": [],
   "source": [
    "scientists = pd.DataFrame(\n",
    "    data={'Occupation' : ['Chemist','Statistician'],\n",
    "        'Born' : ['1920-07-25', '1876-06-13'],\n",
    "        'Died' : ['1958-04-16', '1937-10-16'],\n",
    "        'Age' : [37,61]},\n",
    "    index=['Rosaline Franklin','William Gosset'],\n",
    "    columns=['Occupation','Born','Died','Age'])"
   ]
  },
  {
   "cell_type": "code",
   "execution_count": 11,
   "metadata": {},
   "outputs": [
    {
     "name": "stdout",
     "output_type": "stream",
     "text": [
      "<class 'pandas.core.series.Series'>\n",
      "Occupation    Statistician\n",
      "Born            1876-06-13\n",
      "Died            1937-10-16\n",
      "Age                     61\n",
      "Name: William Gosset, dtype: object\n"
     ]
    }
   ],
   "source": [
    "# loc 속성에 인덱스를 전달하여 시리즈 선택\n",
    "first_row = scientists.loc['William Gosset']\n",
    "print(type(first_row))\n",
    "print(first_row)"
   ]
  },
  {
   "cell_type": "markdown",
   "metadata": {},
   "source": [
    "### 2) index, values 속성과 keys 메서드 사용하기"
   ]
  },
  {
   "cell_type": "code",
   "execution_count": 12,
   "metadata": {},
   "outputs": [
    {
     "name": "stdout",
     "output_type": "stream",
     "text": [
      "Index(['Occupation', 'Born', 'Died', 'Age'], dtype='object')\n"
     ]
    }
   ],
   "source": [
    "# index 속성 사용하기\n",
    "# 시리즈의 인덱스가 들어있다.\n",
    "print(first_row.index)"
   ]
  },
  {
   "cell_type": "code",
   "execution_count": 13,
   "metadata": {},
   "outputs": [
    {
     "name": "stdout",
     "output_type": "stream",
     "text": [
      "['Statistician' '1876-06-13' '1937-10-16' 61]\n"
     ]
    }
   ],
   "source": [
    "# values 속성 사용하기\n",
    "# 시리즈의 데이터가 들어있다.\n",
    "print(first_row.values)"
   ]
  },
  {
   "cell_type": "code",
   "execution_count": 14,
   "metadata": {},
   "outputs": [
    {
     "name": "stdout",
     "output_type": "stream",
     "text": [
      "Index(['Occupation', 'Born', 'Died', 'Age'], dtype='object')\n"
     ]
    }
   ],
   "source": [
    "# keys 메서드 사용하기\n",
    "# index 속성과 같은 역할\n",
    "print(first_row.keys())"
   ]
  },
  {
   "cell_type": "code",
   "execution_count": 15,
   "metadata": {},
   "outputs": [
    {
     "name": "stdout",
     "output_type": "stream",
     "text": [
      "Occupation\n"
     ]
    }
   ],
   "source": [
    "# index 속성 응용\n",
    "# index 속성의 첫번째 값 추출\n",
    "print(first_row.index[0])"
   ]
  },
  {
   "cell_type": "code",
   "execution_count": 16,
   "metadata": {},
   "outputs": [
    {
     "name": "stdout",
     "output_type": "stream",
     "text": [
      "Occupation\n"
     ]
    }
   ],
   "source": [
    "# keys 메서드 응용\n",
    "# 인덱스의 첫번째 값 추출\n",
    "print(first_row.keys()[0])"
   ]
  },
  {
   "cell_type": "markdown",
   "metadata": {},
   "source": [
    "### 3) 시리즈의 mean,min,max,std 메서드 사용하기"
   ]
  },
  {
   "cell_type": "code",
   "execution_count": 17,
   "metadata": {},
   "outputs": [
    {
     "name": "stdout",
     "output_type": "stream",
     "text": [
      "49.0\n",
      "37\n",
      "61\n",
      "16.97056274847714\n"
     ]
    }
   ],
   "source": [
    "ages = scientists['Age']\n",
    "print(ages.mean())\n",
    "print(ages.min())\n",
    "print(ages.max())\n",
    "print(ages.std())"
   ]
  },
  {
   "cell_type": "markdown",
   "metadata": {},
   "source": [
    "### 시리즈의 메서드 정리  \n",
    "append : 2개 이상의 시리즈 연결  \n",
    "describe : 요약 통계량 계산  \n",
    "drop_duplicates: 중복제거한 시리즈 반환  \n",
    "equals : 시리즈에 해당 값을 가진 요소가 있는지 확인  \n",
    "get_values: 시리즈 값 구하기  \n",
    "isin: 시리즈에 포함된 값이 있는지 확인  \n",
    "min : 최소값 반환  \n",
    "max : 최대값 반환  \n",
    "mean : 산술 평균 반환  \n",
    "median : 중간값 반환  \n",
    "replace : 특정 값을 가진 시리즈 값 교체  \n",
    "sample : 시리즈에서 임의의 값을 반환  \n",
    "sort_values: 값을 정렬  \n",
    "to_frame : 시리즈를 데이터프레임으로 변환 "
   ]
  },
  {
   "cell_type": "markdown",
   "metadata": {},
   "source": [
    "# 3. 시리즈 다루기 - 응용"
   ]
  },
  {
   "cell_type": "markdown",
   "metadata": {},
   "source": [
    "### 1) 시리즈와 불린 추출 사용하기"
   ]
  },
  {
   "cell_type": "code",
   "execution_count": 18,
   "metadata": {},
   "outputs": [],
   "source": [
    "scientists = pd.read_csv('doit_pandas-master/data/scientists.csv')"
   ]
  },
  {
   "cell_type": "code",
   "execution_count": 19,
   "metadata": {},
   "outputs": [
    {
     "name": "stdout",
     "output_type": "stream",
     "text": [
      "90\n",
      "59.125\n"
     ]
    }
   ],
   "source": [
    "# 통계 수치 결과값을 이용해 불린 추출\n",
    "ages = scientists['Age']\n",
    "print(ages.max())\n",
    "print(ages.mean())"
   ]
  },
  {
   "cell_type": "code",
   "execution_count": 20,
   "metadata": {},
   "outputs": [
    {
     "name": "stdout",
     "output_type": "stream",
     "text": [
      "0    False\n",
      "1     True\n",
      "2     True\n",
      "3     True\n",
      "4    False\n",
      "5    False\n",
      "6    False\n",
      "7     True\n",
      "Name: Age, dtype: bool\n",
      "1    61\n",
      "2    90\n",
      "3    66\n",
      "7    77\n",
      "Name: Age, dtype: int64\n"
     ]
    }
   ],
   "source": [
    "# 평균 나이보다 나이가 많은 사람의 데이터 추출\n",
    "print(ages>ages.mean())\n",
    "print(ages[ages>ages.mean()])"
   ]
  },
  {
   "cell_type": "markdown",
   "metadata": {},
   "source": [
    "### 2) 시리즈와 브로드캐스팅  \n",
    "브로드캐스팅: 시리즈나 데이터프레임에 있는 모든 데이터에 대해 한번에 연산하는 것  \n",
    "벡터: 시리즈처럼 여러개의 값을 가진 데이터  \n",
    "스칼라: 단순 크기를 나타내는 데이터"
   ]
  },
  {
   "cell_type": "code",
   "execution_count": 21,
   "metadata": {},
   "outputs": [
    {
     "name": "stdout",
     "output_type": "stream",
     "text": [
      "0     74\n",
      "1    122\n",
      "2    180\n",
      "3    132\n",
      "4    112\n",
      "5     90\n",
      "6     82\n",
      "7    154\n",
      "Name: Age, dtype: int64\n",
      "0    1369\n",
      "1    3721\n",
      "2    8100\n",
      "3    4356\n",
      "4    3136\n",
      "5    2025\n",
      "6    1681\n",
      "7    5929\n",
      "Name: Age, dtype: int64\n"
     ]
    }
   ],
   "source": [
    "# 벡터와 스칼라로 브로드캐스팅 수행하기\n",
    "print(ages+ages)\n",
    "print(ages*ages)"
   ]
  },
  {
   "cell_type": "code",
   "execution_count": 22,
   "metadata": {},
   "outputs": [
    {
     "name": "stdout",
     "output_type": "stream",
     "text": [
      "0    137\n",
      "1    161\n",
      "2    190\n",
      "3    166\n",
      "4    156\n",
      "5    145\n",
      "6    141\n",
      "7    177\n",
      "Name: Age, dtype: int64\n",
      "0     74\n",
      "1    122\n",
      "2    180\n",
      "3    132\n",
      "4    112\n",
      "5     90\n",
      "6     82\n",
      "7    154\n",
      "Name: Age, dtype: int64\n"
     ]
    }
   ],
   "source": [
    "# 벡터에 스칼라 연산\n",
    "print(ages+100)\n",
    "print(ages*2)"
   ]
  },
  {
   "cell_type": "code",
   "execution_count": 23,
   "metadata": {},
   "outputs": [
    {
     "name": "stdout",
     "output_type": "stream",
     "text": [
      "0     38.0\n",
      "1    161.0\n",
      "2      NaN\n",
      "3      NaN\n",
      "4      NaN\n",
      "5      NaN\n",
      "6      NaN\n",
      "7      NaN\n",
      "dtype: float64\n"
     ]
    }
   ],
   "source": [
    "# 길이가 서로 다른 벡터 연산 => 같은 인덱스의 값만 계산\n",
    "print(ages + pd.Series([1,100]))"
   ]
  },
  {
   "cell_type": "code",
   "execution_count": 24,
   "metadata": {},
   "outputs": [
    {
     "name": "stdout",
     "output_type": "stream",
     "text": [
      "7    77\n",
      "6    41\n",
      "5    45\n",
      "4    56\n",
      "3    66\n",
      "2    90\n",
      "1    61\n",
      "0    37\n",
      "Name: Age, dtype: int64\n"
     ]
    }
   ],
   "source": [
    "# sort_index 사용하여 정렬하기\n",
    "rev_ages = ages.sort_index(ascending=False)\n",
    "print(rev_ages)"
   ]
  },
  {
   "cell_type": "code",
   "execution_count": 25,
   "metadata": {},
   "outputs": [
    {
     "name": "stdout",
     "output_type": "stream",
     "text": [
      "0     74\n",
      "1    122\n",
      "2    180\n",
      "3    132\n",
      "4    112\n",
      "5     90\n",
      "6     82\n",
      "7    154\n",
      "Name: Age, dtype: int64\n",
      "0     74\n",
      "1    122\n",
      "2    180\n",
      "3    132\n",
      "4    112\n",
      "5     90\n",
      "6     82\n",
      "7    154\n",
      "Name: Age, dtype: int64\n"
     ]
    }
   ],
   "source": [
    "# 벡터와 벡터의 연산은 일치하는 인덱스의 값끼리 수행한다\n",
    "# 다음의 결과가 같다.\n",
    "print(ages *2)\n",
    "print(ages + rev_ages)"
   ]
  },
  {
   "cell_type": "markdown",
   "metadata": {},
   "source": [
    "# 4. 데이터프레임 다루기  \n",
    "### 1) 불린추출과 브로드캐스팅"
   ]
  },
  {
   "cell_type": "code",
   "execution_count": 26,
   "metadata": {},
   "outputs": [
    {
     "name": "stdout",
     "output_type": "stream",
     "text": [
      "                   Name        Born        Died  Age     Occupation\n",
      "1        William Gosset  1876-06-13  1937-10-16   61   Statistician\n",
      "2  Florence Nightingale  1820-05-12  1910-08-13   90          Nurse\n",
      "3           Marie Curie  1867-11-07  1934-07-04   66        Chemist\n",
      "7          Johann Gauss  1777-04-30  1855-02-23   77  Mathematician\n"
     ]
    }
   ],
   "source": [
    "# 불린추출하기\n",
    "# 데이터프레임의 Age열에서 Age열의 평균보다 높은 행만 출력\n",
    "print(scientists[scientists['Age']>scientists['Age'].mean()])"
   ]
  },
  {
   "cell_type": "markdown",
   "metadata": {},
   "source": [
    "bool 벡터 : 참, 거짓을 담은 리스트  \n",
    "만약 bool 벡터의 길이가 데이터프레임의 행 길이보다 짧으면 bool 벡터 길이만큼 연산한다. "
   ]
  },
  {
   "cell_type": "code",
   "execution_count": 45,
   "metadata": {},
   "outputs": [
    {
     "name": "stdout",
     "output_type": "stream",
     "text": [
      "                Name        Born        Died  Age          Occupation  \\\n",
      "0  Rosaline Franklin  1920-07-25  1958-04-16   66             Chemist   \n",
      "1     William Gosset  1876-06-13  1937-10-16   56        Statistician   \n",
      "3        Marie Curie  1867-11-07  1934-07-04   77             Chemist   \n",
      "4      Rachel Carson  1907-05-27  1964-04-14   90           Biologist   \n",
      "5          John Snow  1813-03-15  1858-06-16   45           Physician   \n",
      "6        Alan Turing  1912-06-23  1954-06-07   37  Computer Scientist   \n",
      "7       Johann Gauss  1777-04-30  1855-02-23   61       Mathematician   \n",
      "\n",
      "     born_dt    died_dt age_days_dt  \n",
      "0 1920-07-25 1958-04-16  13779 days  \n",
      "1 1876-06-13 1937-10-16  22404 days  \n",
      "3 1867-11-07 1934-07-04  24345 days  \n",
      "4 1907-05-27 1964-04-14  20777 days  \n",
      "5 1813-03-15 1858-06-16  16529 days  \n",
      "6 1912-06-23 1954-06-07  15324 days  \n",
      "7 1777-04-30 1855-02-23  28422 days  \n"
     ]
    }
   ],
   "source": [
    "# loc 속성에 길이가 4인 bool벡터 전달\n",
    "print(scientists.loc[[True,True,False,True,True,True,True,True]])"
   ]
  },
  {
   "cell_type": "code",
   "execution_count": 28,
   "metadata": {},
   "outputs": [
    {
     "name": "stdout",
     "output_type": "stream",
     "text": [
      "                                       Name                  Born  \\\n",
      "0        Rosaline FranklinRosaline Franklin  1920-07-251920-07-25   \n",
      "1              William GossetWilliam Gosset  1876-06-131876-06-13   \n",
      "2  Florence NightingaleFlorence Nightingale  1820-05-121820-05-12   \n",
      "3                    Marie CurieMarie Curie  1867-11-071867-11-07   \n",
      "4                Rachel CarsonRachel Carson  1907-05-271907-05-27   \n",
      "5                        John SnowJohn Snow  1813-03-151813-03-15   \n",
      "6                    Alan TuringAlan Turing  1912-06-231912-06-23   \n",
      "7                  Johann GaussJohann Gauss  1777-04-301777-04-30   \n",
      "\n",
      "                   Died  Age                            Occupation  \n",
      "0  1958-04-161958-04-16   74                        ChemistChemist  \n",
      "1  1937-10-161937-10-16  122              StatisticianStatistician  \n",
      "2  1910-08-131910-08-13  180                            NurseNurse  \n",
      "3  1934-07-041934-07-04  132                        ChemistChemist  \n",
      "4  1964-04-141964-04-14  112                    BiologistBiologist  \n",
      "5  1858-06-161858-06-16   90                    PhysicianPhysician  \n",
      "6  1954-06-071954-06-07   82  Computer ScientistComputer Scientist  \n",
      "7  1855-02-231855-02-23  154            MathematicianMathematician  \n"
     ]
    }
   ],
   "source": [
    "# 브로드캐스팅 하기\n",
    "# 정수데이터는 2를 곱하고 문자열 데이터는 문자열이 2배가됨\n",
    "print(scientists*2)"
   ]
  },
  {
   "cell_type": "markdown",
   "metadata": {},
   "source": [
    "# 5. 시리즈와 데이터프레임의 데이터 처리하기"
   ]
  },
  {
   "cell_type": "markdown",
   "metadata": {},
   "source": [
    "### 1) 시리즈와 데이터프레임의 데이터 처리하기"
   ]
  },
  {
   "cell_type": "code",
   "execution_count": 29,
   "metadata": {},
   "outputs": [
    {
     "name": "stdout",
     "output_type": "stream",
     "text": [
      "object\n",
      "object\n"
     ]
    }
   ],
   "source": [
    "# 열의 자료형 확인\n",
    "print(scientists['Born'].dtype)\n",
    "print(scientists['Died'].dtype)"
   ]
  },
  {
   "cell_type": "code",
   "execution_count": 30,
   "metadata": {},
   "outputs": [
    {
     "name": "stdout",
     "output_type": "stream",
     "text": [
      "0   1920-07-25\n",
      "1   1876-06-13\n",
      "2   1820-05-12\n",
      "3   1867-11-07\n",
      "4   1907-05-27\n",
      "5   1813-03-15\n",
      "6   1912-06-23\n",
      "7   1777-04-30\n",
      "Name: Born, dtype: datetime64[ns]\n"
     ]
    }
   ],
   "source": [
    "# datetime 자료형으로 바꾸기\n",
    "born_datetime = pd.to_datetime(scientists['Born'], format='%Y-%m-%d')\n",
    "print(born_datetime)"
   ]
  },
  {
   "cell_type": "code",
   "execution_count": 31,
   "metadata": {},
   "outputs": [
    {
     "name": "stdout",
     "output_type": "stream",
     "text": [
      "0   1958-04-16\n",
      "1   1937-10-16\n",
      "2   1910-08-13\n",
      "3   1934-07-04\n",
      "4   1964-04-14\n",
      "5   1858-06-16\n",
      "6   1954-06-07\n",
      "7   1855-02-23\n",
      "Name: Died, dtype: datetime64[ns]\n"
     ]
    }
   ],
   "source": [
    "died_datetime = pd.to_datetime(scientists['Died'],format='%Y-%m-%d')\n",
    "print(died_datetime)"
   ]
  },
  {
   "cell_type": "code",
   "execution_count": 32,
   "metadata": {},
   "outputs": [
    {
     "name": "stdout",
     "output_type": "stream",
     "text": [
      "                   Name        Born        Died  Age    Occupation    born_dt  \\\n",
      "0     Rosaline Franklin  1920-07-25  1958-04-16   37       Chemist 1920-07-25   \n",
      "1        William Gosset  1876-06-13  1937-10-16   61  Statistician 1876-06-13   \n",
      "2  Florence Nightingale  1820-05-12  1910-08-13   90         Nurse 1820-05-12   \n",
      "3           Marie Curie  1867-11-07  1934-07-04   66       Chemist 1867-11-07   \n",
      "4         Rachel Carson  1907-05-27  1964-04-14   56     Biologist 1907-05-27   \n",
      "\n",
      "     died_dt  \n",
      "0 1958-04-16  \n",
      "1 1937-10-16  \n",
      "2 1910-08-13  \n",
      "3 1934-07-04  \n",
      "4 1964-04-14  \n"
     ]
    }
   ],
   "source": [
    "# 새로운 열로 추가\n",
    "scientists['born_dt'],scientists['died_dt'] = (born_datetime,died_datetime)\n",
    "print(scientists.head())"
   ]
  },
  {
   "cell_type": "code",
   "execution_count": 33,
   "metadata": {},
   "outputs": [
    {
     "name": "stdout",
     "output_type": "stream",
     "text": [
      "                   Name        Born        Died  Age          Occupation  \\\n",
      "0     Rosaline Franklin  1920-07-25  1958-04-16   37             Chemist   \n",
      "1        William Gosset  1876-06-13  1937-10-16   61        Statistician   \n",
      "2  Florence Nightingale  1820-05-12  1910-08-13   90               Nurse   \n",
      "3           Marie Curie  1867-11-07  1934-07-04   66             Chemist   \n",
      "4         Rachel Carson  1907-05-27  1964-04-14   56           Biologist   \n",
      "5             John Snow  1813-03-15  1858-06-16   45           Physician   \n",
      "6           Alan Turing  1912-06-23  1954-06-07   41  Computer Scientist   \n",
      "7          Johann Gauss  1777-04-30  1855-02-23   77       Mathematician   \n",
      "\n",
      "     born_dt    died_dt age_days_dt  \n",
      "0 1920-07-25 1958-04-16  13779 days  \n",
      "1 1876-06-13 1937-10-16  22404 days  \n",
      "2 1820-05-12 1910-08-13  32964 days  \n",
      "3 1867-11-07 1934-07-04  24345 days  \n",
      "4 1907-05-27 1964-04-14  20777 days  \n",
      "5 1813-03-15 1858-06-16  16529 days  \n",
      "6 1912-06-23 1954-06-07  15324 days  \n",
      "7 1777-04-30 1855-02-23  28422 days  \n"
     ]
    }
   ],
   "source": [
    "# 시간 계산\n",
    "scientists['age_days_dt'] = (scientists['died_dt'] - scientists['born_dt'])\n",
    "print(scientists)"
   ]
  },
  {
   "cell_type": "code",
   "execution_count": 34,
   "metadata": {},
   "outputs": [
    {
     "data": {
      "text/plain": [
       "0    37\n",
       "1    61\n",
       "2    90\n",
       "3    66\n",
       "4    56\n",
       "5    45\n",
       "6    41\n",
       "7    77\n",
       "Name: Age, dtype: int64"
      ]
     },
     "execution_count": 34,
     "metadata": {},
     "output_type": "execute_result"
    }
   ],
   "source": [
    "scientists['Age']"
   ]
  },
  {
   "cell_type": "code",
   "execution_count": 35,
   "metadata": {},
   "outputs": [
    {
     "name": "stdout",
     "output_type": "stream",
     "text": [
      "0    66\n",
      "1    56\n",
      "2    41\n",
      "3    77\n",
      "4    90\n",
      "5    45\n",
      "6    37\n",
      "7    61\n",
      "Name: Age, dtype: int64\n"
     ]
    },
    {
     "name": "stderr",
     "output_type": "stream",
     "text": [
      "C:\\anaconda\\lib\\random.py:307: SettingWithCopyWarning: \n",
      "A value is trying to be set on a copy of a slice from a DataFrame\n",
      "\n",
      "See the caveats in the documentation: https://pandas.pydata.org/pandas-docs/stable/user_guide/indexing.html#returning-a-view-versus-a-copy\n",
      "  x[i], x[j] = x[j], x[i]\n"
     ]
    }
   ],
   "source": [
    "# 데이터 섞기\n",
    "import random\n",
    "random.seed(42)\n",
    "random.shuffle(scientists['Age'])\n",
    "print(scientists['Age'])"
   ]
  },
  {
   "cell_type": "code",
   "execution_count": 36,
   "metadata": {},
   "outputs": [
    {
     "name": "stdout",
     "output_type": "stream",
     "text": [
      "Index(['Name', 'Born', 'Died', 'Occupation', 'born_dt', 'died_dt',\n",
      "       'age_days_dt'],\n",
      "      dtype='object')\n"
     ]
    }
   ],
   "source": [
    "# 열 삭제하기 \n",
    "scientists_dropped = scientists.drop(['Age'],axis=1)\n",
    "print(scientists_dropped.columns)"
   ]
  },
  {
   "cell_type": "markdown",
   "metadata": {},
   "source": [
    "# 6. 데이터 저장하고 불러오기"
   ]
  },
  {
   "cell_type": "markdown",
   "metadata": {},
   "source": [
    "### 1) 피클,csv,tsv 파일로 저장하고 불러오기"
   ]
  },
  {
   "cell_type": "code",
   "execution_count": 38,
   "metadata": {},
   "outputs": [],
   "source": [
    "# 피클로 저장하기\n",
    "# 피클은 데이터를 바이너리 형태로 직렬화한 오브젝트를 저장하는 방법\n",
    "names = scientists['Name']\n",
    "names.to_pickle('output/scientists_names_series.pickle')"
   ]
  },
  {
   "cell_type": "code",
   "execution_count": 39,
   "metadata": {},
   "outputs": [],
   "source": [
    "# 데이터프레임 피클로 저장하기\n",
    "scientists.to_pickle('output/scientists_df.pickle')"
   ]
  },
  {
   "cell_type": "code",
   "execution_count": 42,
   "metadata": {},
   "outputs": [
    {
     "name": "stdout",
     "output_type": "stream",
     "text": [
      "0       Rosaline Franklin\n",
      "1          William Gosset\n",
      "2    Florence Nightingale\n",
      "3             Marie Curie\n",
      "4           Rachel Carson\n",
      "5               John Snow\n",
      "6             Alan Turing\n",
      "7            Johann Gauss\n",
      "Name: Name, dtype: object\n"
     ]
    }
   ],
   "source": [
    "# 피클데이터 읽기\n",
    "scientist_names_from_pickle = pd.read_pickle('output/scientists_names_series.pickle')\n",
    "print(scientist_names_from_pickle)"
   ]
  },
  {
   "cell_type": "code",
   "execution_count": 43,
   "metadata": {},
   "outputs": [
    {
     "name": "stdout",
     "output_type": "stream",
     "text": [
      "                   Name        Born        Died  Age          Occupation  \\\n",
      "0     Rosaline Franklin  1920-07-25  1958-04-16   66             Chemist   \n",
      "1        William Gosset  1876-06-13  1937-10-16   56        Statistician   \n",
      "2  Florence Nightingale  1820-05-12  1910-08-13   41               Nurse   \n",
      "3           Marie Curie  1867-11-07  1934-07-04   77             Chemist   \n",
      "4         Rachel Carson  1907-05-27  1964-04-14   90           Biologist   \n",
      "5             John Snow  1813-03-15  1858-06-16   45           Physician   \n",
      "6           Alan Turing  1912-06-23  1954-06-07   37  Computer Scientist   \n",
      "7          Johann Gauss  1777-04-30  1855-02-23   61       Mathematician   \n",
      "\n",
      "     born_dt    died_dt age_days_dt  \n",
      "0 1920-07-25 1958-04-16  13779 days  \n",
      "1 1876-06-13 1937-10-16  22404 days  \n",
      "2 1820-05-12 1910-08-13  32964 days  \n",
      "3 1867-11-07 1934-07-04  24345 days  \n",
      "4 1907-05-27 1964-04-14  20777 days  \n",
      "5 1813-03-15 1858-06-16  16529 days  \n",
      "6 1912-06-23 1954-06-07  15324 days  \n",
      "7 1777-04-30 1855-02-23  28422 days  \n"
     ]
    }
   ],
   "source": [
    "scientists_from_pickle = pd.read_pickle('output/scientists_df.pickle')\n",
    "print(scientists_from_pickle)"
   ]
  },
  {
   "cell_type": "code",
   "execution_count": 44,
   "metadata": {},
   "outputs": [],
   "source": [
    "# csv 파일로 저장하기\n",
    "names.to_csv('output/scientist_names_series.csv')\n",
    "# tsv 파일로 저장하기\n",
    "scientists.to_csv('output/scientists_df.tsv',sep='\\t')"
   ]
  }
 ],
 "metadata": {
  "kernelspec": {
   "display_name": "Python 3",
   "language": "python",
   "name": "python3"
  },
  "language_info": {
   "codemirror_mode": {
    "name": "ipython",
    "version": 3
   },
   "file_extension": ".py",
   "mimetype": "text/x-python",
   "name": "python",
   "nbconvert_exporter": "python",
   "pygments_lexer": "ipython3",
   "version": "3.8.5"
  }
 },
 "nbformat": 4,
 "nbformat_minor": 4
}
