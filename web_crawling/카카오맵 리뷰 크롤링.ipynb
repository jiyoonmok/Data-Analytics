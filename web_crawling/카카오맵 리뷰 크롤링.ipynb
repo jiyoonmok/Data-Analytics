{
 "cells": [
  {
   "cell_type": "code",
   "execution_count": 1,
   "id": "e15b4d57",
   "metadata": {},
   "outputs": [],
   "source": [
    "import numpy as np\n",
    "import pandas as pd\n",
    "import matplotlib.pyplot as plt\n",
    "import seaborn as sns\n",
    "\n",
    "import warnings\n",
    "warnings.filterwarnings(action=\"ignore\")\n",
    "\n",
    "import matplotlib.font_manager as fm\n",
    "font_name = fm.FontProperties(fname=\"C:/Windows/Fonts/malgun.ttf\").get_name()\n",
    "plt.rc(\"font\", family=font_name)\n",
    "\n",
    "import matplotlib as mpl\n",
    "mpl.rcParams[\"axes.unicode_minus\"] = False"
   ]
  },
  {
   "cell_type": "code",
   "execution_count": 16,
   "id": "755fe154",
   "metadata": {},
   "outputs": [],
   "source": [
    "import os\n",
    "from selenium import webdriver\n",
    "\n",
    "options = webdriver.ChromeOptions()\n",
    "#options.add_argument('headless') # 브라우저 안띄우기\n",
    "options.add_argument('lang=ko_KR') # KR 언어\n",
    "chromedriver_path = \"C:/chromedriver.exe\" # 크롬드라이버 위치\n",
    "driver = webdriver.Chrome(os.path.join(os.getcwd(), chromedriver_path),\n",
    "                         options=options)"
   ]
  },
  {
   "cell_type": "code",
   "execution_count": 17,
   "id": "2de757bc",
   "metadata": {},
   "outputs": [],
   "source": [
    "import time"
   ]
  },
  {
   "cell_type": "code",
   "execution_count": 18,
   "id": "7900fc0f",
   "metadata": {},
   "outputs": [],
   "source": [
    "driver.get(\"https://map.kakao.com/\")\n",
    "search_area = driver.find_element_by_xpath('//input[@id=\"search.keyword.query\"]') # 검색창\n",
    "search_area.send_keys(\"강남 알라프리마\") # 검색어 입력\n",
    "time.sleep(2)\n",
    "search_button = driver.find_element_by_xpath('//button[@id=\"search.keyword.submit\"]')\n",
    "driver.execute_script(\"arguments[0].click();\", search_button)"
   ]
  },
  {
   "cell_type": "code",
   "execution_count": 20,
   "id": "7c68b72a",
   "metadata": {},
   "outputs": [],
   "source": [
    "detail_page_xpath = '//*[@id=\"info.search.place.list\"]/li[1]/div[5]/div[4]/a[1]'\n",
    "detail_button = driver.find_element_by_xpath(detail_page_xpath)\n",
    "driver.execute_script(\"arguments[0].click();\", detail_button)\n",
    "driver.switch_to.window(driver.window_handles[-1])"
   ]
  },
  {
   "cell_type": "code",
   "execution_count": 38,
   "id": "f94ff91c",
   "metadata": {
    "scrolled": true
   },
   "outputs": [
    {
     "name": "stdout",
     "output_type": "stream",
     "text": [
      "맛과 멋 그리고 재미가 있는 곳!\n",
      "코스 요리 하나하나가 다른 곳과 차별되는 맛을 지녀서 너무 좋았습니다. 재료의 새로운 맛을 느낀 즐거운 식사였습니다. 따뜻한 물수건에서 나는 아로마 향부터 각 식사에 대해 상세하게 설명해주는 직원분들의 응대 모두 만족스러웠습니다. 페어링 와인도 너무 훌륭해서 음식의 풍미를 더욱 돋우어 주었습니다. 충분한 시간동안 음식과 분위기, 이야기를 여유롭게 즐겨서 굉장히 좋은 기억으로 남았습니다 ^^ \n",
      "\n",
      "\n",
      "상당히 창의적인 요리입니다 해산물 좋아하고 생오일 좋아하면 좀 더 즐길 수 있어요 호불호가 좀 있을 수 있음 디저트 최고 \n"
     ]
    }
   ],
   "source": [
    "from bs4 import BeautifulSoup\n",
    "html = driver.page_source\n",
    "soup = BeautifulSoup(html, \"html.parser\")\n",
    "\n",
    "# 더보기 버튼\n",
    "more_button = driver.find_element_by_xpath('//*[@id=\"mArticle\"]/div[6]/div[3]/ul/li[2]/div[2]/p/button')\n",
    "driver.execute_script(\"arguments[0].click();\", more_button)\n",
    "\n",
    "time.sleep(3)\n",
    "\n",
    "# 리뷰 가져오기\n",
    "texts = soup.find_all(\"div\", class_ = \"comment_info\")\n",
    "for text in texts:\n",
    "    review = text.find(\"p\", class_=\"txt_comment\")\n",
    "    text = review.find(\"span\").get_text()\n",
    "    print(text)\n"
   ]
  },
  {
   "cell_type": "code",
   "execution_count": 47,
   "id": "0a5db9f6",
   "metadata": {},
   "outputs": [
    {
     "name": "stdout",
     "output_type": "stream",
     "text": [
      "가격에 비해 맛은 그닥\n",
      "전화 받는 분이 너무 친절하세요... 존함이라고 말씀하시고.. 대접받는 느낌. 첫 요리부터 창의적이고 맛있어요. 개인적으로 비선호하는 식재료가 들어갔는데도 너무 맛있었어요. \n",
      "믿고 가는 알라프리마. 미슐랭 원스타 시절에 방문했는데 투스타가 됐네요. 여기만의 시그니처 샐러드가 늘 생각나요.\n",
      "코스트 고민 많으셨을듯 올리셔도 될텐데\n",
      "점심 예약해서 갔는데 맛있음 :)  가격대도 괜찮고 이정도면 시즈널하게 방문해도 괜찮을 듯한 파인다이닝 \n"
     ]
    }
   ],
   "source": [
    "\n",
    "# 2페이지\n",
    "time.sleep(3)\n",
    "page2_button = driver.find_element_by_xpath('//*[@id=\"mArticle\"]/div[6]/div[3]/div/a[1]')\n",
    "driver.execute_script(\"arguments[0].click();\", page2_button)\n",
    "\n",
    "time.sleep(3)\n",
    "more_button = driver.find_element_by_xpath('//*[@id=\"mArticle\"]/div[6]/div[3]/ul/li[2]/div[2]/p/button')\n",
    "driver.execute_script(\"arguments[0].click();\", more_button)\n",
    "\n",
    "time.sleep(3)\n",
    "html = driver.page_source\n",
    "soup = BeautifulSoup(html, \"html.parser\")\n",
    "texts = soup.find_all(\"div\", class_ = \"comment_info\")\n",
    "for text in texts:\n",
    "    review = text.find(\"p\", class_=\"txt_comment\")\n",
    "    text = review.find(\"span\").get_text()\n",
    "    print(text)\n"
   ]
  },
  {
   "cell_type": "code",
   "execution_count": 48,
   "id": "22e324c9",
   "metadata": {},
   "outputs": [
    {
     "name": "stdout",
     "output_type": "stream",
     "text": [
      "런치로 다녀왔는데 특색있고 되게 맛있어요. 마지막에 파스타도 당연히 잘함\n",
      "정말 만족스러웠던 식사였습니다. 메뉴판은 매일 새로 출력되는지 날짜가 찍혀 나오더라구요. 탁 트인 주방에서 엄청 정성스럽게 요리를 하나하나 만드시는 모습을 보고 맛이 없을 수가 없겠구나 하는 생각이 들었습니다. 특히 채끝이 정말 맛있었는데 표고버섯 씹히는 식감이 마치 고기에 있는 지방이 톡톡 터지는 듯한 느낌이 들었습니다. \n",
      "보통 코스 요리를 먹으면 그래도 대부분이 익숙한 메뉴일텐데 여기는 모든 메뉴가 새롭게 느껴졌습니다. 처음 보는 요리들이 계속 나오는 데도 하나하나 먹을 때마다 감탄하게 되더라구요. 계절이 바뀔 때마다 오고 싶은 곳이에요.\n",
      "\n",
      "\n",
      "여기 음식만드는 사람들 담배 겁나 펴요 ㅎㅎㅎ :) \n"
     ]
    }
   ],
   "source": [
    "# 3페이지\n",
    "time.sleep(3)\n",
    "page2_button = driver.find_element_by_xpath('//*[@id=\"mArticle\"]/div[6]/div[3]/div/a[2]')\n",
    "driver.execute_script(\"arguments[0].click();\", page2_button)\n",
    "\n",
    "time.sleep(3)\n",
    "more_button = driver.find_element_by_xpath('//*[@id=\"mArticle\"]/div[6]/div[3]/ul/li[2]/div[2]/p/button')\n",
    "driver.execute_script(\"arguments[0].click();\", more_button)\n",
    "\n",
    "time.sleep(3)\n",
    "html = driver.page_source\n",
    "soup = BeautifulSoup(html, \"html.parser\")\n",
    "texts = soup.find_all(\"div\", class_ = \"comment_info\")\n",
    "for text in texts:\n",
    "    review = text.find(\"p\", class_=\"txt_comment\")\n",
    "    text = review.find(\"span\").get_text()\n",
    "    print(text)"
   ]
  },
  {
   "cell_type": "markdown",
   "id": "36ef9cdb",
   "metadata": {},
   "source": [
    "### 한 코드로 합치기"
   ]
  },
  {
   "cell_type": "code",
   "execution_count": null,
   "id": "62ac0e2f",
   "metadata": {},
   "outputs": [],
   "source": [
    "import os\n",
    "from selenium import webdriver\n",
    "import time\n",
    "from bs4 import BeautifulSoup\n",
    "\n",
    "def review_list(store):\n",
    "    options = webdriver.ChromeOptions()\n",
    "    #options.add_argument('headless') # 브라우저 안띄우기\n",
    "    options.add_argument('lang=ko_KR') # KR 언어\n",
    "    chromedriver_path = \"C:/chromedriver.exe\" # 크롬드라이버 위치\n",
    "    driver = webdriver.Chrome(os.path.join(os.getcwd(), chromedriver_path),\n",
    "                             options=options)\n",
    "\n",
    "    driver.get(\"https://ma                                                                                                                                                                                                                                                                                                                                                                                                                                                                                                                                                                                                                                                                                                                                                                                                                                                                                                                                                                                                                                                                                                                                                                                                                                                                                                                                                                                                                                                                                                                                                                                                                                                                                                                                                                                                                                                                                                                                                                                                                                                                                                                                                                                                                                                                                                                                                                                                                                                                                                                                                                                                                                                                                                                                                                                                                                                                                                                                                                                                                                                                                                                                                                                                                                                                                                                                                                                                                                                                                                                                                                                                                                                                                                                                                                                                                                                                                                                                                                                                                                                                                                                                                                                                                                                                                                                                                                                                                                                                                                                                                                                                                                                                                                                                                                                                                                                                                                                                                                                                                                                                                                                                                                                                                                                                                                                                                                                                                                                                                                                                                                                                                                                                                                                                                        p.kakao.com/\")\n",
    "    search_area = driver.find_element_by_xpath('//input[@id=\"search.keyword.query\"]') # 검색창\n",
    "    search_area.send_keys(store) # 검색어 입력\n",
    "    time.sleep(2)\n",
    "    search_button = driver.find_element_by_xpath('//button[@id=\"search.keyword.submit\"]') # 검색어 버튼\n",
    "    driver.execute_script(\"arguments[0].click();\", search_button)\n",
    "    \n",
    "    # 상세보기 버튼 누르면 페이지 이동\n",
    "    detail_page_xpath = '//*[@id=\"info.search.place.list\"]/li[1]/div[5]/div[4]/a[1]'\n",
    "    detail_button = driver.find_element_by_xpath(detail_page_xpath)\n",
    "    driver.execute_script(\"arguments[0].click();\", detail_button)\n",
    "    driver.switch_to.window(driver.window_handles[-1])\n",
    "    \n",
    "    #### 리뷰 가져오기 ####\n",
    "    # 여기서부터 for문 돌려서 \n",
    "    html = driver.page_source\n",
    "    soup = BeautifulSoup(html, \"html.parser\")\n",
    "\n",
    "    # 더보기 버튼\n",
    "    more_button = driver.find_element_by_xpath('//*[@id=\"mArticle\"]/div[6]/div[3]/ul/li[2]/div[2]/p/button')\n",
    "    driver.execute_script(\"arguments[0].click();\", more_button)\n",
    "\n",
    "    time.sleep(3)\n",
    "\n",
    "    # 리뷰 가져오기\n",
    "    texts = soup.find_all(\"div\", class_ = \"comment_info\")\n",
    "    for text in texts:\n",
    "        review = text.find(\"p\", class_=\"txt_comment\")\n",
    "        text = review.find(\"span\").get_text()\n",
    "        print(text)"
   ]
  },
  {
   "cell_type": "code",
   "execution_count": 12,
   "id": "ee9da844",
   "metadata": {},
   "outputs": [
    {
     "name": "stdout",
     "output_type": "stream",
     "text": [
      "맛과 멋 그리고 재미가 있는 곳!더보기\n"
     ]
    }
   ],
   "source": [
    "2페이지\n",
    "//*[@id=\"mArticle\"]/div[6]/div[3]/div/a[1]\n",
    "3페이지\n",
    "//*[@id=\"mArticle\"]/div[6]/div[3]/div/a[2]\n",
    "4페이지\n",
    "//*[@id=\"mArticle\"]/div[6]/div[3]/div/a[3]\n",
    "5페이지\n",
    "//*[@id=\"mArticle\"]/div[6]/div[3]/div/a[4]\n"
   ]
  },
  {
   "cell_type": "code",
   "execution_count": null,
   "id": "d0a5b4ac",
   "metadata": {},
   "outputs": [],
   "source": [
    "//*[@id=\"mArticle\"]/div[6]/div[3]/div/a[1]\n",
    "//*[@id=\"mArticle\"]/div[6]/div[3]/div/a[2]"
   ]
  }
 ],
 "metadata": {
  "kernelspec": {
   "display_name": "Python 3 (ipykernel)",
   "language": "python",
   "name": "python3"
  },
  "language_info": {
   "codemirror_mode": {
    "name": "ipython",
    "version": 3
   },
   "file_extension": ".py",
   "mimetype": "text/x-python",
   "name": "python",
   "nbconvert_exporter": "python",
   "pygments_lexer": "ipython3",
   "version": "3.9.7"
  }
 },
 "nbformat": 4,
 "nbformat_minor": 5
}
