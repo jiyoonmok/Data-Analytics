{
 "cells": [
  {
   "cell_type": "code",
   "execution_count": 1,
   "id": "8cad6d83",
   "metadata": {},
   "outputs": [],
   "source": [
    "import numpy as np\n",
    "import pandas as pd\n",
    "import matplotlib.pyplot as plt\n",
    "import seaborn as sns\n",
    "\n",
    "import warnings\n",
    "warnings.filterwarnings(action=\"ignore\")\n",
    "\n",
    "import matplotlib.font_manager as fm\n",
    "font_name = fm.FontProperties(fname=\"C:/Windows/Fonts/malgun.ttf\").get_name()\n",
    "plt.rc(\"font\", family=font_name)\n",
    "\n",
    "import matplotlib as mpl\n",
    "mpl.rcParams[\"axes.unicode_minus\"] = False\n",
    "\n",
    "from sklearn.model_selection import train_test_split"
   ]
  },
  {
   "cell_type": "code",
   "execution_count": 2,
   "id": "b70a8d31",
   "metadata": {},
   "outputs": [],
   "source": [
    "import sys\n",
    "import tensorflow as tf"
   ]
  },
  {
   "cell_type": "markdown",
   "id": "8186653e",
   "metadata": {},
   "source": [
    "# 1. 단순 선형회귀 모델의 비용 구하기"
   ]
  },
  {
   "cell_type": "code",
   "execution_count": 3,
   "id": "a4d9be9a",
   "metadata": {},
   "outputs": [
    {
     "name": "stdout",
     "output_type": "stream",
     "text": [
      "WARNING:tensorflow:From C:\\Users\\acorn\\AppData\\Local\\Temp/ipykernel_5148/4166840530.py:5: The name tf.placeholder is deprecated. Please use tf.compat.v1.placeholder instead.\n",
      "\n",
      "WARNING:tensorflow:From C:\\Users\\acorn\\AppData\\Local\\Temp/ipykernel_5148/4166840530.py:15: The name tf.Session is deprecated. Please use tf.compat.v1.Session instead.\n",
      "\n"
     ]
    },
    {
     "data": {
      "image/png": "[encoded data removed]",
      "text/plain": [
       "<Figure size 432x288 with 1 Axes>"
      ]
     },
     "metadata": {
      "needs_background": "light"
     },
     "output_type": "display_data"
    }
   ],
   "source": [
    "#### 데이터 준비\n",
    "x_train = [1, 2, 3]\n",
    "y_train = [1, 2, 3]\n",
    "\n",
    "W = tf.placeholder(tf.float32)\n",
    "\n",
    "##### 가설 준비 (y=Wx)\n",
    "hypot = W * x_train\n",
    "\n",
    "##### 비용 함수\n",
    "cost = tf.reduce_mean(tf.square(hypot-y_train))\n",
    "\n",
    "# ------------------- 그래프 완성 ------------------- #\n",
    "\n",
    "sess = tf.Session()\n",
    "\n",
    "cost_val = []\n",
    "for i in range(-30, 50):\n",
    "    result = sess.run(cost, feed_dict={W:i}) \n",
    "    cost_val.append(result)\n",
    "\n",
    "plt.plot(cost_val)\n",
    "sess.close()"
   ]
  },
  {
   "cell_type": "markdown",
   "id": "6e136581",
   "metadata": {},
   "source": [
    "# 2. 경사 하강 알고리즘을 이용한 가중치 학습"
   ]
  },
  {
   "cell_type": "code",
   "execution_count": null,
   "id": "d873ceb3",
   "metadata": {},
   "outputs": [],
   "source": [
    "#### 데이터 준비\n",
    "x_train = [1, 2, 3]\n",
    "y_train = [1, 2, 3]\n",
    "\n",
    "W = tf.Variable(tf.random_normal([1]), dtype=tf.float32)\n",
    "b = tf.Variable(tf.random_normal([1]), dtype=tf.float32)\n",
    "\n",
    "##### 가설 준비 (y=Wx)\n",
    "hypot = W * x_train + b\n",
    "\n",
    "##### 비용 함수\n",
    "cost = tf.reduce_mean(tf.square(hypot-y_train))\n",
    "\n",
    "##### 최저 비용 학습을 위한 경사 하강 알고리즘(Gradient descent)#####\n",
    "gradient = tf.reduce_mean((hypot-y_train) * x_train)\n",
    "learning_rate = 0.01\n",
    "descent = W - (learning_rate * gradient)\n",
    "update = W.assign(descent)\n",
    "\n",
    "# ----------- 그래프 완성 --------------- #\n",
    "\n",
    "sess = tf.Session()\n",
    "sess.run(tf.global_variables_initializer())\n",
    "\n",
    "for step in range(20):\n",
    "    _, weight, c = sess.run([update, W, cost])\n",
    "    print(step, weight, c)\n",
    "    \n",
    "sess.close()"
   ]
  },
  {
   "cell_type": "code",
   "execution_count": 22,
   "id": "4ca50ffd",
   "metadata": {},
   "outputs": [
    {
     "name": "stdout",
     "output_type": "stream",
     "text": [
      "0 [0.47385824] 2.4372518\n",
      "1 [0.4482984] 2.2968402\n",
      "2 [0.42393136] 2.1692278\n",
      "3 [0.40070146] 2.0532482\n",
      "4 [0.37855563] 1.947841\n",
      "5 [0.35744324] 1.8520418\n",
      "6 [0.33731613] 1.7649755\n",
      "7 [0.31812826] 1.6858459\n",
      "8 [0.29983583] 1.6139293\n",
      "9 [0.28239706] 1.5485681\n",
      "10 [0.2657721] 1.489165\n",
      "11 [0.24992296] 1.4351772\n",
      "12 [0.23481345] 1.3861103\n",
      "13 [0.22040905] 1.3415161\n",
      "14 [0.20667686] 1.3009871\n",
      "15 [0.19358549] 1.2641524\n",
      "16 [0.18110505] 1.2306753\n",
      "17 [0.16920704] 1.20025\n",
      "18 [0.15786427] 1.1725981\n",
      "19 [0.14705083] 1.1474668\n"
     ]
    }
   ],
   "source": [
    "#### 데이터 준비\n",
    "# x_train, y_train 데이터 나중에 입력하기 (공간만 만들어놓기)\n",
    "x_train = tf.placeholder(tf.float32, shape=[3])\n",
    "y_train = tf.placeholder(tf.float32, shape=[3])\n",
    "\n",
    "W = tf.Variable(tf.random_normal([1]), dtype=tf.float32)\n",
    "b = tf.Variable(tf.random_normal([1]), dtype=tf.float32)\n",
    "\n",
    "##### 가설 준비 (y=Wx)\n",
    "hypot = W * x_train + b\n",
    "\n",
    "##### 비용 함수\n",
    "cost = tf.reduce_mean(tf.square(hypot-y_train))\n",
    "\n",
    "##### 최저 비용 학습을 위한 경사 하강 알고리즘(Gradient descent)#####\n",
    "gradient = tf.reduce_mean((hypot-y_train) * x_train)\n",
    "learning_rate = 0.01\n",
    "descent = W - (learning_rate * gradient)\n",
    "update = W.assign(descent)\n",
    "\n",
    "# ----------- 그래프 완성 --------------- #\n",
    "\n",
    "sess = tf.Session()\n",
    "sess.run(tf.global_variables_initializer())\n",
    "\n",
    "for step in range(20):\n",
    "    _, weight, c = sess.run([update, W, cost], feed_dict={x_train:[1,2,3],\n",
    "                                                         y_train:[1,2,3]})\n",
    "    print(step, weight, c)\n",
    "    \n",
    "sess.close()"
   ]
  },
  {
   "cell_type": "code",
   "execution_count": 23,
   "id": "fb872353",
   "metadata": {},
   "outputs": [
    {
     "name": "stdout",
     "output_type": "stream",
     "text": [
      "0 [-0.2649492] 33.20244\n",
      "1 [-0.05968174] 21.352041\n",
      "2 [0.10453221] 13.767792\n",
      "3 [0.23590338] 8.913871\n",
      "4 [0.34100032] 5.8073616\n",
      "5 [0.42507786] 3.8191955\n",
      "6 [0.4923399] 2.5467699\n",
      "7 [0.54614955] 1.7324165\n",
      "8 [0.5891973] 1.2112306\n",
      "9 [0.6236354] 0.8776718\n",
      "10 [0.6511859] 0.6641942\n",
      "11 [0.67322636] 0.52756864\n",
      "12 [0.6908587] 0.4401281\n",
      "13 [0.7049646] 0.38416618\n",
      "14 [0.7162493] 0.34835052\n",
      "15 [0.72527707] 0.32542855\n",
      "16 [0.73249924] 0.31075838\n",
      "17 [0.738277] 0.30136958\n",
      "18 [0.74289924] 0.29536074\n",
      "19 [0.746597] 0.29151505\n"
     ]
    }
   ],
   "source": [
    "#### 데이터 준비\n",
    "# shape=[None]으로 하면 크기 지정하지않고 가능함\n",
    "x_train = tf.placeholder(tf.float32, shape=[None])\n",
    "y_train = tf.placeholder(tf.float32, shape=[None])\n",
    "\n",
    "W = tf.Variable(tf.random_normal([1]), dtype=tf.float32)\n",
    "b = tf.Variable(tf.random_normal([1]), dtype=tf.float32)\n",
    "\n",
    "##### 가설 준비 (y=Wx)\n",
    "hypot = W * x_train + b\n",
    "\n",
    "##### 비용 함수\n",
    "cost = tf.reduce_mean(tf.square(hypot-y_train))\n",
    "\n",
    "##### 최저 비용 학습을 위한 경사 하강 알고리즘(Gradient descent)#####\n",
    "gradient = tf.reduce_mean((hypot-y_train) * x_train)\n",
    "learning_rate = 0.01\n",
    "descent = W - (learning_rate * gradient)\n",
    "update = W.assign(descent)\n",
    "\n",
    "# ----------- 그래프 완성 --------------- #\n",
    "\n",
    "sess = tf.Session()\n",
    "sess.run(tf.global_variables_initializer())\n",
    "\n",
    "for step in range(20):\n",
    "    _, weight, c = sess.run([update, W, cost], feed_dict={x_train:[1,2,3,4,5,6,7],\n",
    "                                                         y_train:[1,2,3,4,5,6,7]})\n",
    "    print(step, weight, c)\n",
    "    \n",
    "sess.close()"
   ]
  },
  {
   "cell_type": "code",
   "execution_count": 29,
   "id": "1f7c00ae",
   "metadata": {},
   "outputs": [
    {
     "name": "stdout",
     "output_type": "stream",
     "text": [
      "0 [-0.9484782] 113.37273 [-0.708277]\n",
      "1 [-0.4113164] 66.17244 [-0.5552027]\n",
      "2 [-0.00151461] 38.665737 [-0.43741968]\n",
      "3 [0.31106377] 22.635494 [-0.34658042]\n",
      "4 [0.5494245] 13.293169 [-0.27631265]\n",
      "5 [0.7311299] 7.8482323 [-0.22175187]\n",
      "6 [0.8695864] 4.674508 [-0.17918463]\n",
      "7 [0.97502846] 2.8243363 [-0.14577612]\n",
      "8 [1.0552688] 1.7454712 [-0.11936231]\n",
      "9 [1.1162714] 1.1160895 [-0.09829119]\n",
      "10 [1.1625892] 0.74864924 [-0.08130164]\n",
      "11 [1.1976976] 0.53385985 [-0.06743097]\n",
      "12 [1.22425] 0.4080328 [-0.05594421]\n",
      "13 [1.2442716] 0.33405274 [-0.04628032]\n",
      "14 [1.2593087] 0.2902909 [-0.03801101]\n",
      "15 [1.2705414] 0.26414308 [-0.03080932]\n",
      "16 [1.2788708] 0.24826436 [-0.02442561]\n",
      "17 [1.2849848] 0.23837419 [-0.01866935]\n",
      "18 [1.2894083] 0.23197821 [-0.01339506]\n",
      "19 [1.2925422] 0.2276227 [-0.00849166]\n",
      "20 [1.2946924] 0.22446057 [-0.00387436]\n",
      "21 [1.2960925] 0.221998 [0.00052158]\n",
      "22 [1.2969209] 0.21994734 [0.00474559]\n",
      "23 [1.2973136] 0.21814084 [0.00883543]\n",
      "24 [1.2973745] 0.21648085 [0.0128199]\n",
      "25 [1.2971829] 0.21491022 [0.01672103]\n",
      "26 [1.2967994] 0.21339588 [0.02055564]\n",
      "27 [1.2962703] 0.21191816 [0.02433656]\n",
      "28 [1.2956306] 0.210466 [0.02807361]\n",
      "29 [1.2949075] 0.20903268 [0.0317743]\n",
      "30 [1.2941214] 0.20761433 [0.03544436]\n",
      "31 [1.293288] 0.20620844 [0.03908819]\n",
      "32 [1.2924193] 0.204814 [0.04270915]\n",
      "33 [1.2915245] 0.20343001 [0.0463098]\n",
      "34 [1.2906106] 0.20205584 [0.04989213]\n",
      "35 [1.2896827] 0.20069125 [0.05345765]\n",
      "36 [1.288745] 0.19933634 [0.05700753]\n",
      "37 [1.2878007] 0.19799045 [0.06054268]\n",
      "38 [1.286852] 0.19665392 [0.06406378]\n",
      "39 [1.2859007] 0.19532624 [0.06757139]\n",
      "40 [1.2849482] 0.19400766 [0.07106592]\n",
      "41 [1.2839956] 0.19269809 [0.0745477]\n",
      "42 [1.2830437] 0.19139728 [0.078017]\n",
      "43 [1.282093] 0.19010529 [0.08147404]\n",
      "44 [1.2811441] 0.18882185 [0.08491898]\n",
      "45 [1.2801973] 0.18754728 [0.08835194]\n",
      "46 [1.2792528] 0.18628114 [0.09177307]\n",
      "47 [1.2783108] 0.18502378 [0.09518244]\n",
      "48 [1.2773714] 0.18377474 [0.09858014]\n",
      "49 [1.2764349] 0.1825342 [0.10196625]\n",
      "50 [1.2755013] 0.18130203 [0.10534083]\n",
      "51 [1.2745705] 0.18007813 [0.10870393]\n",
      "52 [1.2736427] 0.17886251 [0.11205562]\n",
      "53 [1.272718] 0.17765507 [0.11539595]\n",
      "54 [1.2717962] 0.17645581 [0.11872495]\n",
      "55 [1.2708776] 0.17526458 [0.12204268]\n",
      "56 [1.269962] 0.17408156 [0.12534916]\n",
      "57 [1.2690494] 0.17290631 [0.12864447]\n",
      "58 [1.2681398] 0.17173919 [0.13192861]\n",
      "59 [1.2672334] 0.17057982 [0.13520165]\n",
      "60 [1.2663299] 0.1694283 [0.13846362]\n",
      "61 [1.2654295] 0.16828457 [0.14171454]\n",
      "62 [1.2645321] 0.16714862 [0.14495447]\n",
      "63 [1.2636378] 0.16602035 [0.14818345]\n",
      "64 [1.2627465] 0.16489954 [0.15140152]\n",
      "65 [1.2618581] 0.1637864 [0.1546087]\n",
      "66 [1.2609727] 0.16268075 [0.15780504]\n",
      "67 [1.2600905] 0.16158262 [0.16099057]\n",
      "68 [1.2592112] 0.16049187 [0.16416532]\n",
      "69 [1.2583348] 0.15940845 [0.16732934]\n",
      "70 [1.2574613] 0.15833233 [0.17048267]\n",
      "71 [1.2565908] 0.15726356 [0.17362534]\n",
      "72 [1.2557234] 0.15620196 [0.17675738]\n",
      "73 [1.2548587] 0.15514752 [0.17987883]\n",
      "74 [1.2539971] 0.15410018 [0.18298973]\n",
      "75 [1.2531383] 0.15305983 [0.18609011]\n",
      "76 [1.2522825] 0.15202668 [0.18918002]\n",
      "77 [1.2514296] 0.15100041 [0.19225946]\n",
      "78 [1.2505795] 0.14998105 [0.1953285]\n",
      "79 [1.2497323] 0.14896867 [0.19838716]\n",
      "80 [1.2488879] 0.147963 [0.20143548]\n",
      "81 [1.2480464] 0.14696422 [0.2044735]\n",
      "82 [1.2472078] 0.1459721 [0.20750123]\n",
      "83 [1.246372] 0.14498675 [0.21051873]\n",
      "84 [1.245539] 0.14400804 [0.21352604]\n",
      "85 [1.2447088] 0.14303589 [0.21652319]\n",
      "86 [1.2438815] 0.14207034 [0.2195102]\n",
      "87 [1.2430569] 0.14111122 [0.2224871]\n",
      "88 [1.2422352] 0.14015862 [0.22545394]\n",
      "89 [1.2414162] 0.13921253 [0.22841075]\n",
      "90 [1.2406] 0.13827279 [0.23135756]\n",
      "91 [1.2397865] 0.1373394 [0.2342944]\n",
      "92 [1.2389758] 0.13641231 [0.23722132]\n",
      "93 [1.2381678] 0.1354914 [0.24013834]\n",
      "94 [1.2373625] 0.13457686 [0.24304551]\n",
      "95 [1.23656] 0.13366827 [0.24594285]\n",
      "96 [1.2357602] 0.13276601 [0.2488304]\n",
      "97 [1.2349632] 0.13186975 [0.25170818]\n",
      "98 [1.2341688] 0.13097957 [0.25457624]\n",
      "99 [1.2333771] 0.13009545 [0.25743458]\n"
     ]
    }
   ],
   "source": [
    "#### 데이터 준비\n",
    "# shape=[None]으로 하면 크기 지정하지않고 가능함\n",
    "x_train = tf.placeholder(tf.float32, shape=[None])\n",
    "y_train = tf.placeholder(tf.float32, shape=[None])\n",
    "\n",
    "W = tf.Variable(tf.random_normal([1]), dtype=tf.float32)\n",
    "b = tf.Variable(tf.random_normal([1]), dtype=tf.float32)\n",
    "\n",
    "##### 가설 준비 (y=Wx)\n",
    "hypot = W * x_train + b\n",
    "\n",
    "##### 비용 함수\n",
    "cost = tf.reduce_mean(tf.square(hypot-y_train))\n",
    "\n",
    "##### 최저 비용 학습을 위한 경사 하강 알고리즘(Gradient descent)#####\n",
    "update = tf.train.GradientDescentOptimizer(learning_rate=0.01).minimize(cost)\n",
    "\n",
    "# ----------- 그래프 완성 --------------- #\n",
    "\n",
    "sess = tf.Session()\n",
    "sess.run(tf.global_variables_initializer())\n",
    "\n",
    "for step in range(100):\n",
    "    _, weight, c, bias = sess.run([update, W, cost, b], feed_dict={x_train:[1,2,3,4,5],\n",
    "                                                         y_train:[2.1, 3.1, 4.1, 5.1, 6.1]})\n",
    "    print(step, weight, c, bias)\n",
    "    "
   ]
  },
  {
   "cell_type": "code",
   "execution_count": 34,
   "id": "0744c695",
   "metadata": {},
   "outputs": [
    {
     "name": "stdout",
     "output_type": "stream",
     "text": [
      "[3.3408773 4.8209295]\n"
     ]
    }
   ],
   "source": [
    "##### Testing\n",
    "# sess에 W 값이 저장되어있음\n",
    "print(sess.run(hypot, feed_dict={x_train:[2.5,3.7]}))\n"
   ]
  },
  {
   "cell_type": "code",
   "execution_count": 35,
   "id": "29ed2d68",
   "metadata": {},
   "outputs": [],
   "source": [
    "sess.close()"
   ]
  },
  {
   "cell_type": "markdown",
   "id": "d3c0ec91",
   "metadata": {},
   "source": [
    "### (3) 응용 예제\n",
    "\n",
    "+ 아래의 데이터를 가지고 하루 8시간을 일했을 때 매출액이 얼마인지 예측하시오."
   ]
  },
  {
   "cell_type": "code",
   "execution_count": 10,
   "id": "5228ca76",
   "metadata": {},
   "outputs": [
    {
     "name": "stdout",
     "output_type": "stream",
     "text": [
      "0 13455024000.0\n"
     ]
    }
   ],
   "source": [
    "x_train = tf.placeholder(tf.float32, shape=[None])\n",
    "y_train = tf.placeholder(tf.float32, shape=[None])\n",
    "\n",
    "W = tf.Variable(tf.random_normal([1]), dtype=tf.float32)\n",
    "b = tf.Variable(tf.random_normal([1]), dtype=tf.float32)\n",
    "\n",
    "##### 가설 준비 (y=Wx+b)\n",
    "hypot = W * x_train + b\n",
    "\n",
    "##### 비용 함수\n",
    "cost = tf.reduce_mean(tf.square(hypot-y_train))\n",
    "\n",
    "##### 최저 비용 학습을 위한 경사 하강 알고리즘(Gradient descent)#####\n",
    "update = tf.train.GradientDescentOptimizer(learning_rate=0.01).minimize(cost)\n",
    "\n",
    "# ----------- 그래프 완성 --------------- #\n",
    "\n",
    "sess = tf.Session()\n",
    "sess.run(tf.global_variables_initializer())\n",
    "\n",
    "for step in range(100):\n",
    "    _, c = sess.run([update, cost], feed_dict={x_train:[1, 2, 3, 4, 5, 6, 7],\n",
    "                                               y_train:[25000, 55000, 75000, 110000, 128000, 155000, 180000]})\n",
    "   \n",
    "    if step % 100 == 0:\n",
    "        print(step, c)\n",
    "    \n"
   ]
  },
  {
   "cell_type": "code",
   "execution_count": 11,
   "id": "2899f275",
   "metadata": {},
   "outputs": [
    {
     "name": "stdout",
     "output_type": "stream",
     "text": [
      "[205062.31]\n"
     ]
    }
   ],
   "source": [
    "##### Testing\n",
    "# sess에 W 값이 저장되어있음\n",
    "print(sess.run(hypot, feed_dict={x_train:[8]}))"
   ]
  },
  {
   "cell_type": "code",
   "execution_count": 12,
   "id": "07dd28d3",
   "metadata": {},
   "outputs": [],
   "source": [
    "sess.close()"
   ]
  },
  {
   "cell_type": "markdown",
   "id": "2f1b4c3b",
   "metadata": {},
   "source": [
    "# 2. 다중 선형회귀 모델"
   ]
  },
  {
   "cell_type": "code",
   "execution_count": 28,
   "id": "9fcdb917",
   "metadata": {},
   "outputs": [],
   "source": [
    "x1_data = [73., 93., 89., 96., 73.]\n",
    "x2_data = [80., 88., 91., 98., 66.]\n",
    "x3_data = [75., 93., 90., 100., 70.]\n",
    "y_data = [152., 185., 180., 96., 142.]"
   ]
  },
  {
   "cell_type": "markdown",
   "id": "8a685605",
   "metadata": {},
   "source": [
    "## (1) 단순하게 처리하는 경우"
   ]
  },
  {
   "cell_type": "code",
   "execution_count": 29,
   "id": "c5641ac2",
   "metadata": {},
   "outputs": [],
   "source": [
    "X1 = tf.placeholder(tf.float32, shape=[None])\n",
    "X2 = tf.placeholder(tf.float32, shape=[None])\n",
    "X3 = tf.placeholder(tf.float32, shape=[None])\n",
    "\n",
    "y = tf.placeholder(tf.float32, shape=[None])\n",
    "\n",
    "##### 가설 설정 : y = W1*X1 + W2*X2 + W3*X3 + b\n",
    "\n",
    "W1 = tf.Variable(tf.random_normal([1]))\n",
    "W2 = tf.Variable(tf.random_normal([1]))\n",
    "W3 = tf.Variable(tf.random_normal([1]))\n",
    "b = tf.Variable(tf.random_normal([1]))\n",
    "\n",
    "hypot = W1*X1 + W2*X2 + W3*X3 + b\n",
    "\n",
    "##### 비용 계산\n",
    "cost = tf.reduce_mean(tf.square(hypot - y))\n",
    "\n",
    "##### 최소비용 계산\n",
    "train = tf.train.GradientDescentOptimizer(learning_rate=0.00001)\n",
    "train = train.minimize(cost)"
   ]
  },
  {
   "cell_type": "code",
   "execution_count": 30,
   "id": "442a2674",
   "metadata": {},
   "outputs": [
    {
     "name": "stdout",
     "output_type": "stream",
     "text": [
      "0 14650.023 [232.44824 282.59738 276.95465 302.91904 212.97366]\n",
      "500 1335.9185 [128.35727 164.70625 157.82762 166.49971 126.28523]\n",
      "1000 1096.7953 [126.61365 168.08409 159.35042 159.3871  131.55818]\n",
      "1500 921.3247 [125.42606 170.75102 160.7372  153.34677 135.85927]\n",
      "2000 789.78577 [124.68285 172.84073 162.00653 148.1934  139.36594]\n",
      "2500 688.87036 [124.292984 174.46222  163.1737   143.77504  142.22314 ]\n",
      "3000 609.5626 [124.18258 175.70457 164.25175 139.96693 144.5496 ]\n",
      "3500 545.7323 [124.291595 176.6406   165.25139  136.66656  146.44241 ]\n",
      "4000 493.19247 [124.571205 177.32947  166.18161  133.7898   147.9808  ]\n",
      "4500 449.0569 [124.981964 177.81958  167.05019  131.26733  149.22975 ]\n",
      "5000 411.32245 [125.49205 178.15039 167.86346 129.04227 150.24239]\n",
      "5500 378.58026 [126.07563 178.35394 168.62708 127.06759 151.062  ]\n",
      "6000 349.82782 [126.711975 178.4563   169.34558  125.304596 151.72414 ]\n",
      "6500 324.33658 [127.38442  178.4788   170.02315  123.721306 152.25777 ]\n",
      "7000 301.56793 [128.07973  178.43867  170.66331  122.291245 152.68672 ]\n",
      "7500 281.11652 [128.78728 178.3499  171.26888 120.99257 153.03029]\n",
      "8000 262.66583 [129.49875 178.22379 171.84265 119.80701 153.30441]\n",
      "8500 245.96562 [130.20744  178.06947  172.38692  118.719315 153.5219  ]\n",
      "9000 230.81392 [130.90842  177.89444  172.90381  117.717094 153.69348 ]\n",
      "9500 217.04158 [131.59764  177.70464  173.39513  116.789665 153.82771 ]\n"
     ]
    }
   ],
   "source": [
    "sess = tf.Session()\n",
    "sess.run(tf.global_variables_initializer())\n",
    "\n",
    "for step in range(10000):\n",
    "    _, c, h = sess.run([train, cost, hypot], feed_dict={X1:x1_data, X2:x2_data, X3:x3_data, y:y_data})\n",
    "    if step % 500 == 0:\n",
    "        print(step, c, h)"
   ]
  },
  {
   "cell_type": "code",
   "execution_count": 31,
   "id": "3426648e",
   "metadata": {},
   "outputs": [],
   "source": [
    "sess.close()"
   ]
  },
  {
   "cell_type": "markdown",
   "id": "05436883",
   "metadata": {},
   "source": [
    "## (2) Matrix로 처리"
   ]
  },
  {
   "cell_type": "code",
   "execution_count": 32,
   "id": "462f88a8",
   "metadata": {},
   "outputs": [
    {
     "data": {
      "text/plain": [
       "'\\nx1_data = [73., 93., 89., 96., 73.]\\nx2_data = [80., 88., 91., 98., 66.]\\nx3_data = [75., 93., 90., 100., 70.]\\ny_data = [152., 185., 180., 96., 142.]\\n\\n을 이런식으로 변경\\n\\nx_data = [[73., 80., 75.], [93., 88., 93.],\\n            [89., 91., 90.], [96., 98., 100.], [73., 66., 70.]]\\ny_data = [[152.],[185.],[180.],[196.],[142.]]\\n'"
      ]
     },
     "execution_count": 32,
     "metadata": {},
     "output_type": "execute_result"
    }
   ],
   "source": [
    "\"\"\"\n",
    "x1_data = [73., 93., 89., 96., 73.]\n",
    "x2_data = [80., 88., 91., 98., 66.]\n",
    "x3_data = [75., 93., 90., 100., 70.]\n",
    "y_data = [152., 185., 180., 96., 142.]\n",
    "\n",
    "을 이런식으로 변경\n",
    "\n",
    "x_data = [[73., 80., 75.], [93., 88., 93.],\n",
    "            [89., 91., 90.], [96., 98., 100.], [73., 66., 70.]]\n",
    "y_data = [[152.],[185.],[180.],[196.],[142.]]\n",
    "\"\"\""
   ]
  },
  {
   "cell_type": "code",
   "execution_count": 51,
   "id": "bde4df1e",
   "metadata": {},
   "outputs": [
    {
     "name": "stdout",
     "output_type": "stream",
     "text": [
      "[[ 73.  80.  75.]\n",
      " [ 93.  88.  93.]\n",
      " [ 89.  91.  90.]\n",
      " [ 96.  98. 100.]\n",
      " [ 73.  66.  70.]]\n",
      "[[152.]\n",
      " [185.]\n",
      " [180.]\n",
      " [ 96.]\n",
      " [142.]]\n"
     ]
    }
   ],
   "source": [
    "x1_data = [73., 93., 89., 96., 73.]\n",
    "x2_data = [80., 88., 91., 98., 66.]\n",
    "x3_data = [75., 93., 90., 100., 70.]\n",
    "y_data = [152., 185., 180., 96., 142.]\n",
    "\n",
    "x_data = np.dstack([x1_data, x2_data, x3_data])[0]\n",
    "print(x_data)\n",
    "\n",
    "y_data = np.array([y_data]).reshape((-1,1))\n",
    "print(y_data)"
   ]
  },
  {
   "cell_type": "code",
   "execution_count": 52,
   "id": "739e2647",
   "metadata": {},
   "outputs": [
    {
     "data": {
      "text/plain": [
       "array([[ 73.,  80.,  75.],\n",
       "       [ 93.,  88.,  93.],\n",
       "       [ 89.,  91.,  90.],\n",
       "       [ 96.,  98., 100.],\n",
       "       [ 73.,  66.,  70.]])"
      ]
     },
     "execution_count": 52,
     "metadata": {},
     "output_type": "execute_result"
    }
   ],
   "source": [
    "pd.DataFrame(zip(x1_data, x2_data, x3_data)).values"
   ]
  },
  {
   "cell_type": "code",
   "execution_count": 53,
   "id": "cde67331",
   "metadata": {},
   "outputs": [
    {
     "data": {
      "text/plain": [
       "array([[ 73.,  80.,  75.],\n",
       "       [ 93.,  88.,  93.],\n",
       "       [ 89.,  91.,  90.],\n",
       "       [ 96.,  98., 100.],\n",
       "       [ 73.,  66.,  70.]])"
      ]
     },
     "execution_count": 53,
     "metadata": {},
     "output_type": "execute_result"
    }
   ],
   "source": [
    "np.reshape([x1_data, x2_data, x3_data], (3,5)).T"
   ]
  },
  {
   "cell_type": "code",
   "execution_count": 54,
   "id": "a1861d6e",
   "metadata": {},
   "outputs": [
    {
     "data": {
      "text/plain": [
       "array([[ 73.,  80.,  75.],\n",
       "       [ 93.,  88.,  93.],\n",
       "       [ 89.,  91.,  90.],\n",
       "       [ 96.,  98., 100.],\n",
       "       [ 73.,  66.,  70.]], dtype=float32)"
      ]
     },
     "execution_count": 54,
     "metadata": {},
     "output_type": "execute_result"
    }
   ],
   "source": [
    "sess = tf.Session()\n",
    "tf.stack([x1_data, x2_data, x3_data], axis=1).eval(session=sess)"
   ]
  },
  {
   "cell_type": "code",
   "execution_count": 55,
   "id": "f062f970",
   "metadata": {},
   "outputs": [],
   "source": [
    "X = tf.placeholder(tf.float32, shape=[None, 3]) # 여기에 있는 3과\n",
    "y = tf.placeholder(tf.float32, shape=[None, 1]) # 여기에 있는 1이\n",
    "\n",
    "##### 가설 설정 : y = W1*X1 + W2*X2 + W3*X3 + b\n",
    "W = tf.Variable(tf.random_normal([3, 1])) # 여기 3,1로 각각 들어감요\n",
    "b = tf.Variable(tf.random_normal([1]))\n",
    "\n",
    "hypot = tf.matmul(X, W) + b\n",
    "\n",
    "##### 비용 계산\n",
    "cost = tf.reduce_mean(tf.square(hypot - y))\n",
    "\n",
    "##### 최소비용 계산\n",
    "train = tf.train.GradientDescentOptimizer(learning_rate=0.00001)\n",
    "train = train.minimize(cost)"
   ]
  },
  {
   "cell_type": "code",
   "execution_count": 56,
   "id": "c0c8cf79",
   "metadata": {},
   "outputs": [
    {
     "name": "stdout",
     "output_type": "stream",
     "text": [
      "0 101243.96 [[-139.19748]\n",
      " [-183.03894]\n",
      " [-171.74997]\n",
      " [-191.09737]\n",
      " [-140.52127]]\n",
      "500 1473.1512 [[139.02284 ]\n",
      " [155.1389  ]\n",
      " [159.55766 ]\n",
      " [169.14551 ]\n",
      " [118.815735]]\n",
      "1000 1422.365 [[137.34709]\n",
      " [156.36029]\n",
      " [159.13768]\n",
      " [168.12248]\n",
      " [121.02391]]\n",
      "1500 1378.9376 [[135.92134 ]\n",
      " [157.40942 ]\n",
      " [158.7932  ]\n",
      " [167.16281 ]\n",
      " [122.998665]]\n",
      "2000 1341.2325 [[134.71344]\n",
      " [158.30838]\n",
      " [158.51436]\n",
      " [166.2592 ]\n",
      " [124.76901]]\n",
      "2500 1308.0017 [[133.69537 ]\n",
      " [159.0763  ]\n",
      " [158.29259 ]\n",
      " [165.40533 ]\n",
      " [126.360344]]\n",
      "3000 1278.2909 [[132.8426 ]\n",
      " [159.73003]\n",
      " [158.12039]\n",
      " [164.5957 ]\n",
      " [127.79473]]\n",
      "3500 1251.3687 [[132.1338 ]\n",
      " [160.2843 ]\n",
      " [157.99123]\n",
      " [163.8255 ]\n",
      " [129.09158]]\n",
      "4000 1226.6757 [[131.55022]\n",
      " [160.75188]\n",
      " [157.89943]\n",
      " [163.09048]\n",
      " [130.26778]]\n",
      "4500 1203.783 [[131.0756 ]\n",
      " [161.14392]\n",
      " [157.8399 ]\n",
      " [162.38693]\n",
      " [131.33803]]\n",
      "5000 1182.3597 [[130.6957 ]\n",
      " [161.47025]\n",
      " [157.80841]\n",
      " [161.71161]\n",
      " [132.31528]]\n",
      "5500 1162.1525 [[130.39813]\n",
      " [161.73927]\n",
      " [157.8011 ]\n",
      " [161.06166]\n",
      " [133.21083]]\n",
      "6000 1142.9647 [[130.17207]\n",
      " [161.95862]\n",
      " [157.81476]\n",
      " [160.43466]\n",
      " [134.03447]]\n",
      "6500 1124.6459 [[130.00801]\n",
      " [162.1346 ]\n",
      " [157.84633]\n",
      " [159.82832]\n",
      " [134.7948 ]]\n",
      "7000 1107.0759 [[129.89761]\n",
      " [162.27295]\n",
      " [157.89346]\n",
      " [159.24072]\n",
      " [135.49939]]\n",
      "7500 1090.1666 [[129.83386]\n",
      " [162.37878]\n",
      " [157.95392]\n",
      " [158.67041]\n",
      " [136.15485]]\n",
      "8000 1073.842 [[129.81024]\n",
      " [162.45615]\n",
      " [158.02563]\n",
      " [158.11554]\n",
      " [136.76678]]\n",
      "8500 1058.0474 [[129.82138]\n",
      " [162.50903]\n",
      " [158.10709]\n",
      " [157.57507]\n",
      " [137.34033]]\n",
      "9000 1042.7363 [[129.86253]\n",
      " [162.54063]\n",
      " [158.19682]\n",
      " [157.04784]\n",
      " [137.88002]]\n",
      "9500 1027.872 [[129.9294 ]\n",
      " [162.55373]\n",
      " [158.2935 ]\n",
      " [156.53267]\n",
      " [138.38933]]\n"
     ]
    }
   ],
   "source": [
    "sess = tf.Session()\n",
    "sess.run(tf.global_variables_initializer())\n",
    "\n",
    "for step in range(10000):\n",
    "    _, c, h = sess.run([train, cost, hypot], feed_dict={X:x_data, y:y_data})\n",
    "    if step % 500 == 0:\n",
    "        print(step, c, h)"
   ]
  },
  {
   "cell_type": "markdown",
   "id": "879b0d15",
   "metadata": {},
   "source": [
    "# 3. 대용량 데이터 처리"
   ]
  },
  {
   "cell_type": "markdown",
   "id": "c4b74265",
   "metadata": {},
   "source": [
    "## (1) DASK\n",
    "\n",
    "+ 가상의 데이터프레임\n",
    "+ 병렬처리용 작업 스케줄러"
   ]
  },
  {
   "cell_type": "code",
   "execution_count": 61,
   "id": "3240edd8",
   "metadata": {},
   "outputs": [
    {
     "name": "stdout",
     "output_type": "stream",
     "text": [
      "Overwriting data/sample1.csv\n"
     ]
    }
   ],
   "source": [
    "%%writefile \"data/sample1.csv\"\n",
    "\n",
    "c1,c2,c3\n",
    "1, 1.11, one\n",
    "2, 2.11, two\n",
    "3, 3.11, three\n",
    "4, 4.11, four\n",
    "5, 5.11, five\n",
    "6, 6.11, six"
   ]
  },
  {
   "cell_type": "code",
   "execution_count": 64,
   "id": "6c55626e",
   "metadata": {},
   "outputs": [
    {
     "data": {
      "text/plain": [
       "3.61"
      ]
     },
     "execution_count": 64,
     "metadata": {},
     "output_type": "execute_result"
    }
   ],
   "source": [
    "df1 = pd.read_csv('data/sample1.csv')\n",
    "df1\n",
    "\n",
    "df1['c2'].mean()"
   ]
  },
  {
   "cell_type": "code",
   "execution_count": 65,
   "id": "badcb733",
   "metadata": {},
   "outputs": [],
   "source": [
    "import dask.dataframe as dd"
   ]
  },
  {
   "cell_type": "code",
   "execution_count": 67,
   "id": "55b2e530",
   "metadata": {},
   "outputs": [
    {
     "data": {
      "text/html": [
       "<div>\n",
       "<style scoped>\n",
       "    .dataframe tbody tr th:only-of-type {\n",
       "        vertical-align: middle;\n",
       "    }\n",
       "\n",
       "    .dataframe tbody tr th {\n",
       "        vertical-align: top;\n",
       "    }\n",
       "\n",
       "    .dataframe thead th {\n",
       "        text-align: right;\n",
       "    }\n",
       "</style>\n",
       "<table border=\"1\" class=\"dataframe\">\n",
       "  <thead>\n",
       "    <tr style=\"text-align: right;\">\n",
       "      <th></th>\n",
       "      <th>c1</th>\n",
       "      <th>c2</th>\n",
       "      <th>c3</th>\n",
       "    </tr>\n",
       "  </thead>\n",
       "  <tbody>\n",
       "    <tr>\n",
       "      <th>0</th>\n",
       "      <td>1</td>\n",
       "      <td>1.11</td>\n",
       "      <td>one</td>\n",
       "    </tr>\n",
       "    <tr>\n",
       "      <th>1</th>\n",
       "      <td>2</td>\n",
       "      <td>2.11</td>\n",
       "      <td>two</td>\n",
       "    </tr>\n",
       "    <tr>\n",
       "      <th>2</th>\n",
       "      <td>3</td>\n",
       "      <td>3.11</td>\n",
       "      <td>three</td>\n",
       "    </tr>\n",
       "    <tr>\n",
       "      <th>3</th>\n",
       "      <td>4</td>\n",
       "      <td>4.11</td>\n",
       "      <td>four</td>\n",
       "    </tr>\n",
       "    <tr>\n",
       "      <th>4</th>\n",
       "      <td>5</td>\n",
       "      <td>5.11</td>\n",
       "      <td>five</td>\n",
       "    </tr>\n",
       "  </tbody>\n",
       "</table>\n",
       "</div>"
      ],
      "text/plain": [
       "   c1    c2      c3\n",
       "0   1  1.11     one\n",
       "1   2  2.11     two\n",
       "2   3  3.11   three\n",
       "3   4  4.11    four\n",
       "4   5  5.11    five"
      ]
     },
     "execution_count": 67,
     "metadata": {},
     "output_type": "execute_result"
    }
   ],
   "source": [
    "df2 = dd.read_csv('data/sample1.csv')\n",
    "df2\n",
    "# 데이터를 다 가져오는게 아닌 필요한 부분만 가져오는 것!\n",
    "df2.head()"
   ]
  },
  {
   "cell_type": "code",
   "execution_count": 70,
   "id": "99ef85f4",
   "metadata": {},
   "outputs": [
    {
     "data": {
      "text/plain": [
       "3.61"
      ]
     },
     "execution_count": 70,
     "metadata": {},
     "output_type": "execute_result"
    }
   ],
   "source": [
    "df2[\"c2\"].mean().compute()"
   ]
  },
  {
   "cell_type": "code",
   "execution_count": 72,
   "id": "ea32d179",
   "metadata": {},
   "outputs": [
    {
     "data": {
      "text/html": [
       "<div>\n",
       "<style scoped>\n",
       "    .dataframe tbody tr th:only-of-type {\n",
       "        vertical-align: middle;\n",
       "    }\n",
       "\n",
       "    .dataframe tbody tr th {\n",
       "        vertical-align: top;\n",
       "    }\n",
       "\n",
       "    .dataframe thead th {\n",
       "        text-align: right;\n",
       "    }\n",
       "</style>\n",
       "<table border=\"1\" class=\"dataframe\">\n",
       "  <thead>\n",
       "    <tr style=\"text-align: right;\">\n",
       "      <th></th>\n",
       "      <th>c1</th>\n",
       "      <th>c2</th>\n",
       "      <th>c3</th>\n",
       "      <th>c4</th>\n",
       "    </tr>\n",
       "  </thead>\n",
       "  <tbody>\n",
       "    <tr>\n",
       "      <th>0</th>\n",
       "      <td>1</td>\n",
       "      <td>100</td>\n",
       "      <td>one</td>\n",
       "      <td>200</td>\n",
       "    </tr>\n",
       "    <tr>\n",
       "      <th>1</th>\n",
       "      <td>2</td>\n",
       "      <td>100</td>\n",
       "      <td>two</td>\n",
       "      <td>200</td>\n",
       "    </tr>\n",
       "    <tr>\n",
       "      <th>2</th>\n",
       "      <td>3</td>\n",
       "      <td>100</td>\n",
       "      <td>three</td>\n",
       "      <td>200</td>\n",
       "    </tr>\n",
       "    <tr>\n",
       "      <th>3</th>\n",
       "      <td>4</td>\n",
       "      <td>100</td>\n",
       "      <td>four</td>\n",
       "      <td>200</td>\n",
       "    </tr>\n",
       "    <tr>\n",
       "      <th>4</th>\n",
       "      <td>5</td>\n",
       "      <td>100</td>\n",
       "      <td>five</td>\n",
       "      <td>200</td>\n",
       "    </tr>\n",
       "  </tbody>\n",
       "</table>\n",
       "</div>"
      ],
      "text/plain": [
       "   c1   c2      c3   c4\n",
       "0   1  100     one  200\n",
       "1   2  100     two  200\n",
       "2   3  100   three  200\n",
       "3   4  100    four  200\n",
       "4   5  100    five  200"
      ]
     },
     "execution_count": 72,
     "metadata": {},
     "output_type": "execute_result"
    }
   ],
   "source": [
    "df2['c2'] = 100\n",
    "df2.head()\n",
    "\n",
    "df2['c4'] = 200\n",
    "df2.head()"
   ]
  },
  {
   "cell_type": "code",
   "execution_count": 73,
   "id": "1a249af4",
   "metadata": {},
   "outputs": [
    {
     "data": {
      "text/html": [
       "<div><strong>Dask DataFrame Structure:</strong></div>\n",
       "<div>\n",
       "<style scoped>\n",
       "    .dataframe tbody tr th:only-of-type {\n",
       "        vertical-align: middle;\n",
       "    }\n",
       "\n",
       "    .dataframe tbody tr th {\n",
       "        vertical-align: top;\n",
       "    }\n",
       "\n",
       "    .dataframe thead th {\n",
       "        text-align: right;\n",
       "    }\n",
       "</style>\n",
       "<table border=\"1\" class=\"dataframe\">\n",
       "  <thead>\n",
       "    <tr style=\"text-align: right;\">\n",
       "      <th></th>\n",
       "      <th>ID</th>\n",
       "      <th>Case Number</th>\n",
       "      <th>Date</th>\n",
       "      <th>Block</th>\n",
       "      <th>IUCR</th>\n",
       "      <th>Primary Type</th>\n",
       "      <th>Description</th>\n",
       "      <th>Location Description</th>\n",
       "      <th>Arrest</th>\n",
       "      <th>Domestic</th>\n",
       "      <th>Beat</th>\n",
       "      <th>District</th>\n",
       "      <th>Ward</th>\n",
       "      <th>Community Area</th>\n",
       "      <th>FBI Code</th>\n",
       "      <th>X Coordinate</th>\n",
       "      <th>Y Coordinate</th>\n",
       "      <th>Year</th>\n",
       "      <th>Updated On</th>\n",
       "      <th>Latitude</th>\n",
       "      <th>Longitude</th>\n",
       "      <th>Location</th>\n",
       "      <th>Historical Wards 2003-2015</th>\n",
       "      <th>Zip Codes</th>\n",
       "      <th>Community Areas</th>\n",
       "      <th>Census Tracts</th>\n",
       "      <th>Wards</th>\n",
       "      <th>Boundaries - ZIP Codes</th>\n",
       "      <th>Police Districts</th>\n",
       "      <th>Police Beats</th>\n",
       "    </tr>\n",
       "    <tr>\n",
       "      <th>npartitions=29</th>\n",
       "      <th></th>\n",
       "      <th></th>\n",
       "      <th></th>\n",
       "      <th></th>\n",
       "      <th></th>\n",
       "      <th></th>\n",
       "      <th></th>\n",
       "      <th></th>\n",
       "      <th></th>\n",
       "      <th></th>\n",
       "      <th></th>\n",
       "      <th></th>\n",
       "      <th></th>\n",
       "      <th></th>\n",
       "      <th></th>\n",
       "      <th></th>\n",
       "      <th></th>\n",
       "      <th></th>\n",
       "      <th></th>\n",
       "      <th></th>\n",
       "      <th></th>\n",
       "      <th></th>\n",
       "      <th></th>\n",
       "      <th></th>\n",
       "      <th></th>\n",
       "      <th></th>\n",
       "      <th></th>\n",
       "      <th></th>\n",
       "      <th></th>\n",
       "      <th></th>\n",
       "    </tr>\n",
       "  </thead>\n",
       "  <tbody>\n",
       "    <tr>\n",
       "      <th></th>\n",
       "      <td>object</td>\n",
       "      <td>object</td>\n",
       "      <td>object</td>\n",
       "      <td>object</td>\n",
       "      <td>object</td>\n",
       "      <td>object</td>\n",
       "      <td>object</td>\n",
       "      <td>object</td>\n",
       "      <td>object</td>\n",
       "      <td>object</td>\n",
       "      <td>object</td>\n",
       "      <td>object</td>\n",
       "      <td>object</td>\n",
       "      <td>object</td>\n",
       "      <td>object</td>\n",
       "      <td>object</td>\n",
       "      <td>object</td>\n",
       "      <td>object</td>\n",
       "      <td>object</td>\n",
       "      <td>object</td>\n",
       "      <td>object</td>\n",
       "      <td>object</td>\n",
       "      <td>object</td>\n",
       "      <td>object</td>\n",
       "      <td>object</td>\n",
       "      <td>object</td>\n",
       "      <td>object</td>\n",
       "      <td>object</td>\n",
       "      <td>object</td>\n",
       "      <td>object</td>\n",
       "    </tr>\n",
       "    <tr>\n",
       "      <th></th>\n",
       "      <td>...</td>\n",
       "      <td>...</td>\n",
       "      <td>...</td>\n",
       "      <td>...</td>\n",
       "      <td>...</td>\n",
       "      <td>...</td>\n",
       "      <td>...</td>\n",
       "      <td>...</td>\n",
       "      <td>...</td>\n",
       "      <td>...</td>\n",
       "      <td>...</td>\n",
       "      <td>...</td>\n",
       "      <td>...</td>\n",
       "      <td>...</td>\n",
       "      <td>...</td>\n",
       "      <td>...</td>\n",
       "      <td>...</td>\n",
       "      <td>...</td>\n",
       "      <td>...</td>\n",
       "      <td>...</td>\n",
       "      <td>...</td>\n",
       "      <td>...</td>\n",
       "      <td>...</td>\n",
       "      <td>...</td>\n",
       "      <td>...</td>\n",
       "      <td>...</td>\n",
       "      <td>...</td>\n",
       "      <td>...</td>\n",
       "      <td>...</td>\n",
       "      <td>...</td>\n",
       "    </tr>\n",
       "    <tr>\n",
       "      <th>...</th>\n",
       "      <td>...</td>\n",
       "      <td>...</td>\n",
       "      <td>...</td>\n",
       "      <td>...</td>\n",
       "      <td>...</td>\n",
       "      <td>...</td>\n",
       "      <td>...</td>\n",
       "      <td>...</td>\n",
       "      <td>...</td>\n",
       "      <td>...</td>\n",
       "      <td>...</td>\n",
       "      <td>...</td>\n",
       "      <td>...</td>\n",
       "      <td>...</td>\n",
       "      <td>...</td>\n",
       "      <td>...</td>\n",
       "      <td>...</td>\n",
       "      <td>...</td>\n",
       "      <td>...</td>\n",
       "      <td>...</td>\n",
       "      <td>...</td>\n",
       "      <td>...</td>\n",
       "      <td>...</td>\n",
       "      <td>...</td>\n",
       "      <td>...</td>\n",
       "      <td>...</td>\n",
       "      <td>...</td>\n",
       "      <td>...</td>\n",
       "      <td>...</td>\n",
       "      <td>...</td>\n",
       "    </tr>\n",
       "    <tr>\n",
       "      <th></th>\n",
       "      <td>...</td>\n",
       "      <td>...</td>\n",
       "      <td>...</td>\n",
       "      <td>...</td>\n",
       "      <td>...</td>\n",
       "      <td>...</td>\n",
       "      <td>...</td>\n",
       "      <td>...</td>\n",
       "      <td>...</td>\n",
       "      <td>...</td>\n",
       "      <td>...</td>\n",
       "      <td>...</td>\n",
       "      <td>...</td>\n",
       "      <td>...</td>\n",
       "      <td>...</td>\n",
       "      <td>...</td>\n",
       "      <td>...</td>\n",
       "      <td>...</td>\n",
       "      <td>...</td>\n",
       "      <td>...</td>\n",
       "      <td>...</td>\n",
       "      <td>...</td>\n",
       "      <td>...</td>\n",
       "      <td>...</td>\n",
       "      <td>...</td>\n",
       "      <td>...</td>\n",
       "      <td>...</td>\n",
       "      <td>...</td>\n",
       "      <td>...</td>\n",
       "      <td>...</td>\n",
       "    </tr>\n",
       "    <tr>\n",
       "      <th></th>\n",
       "      <td>...</td>\n",
       "      <td>...</td>\n",
       "      <td>...</td>\n",
       "      <td>...</td>\n",
       "      <td>...</td>\n",
       "      <td>...</td>\n",
       "      <td>...</td>\n",
       "      <td>...</td>\n",
       "      <td>...</td>\n",
       "      <td>...</td>\n",
       "      <td>...</td>\n",
       "      <td>...</td>\n",
       "      <td>...</td>\n",
       "      <td>...</td>\n",
       "      <td>...</td>\n",
       "      <td>...</td>\n",
       "      <td>...</td>\n",
       "      <td>...</td>\n",
       "      <td>...</td>\n",
       "      <td>...</td>\n",
       "      <td>...</td>\n",
       "      <td>...</td>\n",
       "      <td>...</td>\n",
       "      <td>...</td>\n",
       "      <td>...</td>\n",
       "      <td>...</td>\n",
       "      <td>...</td>\n",
       "      <td>...</td>\n",
       "      <td>...</td>\n",
       "      <td>...</td>\n",
       "    </tr>\n",
       "  </tbody>\n",
       "</table>\n",
       "</div>\n",
       "<div>Dask Name: read-csv, 29 tasks</div>"
      ],
      "text/plain": [
       "Dask DataFrame Structure:\n",
       "                    ID Case Number    Date   Block    IUCR Primary Type Description Location Description  Arrest Domestic    Beat District    Ward Community Area FBI Code X Coordinate Y Coordinate    Year Updated On Latitude Longitude Location Historical Wards 2003-2015 Zip Codes Community Areas Census Tracts   Wards Boundaries - ZIP Codes Police Districts Police Beats\n",
       "npartitions=29                                                                                                                                                                                                                                                                                                                                                                     \n",
       "                object      object  object  object  object       object      object               object  object   object  object   object  object         object   object       object       object  object     object   object    object   object                     object    object          object        object  object                 object           object       object\n",
       "                   ...         ...     ...     ...     ...          ...         ...                  ...     ...      ...     ...      ...     ...            ...      ...          ...          ...     ...        ...      ...       ...      ...                        ...       ...             ...           ...     ...                    ...              ...          ...\n",
       "...                ...         ...     ...     ...     ...          ...         ...                  ...     ...      ...     ...      ...     ...            ...      ...          ...          ...     ...        ...      ...       ...      ...                        ...       ...             ...           ...     ...                    ...              ...          ...\n",
       "                   ...         ...     ...     ...     ...          ...         ...                  ...     ...      ...     ...      ...     ...            ...      ...          ...          ...     ...        ...      ...       ...      ...                        ...       ...             ...           ...     ...                    ...              ...          ...\n",
       "                   ...         ...     ...     ...     ...          ...         ...                  ...     ...      ...     ...      ...     ...            ...      ...          ...          ...     ...        ...      ...       ...      ...                        ...       ...             ...           ...     ...                    ...              ...          ...\n",
       "Dask Name: read-csv, 29 tasks"
      ]
     },
     "execution_count": 73,
     "metadata": {},
     "output_type": "execute_result"
    }
   ],
   "source": [
    "df3 = dd.read_csv('data/crime.csv',dtype=str, error_bad_lines=False, warn_bad_lines=False)\n",
    "df3"
   ]
  },
  {
   "cell_type": "code",
   "execution_count": 74,
   "id": "91710acb",
   "metadata": {},
   "outputs": [
    {
     "data": {
      "text/plain": [
       "ID                            6954279\n",
       "Case Number                   6954275\n",
       "Date                          6954279\n",
       "Block                         6954279\n",
       "IUCR                          6954279\n",
       "Primary Type                  6954279\n",
       "Description                   6954279\n",
       "Location Description          6948835\n",
       "Arrest                        6954279\n",
       "Domestic                      6954279\n",
       "Beat                          6954279\n",
       "District                      6954232\n",
       "Ward                          6339453\n",
       "Community Area                6340784\n",
       "FBI Code                      6954279\n",
       "X Coordinate                  6888372\n",
       "Y Coordinate                  6888372\n",
       "Year                          6954279\n",
       "Updated On                    6954279\n",
       "Latitude                      6888372\n",
       "Longitude                     6888372\n",
       "Location                      6888372\n",
       "Historical Wards 2003-2015    6868367\n",
       "Zip Codes                     6888372\n",
       "Community Areas               6871115\n",
       "Census Tracts                 6873256\n",
       "Wards                         6871227\n",
       "Boundaries - ZIP Codes        6871162\n",
       "Police Districts              6872194\n",
       "Police Beats                  6872217\n",
       "dtype: int64"
      ]
     },
     "execution_count": 74,
     "metadata": {},
     "output_type": "execute_result"
    }
   ],
   "source": [
    "df3.head()\n",
    "df3.tail()\n",
    "df3.count().compute()"
   ]
  },
  {
   "cell_type": "code",
   "execution_count": 75,
   "id": "8a5e21fd",
   "metadata": {},
   "outputs": [],
   "source": [
    "from dask.diagnostics import ProgressBar\n",
    "pbar = ProgressBar()\n",
    "pbar.register()"
   ]
  },
  {
   "cell_type": "code",
   "execution_count": 77,
   "id": "3a8ba28c",
   "metadata": {},
   "outputs": [
    {
     "name": "stdout",
     "output_type": "stream",
     "text": [
      "[########################################] | 100% Completed | 40.4s\n",
      "Wall time: 40.7 s\n"
     ]
    },
    {
     "data": {
      "text/plain": [
       "ID                            6954279\n",
       "Case Number                   6954275\n",
       "Date                          6954279\n",
       "Block                         6954279\n",
       "IUCR                          6954279\n",
       "Primary Type                  6954279\n",
       "Description                   6954279\n",
       "Location Description          6948835\n",
       "Arrest                        6954279\n",
       "Domestic                      6954279\n",
       "Beat                          6954279\n",
       "District                      6954232\n",
       "Ward                          6339453\n",
       "Community Area                6340784\n",
       "FBI Code                      6954279\n",
       "X Coordinate                  6888372\n",
       "Y Coordinate                  6888372\n",
       "Year                          6954279\n",
       "Updated On                    6954279\n",
       "Latitude                      6888372\n",
       "Longitude                     6888372\n",
       "Location                      6888372\n",
       "Historical Wards 2003-2015    6868367\n",
       "Zip Codes                     6888372\n",
       "Community Areas               6871115\n",
       "Census Tracts                 6873256\n",
       "Wards                         6871227\n",
       "Boundaries - ZIP Codes        6871162\n",
       "Police Districts              6872194\n",
       "Police Beats                  6872217\n",
       "dtype: int64"
      ]
     },
     "execution_count": 77,
     "metadata": {},
     "output_type": "execute_result"
    }
   ],
   "source": [
    "%%time\n",
    "df3.count().compute(scheduler=\"processes\", num_workers=4)"
   ]
  },
  {
   "cell_type": "code",
   "execution_count": 78,
   "id": "b9f5130f",
   "metadata": {},
   "outputs": [
    {
     "name": "stdout",
     "output_type": "stream",
     "text": [
      "Overwriting data/sample2.csv\n"
     ]
    }
   ],
   "source": [
    "%%writefile 'data/sample2.csv'\n",
    "c1,c2,c3\n",
    "7, 7.7, seven\n",
    "8, 8.7, eight\n",
    "9, 9.7, nine"
   ]
  },
  {
   "cell_type": "code",
   "execution_count": 79,
   "id": "7f41c1b4",
   "metadata": {},
   "outputs": [],
   "source": [
    "df4 = dd.read_csv('data/sample*.csv')"
   ]
  },
  {
   "cell_type": "code",
   "execution_count": 80,
   "id": "ace2a593",
   "metadata": {},
   "outputs": [
    {
     "name": "stdout",
     "output_type": "stream",
     "text": [
      "[########################################] | 100% Completed |  0.2s\n"
     ]
    },
    {
     "data": {
      "text/plain": [
       "c1    9\n",
       "c2    9\n",
       "c3    9\n",
       "dtype: int64"
      ]
     },
     "execution_count": 80,
     "metadata": {},
     "output_type": "execute_result"
    }
   ],
   "source": [
    "df4.count().compute()"
   ]
  },
  {
   "cell_type": "markdown",
   "id": "5e18c557",
   "metadata": {},
   "source": [
    "## (2) Queue Runners"
   ]
  },
  {
   "cell_type": "markdown",
   "id": "53d3760d",
   "metadata": {},
   "source": [
    "### (1) enqueue_many와 dequeue"
   ]
  },
  {
   "cell_type": "code",
   "execution_count": 4,
   "id": "fba62c5c",
   "metadata": {},
   "outputs": [
    {
     "name": "stdout",
     "output_type": "stream",
     "text": [
      "WARNING:tensorflow:From C:\\Users\\acorn\\AppData\\Local\\Temp/ipykernel_9840/2388700463.py:2: The name tf.FIFOQueue is deprecated. Please use tf.queue.FIFOQueue instead.\n",
      "\n",
      "WARNING:tensorflow:From C:\\Users\\acorn\\AppData\\Local\\Temp/ipykernel_9840/2388700463.py:10: QueueRunner.__init__ (from tensorflow.python.training.queue_runner_impl) is deprecated and will be removed in a future version.\n",
      "Instructions for updating:\n",
      "To construct input pipelines, use the `tf.data` module.\n",
      "WARNING:tensorflow:From C:\\Users\\acorn\\AppData\\Local\\Temp/ipykernel_9840/2388700463.py:12: The name tf.Session is deprecated. Please use tf.compat.v1.Session instead.\n",
      "\n",
      "1.0\n",
      "2.0\n",
      "3.0\n",
      "4.0\n",
      "5.0\n",
      "6.0\n",
      "1.0\n",
      "2.0\n",
      "3.0\n",
      "4.0\n",
      "5.0\n",
      "6.0\n",
      "7.0\n",
      "8.0\n",
      "9.0\n",
      "4.0\n",
      "5.0\n",
      "6.0\n",
      "1.0\n",
      "2.0\n"
     ]
    }
   ],
   "source": [
    "# queue의 길이와 저장될 데이터 형식\n",
    "q = tf.FIFOQueue(20, \"float\")\n",
    "\n",
    "#enc_ops = q.enqueue_many(([1.0, 2.0, 3.0, 4.0],))\n",
    "#qr = tf.train.QueueRunner(q, [enc_ops]*3)\n",
    "\n",
    "enc_ops1 = q.enqueue_many(([1.0, 2.0, 3.0],))\n",
    "enc_ops2 = q.enqueue_many(([4.0, 5.0, 6.0],))\n",
    "enc_ops3 = q.enqueue_many(([7.0, 8.0, 9.0],))\n",
    "qr = tf.train.QueueRunner(q, [enc_ops1, enc_ops2, enc_ops3])\n",
    "\n",
    "sess = tf.Session()\n",
    "coordi = tf.train.Coordinator()\n",
    "threads = qr.create_threads(sess, coord=coordi, start=True)\n",
    "\n",
    "for step in range(20):\n",
    "    print(sess.run(q.dequeue())) # 동시에 여러개 꺼내기 (병렬작업)\n",
    "    \n",
    "coordi.request_stop() # 중지시키기\n",
    "coordi.join(threads)\n",
    "sess.close()"
   ]
  },
  {
   "cell_type": "markdown",
   "id": "9e586c41",
   "metadata": {},
   "source": [
    "### (2) Decoding"
   ]
  },
  {
   "cell_type": "code",
   "execution_count": 5,
   "id": "3bd63760",
   "metadata": {},
   "outputs": [
    {
     "name": "stdout",
     "output_type": "stream",
     "text": [
      "WARNING:tensorflow:From C:\\Users\\acorn\\AppData\\Local\\Temp/ipykernel_9840/1243950110.py:2: string_input_producer (from tensorflow.python.training.input) is deprecated and will be removed in a future version.\n",
      "Instructions for updating:\n",
      "Queue-based input pipelines have been replaced by `tf.data`. Use `tf.data.Dataset.from_tensor_slices(string_tensor).shuffle(tf.shape(input_tensor, out_type=tf.int64)[0]).repeat(num_epochs)`. If `shuffle=False`, omit the `.shuffle(...)`.\n",
      "WARNING:tensorflow:From C:\\Users\\acorn\\Anaconda3\\envs\\tf1\\lib\\site-packages\\tensorflow_core\\python\\training\\input.py:277: input_producer (from tensorflow.python.training.input) is deprecated and will be removed in a future version.\n",
      "Instructions for updating:\n",
      "Queue-based input pipelines have been replaced by `tf.data`. Use `tf.data.Dataset.from_tensor_slices(input_tensor).shuffle(tf.shape(input_tensor, out_type=tf.int64)[0]).repeat(num_epochs)`. If `shuffle=False`, omit the `.shuffle(...)`.\n",
      "WARNING:tensorflow:From C:\\Users\\acorn\\Anaconda3\\envs\\tf1\\lib\\site-packages\\tensorflow_core\\python\\training\\input.py:189: limit_epochs (from tensorflow.python.training.input) is deprecated and will be removed in a future version.\n",
      "Instructions for updating:\n",
      "Queue-based input pipelines have been replaced by `tf.data`. Use `tf.data.Dataset.from_tensors(tensor).repeat(num_epochs)`.\n",
      "WARNING:tensorflow:From C:\\Users\\acorn\\Anaconda3\\envs\\tf1\\lib\\site-packages\\tensorflow_core\\python\\training\\input.py:198: add_queue_runner (from tensorflow.python.training.queue_runner_impl) is deprecated and will be removed in a future version.\n",
      "Instructions for updating:\n",
      "To construct input pipelines, use the `tf.data` module.\n",
      "WARNING:tensorflow:From C:\\Users\\acorn\\AppData\\Local\\Temp/ipykernel_9840/1243950110.py:4: TextLineReader.__init__ (from tensorflow.python.ops.io_ops) is deprecated and will be removed in a future version.\n",
      "Instructions for updating:\n",
      "Queue-based input pipelines have been replaced by `tf.data`. Use `tf.data.TextLineDataset`.\n",
      "WARNING:tensorflow:From C:\\Users\\acorn\\AppData\\Local\\Temp/ipykernel_9840/1243950110.py:7: The name tf.decode_csv is deprecated. Please use tf.io.decode_csv instead.\n",
      "\n"
     ]
    }
   ],
   "source": [
    "filename_queue = tf.train.string_input_producer(['data/sample1.csv, data/sample2.csv'],\n",
    "                                               shuffle=False, name=\"filename_queue\")\n",
    "\n",
    "reader = tf.TextLineReader()\n",
    "key, value = reader.read(filename_queue)\n",
    "\n",
    "a1, a2, a3 = tf.decode_csv(value, record_defaults=[[0], [0.0], [\"null\"]], field_delim=\",\")"
   ]
  },
  {
   "cell_type": "code",
   "execution_count": null,
   "id": "b6a6c22e",
   "metadata": {},
   "outputs": [
    {
     "name": "stdout",
     "output_type": "stream",
     "text": [
      "WARNING:tensorflow:From C:\\Users\\acorn\\AppData\\Local\\Temp/ipykernel_9840/522248430.py:3: start_queue_runners (from tensorflow.python.training.queue_runner_impl) is deprecated and will be removed in a future version.\n",
      "Instructions for updating:\n",
      "To construct input pipelines, use the `tf.data` module.\n"
     ]
    }
   ],
   "source": [
    "sess = tf.Session()\n",
    "coordi = tf.train.Coordinator()\n",
    "threads = tf.train.start_queue_runners(sess=sess, coord=coordi)\n",
    "\n",
    "for step in range(30):\n",
    "    print(sess.run([a1, a2, a3]))\n",
    "    \n",
    "coordi.request_stop()\n",
    "coordi.join(threads)\n",
    "sess.close()"
   ]
  },
  {
   "cell_type": "markdown",
   "id": "4ba908a7",
   "metadata": {},
   "source": [
    "# 4. Batch"
   ]
  },
  {
   "cell_type": "code",
   "execution_count": 1,
   "id": "7d7ecb0d",
   "metadata": {},
   "outputs": [
    {
     "data": {
      "text/plain": [
       "'\\n1. Full Batch or Batch : 전체 데이터\\n    - 샘플 전체를 계산하므로 시간이 많이 걸린다.\\n    - 데이터가 많을 경우(한번에 데이터를 메모리에 로드하지 못할 경우)사용이 불가\\n    - 오차율이 적다\\n    \\n2. Stochastic Gradient Descent : 한 개의 데이터\\n    - 데이터를 한개씩 추출해서 처리해보고 이를 모든 데이터에 반복\\n    - 오차율이 클 수 있다.\\n    - 하드웨어 성능을 제대로 발휘할 수 없다. (특히 GPU)\\n    \\n3. Mini Batch\\n    - 전체 훈련 데이터를 배치 사이즈로 등분하여 각 배치셋을 순차적으로 진행\\n    - Full Batch보다 빠르고 SGD보다 오차율도 낮다.\\n    \\n4. Epoch(또는 Iteration) : 배치의 수행횟수\\n'"
      ]
     },
     "execution_count": 1,
     "metadata": {},
     "output_type": "execute_result"
    }
   ],
   "source": [
    "\"\"\"\n",
    "1. Full Batch or Batch : 전체 데이터\n",
    "    - 샘플 전체를 계산하므로 시간이 많이 걸린다.\n",
    "    - 데이터가 많을 경우(한번에 데이터를 메모리에 로드하지 못할 경우)사용이 불가\n",
    "    - 오차율이 적다\n",
    "    \n",
    "2. Stochastic Gradient Descent : 한 개의 데이터\n",
    "    - 데이터를 한개씩 추출해서 처리해보고 이를 모든 데이터에 반복\n",
    "    - 오차율이 클 수 있다.\n",
    "    - 하드웨어 성능을 제대로 발휘할 수 없다. (특히 GPU)\n",
    "    \n",
    "3. Mini Batch\n",
    "    - 전체 훈련 데이터를 배치 사이즈로 등분하여 각 배치셋을 순차적으로 진행\n",
    "    - Full Batch보다 빠르고 SGD보다 오차율도 낮다.\n",
    "    \n",
    "4. Epoch(또는 Iteration) : 배치의 수행횟수\n",
    "\"\"\""
   ]
  },
  {
   "cell_type": "code",
   "execution_count": null,
   "id": "df771ceb",
   "metadata": {},
   "outputs": [],
   "source": []
  },
  {
   "cell_type": "code",
   "execution_count": null,
   "id": "6ba5139a",
   "metadata": {},
   "outputs": [],
   "source": []
  },
  {
   "cell_type": "code",
   "execution_count": null,
   "id": "e340dbcc",
   "metadata": {},
   "outputs": [],
   "source": []
  },
  {
   "cell_type": "code",
   "execution_count": null,
   "id": "611a2b41",
   "metadata": {},
   "outputs": [],
   "source": []
  },
  {
   "cell_type": "code",
   "execution_count": null,
   "id": "41e7b9f8",
   "metadata": {},
   "outputs": [],
   "source": []
  },
  {
   "cell_type": "code",
   "execution_count": null,
   "id": "aea8de81",
   "metadata": {},
   "outputs": [],
   "source": []
  },
  {
   "cell_type": "code",
   "execution_count": null,
   "id": "3a86102f",
   "metadata": {},
   "outputs": [],
   "source": []
  },
  {
   "cell_type": "code",
   "execution_count": null,
   "id": "1414fa99",
   "metadata": {},
   "outputs": [],
   "source": []
  },
  {
   "cell_type": "markdown",
   "id": "52c6e1a4",
   "metadata": {},
   "source": [
    "# 5. 로지스틱 회귀"
   ]
  },
  {
   "cell_type": "code",
   "execution_count": 16,
   "id": "d9300d6a",
   "metadata": {},
   "outputs": [],
   "source": [
    "x_data = [[1, 2], [2, 3], [3, 1], [4, 3], [5, 3], [6, 2]]\n",
    "y_data = [[0], [0], [0], [1], [1], [1]]"
   ]
  },
  {
   "cell_type": "code",
   "execution_count": 17,
   "id": "6a35685c",
   "metadata": {},
   "outputs": [],
   "source": [
    "X = tf.placeholder(tf.float32, shape=[None, 2])\n",
    "y = tf.placeholder(tf.float32, shape=[None, 1])\n",
    "\n",
    "W = tf.Variable(tf.random.normal([2, 1]))\n",
    "b = tf.Variable(tf.random_normal([1]))\n",
    "\n",
    "# 가설 \n",
    "hypot = tf.sigmoid(tf.matmul(X, W) + b)\n",
    "\n",
    "# 비용\n",
    "cost = -tf.reduce_mean(y * tf.log(hypot) + (1 - y) * tf.log(1 - hypot))\n",
    "\n",
    "# 최소비용\n",
    "train = tf.train.GradientDescentOptimizer(learning_rate=0.01).minimize(cost)"
   ]
  },
  {
   "cell_type": "code",
   "execution_count": 18,
   "id": "dc2e29af",
   "metadata": {},
   "outputs": [
    {
     "name": "stdout",
     "output_type": "stream",
     "text": [
      "0 [[0.29647762]\n",
      " [0.2565037 ]\n",
      " [0.8415766 ]\n",
      " [0.6205319 ]\n",
      " [0.78071195]\n",
      " [0.9537323 ]]\n",
      "200 [[0.25978306]\n",
      " [0.22530611]\n",
      " [0.81522626]\n",
      " [0.5811114 ]\n",
      " [0.75185126]\n",
      " [0.9457701 ]]\n",
      "400 [[0.24244902]\n",
      " [0.2200633 ]\n",
      " [0.80353636]\n",
      " [0.5864397 ]\n",
      " [0.76070505]\n",
      " [0.9477034 ]]\n",
      "600 [[0.2276046 ]\n",
      " [0.21651414]\n",
      " [0.7908256 ]\n",
      " [0.5920129 ]\n",
      " [0.7687893 ]\n",
      " [0.9490244 ]]\n",
      "800 [[0.21460037]\n",
      " [0.21410398]\n",
      " [0.7772967 ]\n",
      " [0.5977112 ]\n",
      " [0.7762747 ]\n",
      " [0.9499475 ]]\n",
      "1000 [[0.2030002 ]\n",
      " [0.2124707 ]\n",
      " [0.763142  ]\n",
      " [0.60348904]\n",
      " [0.78331405]\n",
      " [0.95062405]]\n",
      "1200 [[0.1924974 ]\n",
      " [0.21135859]\n",
      " [0.7485272 ]\n",
      " [0.60930884]\n",
      " [0.79001063]\n",
      " [0.9511559 ]]\n",
      "1400 [[0.18287313]\n",
      " [0.21058445]\n",
      " [0.7335972 ]\n",
      " [0.6151375 ]\n",
      " [0.79643214]\n",
      " [0.9516123 ]]\n",
      "1600 [[0.17397009]\n",
      " [0.21001662]\n",
      " [0.7184779 ]\n",
      " [0.6209472 ]\n",
      " [0.80262285]\n",
      " [0.9520401 ]]\n",
      "1800 [[0.16567397]\n",
      " [0.20956038]\n",
      " [0.7032782 ]\n",
      " [0.62671405]\n",
      " [0.8086106 ]\n",
      " [0.9524703 ]]\n",
      "2000 [[0.1579007 ]\n",
      " [0.20914821]\n",
      " [0.68809134]\n",
      " [0.632418  ]\n",
      " [0.81441236]\n",
      " [0.9529229 ]]\n",
      "2200 [[0.15058728]\n",
      " [0.20873216]\n",
      " [0.67299664]\n",
      " [0.6380419 ]\n",
      " [0.8200381 ]\n",
      " [0.9534095 ]]\n",
      "2400 [[0.14368641]\n",
      " [0.20828024]\n",
      " [0.65806085]\n",
      " [0.64357364]\n",
      " [0.8254943 ]\n",
      " [0.9539366 ]]\n",
      "2600 [[0.13716118]\n",
      " [0.20777068]\n",
      " [0.6433371 ]\n",
      " [0.6490016 ]\n",
      " [0.83078325]\n",
      " [0.95450556]]\n",
      "2800 [[0.13098246]\n",
      " [0.20719075]\n",
      " [0.6288701 ]\n",
      " [0.65431863]\n",
      " [0.8359074 ]\n",
      " [0.95511585]]\n",
      "3000 [[0.12512617]\n",
      " [0.20653318]\n",
      " [0.6146944 ]\n",
      " [0.65951884]\n",
      " [0.8408681 ]\n",
      " [0.955765  ]]\n",
      "3200 [[0.11957212]\n",
      " [0.20579545]\n",
      " [0.6008371 ]\n",
      " [0.66459894]\n",
      " [0.8456671 ]\n",
      " [0.95644915]]\n",
      "3400 [[0.11430275]\n",
      " [0.20497775]\n",
      " [0.58731717]\n",
      " [0.66955554]\n",
      " [0.8503052 ]\n",
      " [0.9571635 ]]\n",
      "3600 [[0.10930269]\n",
      " [0.20408347]\n",
      " [0.5741495 ]\n",
      " [0.674389  ]\n",
      " [0.85478544]\n",
      " [0.9579037 ]]\n",
      "3800 [[0.10455725]\n",
      " [0.20311575]\n",
      " [0.56134206]\n",
      " [0.67909795]\n",
      " [0.85910916]\n",
      " [0.95866466]]\n",
      "4000 [[0.10005369]\n",
      " [0.20208058]\n",
      " [0.54889953]\n",
      " [0.68368363]\n",
      " [0.86327946]\n",
      " [0.9594415 ]]\n",
      "4200 [[0.09577917]\n",
      " [0.20098266]\n",
      " [0.5368246 ]\n",
      " [0.688148  ]\n",
      " [0.8673001 ]\n",
      " [0.96023035]]\n",
      "4400 [[0.09172246]\n",
      " [0.19982892]\n",
      " [0.52511346]\n",
      " [0.6924922 ]\n",
      " [0.87117374]\n",
      " [0.9610264 ]]\n",
      "4600 [[0.0878721 ]\n",
      " [0.19862516]\n",
      " [0.51376677]\n",
      " [0.69672173]\n",
      " [0.8749068 ]\n",
      " [0.96182734]]\n",
      "4800 [[0.08421703]\n",
      " [0.19737574]\n",
      " [0.502776  ]\n",
      " [0.7008363 ]\n",
      " [0.87850124]\n",
      " [0.9626289 ]]\n"
     ]
    }
   ],
   "source": [
    "sess = tf.Session()\n",
    "sess.run(tf.global_variables_initializer())\n",
    "\n",
    "for step in range(5000):\n",
    "    _, h = sess.run([train, hypot], feed_dict={X:x_data, y:y_data})\n",
    "    \n",
    "    if step%200 == 0:\n",
    "        print(step, h)"
   ]
  },
  {
   "cell_type": "code",
   "execution_count": 19,
   "id": "31dd5ca1",
   "metadata": {},
   "outputs": [],
   "source": [
    "# 0.5 이상이면 true\n",
    "preds = tf.cast(hypot>0.5, dtype=tf.float32)\n",
    "sess.run(preds, feed_dict={X:x_data, y:y_data})\n",
    "accuracy = tf.reduce_mean(tf.cast(tf.equal(preds, y), dtype=tf.float32))"
   ]
  },
  {
   "cell_type": "code",
   "execution_count": 20,
   "id": "b43c3d2c",
   "metadata": {},
   "outputs": [
    {
     "name": "stdout",
     "output_type": "stream",
     "text": [
      "[[0.08074736]\n",
      " [0.19608718]\n",
      " [0.4921359 ]\n",
      " [0.70484054]\n",
      " [0.8819628 ]\n",
      " [0.9634287 ]]\n",
      "[[0.]\n",
      " [0.]\n",
      " [0.]\n",
      " [1.]\n",
      " [1.]\n",
      " [1.]]\n",
      "1.0\n"
     ]
    }
   ],
   "source": [
    "h, p, a = sess.run([hypot, preds, accuracy], feed_dict={X:x_data, y:y_data})\n",
    "print(h)\n",
    "print(p)\n",
    "print(a)"
   ]
  },
  {
   "cell_type": "code",
   "execution_count": 21,
   "id": "c2c0fcfe",
   "metadata": {},
   "outputs": [],
   "source": [
    "sess.close()"
   ]
  },
  {
   "cell_type": "markdown",
   "id": "81e8690d",
   "metadata": {},
   "source": [
    "## (1) Softmax"
   ]
  },
  {
   "cell_type": "code",
   "execution_count": 22,
   "id": "3b64df5a",
   "metadata": {},
   "outputs": [],
   "source": [
    "x_data = [[1, 2, 1, 1], [2, 1, 3, 2], [3, 1, 3, 4], [4, 1, 5, 5], [1, 7, 5, 5], \n",
    "                                                        [1, 2, 5, 6], [1, 6, 6, 6], [1, 7, 7, 7]]\n",
    "y_data = [[0, 0, 1], [0, 0, 1], [0, 0, 1], [0, 1, 0], [0, 1, 0], [0, 1, 0], [1, 0, 0], [1, 0, 0]]"
   ]
  },
  {
   "cell_type": "code",
   "execution_count": 23,
   "id": "1c983213",
   "metadata": {},
   "outputs": [],
   "source": [
    "X = tf.placeholder(tf.float32, shape=[None, 4])\n",
    "y = tf.placeholder(tf.float32, shape=[None, 3])\n",
    "\n",
    "W = tf.Variable(tf.random.normal([4, 3]))\n",
    "b = tf.Variable(tf.random_normal([3]))\n",
    "\n",
    "# 가설 \n",
    "hypot = tf.nn.softmax(tf.matmul(X, W) + b)\n",
    "\n",
    "# 비용\n",
    "cost = tf.reduce_mean(-tf.reduce_sum(y * tf.log(hypot), axis=1))\n",
    "\n",
    "# 최소비용\n",
    "train = tf.train.GradientDescentOptimizer(learning_rate=0.01).minimize(cost)"
   ]
  },
  {
   "cell_type": "code",
   "execution_count": 25,
   "id": "23321625",
   "metadata": {},
   "outputs": [
    {
     "name": "stdout",
     "output_type": "stream",
     "text": [
      "0 [[1.35908416e-02 8.75224113e-01 1.11185014e-01]\n",
      " [3.71793777e-01 6.25156283e-01 3.04992823e-03]\n",
      " [5.97668052e-01 3.94909531e-01 7.42232846e-03]\n",
      " [8.87087107e-01 1.12842575e-01 7.02914331e-05]\n",
      " [6.60853766e-05 9.99749362e-01 1.84500343e-04]\n",
      " [7.07109451e-01 2.92680979e-01 2.09526974e-04]\n",
      " [1.51019404e-03 9.98439729e-01 5.01121831e-05]\n",
      " [6.36232668e-04 9.99353588e-01 1.01597079e-05]] 3.769826\n",
      "100 [[0.03839134 0.37026823 0.5913405 ]\n",
      " [0.256789   0.63691986 0.10629113]\n",
      " [0.11086664 0.33602485 0.5531085 ]\n",
      " [0.36263797 0.50469965 0.13266243]\n",
      " [0.10693436 0.5085761  0.38448948]\n",
      " [0.80425316 0.16014881 0.03559808]\n",
      " [0.42687166 0.46164238 0.11148597]\n",
      " [0.51941895 0.40721515 0.07336586]] 1.0071297\n",
      "200 [[0.04767411 0.30824733 0.64407855]\n",
      " [0.15595376 0.6654622  0.17858408]\n",
      " [0.02774981 0.2770061  0.6952441 ]\n",
      " [0.08086292 0.6204067  0.29873037]\n",
      " [0.31045604 0.45596844 0.23357563]\n",
      " [0.56153935 0.38377607 0.05468464]\n",
      " [0.5480178  0.39435536 0.05762681]\n",
      " [0.65672946 0.3140597  0.02921082]] 0.72105765\n",
      "300 [[0.04918345 0.26486906 0.6859475 ]\n",
      " [0.12043058 0.6455753  0.23399408]\n",
      " [0.01361707 0.24733034 0.73905265]\n",
      " [0.03416596 0.59337604 0.372458  ]\n",
      " [0.43130288 0.40810758 0.16058953]\n",
      " [0.40165907 0.54821587 0.05012511]\n",
      " [0.57581365 0.38613957 0.03804674]\n",
      " [0.6835614  0.29977748 0.01666117]] 0.63543093\n",
      "400 [[0.04688372 0.2326475  0.72046876]\n",
      " [0.10308507 0.61931324 0.2776017 ]\n",
      " [0.00903484 0.23669988 0.75426525]\n",
      " [0.02077408 0.57512945 0.4040965 ]\n",
      " [0.49339592 0.3802693  0.12633477]\n",
      " [0.31955776 0.6403769  0.04006531]\n",
      " [0.58632743 0.3852596  0.02841302]\n",
      " [0.69301224 0.2957516  0.01123622]] 0.5947188\n",
      "500 [[0.04308159 0.20762753 0.7492909 ]\n",
      " [0.09283108 0.5931223  0.31404662]\n",
      " [0.00693999 0.23430115 0.75875884]\n",
      " [0.01523675 0.56734055 0.41742268]\n",
      " [0.5253399  0.36673516 0.10792492]\n",
      " [0.2771521  0.6915169  0.03133098]\n",
      " [0.59175694 0.38557512 0.02266796]\n",
      " [0.69795805 0.29376864 0.00827332]] 0.56824344\n",
      "600 [[0.03890092 0.18744293 0.77365613]\n",
      " [0.08587955 0.568222   0.3458984 ]\n",
      " [0.00575822 0.235781   0.75846076]\n",
      " [0.01236654 0.5655975  0.42203596]\n",
      " [0.5416877  0.36157212 0.09674016]\n",
      " [0.2544035  0.7209047  0.02469176]\n",
      " [0.5953669  0.38582948 0.01880365]\n",
      " [0.7015329  0.2920539  0.00641322]] 0.54777277\n",
      "700 [[0.03484084 0.17068312 0.79447603]\n",
      " [0.08064094 0.544793   0.37456605]\n",
      " [0.00498724 0.23919131 0.7558214 ]\n",
      " [0.01062783 0.567139   0.4222332 ]\n",
      " [0.54951745 0.3612586  0.08922394]\n",
      " [0.24195682 0.7382953  0.01974791]\n",
      " [0.598211   0.38579515 0.01599384]\n",
      " [0.704651   0.29021084 0.00513816]] 0.5305747\n",
      "800 [[0.03110277 0.15646335 0.8124339 ]\n",
      " [0.07636046 0.52279276 0.40084678]\n",
      " [0.00442767 0.24356498 0.75200737]\n",
      " [0.00944275 0.57045126 0.42010602]\n",
      " [0.5524864  0.36377877 0.08373485]\n",
      " [0.23519994 0.74876183 0.01603818]\n",
      " [0.600675   0.38548416 0.0138409 ]\n",
      " [0.707602   0.28818637 0.00421153]] 0.51554394\n",
      "900 [[0.02774909 0.14419863 0.8280522 ]\n",
      " [0.0726528  0.50213665 0.42521057]\n",
      " [0.00398851 0.24838135 0.7476301 ]\n",
      " [0.00855716 0.57470334 0.41673955]\n",
      " [0.5526068  0.3679479  0.07944526]\n",
      " [0.23169215 0.7550955  0.01321233]\n",
      " [0.60291713 0.38495293 0.01212992]\n",
      " [0.71048075 0.286009   0.00351022]] 0.50213903\n",
      "1000 [[0.02477888 0.1334839  0.8417372 ]\n",
      " [0.06931309 0.48273656 0.44795033]\n",
      " [0.0036242  0.25334096 0.74303484]\n",
      " [0.00784725 0.5794248  0.41272798]\n",
      " [0.5510392  0.37305114 0.07590958]\n",
      " [0.23006578 0.7589092  0.01102488]\n",
      " [0.6050096  0.38425624 0.01073407]\n",
      " [0.71331596 0.2837203  0.00296368]] 0.49004334\n",
      "1100 [[0.0221643  0.12402794 0.85380775]\n",
      " [0.06623037 0.46451196 0.46925762]\n",
      " [0.00331035 0.25826427 0.7384254 ]\n",
      " [0.00724834 0.5843447  0.40840694]\n",
      " [0.54847485 0.37865126 0.07287385]\n",
      " [0.22952372 0.7611709  0.00930534]\n",
      " [0.6069896  0.38343775 0.00957265]\n",
      " [0.71611404 0.28135768 0.00252823]] 0.47904354\n",
      "1200 [[0.01986799 0.11561406 0.864518  ]\n",
      " [0.06334404 0.4473888  0.4892671 ]\n",
      " [0.00303323 0.26304042 0.73392636]\n",
      " [0.00672501 0.589303   0.403972  ]\n",
      " [0.54533297 0.38447884 0.07018825]\n",
      " [0.22959042 0.762475   0.00793457]\n",
      " [0.6088777  0.38253072 0.00859161]\n",
      " [0.7188748  0.27894983 0.0021753 ]] 0.46898115\n",
      "1300 [[0.01785136 0.10807642 0.8740722 ]\n",
      " [0.06062062 0.4312997  0.50807977]\n",
      " [0.00278469 0.26760137 0.72961396]\n",
      " [0.00625698 0.5942068  0.39953616]\n",
      " [0.54187155 0.39036784 0.06776066]\n",
      " [0.22997819 0.76319396 0.00682781]\n",
      " [0.61068815 0.38155898 0.00775289]\n",
      " [0.7215955  0.2765191  0.00188529]] 0.45973063\n",
      "1400 [[0.01607812 0.10128473 0.88263714]\n",
      " [0.05804113 0.41618112 0.5257778 ]\n",
      " [0.00255964 0.27190575 0.7255346 ]\n",
      " [0.00583221 0.5990014  0.3951664 ]\n",
      " [0.53824943 0.39621714 0.06553341]\n",
      " [0.23051284 0.76356316 0.00592398]\n",
      " [0.6124298  0.38054132 0.00702886]\n",
      " [0.72427434 0.27408135 0.00164429]] 0.45118922\n",
      "1500 [[0.01451579 0.09513476 0.89034945]\n",
      " [0.05559431 0.40197387 0.5424319 ]\n",
      " [0.00235468 0.27593023 0.7217151 ]\n",
      " [0.00544314 0.60365725 0.39089954]\n",
      " [0.5345647  0.40196717 0.06346817]\n",
      " [0.23108923 0.7637327  0.00517813]\n",
      " [0.6141103  0.37949103 0.00639873]\n",
      " [0.7269091  0.27164876 0.00144208]] 0.44327056\n",
      "1600 [[0.01313595 0.08954156 0.8973224 ]\n",
      " [0.05327258 0.38862166 0.5581057 ]\n",
      " [0.00216737 0.27966353 0.71816903]\n",
      " [0.00508479 0.60816    0.38675514]\n",
      " [0.53087735 0.40758315 0.06153955]\n",
      " [0.23164557 0.7637976  0.00455686]\n",
      " [0.61573476 0.3784187  0.00584656]\n",
      " [0.72949916 0.26922977 0.00127105]] 0.43590167\n",
      "1700 [[0.01191406 0.08443494 0.90365106]\n",
      " [0.05107023 0.37607184 0.572858  ]\n",
      " [0.00199585 0.28310332 0.71490085]\n",
      " [0.00475359 0.6125055  0.38274089]\n",
      " [0.5272236  0.4130466  0.05972978]\n",
      " [0.23214585 0.7638193  0.00403489]\n",
      " [0.6173087  0.37733147 0.00535983]\n",
      " [0.73204404 0.26683056 0.00112536]] 0.42901975\n",
      "1800 [[0.01082911 0.07975639 0.9094145 ]\n",
      " [0.04898216 0.3642728  0.5867451 ]\n",
      " [0.00183862 0.28625175 0.71190965]\n",
      " [0.00444685 0.61669344 0.37885976]\n",
      " [0.5236242  0.41835058 0.05802526]\n",
      " [0.23257169 0.7638354  0.0035929 ]\n",
      " [0.6188361  0.37623534 0.00492854]\n",
      " [0.734544   0.26445556 0.00100047]] 0.42257065\n",
      "1900 [[9.8631056e-03 7.5456426e-02 9.1468048e-01]\n",
      " [4.7003530e-02 3.5317653e-01 5.9981996e-01]\n",
      " [1.6943788e-03 2.8911644e-01 7.0918918e-01]\n",
      " [4.1623921e-03 6.2072957e-01 3.7510800e-01]\n",
      " [5.2009052e-01 4.2349344e-01 5.6416027e-02]\n",
      " [2.3291424e-01 7.6386988e-01 3.2159125e-03]\n",
      " [6.2032020e-01 3.7513521e-01 4.5445873e-03]\n",
      " [7.3699921e-01 2.6210803e-01 8.9280377e-04]] 0.41650772\n",
      "2000 [[9.0007186e-03 7.1492933e-02 9.1950637e-01]\n",
      " [4.5129467e-02 3.4273717e-01 6.1213332e-01]\n",
      " [1.5620119e-03 2.9170626e-01 7.0673174e-01]\n",
      " [3.8983561e-03 6.2462008e-01 3.7148148e-01]\n",
      " [5.1662844e-01 4.2847753e-01 5.4894097e-02]\n",
      " [2.3317063e-01 7.6393712e-01 2.8922181e-03]\n",
      " [6.2176472e-01 3.7403387e-01 4.2013787e-03]\n",
      " [7.3941082e-01 2.5978976e-01 7.9951121e-04]] 0.41079015\n",
      "2100 [[8.2288478e-03 6.7829870e-02 9.2394131e-01]\n",
      " [4.3355037e-02 3.3291119e-01 6.2373376e-01]\n",
      " [1.4405060e-03 2.9403293e-01 7.0452654e-01]\n",
      " [3.6531158e-03 6.2837297e-01 3.6797395e-01]\n",
      " [5.1324052e-01 4.3330678e-01 5.3452663e-02]\n",
      " [2.3334205e-01 7.6404536e-01 2.6125687e-03]\n",
      " [6.2317282e-01 3.7293372e-01 3.8934131e-03]\n",
      " [7.4178004e-01 2.5750166e-01 7.1829616e-04]] 0.40538254\n",
      "2200 [[7.5362604e-03 6.4436130e-02 9.2802763e-01]\n",
      " [4.1675258e-02 3.2365724e-01 6.3466752e-01]\n",
      " [1.3289463e-03 2.9610780e-01 7.0256323e-01]\n",
      " [3.4252200e-03 6.3199562e-01 3.6457914e-01]\n",
      " [5.0992620e-01 4.3798786e-01 5.2085932e-02]\n",
      " [2.3343197e-01 7.6419848e-01 2.3695820e-03]\n",
      " [6.2454665e-01 3.7183726e-01 3.6160895e-03]\n",
      " [7.4410796e-01 2.5524482e-01 6.4728671e-04]] 0.40025383\n",
      "2300 [[6.9133327e-03 6.1284758e-02 9.3180192e-01]\n",
      " [4.0085122e-02 3.1493706e-01 6.4497775e-01]\n",
      " [1.2264948e-03 2.9794490e-01 7.0082861e-01]\n",
      " [3.2133129e-03 6.3549745e-01 3.6128920e-01]\n",
      " [5.0668406e-01 4.4252709e-01 5.0788768e-02]\n",
      " [2.3344435e-01 7.6439834e-01 2.1573172e-03]\n",
      " [6.2588882e-01 3.7074554e-01 3.3655730e-03]\n",
      " [7.4639577e-01 2.5301930e-01 5.8495410e-04]] 0.39537692\n",
      "2400 [[6.3517857e-03 5.8352306e-02 9.3529588e-01]\n",
      " [3.8579773e-02 3.0671403e-01 6.5470624e-01]\n",
      " [1.1323919e-03 2.9955646e-01 6.9931114e-01]\n",
      " [3.0162055e-03 6.3888556e-01 3.5809818e-01]\n",
      " [5.0351173e-01 4.4693151e-01 4.9556702e-02]\n",
      " [2.3338477e-01 7.6464421e-01 1.9709715e-03]\n",
      " [6.2720162e-01 3.6965981e-01 3.1385811e-03]\n",
      " [7.4864471e-01 2.5082526e-01 5.3003361e-04]] 0.39072788\n",
      "2500 [[5.8444743e-03 5.5618174e-02 9.3853730e-01]\n",
      " [3.7154384e-02 2.9895422e-01 6.6389143e-01]\n",
      " [1.0459367e-03 3.0095595e-01 6.9799817e-01]\n",
      " [2.8327638e-03 6.4216816e-01 3.5499913e-01]\n",
      " [5.0040638e-01 4.5120835e-01 4.8385296e-02]\n",
      " [2.3325813e-01 7.6493531e-01 1.8066121e-03]\n",
      " [6.2848705e-01 3.6858064e-01 2.9323290e-03]\n",
      " [7.5085652e-01 2.4866202e-01 4.8147401e-04]] 0.38628548\n",
      "2600 [[5.3852252e-03 5.3064279e-02 9.4155055e-01]\n",
      " [3.5804346e-02 2.9162604e-01 6.7256963e-01]\n",
      " [9.6648757e-04 3.0215588e-01 6.9687760e-01]\n",
      " [2.6619614e-03 6.4535230e-01 3.5198581e-01]\n",
      " [4.9736479e-01 4.5536438e-01 4.7270924e-02]\n",
      " [2.3306981e-01 7.6526922e-01 1.6610160e-03]\n",
      " [6.2974679e-01 3.6750886e-01 2.7444263e-03]\n",
      " [7.5303167e-01 2.4652986e-01 4.3839726e-04]] 0.38203144\n",
      "2700 [[4.9686641e-03 5.0674595e-02 9.4435680e-01]\n",
      " [3.4525212e-02 2.8469980e-01 6.8077505e-01]\n",
      " [8.9345552e-04 3.0316883e-01 6.9593775e-01]\n",
      " [2.5028440e-03 6.4844465e-01 3.4905249e-01]\n",
      " [4.9438429e-01 4.5940566e-01 4.6209984e-02]\n",
      " [2.3282453e-01 7.6564395e-01 1.5315083e-03]\n",
      " [6.3098276e-01 3.6644441e-01 2.5728126e-03]\n",
      " [7.5517237e-01 2.4442759e-01 4.0006734e-04]] 0.37794924\n"
     ]
    },
    {
     "name": "stdout",
     "output_type": "stream",
     "text": [
      "2800 [[4.5901248e-03 4.8435032e-02 9.4697481e-01]\n",
      " [3.3312652e-02 2.7814788e-01 6.8853956e-01]\n",
      " [8.2630012e-04 3.0400687e-01 6.9516683e-01]\n",
      " [2.3545343e-03 6.5145147e-01 3.4619394e-01]\n",
      " [4.9146184e-01 4.6333909e-01 4.5199029e-02]\n",
      " [2.3252724e-01 7.6605690e-01 1.4158678e-03]\n",
      " [6.3219595e-01 3.6538830e-01 2.4157050e-03]\n",
      " [7.5727898e-01 2.4235515e-01 3.6586053e-04]] 0.37402442\n",
      "2900 [[4.2455369e-03 4.6332952e-02 9.4942153e-01]\n",
      " [3.2162640e-02 2.7194461e-01 6.9589269e-01]\n",
      " [7.6452846e-04 3.0468091e-01 6.9455451e-01]\n",
      " [2.2162236e-03 6.5437835e-01 3.4340549e-01]\n",
      " [4.8859462e-01 4.6717027e-01 4.4235155e-02]\n",
      " [2.3218238e-01 7.6650536e-01 1.3122368e-03]\n",
      " [6.3338876e-01 3.6433965e-01 2.2715610e-03]\n",
      " [7.5935334e-01 2.4031137e-01 3.3524883e-04]] 0.37024382\n",
      "3000 [[3.9313235e-03 4.4357091e-02 9.5171160e-01]\n",
      " [3.1071309e-02 2.6606643e-01 7.0286220e-01]\n",
      " [7.0768653e-04 3.0520248e-01 6.9408977e-01]\n",
      " [2.0871591e-03 6.5723062e-01 3.4068215e-01]\n",
      " [4.8577976e-01 4.7090486e-01 4.3315437e-02]\n",
      " [2.3179393e-01 7.6698697e-01 1.2190483e-03]\n",
      " [6.3456172e-01 3.6329928e-01 2.1390279e-03]\n",
      " [7.6139641e-01 2.3829585e-01 3.0778249e-04]] 0.36659607\n",
      "3100 [[3.6443535e-03 4.2497408e-02 9.5385826e-01]\n",
      " [3.0035133e-02 2.6049140e-01 7.0947349e-01]\n",
      " [6.5536390e-04 3.0558163e-01 6.9376296e-01]\n",
      " [1.9666674e-03 6.6001350e-01 3.3801976e-01]\n",
      " [4.8301485e-01 4.7454807e-01 4.2437095e-02]\n",
      " [2.3136595e-01 7.6749903e-01 1.1349776e-03]\n",
      " [6.3571644e-01 3.6226672e-01 2.0169269e-03]\n",
      " [7.6340920e-01 2.3630771e-01 2.8307689e-04]] 0.36307082\n",
      "3200 [[3.3818705e-03 4.0744796e-02 9.5587337e-01]\n",
      " [2.9050643e-02 2.5519869e-01 7.1575069e-01]\n",
      " [6.0718128e-04 3.0582815e-01 6.9356471e-01]\n",
      " [1.8541084e-03 6.6273081e-01 3.3541510e-01]\n",
      " [4.8029733e-01 4.7810486e-01 4.1597772e-02]\n",
      " [2.3090184e-01 7.6803929e-01 1.0589065e-03]\n",
      " [6.3685381e-01 3.6124200e-01 1.9042210e-03]\n",
      " [7.6539260e-01 2.3434663e-01 2.6080300e-04]] 0.35965893\n",
      "3300 [[3.1414360e-03 3.9091162e-02 9.5776743e-01]\n",
      " [2.8114660e-02 2.5016963e-01 7.2171569e-01]\n",
      " [5.6279136e-04 3.0595139e-01 6.9348580e-01]\n",
      " [1.7488997e-03 6.6538668e-01 3.3286446e-01]\n",
      " [4.7762474e-01 4.8158020e-01 4.0795069e-02]\n",
      " [2.3040466e-01 7.6860541e-01 9.8986994e-04]\n",
      " [6.3797450e-01 3.6022547e-01 1.7999976e-03]\n",
      " [7.6734775e-01 2.3241156e-01 2.4067465e-04]] 0.35635224\n",
      "3400 [[2.9208967e-03 3.7529100e-02 9.5955002e-01]\n",
      " [2.7224189e-02 2.4538659e-01 7.2738922e-01]\n",
      " [5.2187999e-04 3.0596006e-01 6.9351804e-01]\n",
      " [1.6505041e-03 6.6798484e-01 3.3036461e-01]\n",
      " [4.7499555e-01 4.8497760e-01 4.0026873e-02]\n",
      " [2.2987762e-01 7.6919538e-01 9.2704652e-04]\n",
      " [6.3908035e-01 3.5921615e-01 1.7034512e-03]\n",
      " [7.6927567e-01 2.3050186e-01 2.2244680e-04]] 0.35314327\n",
      "3500 [[2.7183406e-03 3.6051992e-02 9.6122968e-01]\n",
      " [2.6376450e-02 2.4083331e-01 7.3279029e-01]\n",
      " [4.8415782e-04 3.0586234e-01 6.9365346e-01]\n",
      " [1.5584286e-03 6.7052859e-01 3.2791293e-01]\n",
      " [4.7240707e-01 4.8830175e-01 3.9291173e-02]\n",
      " [2.2932324e-01 7.6980704e-01 8.6973095e-04]\n",
      " [6.4017141e-01 3.5821465e-01 1.6138662e-03]\n",
      " [7.7117699e-01 2.2861709e-01 2.0590662e-04]] 0.35002536\n",
      "3600 [[2.5320668e-03 3.4653753e-02 9.6281415e-01]\n",
      " [2.5568839e-02 2.3649497e-01 7.3793620e-01]\n",
      " [4.4936052e-04 3.0566594e-01 6.9388467e-01]\n",
      " [1.4722162e-03 6.7302102e-01 3.2550672e-01]\n",
      " [4.6985763e-01 4.9155650e-01 3.8585942e-02]\n",
      " [2.2874410e-01 7.7043861e-01 8.1730849e-04]\n",
      " [6.4124906e-01 3.5722035e-01 1.5306070e-03]\n",
      " [7.7305287e-01 2.2675623e-01 1.9086730e-04]] 0.3469925\n",
      "3700 [[2.3605654e-03 3.3328876e-02 9.6431059e-01]\n",
      " [2.4798928e-02 2.3235737e-01 7.4284363e-01]\n",
      " [4.1724875e-04 3.0537802e-01 6.9420475e-01]\n",
      " [1.3914517e-03 6.7546499e-01 3.2314354e-01]\n",
      " [4.6734613e-01 4.9474427e-01 3.7909623e-02]\n",
      " [2.2814256e-01 7.7108818e-01 7.6925114e-04]\n",
      " [6.4231378e-01 3.5623303e-01 1.4531146e-03]\n",
      " [7.7490389e-01 2.2491893e-01 1.7716795e-04]] 0.3440394\n",
      "3800 [[2.2024810e-03 3.2072354e-02 9.6572524e-01]\n",
      " [2.4064464e-02 2.2840777e-01 7.4752772e-01]\n",
      " [3.8760103e-04 3.0500528e-01 6.9460708e-01]\n",
      " [1.3157462e-03 6.7786294e-01 3.2082137e-01]\n",
      " [4.6487024e-01 4.9786937e-01 3.7260402e-02]\n",
      " [2.2752067e-01 7.7175421e-01 7.2509545e-04]\n",
      " [6.4336628e-01 3.5525283e-01 1.3808830e-03]\n",
      " [7.7673090e-01 2.2310451e-01 1.6466680e-04]] 0.341161\n",
      "3900 [[2.0566036e-03 3.0879578e-02 9.6706390e-01]\n",
      " [2.3363302e-02 2.2463402e-01 7.5200266e-01]\n",
      " [3.6021674e-04 3.0455375e-01 6.9508600e-01]\n",
      " [1.2447427e-03 6.8021661e-01 3.1853867e-01]\n",
      " [4.6242818e-01 5.0093490e-01 3.6636867e-02]\n",
      " [2.2688025e-01 7.7243531e-01 6.8443984e-04]\n",
      " [6.4440697e-01 3.5427955e-01 1.3134573e-03]\n",
      " [7.7853411e-01 2.2131267e-01 1.5323893e-04]] 0.3383529\n",
      "4000 [[1.9218525e-03 2.9746406e-02 9.6833181e-01]\n",
      " [2.2693520e-02 2.2102560e-01 7.5628084e-01]\n",
      " [3.3491207e-04 3.0403042e-01 6.9563466e-01]\n",
      " [1.1781162e-03 6.8252939e-01 3.1629246e-01]\n",
      " [4.6001971e-01 5.0394291e-01 3.6037486e-02]\n",
      " [2.2622313e-01 7.7313000e-01 6.4693013e-04]\n",
      " [6.4543658e-01 3.5331291e-01 1.2504336e-03]\n",
      " [7.8031486e-01 2.1954237e-01 1.4277510e-04]] 0.33561122\n",
      "4100 [[1.7972479e-03 2.8668931e-02 9.6953380e-01]\n",
      " [2.2053281e-02 2.1757169e-01 7.6037502e-01]\n",
      " [3.1151806e-04 3.0343956e-01 6.9624889e-01]\n",
      " [1.1155625e-03 6.8480217e-01 3.1408232e-01]\n",
      " [4.5764214e-01 5.0689697e-01 3.5460938e-02]\n",
      " [2.2555076e-01 7.7383697e-01 6.1225577e-04]\n",
      " [6.4645559e-01 3.5235295e-01 1.1914518e-03]\n",
      " [7.8207326e-01 2.1779357e-01 1.3317895e-04]] 0.332932\n",
      "4200 [[1.6819169e-03 2.7643623e-02 9.7067451e-01]\n",
      " [2.1440806e-02 2.1426281e-01 7.6429635e-01]\n",
      " [2.8988079e-04 3.0278662e-01 6.9692355e-01]\n",
      " [1.0567976e-03 6.8703645e-01 3.1190678e-01]\n",
      " [4.5529550e-01 5.0979847e-01 3.4906104e-02]\n",
      " [2.2486505e-01 7.7455485e-01 5.8014569e-04]\n",
      " [6.4746517e-01 3.5139868e-01 1.1361833e-03]\n",
      " [7.8381050e-01 2.1606514e-01 1.2436509e-04]] 0.330312\n",
      "4300 [[1.5750703e-03 2.6667239e-02 9.7175771e-01]\n",
      " [2.0854596e-02 2.1109018e-01 7.6805520e-01]\n",
      " [2.6986084e-04 3.0207649e-01 6.9765359e-01]\n",
      " [1.0015690e-03 6.8923444e-01 3.0976403e-01]\n",
      " [4.5297804e-01 5.1265025e-01 3.4371752e-02]\n",
      " [2.2416709e-01 7.7528250e-01 5.5035739e-04]\n",
      " [6.4846516e-01 3.5045049e-01 1.0843381e-03]\n",
      " [7.8552669e-01 2.1435706e-01 1.1625894e-04]] 0.32774824\n",
      "4400 [[1.4759947e-03 2.5736772e-02 9.7278726e-01]\n",
      " [2.0293100e-02 2.0804577e-01 7.7166116e-01]\n",
      " [2.5132744e-04 3.0131376e-01 6.9843489e-01]\n",
      " [9.4963261e-04 6.9139749e-01 3.0765289e-01]\n",
      " [4.5068854e-01 5.1545477e-01 3.3856682e-02]\n",
      " [2.2345805e-01 7.7601922e-01 5.2267470e-04]\n",
      " [6.4945567e-01 3.4950864e-01 1.0356401e-03]\n",
      " [7.8722239e-01 2.1266881e-01 1.0879188e-04]] 0.32523775\n",
      "4500 [[1.3840453e-03 2.4849473e-02 9.7376651e-01]\n",
      " [1.9755013e-02 2.0512208e-01 7.7512288e-01]\n",
      " [2.3416459e-04 3.0050316e-01 6.9926274e-01]\n",
      " [9.0077263e-04 6.9352776e-01 3.0557153e-01]\n",
      " [4.4842663e-01 5.1821357e-01 3.3359837e-02]\n",
      " [2.2273931e-01 7.7676380e-01 4.9690617e-04]\n",
      " [6.5043819e-01 3.4857193e-01 9.8984654e-04]\n",
      " [7.8889829e-01 2.1099971e-01 1.0190425e-04]] 0.322778\n",
      "4600 [[1.2986348e-03 2.4002716e-02 9.7469860e-01]\n",
      " [1.9238887e-02 2.0231119e-01 7.7844995e-01]\n",
      " [2.1826182e-04 2.9964691e-01 7.0013481e-01]\n",
      " [8.5477647e-04 6.9562399e-01 3.0352119e-01]\n",
      " [4.4619060e-01 5.2092880e-01 3.2880601e-02]\n",
      " [2.2201137e-01 7.7751577e-01 4.7288820e-04]\n",
      " [6.5141201e-01 3.4764126e-01 9.4675442e-04]\n",
      " [7.9055458e-01 2.0934984e-01 9.5544412e-05]] 0.32036656\n",
      "4700 [[1.2192378e-03 2.3194185e-02 9.7558665e-01]\n",
      " [1.8743673e-02 1.9960751e-01 7.8164881e-01]\n",
      " [2.0352213e-04 2.9875031e-01 7.0104611e-01]\n",
      " [8.1146060e-04 6.9769031e-01 3.0149823e-01]\n",
      " [4.4398001e-01 5.2360213e-01 3.2417826e-02]\n",
      " [2.2127543e-01 7.7827412e-01 4.5046356e-04]\n",
      " [6.5237784e-01 3.4671599e-01 9.0614764e-04]\n",
      " [7.9219192e-01 2.0771852e-01 8.9663394e-05]] 0.31800127\n",
      "4800 [[1.1453731e-03 2.2421667e-02 9.7643298e-01]\n",
      " [1.8268220e-02 1.9700499e-01 7.8472674e-01]\n",
      " [1.8985423e-04 2.9781687e-01 7.0199329e-01]\n",
      " [7.7064987e-04 6.9972748e-01 2.9950187e-01]\n",
      " [4.4179475e-01 5.2623475e-01 3.1970453e-02]\n",
      " [2.2053294e-01 7.7903759e-01 4.2949666e-04]\n",
      " [6.5333647e-01 3.4579572e-01 8.6784357e-04]\n",
      " [7.9381078e-01 2.0610504e-01 8.4217842e-05]] 0.3156802\n",
      "4900 [[1.0766032e-03 2.1683125e-02 9.7724026e-01]\n",
      " [1.7811431e-02 1.9449747e-01 7.8769112e-01]\n",
      " [1.7717462e-04 2.9684901e-01 7.0297384e-01]\n",
      " [7.3217857e-04 7.0173538e-01 2.9753235e-01]\n",
      " [4.3963268e-01 5.2882934e-01 3.1537935e-02]\n",
      " [2.1978380e-01 7.7980632e-01 4.0986718e-04]\n",
      " [6.5428752e-01 3.4488073e-01 8.3168445e-04]\n",
      " [7.9541117e-01 2.0450966e-01 7.9170728e-05]] 0.31340125\n"
     ]
    }
   ],
   "source": [
    "sess = tf.Session()\n",
    "sess.run(tf.global_variables_initializer())\n",
    "\n",
    "for step in range(5000):\n",
    "    _, h, c = sess.run([train, hypot, cost], feed_dict={X:x_data, y:y_data})\n",
    "    \n",
    "    if step%100 == 0:\n",
    "        print(step, h, c)"
   ]
  },
  {
   "cell_type": "code",
   "execution_count": 27,
   "id": "0825e7e1",
   "metadata": {},
   "outputs": [
    {
     "name": "stdout",
     "output_type": "stream",
     "text": [
      "1\n",
      "[2 1]\n"
     ]
    }
   ],
   "source": [
    "##### argmax\n",
    "# 가장 큰 값의 위치를 알려줌\n",
    "\n",
    "a = tf.constant([3, 10, 1])\n",
    "print(tf.argmax(a).eval(session=sess))\n",
    "#print(tf.argmax(a,0).eval(session=sess))  # 0은 차원을 나타냄 . 1차원 데이터라는 뜻 (생략가능)\n",
    "\n",
    "b = tf.constant([[5, 10, 17], [4, 50, 6]])\n",
    "print(tf.argmax(b, 1).eval(session=sess))"
   ]
  },
  {
   "cell_type": "code",
   "execution_count": 28,
   "id": "784274c6",
   "metadata": {},
   "outputs": [
    {
     "data": {
      "text/plain": [
       "array([2, 2, 2, 1, 1, 1, 0, 0], dtype=int64)"
      ]
     },
     "execution_count": 28,
     "metadata": {},
     "output_type": "execute_result"
    }
   ],
   "source": [
    "preds = tf.argmax(hypot, 1)\n",
    "sess.run(preds, feed_dict={X:x_data, y:y_data})"
   ]
  },
  {
   "cell_type": "code",
   "execution_count": 29,
   "id": "3acb7dde",
   "metadata": {},
   "outputs": [
    {
     "data": {
      "text/plain": [
       "array([ True,  True,  True,  True,  True,  True,  True,  True])"
      ]
     },
     "execution_count": 29,
     "metadata": {},
     "output_type": "execute_result"
    }
   ],
   "source": [
    "correct = tf.equal(preds, tf.argmax(y, 1))\n",
    "sess.run(correct, feed_dict={X:x_data, y:y_data})"
   ]
  },
  {
   "cell_type": "code",
   "execution_count": 33,
   "id": "1436ef66",
   "metadata": {},
   "outputs": [
    {
     "data": {
      "text/plain": [
       "1.0"
      ]
     },
     "execution_count": 33,
     "metadata": {},
     "output_type": "execute_result"
    }
   ],
   "source": [
    "accuracy = tf.reduce_mean(tf.cast(correct, dtype=tf.float32))\n",
    "sess.run(accuracy, feed_dict={X:x_data, y:y_data})"
   ]
  },
  {
   "cell_type": "code",
   "execution_count": 38,
   "id": "0c6fba65",
   "metadata": {},
   "outputs": [
    {
     "name": "stdout",
     "output_type": "stream",
     "text": [
      "[[1.6904062e-01 8.3059388e-01 3.6548064e-04]]\n",
      "[1]\n"
     ]
    }
   ],
   "source": [
    "##### 테스트 : [1, 11, 7, 9]\n",
    "\n",
    "result = sess.run(hypot, feed_dict={X: [[1, 11, 7, 9]]})\n",
    "print(result)\n",
    "print(sess.run(tf.argmax(result, 1)))"
   ]
  },
  {
   "cell_type": "markdown",
   "id": "b4283b57",
   "metadata": {},
   "source": [
    "## (2) softmax_cross_entropy_with_logits()"
   ]
  },
  {
   "cell_type": "code",
   "execution_count": 40,
   "id": "b633d9d8",
   "metadata": {},
   "outputs": [
    {
     "name": "stdout",
     "output_type": "stream",
     "text": [
      "0 [ 0.08223584  3.240392    8.794863   13.399557   22.170462   14.519565\n",
      "  2.9191098   3.4407856 ]\n",
      "100 [0.3019318  0.39132568 0.7153349  0.70264286 1.2093581  0.28855538\n",
      " 0.58186466 0.39977172]\n",
      "200 [0.15043443 0.32203254 0.6081785  0.5894673  1.0608939  0.30844256\n",
      " 0.55482733 0.364396  ]\n",
      "300 [0.08924348 0.2807771  0.5430514  0.51573086 0.95834017 0.3163432\n",
      " 0.5377192  0.33779007]\n",
      "400 [0.05840335 0.25140816 0.49493748 0.46356586 0.8820958  0.3136536\n",
      " 0.5229128  0.31407294]\n",
      "500 [0.04071346 0.22887337 0.4567451  0.42365032 0.8200952  0.3062368\n",
      " 0.5089676  0.29222098]\n",
      "600 [0.02967312 0.21076466 0.42508632 0.3915181  0.7672187  0.29672697\n",
      " 0.49551207 0.27197766]\n",
      "700 [0.02235662 0.1957431  0.39807966 0.3647439  0.720934   0.28638542\n",
      " 0.48245096 0.25324795]\n",
      "800 [0.01728412 0.18298943 0.37457561 0.34187785 0.6797946  0.27585876\n",
      " 0.4697686  0.23596272]\n",
      "900 [0.01364111 0.17196628 0.3538197  0.3219882  0.64287096 0.2654897\n",
      " 0.4574734  0.22004916]\n",
      "1000 [0.01094953 0.16230342 0.33528888 0.30444235 0.609506   0.25546014\n",
      " 0.44557518 0.20542423]\n",
      "1100 [0.00891443 0.15373479 0.31860143 0.28879362 0.5792049  0.24586435\n",
      " 0.4340795  0.19199754]\n",
      "1200 [0.00734545 0.14606467 0.30347016 0.27471238 0.55157065 0.23674181\n",
      " 0.42299026 0.17967872]\n",
      "1300 [0.00611601 0.13914393 0.28967255 0.2619503  0.5262809  0.22810511\n",
      " 0.4123037  0.16837567]\n",
      "1400 [0.005139   0.13285738 0.2770306  0.2503135  0.5030608  0.2199464\n",
      " 0.40201697 0.15800244]\n",
      "1500 [0.00435298 0.1271142  0.26540002 0.23964906 0.48168266 0.21225041\n",
      " 0.3921178  0.14847454]\n",
      "1600 [0.00371397 0.12184115 0.25466123 0.22983299 0.46194488 0.20499451\n",
      " 0.38259792 0.13971682]\n",
      "1700 [0.00318948 0.11697887 0.2447146  0.22076303 0.44367597 0.19815405\n",
      " 0.37344417 0.13165808]\n",
      "1800 [0.0027553  0.11247864 0.23547575 0.21235453 0.42672545 0.19170342\n",
      " 0.3646439  0.12423372]\n",
      "1900 [0.00239324 0.10829937 0.22687148 0.20453669 0.4109631  0.18561657\n",
      " 0.35618326 0.11738517]\n",
      "2000 [0.0020891  0.10440632 0.21884009 0.197248   0.39627382 0.17986993\n",
      " 0.34804755 0.11105912]\n",
      "2100 [0.00183212 0.10077033 0.21132712 0.19043614 0.38255572 0.1744393\n",
      " 0.34022462 0.10520809]\n",
      "2200 [0.00161363 0.09736662 0.20428425 0.18405518 0.36971897 0.16930301\n",
      " 0.3326999  0.09978861]\n",
      "2300 [0.00142687 0.09417263 0.19766942 0.17806701 0.35768485 0.16443992\n",
      " 0.32546005 0.09476224]\n",
      "2400 [0.00126651 0.09116984 0.19144723 0.17243543 0.3463827  0.1598312\n",
      " 0.31849194 0.09009356]\n",
      "2500 [0.00112816 0.08834127 0.1855831  0.1671309  0.33575016 0.1554591\n",
      " 0.31178293 0.08575122]\n",
      "2600 [0.00100824 0.08567233 0.18004857 0.16212615 0.325731   0.15130755\n",
      " 0.30532143 0.08170713]\n",
      "2700 [0.00090379 0.08314993 0.1748174  0.15739661 0.31627437 0.14736041\n",
      " 0.2990963  0.07793547]\n",
      "2800 [0.00081268 0.08076269 0.16986595 0.15292078 0.30733693 0.14360541\n",
      " 0.29309523 0.07441316]\n",
      "2900 [0.00073275 0.07850001 0.16517359 0.14867891 0.29887617 0.14002809\n",
      " 0.28730914 0.07111991]\n",
      "3000 [0.00066246 0.07635248 0.1607201  0.1446542  0.29085752 0.13661774\n",
      " 0.2817267  0.06803653]\n",
      "3100 [0.0006004  0.0743119  0.15648896 0.1408304  0.28324753 0.13336328\n",
      " 0.27633858 0.06514658]\n",
      "3200 [0.00054547 0.07237038 0.15246408 0.13719346 0.27601555 0.13025445\n",
      " 0.27113742 0.06243418]\n",
      "3300 [0.00049674 0.07052153 0.14863165 0.13373011 0.26913488 0.12728256\n",
      " 0.26611248 0.05988564]\n",
      "3400 [0.00045337 0.06875871 0.14497806 0.13042878 0.2625818  0.12443878\n",
      " 0.26125672 0.0574884 ]\n",
      "3500 [0.00041464 0.0670763  0.14149186 0.12727858 0.25633278 0.12171514\n",
      " 0.2565622  0.0552307 ]\n",
      "3600 [0.00037997 0.0654692  0.1381619  0.12426983 0.25036842 0.11910459\n",
      " 0.25202218 0.05310277]\n",
      "3700 [0.00034886 0.06393232 0.13497809 0.12139348 0.24466923 0.11660042\n",
      " 0.24762903 0.05109433]\n",
      "3800 [0.00032086 0.06246173 0.13193184 0.11864077 0.23921923 0.11419662\n",
      " 0.24337624 0.04919705]\n",
      "3900 [0.00029571 0.06105301 0.1290141  0.11600487 0.2340012  0.11188713\n",
      " 0.2392579  0.04740338]\n",
      "4000 [0.00027295 0.05970284 0.12621757 0.1134778  0.2290008  0.10966642\n",
      " 0.23527008 0.04570568]\n",
      "4100 [0.00025233 0.0584074  0.12353481 0.11105368 0.22420663 0.10753047\n",
      " 0.23140278 0.04409726]\n",
      "4200 [0.00023362 0.05716364 0.12095913 0.10872664 0.21960546 0.10547417\n",
      " 0.2276536  0.04257217]\n",
      "4300 [2.1669900e-04 5.5968735e-02 1.1848459e-01 1.0649085e-01 2.1518512e-01\n",
      " 1.0349254e-01 2.2401787e-01 4.1124720e-02]\n",
      "4400 [2.0120504e-04 5.4819901e-02 1.1610549e-01 1.0434155e-01 2.1093594e-01\n",
      " 1.0158247e-01 2.2049016e-01 3.9750215e-02]\n",
      "4500 [1.87141064e-04 5.37145995e-02 1.13816582e-01 1.02273405e-01\n",
      " 2.06848636e-01 9.97402668e-02 2.17066333e-01 3.84432226e-02]\n",
      "4600 [1.74268789e-04 5.26504889e-02 1.11612730e-01 1.00282505e-01\n",
      " 2.02914000e-01 9.79616866e-02 2.13741466e-01 3.71999890e-02]\n",
      "4700 [1.6246906e-04 5.1625546e-02 1.0948982e-01 9.8364443e-02 1.9912337e-01\n",
      " 9.6244253e-02 2.1051107e-01 3.6016267e-02]\n",
      "4800 [1.51741915e-04 5.06374054e-02 1.07443005e-01 9.65156555e-02\n",
      " 1.95469394e-01 9.45848227e-02 2.07373202e-01 3.48882489e-02]\n",
      "4900 [1.41848999e-04 4.96843569e-02 1.05468705e-01 9.47325155e-02\n",
      " 1.91945001e-01 9.29806307e-02 2.04322353e-01 3.38126607e-02]\n",
      "[[1.4218595e-03 9.9857736e-01 8.7578371e-07]]\n",
      "[1]\n"
     ]
    }
   ],
   "source": [
    "X = tf.placeholder(tf.float32, shape=[None, 4])\n",
    "y = tf.placeholder(tf.float32, shape=[None, 3])\n",
    "\n",
    "W = tf.Variable(tf.random.normal([4, 3]))\n",
    "b = tf.Variable(tf.random_normal([3]))\n",
    "\n",
    "# 가설, 비용\n",
    "logit = tf.matmul(X, W) + b\n",
    "hypot = tf.nn.softmax(logit)\n",
    "cost = tf.nn.softmax_cross_entropy_with_logits_v2(logits=logit, labels=y_data)\n",
    "\n",
    "# 최소비용\n",
    "train = tf.train.GradientDescentOptimizer(learning_rate=0.01).minimize(cost)\n",
    "\n",
    "#--------------------------------------------------------------------------------------------#\n",
    "\n",
    "sess = tf.Session()\n",
    "sess.run(tf.global_variables_initializer())\n",
    "\n",
    "for step in range(5000):\n",
    "    _, c = sess.run([train, cost], feed_dict={X:x_data, y:y_data})\n",
    "    \n",
    "    if step%100 == 0:\n",
    "        print(step, c)\n",
    "        \n",
    "result = sess.run(hypot, feed_dict={X: [[1, 11, 7, 9]]})\n",
    "print(result)\n",
    "print(sess.run(tf.argmax(result, 1)))"
   ]
  },
  {
   "cell_type": "markdown",
   "id": "539ff8ef",
   "metadata": {},
   "source": [
    "## (3) 사례1 : 동물분류"
   ]
  },
  {
   "cell_type": "code",
   "execution_count": 3,
   "id": "fce6bee2",
   "metadata": {},
   "outputs": [
    {
     "name": "stdout",
     "output_type": "stream",
     "text": [
      "(101, 17)\n",
      "(101, 16) (101, 1)\n",
      "[[0.]\n",
      " [0.]\n",
      " [3.]\n",
      " [0.]\n",
      " [0.]\n",
      " [0.]\n",
      " [0.]\n",
      " [3.]\n",
      " [3.]\n",
      " [0.]\n",
      " [0.]\n",
      " [1.]\n",
      " [3.]\n",
      " [6.]\n",
      " [6.]\n",
      " [6.]\n",
      " [1.]\n",
      " [0.]\n",
      " [3.]\n",
      " [0.]\n",
      " [1.]\n",
      " [1.]\n",
      " [0.]\n",
      " [1.]\n",
      " [5.]\n",
      " [4.]\n",
      " [4.]\n",
      " [0.]\n",
      " [0.]\n",
      " [0.]\n",
      " [5.]\n",
      " [0.]\n",
      " [0.]\n",
      " [1.]\n",
      " [3.]\n",
      " [0.]\n",
      " [0.]\n",
      " [1.]\n",
      " [3.]\n",
      " [5.]\n",
      " [5.]\n",
      " [1.]\n",
      " [5.]\n",
      " [1.]\n",
      " [0.]\n",
      " [0.]\n",
      " [6.]\n",
      " [0.]\n",
      " [0.]\n",
      " [0.]\n",
      " [0.]\n",
      " [5.]\n",
      " [4.]\n",
      " [6.]\n",
      " [0.]\n",
      " [0.]\n",
      " [1.]\n",
      " [1.]\n",
      " [1.]\n",
      " [1.]\n",
      " [3.]\n",
      " [3.]\n",
      " [2.]\n",
      " [0.]\n",
      " [0.]\n",
      " [0.]\n",
      " [0.]\n",
      " [0.]\n",
      " [0.]\n",
      " [0.]\n",
      " [0.]\n",
      " [1.]\n",
      " [6.]\n",
      " [3.]\n",
      " [0.]\n",
      " [0.]\n",
      " [2.]\n",
      " [6.]\n",
      " [1.]\n",
      " [1.]\n",
      " [2.]\n",
      " [6.]\n",
      " [3.]\n",
      " [1.]\n",
      " [0.]\n",
      " [6.]\n",
      " [3.]\n",
      " [1.]\n",
      " [5.]\n",
      " [4.]\n",
      " [2.]\n",
      " [2.]\n",
      " [3.]\n",
      " [0.]\n",
      " [0.]\n",
      " [1.]\n",
      " [0.]\n",
      " [5.]\n",
      " [0.]\n",
      " [6.]\n",
      " [1.]]\n"
     ]
    }
   ],
   "source": [
    "xy = np.loadtxt(\"data/data-04-zoo.csv\", dtype=np.float32, delimiter=\",\")\n",
    "print(xy.shape)\n",
    "\n",
    "x_data = xy[:, 0:-1]\n",
    "y_data = xy[:, [-1]]\n",
    "\n",
    "print(x_data.shape, y_data.shape)\n",
    "print(y_data)"
   ]
  },
  {
   "cell_type": "code",
   "execution_count": 7,
   "id": "15b8558a",
   "metadata": {},
   "outputs": [
    {
     "ename": "TypeError",
     "evalue": "Input 'b' of 'MatMul' Op has type float32 that does not match type int64 of argument 'a'.",
     "output_type": "error",
     "traceback": [
      "\u001b[1;31m---------------------------------------------------------------------------\u001b[0m",
      "\u001b[1;31mValueError\u001b[0m                                Traceback (most recent call last)",
      "\u001b[1;32mC:\\anaconda3\\envs\\tf1\\lib\\site-packages\\tensorflow_core\\python\\framework\\op_def_library.py\u001b[0m in \u001b[0;36m_apply_op_helper\u001b[1;34m(self, op_type_name, name, **keywords)\u001b[0m\n\u001b[0;32m    527\u001b[0m                 \u001b[0mas_ref\u001b[0m\u001b[1;33m=\u001b[0m\u001b[0minput_arg\u001b[0m\u001b[1;33m.\u001b[0m\u001b[0mis_ref\u001b[0m\u001b[1;33m,\u001b[0m\u001b[1;33m\u001b[0m\u001b[1;33m\u001b[0m\u001b[0m\n\u001b[1;32m--> 528\u001b[1;33m                 preferred_dtype=default_dtype)\n\u001b[0m\u001b[0;32m    529\u001b[0m           \u001b[1;32mexcept\u001b[0m \u001b[0mTypeError\u001b[0m \u001b[1;32mas\u001b[0m \u001b[0merr\u001b[0m\u001b[1;33m:\u001b[0m\u001b[1;33m\u001b[0m\u001b[1;33m\u001b[0m\u001b[0m\n",
      "\u001b[1;32mC:\\anaconda3\\envs\\tf1\\lib\\site-packages\\tensorflow_core\\python\\framework\\ops.py\u001b[0m in \u001b[0;36minternal_convert_to_tensor\u001b[1;34m(value, dtype, name, as_ref, preferred_dtype, ctx, accepted_result_types)\u001b[0m\n\u001b[0;32m   1272\u001b[0m           \u001b[1;34m\"Tensor conversion requested dtype %s for Tensor with dtype %s: %r\"\u001b[0m \u001b[1;33m%\u001b[0m\u001b[1;33m\u001b[0m\u001b[1;33m\u001b[0m\u001b[0m\n\u001b[1;32m-> 1273\u001b[1;33m           (dtype.name, value.dtype.name, value))\n\u001b[0m\u001b[0;32m   1274\u001b[0m     \u001b[1;32mreturn\u001b[0m \u001b[0mvalue\u001b[0m\u001b[1;33m\u001b[0m\u001b[1;33m\u001b[0m\u001b[0m\n",
      "\u001b[1;31mValueError\u001b[0m: Tensor conversion requested dtype int64 for Tensor with dtype float32: <tf.Tensor 'Variable_4/read:0' shape=(16, 7) dtype=float32>",
      "\nDuring handling of the above exception, another exception occurred:\n",
      "\u001b[1;31mTypeError\u001b[0m                                 Traceback (most recent call last)",
      "\u001b[1;32m~\\AppData\\Local\\Temp/ipykernel_18028/2370890484.py\u001b[0m in \u001b[0;36m<module>\u001b[1;34m\u001b[0m\n\u001b[0;32m     13\u001b[0m \u001b[1;33m\u001b[0m\u001b[0m\n\u001b[0;32m     14\u001b[0m \u001b[1;31m# 가설, 비용\u001b[0m\u001b[1;33m\u001b[0m\u001b[1;33m\u001b[0m\u001b[1;33m\u001b[0m\u001b[0m\n\u001b[1;32m---> 15\u001b[1;33m \u001b[0mlogit\u001b[0m \u001b[1;33m=\u001b[0m \u001b[0mtf\u001b[0m\u001b[1;33m.\u001b[0m\u001b[0mmatmul\u001b[0m\u001b[1;33m(\u001b[0m\u001b[0mX\u001b[0m\u001b[1;33m,\u001b[0m \u001b[0mW\u001b[0m\u001b[1;33m)\u001b[0m \u001b[1;33m+\u001b[0m \u001b[0mb\u001b[0m\u001b[1;33m\u001b[0m\u001b[1;33m\u001b[0m\u001b[0m\n\u001b[0m\u001b[0;32m     16\u001b[0m \u001b[0mhypot\u001b[0m \u001b[1;33m=\u001b[0m \u001b[0mtf\u001b[0m\u001b[1;33m.\u001b[0m\u001b[0mnn\u001b[0m\u001b[1;33m.\u001b[0m\u001b[0msoftmax\u001b[0m\u001b[1;33m(\u001b[0m\u001b[0mlogit\u001b[0m\u001b[1;33m)\u001b[0m\u001b[1;33m\u001b[0m\u001b[1;33m\u001b[0m\u001b[0m\n\u001b[0;32m     17\u001b[0m \u001b[0mcost\u001b[0m \u001b[1;33m=\u001b[0m \u001b[0mtf\u001b[0m\u001b[1;33m.\u001b[0m\u001b[0mnn\u001b[0m\u001b[1;33m.\u001b[0m\u001b[0msoftmax_cross_entropy_with_logits_v2\u001b[0m\u001b[1;33m(\u001b[0m\u001b[0mlogits\u001b[0m\u001b[1;33m=\u001b[0m\u001b[0mlogit\u001b[0m\u001b[1;33m,\u001b[0m \u001b[0mlabels\u001b[0m\u001b[1;33m=\u001b[0m\u001b[0my_one_hot\u001b[0m\u001b[1;33m)\u001b[0m\u001b[1;33m\u001b[0m\u001b[1;33m\u001b[0m\u001b[0m\n",
      "\u001b[1;32mC:\\anaconda3\\envs\\tf1\\lib\\site-packages\\tensorflow_core\\python\\util\\dispatch.py\u001b[0m in \u001b[0;36mwrapper\u001b[1;34m(*args, **kwargs)\u001b[0m\n\u001b[0;32m    178\u001b[0m     \u001b[1;34m\"\"\"Call target, and fall back on dispatchers if there is a TypeError.\"\"\"\u001b[0m\u001b[1;33m\u001b[0m\u001b[1;33m\u001b[0m\u001b[0m\n\u001b[0;32m    179\u001b[0m     \u001b[1;32mtry\u001b[0m\u001b[1;33m:\u001b[0m\u001b[1;33m\u001b[0m\u001b[1;33m\u001b[0m\u001b[0m\n\u001b[1;32m--> 180\u001b[1;33m       \u001b[1;32mreturn\u001b[0m \u001b[0mtarget\u001b[0m\u001b[1;33m(\u001b[0m\u001b[1;33m*\u001b[0m\u001b[0margs\u001b[0m\u001b[1;33m,\u001b[0m \u001b[1;33m**\u001b[0m\u001b[0mkwargs\u001b[0m\u001b[1;33m)\u001b[0m\u001b[1;33m\u001b[0m\u001b[1;33m\u001b[0m\u001b[0m\n\u001b[0m\u001b[0;32m    181\u001b[0m     \u001b[1;32mexcept\u001b[0m \u001b[1;33m(\u001b[0m\u001b[0mTypeError\u001b[0m\u001b[1;33m,\u001b[0m \u001b[0mValueError\u001b[0m\u001b[1;33m)\u001b[0m\u001b[1;33m:\u001b[0m\u001b[1;33m\u001b[0m\u001b[1;33m\u001b[0m\u001b[0m\n\u001b[0;32m    182\u001b[0m       \u001b[1;31m# Note: convert_to_eager_tensor currently raises a ValueError, not a\u001b[0m\u001b[1;33m\u001b[0m\u001b[1;33m\u001b[0m\u001b[1;33m\u001b[0m\u001b[0m\n",
      "\u001b[1;32mC:\\anaconda3\\envs\\tf1\\lib\\site-packages\\tensorflow_core\\python\\ops\\math_ops.py\u001b[0m in \u001b[0;36mmatmul\u001b[1;34m(a, b, transpose_a, transpose_b, adjoint_a, adjoint_b, a_is_sparse, b_is_sparse, name)\u001b[0m\n\u001b[0;32m   2752\u001b[0m     \u001b[1;32melse\u001b[0m\u001b[1;33m:\u001b[0m\u001b[1;33m\u001b[0m\u001b[1;33m\u001b[0m\u001b[0m\n\u001b[0;32m   2753\u001b[0m       return gen_math_ops.mat_mul(\n\u001b[1;32m-> 2754\u001b[1;33m           a, b, transpose_a=transpose_a, transpose_b=transpose_b, name=name)\n\u001b[0m\u001b[0;32m   2755\u001b[0m \u001b[1;33m\u001b[0m\u001b[0m\n\u001b[0;32m   2756\u001b[0m \u001b[1;33m\u001b[0m\u001b[0m\n",
      "\u001b[1;32mC:\\anaconda3\\envs\\tf1\\lib\\site-packages\\tensorflow_core\\python\\ops\\gen_math_ops.py\u001b[0m in \u001b[0;36mmat_mul\u001b[1;34m(a, b, transpose_a, transpose_b, name)\u001b[0m\n\u001b[0;32m   6134\u001b[0m   _, _, _op = _op_def_lib._apply_op_helper(\n\u001b[0;32m   6135\u001b[0m         \u001b[1;34m\"MatMul\"\u001b[0m\u001b[1;33m,\u001b[0m \u001b[0ma\u001b[0m\u001b[1;33m=\u001b[0m\u001b[0ma\u001b[0m\u001b[1;33m,\u001b[0m \u001b[0mb\u001b[0m\u001b[1;33m=\u001b[0m\u001b[0mb\u001b[0m\u001b[1;33m,\u001b[0m \u001b[0mtranspose_a\u001b[0m\u001b[1;33m=\u001b[0m\u001b[0mtranspose_a\u001b[0m\u001b[1;33m,\u001b[0m \u001b[0mtranspose_b\u001b[0m\u001b[1;33m=\u001b[0m\u001b[0mtranspose_b\u001b[0m\u001b[1;33m,\u001b[0m\u001b[1;33m\u001b[0m\u001b[1;33m\u001b[0m\u001b[0m\n\u001b[1;32m-> 6136\u001b[1;33m                   name=name)\n\u001b[0m\u001b[0;32m   6137\u001b[0m   \u001b[0m_result\u001b[0m \u001b[1;33m=\u001b[0m \u001b[0m_op\u001b[0m\u001b[1;33m.\u001b[0m\u001b[0moutputs\u001b[0m\u001b[1;33m[\u001b[0m\u001b[1;33m:\u001b[0m\u001b[1;33m]\u001b[0m\u001b[1;33m\u001b[0m\u001b[1;33m\u001b[0m\u001b[0m\n\u001b[0;32m   6138\u001b[0m   \u001b[0m_inputs_flat\u001b[0m \u001b[1;33m=\u001b[0m \u001b[0m_op\u001b[0m\u001b[1;33m.\u001b[0m\u001b[0minputs\u001b[0m\u001b[1;33m\u001b[0m\u001b[1;33m\u001b[0m\u001b[0m\n",
      "\u001b[1;32mC:\\anaconda3\\envs\\tf1\\lib\\site-packages\\tensorflow_core\\python\\framework\\op_def_library.py\u001b[0m in \u001b[0;36m_apply_op_helper\u001b[1;34m(self, op_type_name, name, **keywords)\u001b[0m\n\u001b[0;32m    562\u001b[0m                   \u001b[1;34m\"%s type %s of argument '%s'.\"\u001b[0m \u001b[1;33m%\u001b[0m\u001b[1;33m\u001b[0m\u001b[1;33m\u001b[0m\u001b[0m\n\u001b[0;32m    563\u001b[0m                   (prefix, dtypes.as_dtype(attrs[input_arg.type_attr]).name,\n\u001b[1;32m--> 564\u001b[1;33m                    inferred_from[input_arg.type_attr]))\n\u001b[0m\u001b[0;32m    565\u001b[0m \u001b[1;33m\u001b[0m\u001b[0m\n\u001b[0;32m    566\u001b[0m           \u001b[0mtypes\u001b[0m \u001b[1;33m=\u001b[0m \u001b[1;33m[\u001b[0m\u001b[0mvalues\u001b[0m\u001b[1;33m.\u001b[0m\u001b[0mdtype\u001b[0m\u001b[1;33m]\u001b[0m\u001b[1;33m\u001b[0m\u001b[1;33m\u001b[0m\u001b[0m\n",
      "\u001b[1;31mTypeError\u001b[0m: Input 'b' of 'MatMul' Op has type float32 that does not match type int64 of argument 'a'."
     ]
    }
   ],
   "source": [
    "X = tf.placeholder(tf.float32, shape=[None, 16])\n",
    "y = tf.placeholder(tf.float32, shape=[None, 1])\n",
    "\n",
    "# 원핫 인코딩으로 바꾼 후 계산할거니까 7(y_data가 0~6이라서 변환하면 7)\n",
    "W = tf.Variable(tf.random.normal([16, 7]))\n",
    "b = tf.Variable(tf.random_normal([7]))\n",
    "\n",
    "# y를 onehot encoding으로 처리\n",
    "y_one_hot = tf.one_hot(y, 7)\n",
    "#sess = tf.Session()\n",
    "#print(sess.run(y_one_hot, feed_dict={y: y_data}))\n",
    "y_one_hot = tf.reshape(y_one_hot, [-1, 7])\n",
    "\n",
    "# 가설, 비용\n",
    "logit = tf.matmul(X, W) + b\n",
    "hypot = tf.nn.softmax(logit)\n",
    "cost = tf.nn.softmax_cross_entropy_with_logits_v2(logits=logit, labels=y_one_hot)\n",
    "\n",
    "# 최소비용\n",
    "train = tf.train.GradientDescentOptimizer(learning_rate=0.01).minimize(cost)\n"
   ]
  },
  {
   "cell_type": "code",
   "execution_count": 6,
   "id": "6ef954ba",
   "metadata": {},
   "outputs": [
    {
     "name": "stdout",
     "output_type": "stream",
     "text": [
      "WARNING:tensorflow:From C:\\Users\\목지윤\\AppData\\Local\\Temp/ipykernel_18028/3671607367.py:1: The name tf.Session is deprecated. Please use tf.compat.v1.Session instead.\n",
      "\n",
      "WARNING:tensorflow:From C:\\Users\\목지윤\\AppData\\Local\\Temp/ipykernel_18028/3671607367.py:2: The name tf.global_variables_initializer is deprecated. Please use tf.compat.v1.global_variables_initializer instead.\n",
      "\n"
     ]
    },
    {
     "ename": "NameError",
     "evalue": "name 'train' is not defined",
     "output_type": "error",
     "traceback": [
      "\u001b[1;31m---------------------------------------------------------------------------\u001b[0m",
      "\u001b[1;31mNameError\u001b[0m                                 Traceback (most recent call last)",
      "\u001b[1;32m~\\AppData\\Local\\Temp/ipykernel_18028/3671607367.py\u001b[0m in \u001b[0;36m<module>\u001b[1;34m\u001b[0m\n\u001b[0;32m      3\u001b[0m \u001b[1;33m\u001b[0m\u001b[0m\n\u001b[0;32m      4\u001b[0m \u001b[1;32mfor\u001b[0m \u001b[0mstep\u001b[0m \u001b[1;32min\u001b[0m \u001b[0mrange\u001b[0m\u001b[1;33m(\u001b[0m\u001b[1;36m300\u001b[0m\u001b[1;33m)\u001b[0m\u001b[1;33m:\u001b[0m\u001b[1;33m\u001b[0m\u001b[1;33m\u001b[0m\u001b[0m\n\u001b[1;32m----> 5\u001b[1;33m     \u001b[0m_\u001b[0m\u001b[1;33m,\u001b[0m \u001b[0mc\u001b[0m \u001b[1;33m=\u001b[0m \u001b[0msess\u001b[0m\u001b[1;33m.\u001b[0m\u001b[0mrun\u001b[0m\u001b[1;33m(\u001b[0m\u001b[1;33m[\u001b[0m\u001b[0mtrain\u001b[0m\u001b[1;33m,\u001b[0m \u001b[0mtf\u001b[0m\u001b[1;33m.\u001b[0m\u001b[0mreduce_mean\u001b[0m\u001b[1;33m(\u001b[0m\u001b[0mcost\u001b[0m\u001b[1;33m)\u001b[0m\u001b[1;33m]\u001b[0m\u001b[1;33m,\u001b[0m \u001b[0mfeed_dict\u001b[0m\u001b[1;33m=\u001b[0m\u001b[1;33m{\u001b[0m\u001b[0mX\u001b[0m\u001b[1;33m:\u001b[0m\u001b[0mx_data\u001b[0m\u001b[1;33m,\u001b[0m \u001b[0my\u001b[0m\u001b[1;33m:\u001b[0m\u001b[0my_data\u001b[0m\u001b[1;33m}\u001b[0m\u001b[1;33m)\u001b[0m\u001b[1;33m\u001b[0m\u001b[1;33m\u001b[0m\u001b[0m\n\u001b[0m\u001b[0;32m      6\u001b[0m \u001b[1;33m\u001b[0m\u001b[0m\n\u001b[0;32m      7\u001b[0m     \u001b[1;32mif\u001b[0m \u001b[0mstep\u001b[0m\u001b[1;33m%\u001b[0m\u001b[1;36m10\u001b[0m \u001b[1;33m==\u001b[0m \u001b[1;36m0\u001b[0m\u001b[1;33m:\u001b[0m\u001b[1;33m\u001b[0m\u001b[1;33m\u001b[0m\u001b[0m\n",
      "\u001b[1;31mNameError\u001b[0m: name 'train' is not defined"
     ]
    }
   ],
   "source": [
    "sess = tf.Session()\n",
    "sess.run(tf.global_variables_initializer())\n",
    "\n",
    "for step in range(300):\n",
    "    _, c = sess.run([train, tf.reduce_mean(cost)], feed_dict={X:x_data, y:y_data})\n",
    "    \n",
    "    if step%10 == 0:\n",
    "        print(step, c)"
   ]
  },
  {
   "cell_type": "markdown",
   "id": "a5f742d8",
   "metadata": {},
   "source": []
  },
  {
   "cell_type": "markdown",
   "id": "ced5efa0",
   "metadata": {},
   "source": [
    "## (4) 사례2 : MNIST 이미지 데이터셋"
   ]
  },
  {
   "cell_type": "code",
   "execution_count": 8,
   "id": "7fb28fa7",
   "metadata": {},
   "outputs": [],
   "source": [
    "from tensorflow.examples.tutorials.mnist import input_data"
   ]
  },
  {
   "cell_type": "code",
   "execution_count": 9,
   "id": "8431cd7c",
   "metadata": {},
   "outputs": [
    {
     "name": "stdout",
     "output_type": "stream",
     "text": [
      "WARNING:tensorflow:From C:\\Users\\목지윤\\AppData\\Local\\Temp/ipykernel_18028/4174169662.py:1: read_data_sets (from tensorflow.contrib.learn.python.learn.datasets.mnist) is deprecated and will be removed in a future version.\n",
      "Instructions for updating:\n",
      "Please use alternatives such as official/mnist/dataset.py from tensorflow/models.\n",
      "WARNING:tensorflow:From C:\\anaconda3\\envs\\tf1\\lib\\site-packages\\tensorflow_core\\contrib\\learn\\python\\learn\\datasets\\mnist.py:260: maybe_download (from tensorflow.contrib.learn.python.learn.datasets.base) is deprecated and will be removed in a future version.\n",
      "Instructions for updating:\n",
      "Please write your own downloading logic.\n",
      "WARNING:tensorflow:From C:\\anaconda3\\envs\\tf1\\lib\\site-packages\\tensorflow_core\\contrib\\learn\\python\\learn\\datasets\\base.py:252: _internal_retry.<locals>.wrap.<locals>.wrapped_fn (from tensorflow.contrib.learn.python.learn.datasets.base) is deprecated and will be removed in a future version.\n",
      "Instructions for updating:\n",
      "Please use urllib or similar directly.\n",
      "Successfully downloaded train-images-idx3-ubyte.gz 9912422 bytes.\n",
      "WARNING:tensorflow:From C:\\anaconda3\\envs\\tf1\\lib\\site-packages\\tensorflow_core\\contrib\\learn\\python\\learn\\datasets\\mnist.py:262: extract_images (from tensorflow.contrib.learn.python.learn.datasets.mnist) is deprecated and will be removed in a future version.\n",
      "Instructions for updating:\n",
      "Please use tf.data to implement this functionality.\n",
      "Extracting data/mnist/train-images-idx3-ubyte.gz\n",
      "Successfully downloaded train-labels-idx1-ubyte.gz 28881 bytes.\n",
      "WARNING:tensorflow:From C:\\anaconda3\\envs\\tf1\\lib\\site-packages\\tensorflow_core\\contrib\\learn\\python\\learn\\datasets\\mnist.py:267: extract_labels (from tensorflow.contrib.learn.python.learn.datasets.mnist) is deprecated and will be removed in a future version.\n",
      "Instructions for updating:\n",
      "Please use tf.data to implement this functionality.\n",
      "Extracting data/mnist/train-labels-idx1-ubyte.gz\n",
      "WARNING:tensorflow:From C:\\anaconda3\\envs\\tf1\\lib\\site-packages\\tensorflow_core\\contrib\\learn\\python\\learn\\datasets\\mnist.py:110: dense_to_one_hot (from tensorflow.contrib.learn.python.learn.datasets.mnist) is deprecated and will be removed in a future version.\n",
      "Instructions for updating:\n",
      "Please use tf.one_hot on tensors.\n",
      "Successfully downloaded t10k-images-idx3-ubyte.gz 1648877 bytes.\n",
      "Extracting data/mnist/t10k-images-idx3-ubyte.gz\n",
      "Successfully downloaded t10k-labels-idx1-ubyte.gz 4542 bytes.\n",
      "Extracting data/mnist/t10k-labels-idx1-ubyte.gz\n",
      "WARNING:tensorflow:From C:\\anaconda3\\envs\\tf1\\lib\\site-packages\\tensorflow_core\\contrib\\learn\\python\\learn\\datasets\\mnist.py:290: DataSet.__init__ (from tensorflow.contrib.learn.python.learn.datasets.mnist) is deprecated and will be removed in a future version.\n",
      "Instructions for updating:\n",
      "Please use alternatives such as official/mnist/dataset.py from tensorflow/models.\n"
     ]
    }
   ],
   "source": [
    "mnist = input_data.read_data_sets('data/mnist/', one_hot=True)"
   ]
  },
  {
   "cell_type": "code",
   "execution_count": 14,
   "id": "c78e90e7",
   "metadata": {},
   "outputs": [
    {
     "name": "stdout",
     "output_type": "stream",
     "text": [
      "<class 'tensorflow.contrib.learn.python.learn.datasets.base.Datasets'>\n",
      "[[0. 0. 0. ... 1. 0. 0.]\n",
      " [0. 0. 0. ... 0. 0. 0.]\n",
      " [0. 0. 0. ... 0. 0. 0.]\n",
      " ...\n",
      " [0. 0. 0. ... 0. 0. 0.]\n",
      " [0. 0. 0. ... 0. 0. 0.]\n",
      " [0. 0. 0. ... 0. 1. 0.]]\n",
      "55000\n",
      "10000\n",
      "(784,)\n"
     ]
    }
   ],
   "source": [
    "print(type(mnist))\n",
    "\n",
    "print(mnist.train.labels)\n",
    "print(mnist.train.num_examples)\n",
    "print(mnist.test.num_examples)\n",
    "# 한장의 이미지의 크기\n",
    "print(mnist.train.images[0].shape)"
   ]
  },
  {
   "cell_type": "code",
   "execution_count": 20,
   "id": "91a3cacc",
   "metadata": {},
   "outputs": [],
   "source": [
    "X = tf.placeholder(tf.float32, shape=[None, 784])\n",
    "y = tf.placeholder(tf.float32, shape=[None, 10]) # one hot encoding 되어있으므로 10\n",
    "\n",
    "W = tf.Variable(tf.random.normal([784, 10]))\n",
    "b = tf.Variable(tf.random_normal([10]))\n",
    "\n",
    "# 가설, 비용\n",
    "logit = tf.matmul(X, W) + b\n",
    "hypot = tf.nn.softmax(logit)\n",
    "cost = tf.nn.softmax_cross_entropy_with_logits_v2(logits=logit, labels=y)\n",
    "\n",
    "# 최소비용\n",
    "train = tf.train.GradientDescentOptimizer(learning_rate=0.0001).minimize(cost)\n"
   ]
  },
  {
   "cell_type": "code",
   "execution_count": 21,
   "id": "4afd49a4",
   "metadata": {},
   "outputs": [
    {
     "name": "stdout",
     "output_type": "stream",
     "text": [
      "0 15.838465\n",
      "100 2.3172798\n",
      "200 0.5875838\n",
      "300 1.4835947\n",
      "400 0.4560144\n"
     ]
    }
   ],
   "source": [
    "sess = tf.Session()\n",
    "sess.run(tf.global_variables_initializer())\n",
    "\n",
    "for step in range(401):\n",
    "    _, c = sess.run([train, tf.reduce_mean(cost)], feed_dict={X:mnist.train.images,\n",
    "                                                              y:mnist.train.labels})\n",
    "    \n",
    "    if step%100 == 0:\n",
    "        print(step, c)"
   ]
  },
  {
   "cell_type": "code",
   "execution_count": 22,
   "id": "d52b0cbc",
   "metadata": {},
   "outputs": [
    {
     "data": {
      "text/plain": [
       "0.9114"
      ]
     },
     "execution_count": 22,
     "metadata": {},
     "output_type": "execute_result"
    }
   ],
   "source": [
    "preds = tf.argmax(hypot, 1)\n",
    "correct = tf.equal(preds, tf.argmax(y, 1))\n",
    "accuracy = tf.reduce_mean(tf.cast(correct, dtype=tf.float32))\n",
    "sess.run(accuracy, feed_dict={X:mnist.test.images, y:mnist.test.labels})"
   ]
  },
  {
   "cell_type": "code",
   "execution_count": 23,
   "id": "f9d8fb94",
   "metadata": {},
   "outputs": [
    {
     "name": "stdout",
     "output_type": "stream",
     "text": [
      "549 [1.2194055e+00 5.6083061e-02 5.0049386e-04 ... 7.0342994e+00 4.6051174e-02\n",
      " 1.1394031e+01]\n",
      "549 [4.5237098e+00 6.3070077e-01 1.5083449e+00 ... 6.6232771e-01 4.8516910e-03\n",
      " 5.4986646e-07]\n",
      "549 [0.02597735 0.13654165 0.3366665  ... 0.67756736 0.41850567 0.00280199]\n",
      "549 [1.3258176e-01 3.8624712e-04 4.9703589e-01 ... 1.3438652e+00 1.1294672e+00\n",
      " 1.6367223e-02]\n",
      "549 [3.0423282e-02 6.1465073e-01 4.6708323e-07 ... 9.9310148e-01 4.8590061e-01\n",
      " 5.2150995e-01]\n"
     ]
    }
   ],
   "source": [
    "##### mini batch\n",
    "\n",
    "training_epochs = 5\n",
    "batch_size = 100\n",
    "\n",
    "for epoch in range(training_epochs):\n",
    "    total_batch = int(mnist.train.num_examples / batch_size)\n",
    "    avg_cost = 0\n",
    "    \n",
    "    for i in range(total_batch):\n",
    "        batch_x, batch_y = mnist.train.next_batch(batch_size)\n",
    "        _,c = sess.run([train, cost], feed_dict={X:mnist.train.images,\n",
    "                                                y:mnist.train.labels})\n",
    "        avg_cost += c / total_batch\n",
    "        \n",
    "    print(i, avg_cost)"
   ]
  },
  {
   "cell_type": "code",
   "execution_count": null,
   "id": "d1a02d69",
   "metadata": {},
   "outputs": [],
   "source": []
  }
 ],
 "metadata": {
  "kernelspec": {
   "display_name": "Python 3 (ipykernel)",
   "language": "python",
   "name": "python3"
  },
  "language_info": {
   "codemirror_mode": {
    "name": "ipython",
    "version": 3
   },
   "file_extension": ".py",
   "mimetype": "text/x-python",
   "name": "python",
   "nbconvert_exporter": "python",
   "pygments_lexer": "ipython3",
   "version": "3.7.11"
  }
 },
 "nbformat": 4,
 "nbformat_minor": 5
}
