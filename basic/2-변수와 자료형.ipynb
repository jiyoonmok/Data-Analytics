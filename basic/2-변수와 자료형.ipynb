{
 "cells": [
  {
   "cell_type": "markdown",
   "id": "cd2d9fcd",
   "metadata": {},
   "source": [
    "## 1. 변수(Variable)의 정의\n",
    "    - 임시 기억(저장) 공간\n",
    "    \n",
    "## 2. 변수의 특징  \n",
    "    - 묵시적 선언\n",
    "    - 동적 바인딩\n",
    "    - immputable(불변성)\n",
    "    - 수정가능성에 따른 분류\n",
    "        + 수정 불가능: int, float, str, bool, tuple\n",
    "        + 수정 가능 : list, dict, set"
   ]
  },
  {
   "cell_type": "code",
   "execution_count": 5,
   "id": "de3e17e6",
   "metadata": {},
   "outputs": [
    {
     "name": "stdout",
     "output_type": "stream",
     "text": [
      "3.14\n",
      "True\n"
     ]
    }
   ],
   "source": [
    "a = 10\n",
    "a\n",
    "\n",
    "a = 11\n",
    "a\n",
    "\n",
    "a = \"안녕하세요\"\n",
    "a\n",
    "\n",
    "a = 3.14\n",
    "print(a)\n",
    "\n",
    "a= True\n",
    "print(a)"
   ]
  },
  {
   "cell_type": "markdown",
   "id": "b0c7b71b",
   "metadata": {},
   "source": [
    "## 3. Data Type : 자료형\n",
    " + 종류\n",
    "    1. 기본 자료형\n",
    "        - int\n",
    "        - float\n",
    "        - str\n",
    "        - bool\n",
    "        \n",
    "    2. 집합 자료형\n",
    "        - list\n",
    "        - tuple\n",
    "        - dict\n",
    "        - set"
   ]
  },
  {
   "cell_type": "code",
   "execution_count": 27,
   "id": "796481e2",
   "metadata": {},
   "outputs": [
    {
     "name": "stdout",
     "output_type": "stream",
     "text": [
      "제 이름은 \"홍길동\" 이라고 합니다.\n",
      "안녕하세요\n",
      "    제 이름은 홍길동입니다.\n",
      "    만나서 반갑습니다.\n"
     ]
    }
   ],
   "source": [
    "#### 문자열 저장\n",
    "\n",
    "a = 10\n",
    "type(a)\n",
    "\n",
    "a = '10'\n",
    "type(a)\n",
    "\n",
    "a = '제 이름은 \"홍길동\" 이라고 합니다.'\n",
    "print(a)\n",
    "\n",
    "a = \"\"\"안녕하세요\n",
    "    제 이름은 홍길동입니다.\n",
    "    만나서 반갑습니다.\"\"\"\n",
    "print(a)"
   ]
  },
  {
   "cell_type": "code",
   "execution_count": 28,
   "id": "482ac6e7",
   "metadata": {},
   "outputs": [
    {
     "name": "stdout",
     "output_type": "stream",
     "text": [
      "이것은 파이썬입니다. \n",
      "\n",
      "\n",
      " 열심히 공부합시다.\n",
      "현재 시간은 \t\t4시 입니다.\n",
      "\"\\t는 탭키의 기능이다.\"\n"
     ]
    }
   ],
   "source": [
    "##### 특수 문자(제어 문자) : \\문자, \\(escape 문자)\n",
    "\n",
    "a = \"이것은 파이썬입니다. \\n\\n\\n 열심히 공부합시다.\"\n",
    "print(a)\n",
    "\n",
    "a = \"현재 시간은 \\t\\t4시 입니다.\"\n",
    "print(a)\n",
    "\n",
    "# \\t는 탭 키의 기능이다.\n",
    "print(\"\\\"\\\\t는 탭키의 기능이다.\\\"\")"
   ]
  },
  {
   "cell_type": "code",
   "execution_count": 29,
   "id": "0850bfd1",
   "metadata": {},
   "outputs": [
    {
     "name": "stdout",
     "output_type": "stream",
     "text": [
      "10 + 2 - 3 + 5 + 6 * 7\n"
     ]
    }
   ],
   "source": [
    "# \\을 줄바꿈의 용도로 사용\n",
    "\n",
    "a = \"10 + 2 - 3 + 5 \\\n",
    "+ 6 * 7\"\n",
    "\n",
    "print(a)"
   ]
  },
  {
   "cell_type": "code",
   "execution_count": 30,
   "id": "0616a377",
   "metadata": {},
   "outputs": [
    {
     "name": "stdout",
     "output_type": "stream",
     "text": [
      "('python', ' is fun', ' and great')\n",
      "python is fun and great\n"
     ]
    }
   ],
   "source": [
    "#### 문자열을 연결하기\n",
    "\n",
    "a = \"python\"\n",
    "b = \" is fun\"\n",
    "c = \" and great\"\n",
    "d = a,b,c\n",
    "\n",
    "print(d)\n",
    "\n",
    "d = a + b + c\n",
    "print(d)"
   ]
  },
  {
   "cell_type": "code",
   "execution_count": 31,
   "id": "78692534",
   "metadata": {},
   "outputs": [
    {
     "name": "stdout",
     "output_type": "stream",
     "text": [
      "pythonpythonpython\n"
     ]
    }
   ],
   "source": [
    "#### 문자열 곱하기(반복)\n",
    "\n",
    "print(a*3)"
   ]
  },
  {
   "cell_type": "code",
   "execution_count": 32,
   "id": "1f55dacd",
   "metadata": {},
   "outputs": [
    {
     "name": "stdout",
     "output_type": "stream",
     "text": [
      "6\n",
      "7\n",
      "10\n"
     ]
    }
   ],
   "source": [
    "#### 문자열의 길이\n",
    "\n",
    "print(len(a))\n",
    "print(len(b))\n",
    "print(len(c))"
   ]
  },
  {
   "cell_type": "code",
   "execution_count": 33,
   "id": "0953e755",
   "metadata": {},
   "outputs": [
    {
     "name": "stdout",
     "output_type": "stream",
     "text": [
      "e\n",
      "o\n",
      "---------------------\n",
      "34\n",
      "n\n",
      "----------------------\n",
      "n\n"
     ]
    }
   ],
   "source": [
    "#### 인덱싱(indexing) : 원하는 문자에 접근할 수 있는 방법 제공\n",
    "\n",
    "a =\"Life is too short. You need python\"\n",
    "\n",
    "print(a[3])\n",
    "print(a[10])\n",
    "\n",
    "print(\"---------------------\")\n",
    "\n",
    "print(len(a))\n",
    "print(a[len(a)-1])\n",
    "\n",
    "print(\"----------------------\")\n",
    "\n",
    "print(a[-1])"
   ]
  },
  {
   "cell_type": "code",
   "execution_count": 34,
   "id": "0b0b1aea",
   "metadata": {},
   "outputs": [
    {
     "name": "stdout",
     "output_type": "stream",
     "text": [
      "Life i\n",
      "Life i\n",
      "s too short. You need python\n",
      "You need\n"
     ]
    }
   ],
   "source": [
    "#### 슬라이싱(slicing) -> [시작위치 : 끝위치]\n",
    "\n",
    "print(a[0:6])\n",
    "print(a[:6])\n",
    "print(a[6:])\n",
    "print(a[19:-7])"
   ]
  },
  {
   "cell_type": "code",
   "execution_count": 35,
   "id": "85bccf43",
   "metadata": {},
   "outputs": [
    {
     "name": "stdout",
     "output_type": "stream",
     "text": [
      "Life is too short. You need python\n",
      "Lf stosot o edpto\n"
     ]
    }
   ],
   "source": [
    "#### [시작위치:끝위치:STEP]\n",
    "\n",
    "print(a[::1])\n",
    "print(a[::2])"
   ]
  },
  {
   "cell_type": "code",
   "execution_count": 36,
   "id": "7bfdaa03",
   "metadata": {},
   "outputs": [
    {
     "ename": "TypeError",
     "evalue": "'str' object does not support item assignment",
     "output_type": "error",
     "traceback": [
      "\u001b[1;31m---------------------------------------------------------------------------\u001b[0m",
      "\u001b[1;31mTypeError\u001b[0m                                 Traceback (most recent call last)",
      "\u001b[1;32m<ipython-input-36-8342051d7d2c>\u001b[0m in \u001b[0;36m<module>\u001b[1;34m\u001b[0m\n\u001b[0;32m      2\u001b[0m \u001b[1;33m\u001b[0m\u001b[0m\n\u001b[0;32m      3\u001b[0m \u001b[0ma\u001b[0m \u001b[1;33m=\u001b[0m \u001b[1;34m'pithon'\u001b[0m\u001b[1;33m\u001b[0m\u001b[1;33m\u001b[0m\u001b[0m\n\u001b[1;32m----> 4\u001b[1;33m \u001b[0ma\u001b[0m\u001b[1;33m[\u001b[0m\u001b[1;36m1\u001b[0m\u001b[1;33m]\u001b[0m \u001b[1;33m=\u001b[0m \u001b[1;34m'y'\u001b[0m\u001b[1;33m\u001b[0m\u001b[1;33m\u001b[0m\u001b[0m\n\u001b[0m",
      "\u001b[1;31mTypeError\u001b[0m: 'str' object does not support item assignment"
     ]
    }
   ],
   "source": [
    "#### 수정 불가\n",
    "\n",
    "a = 'pithon'\n",
    "a[1] = 'y'"
   ]
  },
  {
   "cell_type": "code",
   "execution_count": 37,
   "id": "b595421c",
   "metadata": {},
   "outputs": [
    {
     "name": "stdout",
     "output_type": "stream",
     "text": [
      "23\n",
      "3\n"
     ]
    }
   ],
   "source": [
    "#### 문자열 관련 함수\n",
    "\n",
    "# count()\n",
    "str1 = \"홍길동, 홍경래, 홍장군, 임경업, 신돌석\"\n",
    "\n",
    "print(len(str1))\n",
    "print(str1.count(\"홍\"))"
   ]
  },
  {
   "cell_type": "markdown",
   "id": "3c91d92a",
   "metadata": {},
   "source": [
    "### p112  연습문제"
   ]
  },
  {
   "cell_type": "code",
   "execution_count": 39,
   "id": "9d708d44",
   "metadata": {},
   "outputs": [
    {
     "name": "stdout",
     "output_type": "stream",
     "text": [
      "70.0\n"
     ]
    }
   ],
   "source": [
    "# 1. 평균점수 구하기\n",
    "국어 = 80\n",
    "영어 = 75\n",
    "수학 = 55\n",
    "평균 = (국어+영어+수학)/3\n",
    "print(평균)"
   ]
  },
  {
   "cell_type": "code",
   "execution_count": 46,
   "id": "0219c3aa",
   "metadata": {},
   "outputs": [
    {
     "name": "stdout",
     "output_type": "stream",
     "text": [
      "13 은 홀수\n"
     ]
    }
   ],
   "source": [
    "# 2. 홀수인지 짝수인지\n",
    "a = 13\n",
    "if a%2 == 0 :\n",
    "    print(a,\"은 짝수\")\n",
    "else:\n",
    "    print(a,\"은 홀수\")"
   ]
  },
  {
   "cell_type": "code",
   "execution_count": 48,
   "id": "0ff5e9de",
   "metadata": {},
   "outputs": [
    {
     "name": "stdout",
     "output_type": "stream",
     "text": [
      "881120\n",
      "068234\n"
     ]
    }
   ],
   "source": [
    "# 3. 주민등록번호 앞부분 뒷부분 나누어 출력\n",
    "pin = \"881120-1068234\"\n",
    "yymmdd = pin[:6]\n",
    "num = pin[8:]\n",
    "print(yymmdd)\n",
    "print(num)"
   ]
  },
  {
   "cell_type": "code",
   "execution_count": 51,
   "id": "e3d60cc4",
   "metadata": {},
   "outputs": [
    {
     "name": "stdout",
     "output_type": "stream",
     "text": [
      "1\n"
     ]
    }
   ],
   "source": [
    "# 4. 주민번호 뒷자리 맨 첫번째 숫자 출력\n",
    "pin = \"881120-1068234\"\n",
    "print(pin[7])"
   ]
  },
  {
   "cell_type": "code",
   "execution_count": 55,
   "id": "eb78689e",
   "metadata": {},
   "outputs": [
    {
     "name": "stdout",
     "output_type": "stream",
     "text": [
      "a#b#c#d\n"
     ]
    }
   ],
   "source": [
    "# 5. replace 함수 이용하여 문자열 바꾸기\n",
    "a = \"a:b:c:d\"\n",
    "b = a.replace(\":\",\"#\",3)\n",
    "print(b)"
   ]
  },
  {
   "cell_type": "code",
   "execution_count": 60,
   "id": "89184e13",
   "metadata": {},
   "outputs": [
    {
     "name": "stdout",
     "output_type": "stream",
     "text": [
      "[5, 4, 3, 2, 1]\n"
     ]
    }
   ],
   "source": [
    "# 6. [1,3,5,2,4] -> [5,4,3,2,1]\n",
    "a = [1,3,5,2,4]\n",
    "a.sort()\n",
    "a.sort(reverse=True)\n",
    "print(a)"
   ]
  },
  {
   "cell_type": "code",
   "execution_count": 19,
   "id": "ee0bf26c",
   "metadata": {},
   "outputs": [
    {
     "name": "stdout",
     "output_type": "stream",
     "text": [
      "a,b,c,d,e,f,g\n",
      "----------------------------------------------------\n",
      "['홍길동', ' 홍경래', ' 홍장군', ' 임경업', ' 신돌석']\n",
      "----------------------------------------------------\n",
      "1 21 -1\n",
      "1 21\n",
      "               python\n",
      "python\n",
      "python\n",
      "Hello, Python!\n",
      "123456789\n",
      "일이삼사오육칠팔구\n",
      "1이3사5육칠팔구\n"
     ]
    }
   ],
   "source": [
    "# join()\n",
    "str1 = \"abcdefg\"\n",
    "print(\",\".join(str1))\n",
    "\n",
    "print(\"----------------------------------------------------\")\n",
    "\n",
    "str1 = \"홍길동, 홍경래, 홍장군, 임경업, 신돌석\"\n",
    "print(str1.split(\",\"))\n",
    "\n",
    "print(\"----------------------------------------------------\")\n",
    "\n",
    "# find(), index()\n",
    "print(str1.find(\"길\"), str1.find(\"돌\"), str1.find(\"별\"))\n",
    "print(str1.index(\"길\"),str1.index(\"돌\"))\n",
    "\n",
    "# lstrip(),rstrip(),strip()\n",
    "str1 = \"               python\"\n",
    "print(str1)\n",
    "print(str1.lstrip())\n",
    "\n",
    "str1 = \"python.,\"\n",
    "print(str1.rstrip(\".,\"))\n",
    "\n",
    "# replace(), [maketrans(), translate()]\n",
    "str1 = \"Hello, World!\"\n",
    "print(str1.replace(\"World\",\"Python\"))\n",
    "\n",
    "str1 = \"일이삼사오육칠팔구\"\n",
    "print(str1.replace(\"일이삼사오육칠팔구\",\"123456789\"))\n",
    "print(str1.replace(\"일삼오\",\"135\")) # 일삼오라는 문자열이 없어서 불가능함\n",
    "\n",
    "print(str1.translate(str1.maketrans(\"일삼오\",\"135\")))"
   ]
  },
  {
   "cell_type": "code",
   "execution_count": 38,
   "id": "f7b075f1",
   "metadata": {},
   "outputs": [
    {
     "name": "stdout",
     "output_type": "stream",
     "text": [
      "현재 온도는 18도입니다.\n",
      "현재 온도는 18도입니다. 오늘의 날씨는 맑음입니다.\n",
      "나눗셈의 결과: 3 / 5 = 0.600000 입니다.\n",
      "  나눗셈의 결과: 3 / 5 = 0.600000 입니다.\n",
      "나눗셈  의 결과: 3 / 5 = 0.60 입니다.\n",
      "----------------------------------------------------------------------\n",
      "나눗셈의 결과: 3 / 5 = 0.6 입니다.\n",
      "나눗셈의 결과: 3 / 5 = 0.6 입니다.\n",
      "나눗셈의 결과: 3 / 5 = 0.6 입니다.\n",
      "나눗셈       의 결과: 3 / 5 = 0.6 입니다.\n",
      "       나눗셈의 결과: 3 / 5 = 0.6 입니다.\n",
      "*******나눗셈의 결과: 3 / 5 = 0.60 입니다.\n"
     ]
    }
   ],
   "source": [
    "#### 문자열 포맷팅 : % , format()\n",
    "\n",
    "## %를 이용하는 방법\n",
    "print(\"현재 온도는 18도입니다.\")\n",
    "print(\"현재 온도는 %d도입니다. 오늘의 날씨는 %s입니다.\" %(18,\"맑음\"))\n",
    "\n",
    "print(\"%s의 결과: %d %c %d = %f 입니다.\"%(\"나눗셈\",3,\"/\",5,(3/5)))\n",
    "print(\"%5s의 결과: %d %c %d = %f 입니다.\"%(\"나눗셈\",3,\"/\",5,(3/5)))\n",
    "print(\"%-5s의 결과: %d %c %d = %0.2f 입니다.\"%(\"나눗셈\",3,\"/\",5,(3/5)))\n",
    "\n",
    "print(\"----------------------------------------------------------------------\")\n",
    "\n",
    "print(\"{}의 결과: {} {} {} = {} 입니다.\".format(\"나눗셈\",3,\"/\",5,(3/5)))\n",
    "print(\"{3}의 결과: {0} {1} {2} = {4} 입니다.\".format(3,\"/\",5,\"나눗셈\",(3/5)))\n",
    "print(\"{title}의 결과: {num1} {op} {num2} = {result} 입니다.\".format(num1=3,op=\"/\",num2=5,title=\"나눗셈\",result=(3/5)))\n",
    "print(\"{3:10}의 결과: {0} {1} {2} = {4} 입니다.\".format(3,\"/\",5,\"나눗셈\",(3/5)))\n",
    "print(\"{3:>10}의 결과: {0} {1} {2} = {4} 입니다.\".format(3,\"/\",5,\"나눗셈\",(3/5)))\n",
    "print(\"{3:*>10}의 결과: {0} {1} {2} = {4:0.2f} 입니다.\".format(3,\"/\",5,\"나눗셈\",(3/5)))"
   ]
  },
  {
   "cell_type": "markdown",
   "id": "4d30b403",
   "metadata": {},
   "source": [
    "---  \n",
    "#### (2) bool"
   ]
  },
  {
   "cell_type": "code",
   "execution_count": 46,
   "id": "54fa1745",
   "metadata": {},
   "outputs": [
    {
     "name": "stdout",
     "output_type": "stream",
     "text": [
      "False\n",
      "<class 'bool'>\n",
      "-------------------------------------------------\n",
      "10\n",
      "True True True False\n",
      "True True True False False False\n",
      "False\n"
     ]
    }
   ],
   "source": [
    "a = False\n",
    "print(a)\n",
    "print(type(a))\n",
    "\n",
    "print(\"-------------------------------------------------\")\n",
    "\n",
    "print(10)\n",
    "print(bool(10),bool(3.14),bool(-2),bool(0))\n",
    "print(bool(\"가\"),bool(\"가나다\"),bool(\" \"),bool(\"\"),bool(),bool(None))\n",
    "\n",
    "a = None\n",
    "print(bool(a))"
   ]
  },
  {
   "cell_type": "markdown",
   "id": "eab7a04d",
   "metadata": {},
   "source": [
    "---\n",
    "#### (3) list\n",
    "\n",
    "+ [] 사용\n",
    "+ 임의의 객체를 순차적으로 저장하는 집합적 자료형(Sequence data)\n",
    "+ 인덱스 사용\n",
    "+ mutable"
   ]
  },
  {
   "cell_type": "code",
   "execution_count": 52,
   "id": "926a313f",
   "metadata": {},
   "outputs": [
    {
     "name": "stdout",
     "output_type": "stream",
     "text": [
      "<class 'int'> <class 'list'>\n",
      "10 11 12\n",
      "178\n"
     ]
    }
   ],
   "source": [
    "# a = 10\n",
    "# b = 11\n",
    "# c = 12\n",
    "a,b,c = 10,11,12\n",
    "\n",
    "d = [10,11,12]\n",
    "print(type(a),type(d))\n",
    "print(d[0],d[1],d[2])\n",
    "\n",
    "e = [\"james\", 178, 3.14, True]\n",
    "print(e[1])"
   ]
  },
  {
   "cell_type": "code",
   "execution_count": 55,
   "id": "d896694b",
   "metadata": {},
   "outputs": [
    {
     "name": "stdout",
     "output_type": "stream",
     "text": [
      "[1, 2, 3, '가', 3.14, ['a', 'b', 'c']]\n",
      "['a', 'b', 'c']\n",
      "b\n",
      "a\n"
     ]
    }
   ],
   "source": [
    "#### indexing\n",
    "\n",
    "a = [1,2,3,\"가\",3.14,['a','b','c']]\n",
    "print(a)\n",
    "print(a[5])\n",
    "print(a[5][1])\n",
    "print(a[-1][-3])"
   ]
  },
  {
   "cell_type": "code",
   "execution_count": 62,
   "id": "b71ac759",
   "metadata": {},
   "outputs": [
    {
     "name": "stdout",
     "output_type": "stream",
     "text": [
      "[10, 2, 3, 4, 5]\n",
      "[10, 2, 3, 4, 5]\n",
      "------------------------------------------------\n",
      "[10, 2, 3, 4, 5]\n",
      "[1, 2, 3, 4, 5]\n"
     ]
    }
   ],
   "source": [
    "#### 복사 (얕은 복사, 깊은 복사)\n",
    "\n",
    "# 얕은 복사 -> 주소 복사 \n",
    "a = [1,2,3,4,5]\n",
    "\n",
    "b = a\n",
    "\n",
    "b[0] = 10\n",
    "\n",
    "print(b)\n",
    "print(a)\n",
    "\n",
    "print(\"------------------------------------------------\")\n",
    "\n",
    "# 깊은 복사 -> 데이터를 복사\n",
    "a = [1,2,3,4,5]\n",
    "\n",
    "b = a[0:5]\n",
    "\n",
    "b[0] = 10\n",
    "\n",
    "print(b)\n",
    "print(a)"
   ]
  },
  {
   "cell_type": "code",
   "execution_count": 63,
   "id": "358d7f7f",
   "metadata": {},
   "outputs": [
    {
     "name": "stdout",
     "output_type": "stream",
     "text": [
      "<class 'list'>\n"
     ]
    }
   ],
   "source": [
    "#### list의 생성\n",
    "\n",
    "a = []\n",
    "a = list()\n",
    "print(type(a))"
   ]
  },
  {
   "cell_type": "code",
   "execution_count": 67,
   "id": "4ef3700a",
   "metadata": {},
   "outputs": [
    {
     "name": "stdout",
     "output_type": "stream",
     "text": [
      "10 <class 'int'>\n",
      "10 <class 'str'>\n",
      "10.0 <class 'float'>\n",
      "True <class 'bool'>\n"
     ]
    }
   ],
   "source": [
    "#### 각 자료형 함수(참고)\n",
    "\n",
    "a = '10'\n",
    "print(int(a),type(int(a)))\n",
    "print(str(a),type(str(a)))\n",
    "print(float(a), type(float(a)))\n",
    "print(bool(a),type(bool(a)))"
   ]
  },
  {
   "cell_type": "code",
   "execution_count": 75,
   "id": "17431926",
   "metadata": {},
   "outputs": [
    {
     "name": "stdout",
     "output_type": "stream",
     "text": [
      "[1, 2, 3]\n",
      "[1, 2, 3]\n",
      "[0, 1, 2, 3, 4, 5, 6, 7, 8, 9]\n",
      "[5, 6, 7, 8, 9, 10, 11]\n",
      "[-4, -3, -2, -1, 0, 1, 2, 3, 4, 5, 6, 7, 8, 9, 10, 11]\n",
      "[10, 9, 8, 7, 6, 5, 4, 3, 2, 1]\n"
     ]
    }
   ],
   "source": [
    "#### list 초기화\n",
    "a = [1,2,3]\n",
    "print(a)\n",
    "\n",
    "a = list([1,2,3])\n",
    "print(a)\n",
    "\n",
    "a = list(range(0,10)) # range(10),range(0,10,1)\n",
    "print(a)\n",
    "\n",
    "a = list(range(5,12))\n",
    "print(a)\n",
    "\n",
    "a = list(range(-4,12,1))\n",
    "print(a)\n",
    "\n",
    "a = list(range(10,0,-1))\n",
    "print(a)"
   ]
  },
  {
   "cell_type": "code",
   "execution_count": 85,
   "id": "edc52190",
   "metadata": {},
   "outputs": [
    {
     "name": "stdout",
     "output_type": "stream",
     "text": [
      "[1.2, 3, 4, 5, 6]\n",
      "[1.2, 3, 1.2, 3, 1.2, 3]\n",
      "3hi~~\n",
      "3 hi~~\n"
     ]
    }
   ],
   "source": [
    "#### 연산 기능\n",
    "\n",
    "a = [1.2,3]\n",
    "b = [4,5,6]\n",
    "\n",
    "print(a+b)\n",
    "print(a*3)\n",
    "print(str(a[1]) + \"hi~~\")"
   ]
  },
  {
   "cell_type": "code",
   "execution_count": 93,
   "id": "06ad8208",
   "metadata": {},
   "outputs": [
    {
     "name": "stdout",
     "output_type": "stream",
     "text": [
      "[1, 2, 3]\n",
      "[100, 1, 2, 3]\n",
      "[100, 1, 2, 3, 4]\n",
      "[100, 1, 2, 3, 4, 5]\n",
      "[100, 1, 2, 3, 4, 5, [6, 7, 8]]\n",
      "[100, 1, 2, 3, 4, 5, [6, 7, 8], 9, 10, 11]\n"
     ]
    }
   ],
   "source": [
    "#### 추가하기: insert(), append(), extend()\n",
    "\n",
    "a = [1,2,3]\n",
    "print(a)\n",
    "\n",
    "# 0번째 위치에 100이라는 값을 추가\n",
    "a.insert(0,100)\n",
    "print(a)\n",
    "\n",
    "# 맨 뒤에 추가하기\n",
    "a.append(4)\n",
    "print(a)\n",
    "\n",
    "# append를 확장한 함수 . 맨 뒤에 추가하기. 반드시 list형식으로 추가!!!!\n",
    "a.extend([5])\n",
    "print(a)\n",
    "\n",
    "a.append([6,7,8])\n",
    "print(a)\n",
    "\n",
    "a.extend([9,10,11])\n",
    "print(a)"
   ]
  },
  {
   "cell_type": "markdown",
   "id": "f2b2fb18",
   "metadata": {},
   "source": [
    "### p113 연습문제"
   ]
  },
  {
   "cell_type": "code",
   "execution_count": 98,
   "id": "1ff715c6",
   "metadata": {},
   "outputs": [
    {
     "name": "stdout",
     "output_type": "stream",
     "text": [
      "Life is too short\n"
     ]
    }
   ],
   "source": [
    "# 7. 리스트를 문자열로 만들어 출력\n",
    "a = ['Life','is','too','short']\n",
    "result = \" \".join(a)\n",
    "print(result)"
   ]
  },
  {
   "cell_type": "code",
   "execution_count": 99,
   "id": "14d93492",
   "metadata": {},
   "outputs": [
    {
     "name": "stdout",
     "output_type": "stream",
     "text": [
      "[1, 4, 3]\n"
     ]
    }
   ],
   "source": [
    "# 12. 변수 값 변경\n",
    "a = b = [1,2,3]\n",
    "a[1] = 4\n",
    "print(b)"
   ]
  },
  {
   "cell_type": "code",
   "execution_count": 105,
   "id": "bb6ec206",
   "metadata": {},
   "outputs": [
    {
     "name": "stdout",
     "output_type": "stream",
     "text": [
      "[1, 2, 3, 4]\n",
      "[1, 2, 3, 4]\n",
      "[1, 4, 3, 2]\n",
      "[1, 2, 3, 4]\n",
      "[4, 3, 2, 1]\n"
     ]
    }
   ],
   "source": [
    "#### 정렬\n",
    "\n",
    "# 원본이 바뀜\n",
    "a = [1, 4, 3, 2]\n",
    "a.sort()\n",
    "print(a)\n",
    "\n",
    "# 복사해서 정렬\n",
    "a = [1, 4, 3, 2]\n",
    "print(sorted(a))\n",
    "print(a)\n",
    "\n",
    "# 복사본의 주소가 새 주소가 됨. 원본주소는 가비지 데이터가 됨\n",
    "a = sorted(a)\n",
    "print(a)\n",
    "\n",
    "a.reverse()\n",
    "print(a)"
   ]
  },
  {
   "cell_type": "code",
   "execution_count": 113,
   "id": "7e1ef6b1",
   "metadata": {},
   "outputs": [
    {
     "name": "stdout",
     "output_type": "stream",
     "text": [
      "[1, 1, 2, 3]\n",
      "[1, 2, 1, 2, 3]\n",
      "[1, 2, 1, 2]\n",
      "[]\n",
      "-----------------------------------\n",
      "3\n",
      "[1, 2]\n",
      "2\n",
      "[1]\n"
     ]
    }
   ],
   "source": [
    "#### 제거\n",
    "\n",
    "# 범위를 지정해서 제거 \n",
    "a = [1, 2, 3, 1, 2, 3]\n",
    "a[1:3] = []\n",
    "print(a)\n",
    "\n",
    "# 값을 찾아서 삭제\n",
    "a = [1, 2, 3, 1, 2, 3]\n",
    "a.remove(3)\n",
    "print(a)\n",
    "\n",
    "# 위치를 찾아서 삭제\n",
    "del a[4]\n",
    "print(a)\n",
    "\n",
    "# 전체 데이터 삭제\n",
    "a = [1, 2, 3, 1, 2, 3]\n",
    "a[:] = []\n",
    "print(a)\n",
    "\n",
    "print(\"-----------------------------------\")\n",
    "\n",
    "# stack (LIFO구조 last in first out)\n",
    "a = [1, 2, 3]\n",
    "b = a.pop()\n",
    "print(b)\n",
    "print(a)\n",
    "\n",
    "b = a.pop()\n",
    "print(b)\n",
    "print(a)"
   ]
  },
  {
   "cell_type": "code",
   "execution_count": 115,
   "id": "cb85a427",
   "metadata": {},
   "outputs": [
    {
     "name": "stdout",
     "output_type": "stream",
     "text": [
      "3\n",
      "True\n",
      "False\n"
     ]
    }
   ],
   "source": [
    "#### 검색\n",
    "\n",
    "a = [1, 2, 3, 4, 5]\n",
    "print(a. index(4))\n",
    "\n",
    "print(2 in a)\n",
    "print(7 in a)"
   ]
  },
  {
   "cell_type": "markdown",
   "id": "f2212895",
   "metadata": {},
   "source": [
    "---\n",
    "\n",
    "#### 4. tuple\n",
    "\n",
    "+ () 사용\n",
    "+ immutable"
   ]
  },
  {
   "cell_type": "code",
   "execution_count": 117,
   "id": "5a6903ed",
   "metadata": {},
   "outputs": [
    {
     "name": "stdout",
     "output_type": "stream",
     "text": [
      "('a', 'b', 'c', 'd')\n",
      "<class 'tuple'>\n",
      "4\n",
      "1\n",
      "1\n"
     ]
    }
   ],
   "source": [
    "a = ('a','b','c','d')\n",
    "print(a)\n",
    "print(type(a))\n",
    "\n",
    "print(len(a))\n",
    "print(a.count('c'))\n",
    "print(a.index('b'))"
   ]
  },
  {
   "cell_type": "code",
   "execution_count": 123,
   "id": "a937d3ec",
   "metadata": {},
   "outputs": [
    {
     "name": "stdout",
     "output_type": "stream",
     "text": [
      "['a', 10, 'c', 'd']\n",
      "('a', 10, 'c', 'd')\n"
     ]
    }
   ],
   "source": [
    "# immutable (수정할 수 없다)\n",
    "# a[1] = 10\n",
    "\n",
    "# 리스트로 바꾸면 수정할 수 있다.\n",
    "b = list(a)\n",
    "b[1] = 10\n",
    "print(b)\n",
    "\n",
    "c = tuple(b)\n",
    "print(c)"
   ]
  },
  {
   "cell_type": "code",
   "execution_count": 124,
   "id": "5896b5a2",
   "metadata": {},
   "outputs": [
    {
     "name": "stdout",
     "output_type": "stream",
     "text": [
      "(10, 20, 30)\n",
      "10 20 30\n"
     ]
    }
   ],
   "source": [
    "#### packing과 unpacking\n",
    "\n",
    "a = 10,20,30\n",
    "print(a)\n",
    "\n",
    "# a1 = a[0]\n",
    "# a2 = a[1]\n",
    "# a3 = a[2]\n",
    "\n",
    "a1,a2,a3 = a\n",
    "print(a1, a2, a3)"
   ]
  },
  {
   "cell_type": "markdown",
   "id": "bf0851c8",
   "metadata": {},
   "source": [
    "---\n",
    "\n",
    "#### (5) dict (dictionary)\n",
    "\n",
    "+ 순서가 없다.\n",
    "+ {키:값, 키:값, 키:값, ...}\n",
    "+ 키를 이용해서 값을 조회\n",
    "+ 인덱스를 사용할수는 없음"
   ]
  },
  {
   "cell_type": "code",
   "execution_count": 125,
   "id": "129bcde0",
   "metadata": {},
   "outputs": [
    {
     "name": "stdout",
     "output_type": "stream",
     "text": [
      "{'name': '홍길동', 'tel': '111-1111', 'age': 25}\n",
      "<class 'dict'>\n"
     ]
    }
   ],
   "source": [
    "a = {\"name\":\"홍길동\", \"tel\":\"111-1111\", \"age\":25}\n",
    "print(a)\n",
    "print(type(a))"
   ]
  },
  {
   "cell_type": "code",
   "execution_count": 126,
   "id": "d6253e58",
   "metadata": {},
   "outputs": [
    {
     "name": "stdout",
     "output_type": "stream",
     "text": [
      "홍길동 111-1111 25\n"
     ]
    }
   ],
   "source": [
    "print(a[\"name\"], a[\"tel\"], a[\"age\"])"
   ]
  },
  {
   "cell_type": "code",
   "execution_count": 127,
   "id": "4e1f135d",
   "metadata": {},
   "outputs": [
    {
     "name": "stdout",
     "output_type": "stream",
     "text": [
      "dict_keys(['name', 'tel', 'age'])\n",
      "dict_values(['홍길동', '111-1111', 25])\n",
      "dict_items([('name', '홍길동'), ('tel', '111-1111'), ('age', 25)])\n"
     ]
    }
   ],
   "source": [
    "print(a.keys())\n",
    "print(a.values())\n",
    "print(a.items())"
   ]
  },
  {
   "cell_type": "code",
   "execution_count": 134,
   "id": "e18a6650",
   "metadata": {},
   "outputs": [
    {
     "name": "stdout",
     "output_type": "stream",
     "text": [
      "dict_items([('name', '홍길동'), ('tel', '111-1111'), ('age', 25)])\n",
      "<class 'dict_items'>\n",
      "[('name', '홍길동'), ('tel', '111-1111'), ('age', 25)]\n",
      "<class 'list'>\n",
      "('name', '홍길동') name\n"
     ]
    }
   ],
   "source": [
    "b = a.items()\n",
    "print(b)\n",
    "print(type(b))\n",
    "\n",
    "# 자동화가 필요할땐 리스트로 바꾸어 쓴다\n",
    "c = list(a.items())\n",
    "print(c)\n",
    "print(type(c))\n",
    "print(c[0], c[0][0])"
   ]
  },
  {
   "cell_type": "code",
   "execution_count": 135,
   "id": "c3964365",
   "metadata": {},
   "outputs": [
    {
     "name": "stdout",
     "output_type": "stream",
     "text": [
      "{'name': '임꺽정', 'tel': '111-1111', 'age': 25}\n"
     ]
    }
   ],
   "source": [
    "#### 수정\n",
    " \n",
    "a['name'] = '임꺽정'\n",
    "print(a)"
   ]
  },
  {
   "cell_type": "code",
   "execution_count": 136,
   "id": "255016c9",
   "metadata": {},
   "outputs": [
    {
     "name": "stdout",
     "output_type": "stream",
     "text": [
      "{'name': '임꺽정', 'tel': '111-1111', 'age': 25, 'hobby': ['낚시', '여행', '독서']}\n"
     ]
    }
   ],
   "source": [
    "#### 추가\n",
    "\n",
    "a['hobby'] = ['낚시', '여행', '독서']\n",
    "print(a)"
   ]
  },
  {
   "cell_type": "code",
   "execution_count": 137,
   "id": "86a2c60e",
   "metadata": {},
   "outputs": [
    {
     "name": "stdout",
     "output_type": "stream",
     "text": [
      "{}\n"
     ]
    }
   ],
   "source": [
    "#### 삭제\n",
    "\n",
    "a.clear()\n",
    "print(a)"
   ]
  },
  {
   "cell_type": "code",
   "execution_count": 143,
   "id": "8a7b5496",
   "metadata": {},
   "outputs": [
    {
     "name": "stdout",
     "output_type": "stream",
     "text": [
      "홍길동\n",
      "홍길동\n",
      "독서\n",
      "{'name': '홍길동', 'tel': '111-1111', 'age': 25}\n"
     ]
    }
   ],
   "source": [
    "#### 데이터 가져오기 : get(\"키\",default)\n",
    "\n",
    "a = {\"name\":\"홍길동\", \"tel\":\"111-1111\", \"age\":25}\n",
    "\n",
    "print(a[\"name\"])\n",
    "print(a.get(\"name\"))\n",
    "\n",
    "# print(a[\"hobby\"])\n",
    "\n",
    "# 없는 데이터도 가져 올 수 있음\n",
    "print(a.get(\"hobby\", \"독서\"))\n",
    "print(a)"
   ]
  },
  {
   "cell_type": "markdown",
   "id": "05730b6c",
   "metadata": {},
   "source": [
    "---\n",
    "#### (6)set\n",
    "\n",
    "+ {} 사용\n",
    "+ 순서가 없다 \n",
    "+ 중복 불가능 "
   ]
  },
  {
   "cell_type": "code",
   "execution_count": 144,
   "id": "dba8a9f5",
   "metadata": {},
   "outputs": [
    {
     "name": "stdout",
     "output_type": "stream",
     "text": [
      "{1, 2, 3, 4}\n",
      "<class 'set'>\n"
     ]
    }
   ],
   "source": [
    "a = {1, 2, 3, 4, 1, 2, 3, 4}\n",
    "print(a)\n",
    "print(type(a))"
   ]
  },
  {
   "cell_type": "code",
   "execution_count": 145,
   "id": "b0a86821",
   "metadata": {},
   "outputs": [
    {
     "name": "stdout",
     "output_type": "stream",
     "text": [
      "1\n"
     ]
    }
   ],
   "source": [
    "# print(a[0])\n",
    "b = list(a)\n",
    "print(b[0])"
   ]
  },
  {
   "cell_type": "code",
   "execution_count": 152,
   "id": "007cfba7",
   "metadata": {},
   "outputs": [
    {
     "name": "stdout",
     "output_type": "stream",
     "text": [
      "{1, 2, 3, 4, 5, 6, 7, 8, 9}\n",
      "{4, 5, 6}\n",
      "{1, 2, 3}\n"
     ]
    }
   ],
   "source": [
    "#### 집합 연산\n",
    "\n",
    "s1 = {1, 2, 3, 4, 5, 6}\n",
    "s2 = {4, 5, 6, 7, 8, 9}\n",
    "\n",
    "# 합집합\n",
    "print(s1.union(s2))\n",
    "\n",
    "# 교집합\n",
    "print(s1.intersection(s2))\n",
    "\n",
    "# 차집합\n",
    "print(s1.difference(s2))"
   ]
  },
  {
   "cell_type": "code",
   "execution_count": 160,
   "id": "04fd208b",
   "metadata": {},
   "outputs": [
    {
     "name": "stdout",
     "output_type": "stream",
     "text": [
      "{1, 2, 3, 4, 5, 6, 7, 8}\n",
      "{1, 2, 3, 4, 5, 6, 7, 9, 8}\n",
      "{1, 2, 3, 4, 5, 6, 7, 8}\n",
      "{1, 2, 3, 4, 5, 6, 7}\n"
     ]
    }
   ],
   "source": [
    "#### CRUD\n",
    "\n",
    "# 여러개 추가\n",
    "s1.update({7,8})\n",
    "print(s1)\n",
    "\n",
    "# 한 개 추가\n",
    "s1.add(9)\n",
    "print(s1)\n",
    "\n",
    "# 삭제 (하나씩만 삭제 가능)\n",
    "s1.remove(9)\n",
    "print(s1)\n",
    "\n",
    "s1.discard(8)\n",
    "print(s1)\n",
    "\n",
    "# 없는 데이터 삭제 \n",
    "# s1.remove(0) # 에러\n",
    "s1.discard(0) #에러 X"
   ]
  },
  {
   "cell_type": "code",
   "execution_count": 161,
   "id": "be9951f6",
   "metadata": {},
   "outputs": [
    {
     "name": "stdout",
     "output_type": "stream",
     "text": [
      "{1, 2, 3, 4, 5}\n",
      "[1, 2, 3, 4, 5]\n"
     ]
    }
   ],
   "source": [
    "#### 중복된 데이터를 제거하고 재구성\n",
    "\n",
    "data = [1, 2, 3, 4, 4, 5, 2]\n",
    "\n",
    "data2 = set(data)\n",
    "print(data2)\n",
    "\n",
    "data3 = list(data2)\n",
    "print(data3)"
   ]
  },
  {
   "cell_type": "markdown",
   "id": "bae7233a",
   "metadata": {},
   "source": [
    "---\n",
    "\n",
    "## 4. Operator  \n",
    "\n",
    "    1) 산술연산자\n",
    "        * / + - %(나머지) //(몫) **(자승)\n",
    "    2) 비교 연산자\n",
    "        > < >= <= == !=\n",
    "    3) 논리 연산자\n",
    "        and or not\n",
    "    4) 대입 연산자\n",
    "        = += -= /= *=  . . .\n",
    "        \n",
    "====================================================================\n",
    "\n",
    "    5) 포함 여부 연산자\n",
    "        in          not in\n",
    "    \n",
    "    6) 비트 연산자\n",
    "        &(and)   |(or)  ^(xor = exclusive or -> 같으면 F)"
   ]
  },
  {
   "cell_type": "code",
   "execution_count": 163,
   "id": "3cc3d77a",
   "metadata": {},
   "outputs": [
    {
     "name": "stdout",
     "output_type": "stream",
     "text": [
      "5\n",
      "9\n"
     ]
    }
   ],
   "source": [
    "#### 대입연산자\n",
    "\n",
    "a = 1\n",
    "a = 3\n",
    "a = 5\n",
    "\n",
    "print(a)\n",
    "\n",
    "b = 1\n",
    "b += 3\n",
    "b += 5\n",
    "\n",
    "print(b)"
   ]
  },
  {
   "cell_type": "code",
   "execution_count": 168,
   "id": "59c6921e",
   "metadata": {},
   "outputs": [
    {
     "name": "stdout",
     "output_type": "stream",
     "text": [
      "True\n",
      "True\n",
      "3\n"
     ]
    }
   ],
   "source": [
    "##### 비트 연산자\n",
    "\n",
    "a = 7\n",
    "b = 3\n",
    "\n",
    "# and 양쪽에는 불린 값이 와야함\n",
    "result = a>3 and b<5\n",
    "print(result)\n",
    "\n",
    "result = a>3 & b<5\n",
    "print(result)\n",
    "\n",
    "result = a & b\n",
    "print(result)"
   ]
  },
  {
   "cell_type": "code",
   "execution_count": 171,
   "id": "9101dadc",
   "metadata": {},
   "outputs": [
    {
     "name": "stdout",
     "output_type": "stream",
     "text": [
      "암호화:  39541261\n",
      "------------------------------------------\n",
      "복호화:  648723\n"
     ]
    }
   ],
   "source": [
    "data = 648723\n",
    "key = 38976542\n",
    "\n",
    "encode = data ^ key\n",
    "print(\"암호화: \",encode)\n",
    "\n",
    "print(\"------------------------------------------\")\n",
    "\n",
    "decode = encode ^ key\n",
    "print(\"복호화: \",decode)"
   ]
  },
  {
   "cell_type": "markdown",
   "id": "58ec2414",
   "metadata": {},
   "source": [
    "#### 연습문제 p 114"
   ]
  },
  {
   "cell_type": "code",
   "execution_count": 173,
   "id": "4d8f8ba4",
   "metadata": {},
   "outputs": [
    {
     "name": "stdout",
     "output_type": "stream",
     "text": [
      "(1, 2, 3, 4)\n"
     ]
    }
   ],
   "source": [
    "# 8. 튜플에 값 추가\n",
    "a = (1,2,3)\n",
    "a = a + (4,) # 새로운 튜플 (4, )가 합쳐짐\n",
    "print(a)"
   ]
  },
  {
   "cell_type": "code",
   "execution_count": 175,
   "id": "024f270b",
   "metadata": {},
   "outputs": [
    {
     "ename": "TypeError",
     "evalue": "unhashable type: 'list'",
     "output_type": "error",
     "traceback": [
      "\u001b[1;31m---------------------------------------------------------------------------\u001b[0m",
      "\u001b[1;31mTypeError\u001b[0m                                 Traceback (most recent call last)",
      "\u001b[1;32m<ipython-input-175-75e64a4acad0>\u001b[0m in \u001b[0;36m<module>\u001b[1;34m\u001b[0m\n\u001b[0;32m      5\u001b[0m \u001b[0ma\u001b[0m\u001b[1;33m[\u001b[0m\u001b[1;34m'name'\u001b[0m\u001b[1;33m]\u001b[0m \u001b[1;33m=\u001b[0m \u001b[1;34m'python'\u001b[0m\u001b[1;33m\u001b[0m\u001b[1;33m\u001b[0m\u001b[0m\n\u001b[0;32m      6\u001b[0m \u001b[0ma\u001b[0m\u001b[1;33m[\u001b[0m\u001b[1;33m(\u001b[0m\u001b[1;34m'a'\u001b[0m\u001b[1;33m,\u001b[0m\u001b[1;33m)\u001b[0m\u001b[1;33m]\u001b[0m \u001b[1;33m=\u001b[0m \u001b[1;34m'python'\u001b[0m\u001b[1;33m\u001b[0m\u001b[1;33m\u001b[0m\u001b[0m\n\u001b[1;32m----> 7\u001b[1;33m \u001b[0ma\u001b[0m\u001b[1;33m[\u001b[0m\u001b[1;33m[\u001b[0m\u001b[1;36m1\u001b[0m\u001b[1;33m]\u001b[0m\u001b[1;33m]\u001b[0m \u001b[1;33m=\u001b[0m \u001b[1;34m'python'\u001b[0m \u001b[1;31m# 오류 발생 -> 딕셔너리 키로 변하는 값(리스트)를 사용할 수 없음\u001b[0m\u001b[1;33m\u001b[0m\u001b[1;33m\u001b[0m\u001b[0m\n\u001b[0m\u001b[0;32m      8\u001b[0m \u001b[0ma\u001b[0m\u001b[1;33m[\u001b[0m\u001b[1;36m250\u001b[0m\u001b[1;33m]\u001b[0m \u001b[1;33m=\u001b[0m \u001b[1;34m'python'\u001b[0m\u001b[1;33m\u001b[0m\u001b[1;33m\u001b[0m\u001b[0m\n",
      "\u001b[1;31mTypeError\u001b[0m: unhashable type: 'list'"
     ]
    }
   ],
   "source": [
    "# 9.오류가 발생하는 경우\n",
    "a = dict()\n",
    "a\n",
    "\n",
    "a['name'] = 'python'\n",
    "a[('a',)] = 'python'\n",
    "a[[1]] = 'python' # 오류 발생 -> 딕셔너리 키로 변하는 값(리스트)를 사용할 수 없음\n",
    "a[250] = 'python'"
   ]
  },
  {
   "cell_type": "code",
   "execution_count": 178,
   "id": "b701d552",
   "metadata": {},
   "outputs": [
    {
     "name": "stdout",
     "output_type": "stream",
     "text": [
      "{'A': 90, 'C': 70}\n",
      "80\n"
     ]
    }
   ],
   "source": [
    "# 10. 딕셔너리 값 추출\n",
    "a = {'A':90, 'B':80, 'C':70}\n",
    "result = a.pop('B') \n",
    "print(a)\n",
    "print(result)"
   ]
  },
  {
   "cell_type": "code",
   "execution_count": 179,
   "id": "f5da0181",
   "metadata": {},
   "outputs": [
    {
     "name": "stdout",
     "output_type": "stream",
     "text": [
      "[1, 2, 3, 4, 5]\n"
     ]
    }
   ],
   "source": [
    "# 중복 제거\n",
    "a = [1,1,1,2,2,3,3,3,4,4,5]\n",
    "aSet = set(a)\n",
    "b = list(aSet)\n",
    "print(b)"
   ]
  },
  {
   "cell_type": "code",
   "execution_count": null,
   "id": "19cc1a8e",
   "metadata": {},
   "outputs": [],
   "source": []
  }
 ],
 "metadata": {
  "kernelspec": {
   "display_name": "Python 3",
   "language": "python",
   "name": "python3"
  },
  "language_info": {
   "codemirror_mode": {
    "name": "ipython",
    "version": 3
   },
   "file_extension": ".py",
   "mimetype": "text/x-python",
   "name": "python",
   "nbconvert_exporter": "python",
   "pygments_lexer": "ipython3",
   "version": "3.8.8"
  }
 },
 "nbformat": 4,
 "nbformat_minor": 5
}
