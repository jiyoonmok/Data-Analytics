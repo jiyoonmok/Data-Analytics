{
 "cells": [
  {
   "cell_type": "markdown",
   "id": "471e9606",
   "metadata": {},
   "source": [
    "## 1. 입력 기능"
   ]
  },
  {
   "cell_type": "code",
   "execution_count": 1,
   "id": "1538c198",
   "metadata": {},
   "outputs": [
    {
     "name": "stdout",
     "output_type": "stream",
     "text": [
      "당신의 이름은?홍길동\n"
     ]
    },
    {
     "data": {
      "text/plain": [
       "'홍길동'"
      ]
     },
     "execution_count": 1,
     "metadata": {},
     "output_type": "execute_result"
    }
   ],
   "source": [
    "input(\"당신의 이름은?\")"
   ]
  },
  {
   "cell_type": "code",
   "execution_count": 2,
   "id": "ce8fcb48",
   "metadata": {},
   "outputs": [
    {
     "name": "stdout",
     "output_type": "stream",
     "text": [
      "첫번째 숫자 : 10\n",
      "두번째 숫자 : 100\n",
      "결과:  110\n"
     ]
    }
   ],
   "source": [
    "num1 = int(input(\"첫번째 숫자 : \"))\n",
    "num2 = int(input(\"두번째 숫자 : \"))\n",
    "\n",
    "print(\"결과: \", num1+num2)"
   ]
  },
  {
   "cell_type": "code",
   "execution_count": 3,
   "id": "3f19c030",
   "metadata": {},
   "outputs": [
    {
     "name": "stdout",
     "output_type": "stream",
     "text": [
      "교환할 돈은 얼마입니까? 2763\n",
      "\n",
      "\n",
      "결과:\n",
      "\n",
      "오백원짜리===>  5 개\n",
      "\n",
      "백원짜리===>  2 개\n",
      "\n",
      "오십원짜리===>  1 개\n",
      "\n",
      "십원짜리===>  1 개\n",
      "\n",
      "나머지 바꾸지 못한 잔돈===>  3 원\n"
     ]
    }
   ],
   "source": [
    "money = int(input(\"교환할 돈은 얼마입니까? \"))\n",
    "\n",
    "num1 = money%500\n",
    "num2 = num1%100\n",
    "num3 = num2%50\n",
    "num4 = num3%10\n",
    "\n",
    "print(\"\\n\")\n",
    "print(\"결과:\\n\")\n",
    "print(\"오백원짜리===> \",money//500,\"개\\n\")\n",
    "print(\"백원짜리===> \", num1//100,\"개\\n\")\n",
    "print(\"오십원짜리===> \", num2//50,\"개\\n\")\n",
    "print(\"십원짜리===> \", num3//10,\"개\\n\")\n",
    "print(\"나머지 바꾸지 못한 잔돈===> \",num4,\"원\")"
   ]
  },
  {
   "cell_type": "markdown",
   "id": "b8817aaa",
   "metadata": {},
   "source": [
    "---\n",
    "## 2. 제어문 (Control Statement)\n",
    "    \n",
    "    1) 조건문 (만약 조건이 참이라면~)\n",
    "        - if\n",
    "        - switch\n",
    "        \n",
    "    2) 반복문\n",
    "        - while\n",
    "        - for\n",
    "        - 주의할 점\n",
    "            + 무한 반복\n",
    "            + 반복 횟수"
   ]
  },
  {
   "cell_type": "markdown",
   "id": "43c9f272",
   "metadata": {},
   "source": [
    "---\n",
    "\n",
    "### (1) if\n",
    "\n",
    "    1) 첫번째 유형\n",
    "        if 조건식 :\n",
    "            문장\n",
    "            ...\n",
    "        if 조건식 : 문장\n",
    "        \n",
    "     2) 두번째 유형:\n",
    "         if 조건식:\n",
    "             문장\n",
    "             ...\n",
    "         else:\n",
    "             문장\n",
    "             ...\n",
    "    3) 세번째 유형\n",
    "        if 조건식:\n",
    "            문장\n",
    "            ...\n",
    "        elif 조건식:\n",
    "            문장\n",
    "            ...\n",
    "        "
   ]
  },
  {
   "cell_type": "code",
   "execution_count": 1,
   "id": "37106c4f",
   "metadata": {},
   "outputs": [
    {
     "name": "stdout",
     "output_type": "stream",
     "text": [
      "숫자 : 3235\n",
      "홀수 입니다.\n"
     ]
    }
   ],
   "source": [
    "#### 입력받은 숫자가 짝수/홀수 인지 판별하는 프로그램\n",
    "\n",
    "num1 = int(input(\"숫자 : \"))\n",
    "\n",
    "if num1 % 2 == 0:\n",
    "    print(num1, \"은 짝수 입니다.\")\n",
    "\n",
    "else: \n",
    "    print(\"홀수 입니다.\")"
   ]
  },
  {
   "cell_type": "code",
   "execution_count": 8,
   "id": "37a87185",
   "metadata": {},
   "outputs": [
    {
     "name": "stdout",
     "output_type": "stream",
     "text": [
      "입력: c\n",
      "정답\n"
     ]
    }
   ],
   "source": [
    "#### 입력받은 값이  a, b, c, d 이면 '정답' 이라고 출력하고 그렇지않으면 '오답' 이라고 출력\n",
    "\n",
    "값 = input(\"입력: \")\n",
    "\n",
    "if 값 == \"a\" or 값 == \"b\" or 값 == \"c\" or 값 == \"d\":\n",
    "    print(\"정답\")\n",
    "else:\n",
    "    print(\"오답\")"
   ]
  },
  {
   "cell_type": "code",
   "execution_count": 9,
   "id": "92ee77ca",
   "metadata": {},
   "outputs": [
    {
     "name": "stdout",
     "output_type": "stream",
     "text": [
      "answer: a\n",
      "정답\n"
     ]
    }
   ],
   "source": [
    "ans = input(\"answer: \")\n",
    "\n",
    "correct = ('a', 'b', 'c', 'd')\n",
    "\n",
    "if correct.count(ans) > 0:\n",
    "    print(\"정답\")\n",
    "else:\n",
    "    print(\"오답\")"
   ]
  },
  {
   "cell_type": "code",
   "execution_count": 10,
   "id": "20c8d68f",
   "metadata": {},
   "outputs": [
    {
     "name": "stdout",
     "output_type": "stream",
     "text": [
      "answer: e\n",
      "오답\n"
     ]
    }
   ],
   "source": [
    "ans = input(\"answer: \")\n",
    "\n",
    "if ans >= 'a' and ans <= 'd' :\n",
    "    print(\"정답\")\n",
    "else:\n",
    "    print(\"오답\")"
   ]
  },
  {
   "cell_type": "code",
   "execution_count": 13,
   "id": "ae0bbc77",
   "metadata": {},
   "outputs": [
    {
     "name": "stdout",
     "output_type": "stream",
     "text": [
      "97 98 65 66\n",
      "a b A B\n"
     ]
    }
   ],
   "source": [
    "# ascii코드 확인하기\n",
    "print(ord(\"a\"),ord(\"b\"),ord(\"A\"),ord(\"B\"))\n",
    "print(chr(97),chr(98),chr(65),chr(66))"
   ]
  },
  {
   "cell_type": "markdown",
   "id": "d390d9eb",
   "metadata": {},
   "source": [
    "---\n",
    "#### 윤년 계산 프로그램\n",
    "\n",
    "1) 기원 연수가 4로 나누어 떨어지는 해는 우선 윤년으로 한다.  \n",
    "2) 그 중에서 100으로 나누어 떨어지는 해는 평년으로 한다.  \n",
    "3) 다만 400으로 나누어 떨어지는 해는 다시 윤년으로 정한다.  \n",
    "\n",
    "연도를 입력: 2019(엔터) 참고로 2020년이 윤년윤년  \n",
    "결과: 윤년입니다. (윤년이 아닙니다)\n"
   ]
  },
  {
   "cell_type": "code",
   "execution_count": 15,
   "id": "fad95b07",
   "metadata": {},
   "outputs": [
    {
     "name": "stdout",
     "output_type": "stream",
     "text": [
      "연도를 입력: 2019\n",
      "결과: 평년입니다.\n"
     ]
    }
   ],
   "source": [
    "year = int(input(\"연도를 입력: \"))\n",
    "\n",
    "if year % 4 == 0 :\n",
    "    if year % 100 == 0 and year % 400 != 0:\n",
    "        print(\"결과: 평년입니다.\")\n",
    "    else: \n",
    "        print(\"결과: 윤년입니다.\")\n",
    "else:\n",
    "    print(\"결과: 평년입니다.\")"
   ]
  },
  {
   "cell_type": "code",
   "execution_count": 16,
   "id": "d65b6c4b",
   "metadata": {},
   "outputs": [
    {
     "name": "stdout",
     "output_type": "stream",
     "text": [
      "C학점\n"
     ]
    }
   ],
   "source": [
    "#### 다중 if문\n",
    "\n",
    "avg = 73\n",
    "\n",
    "if avg >= 90:\n",
    "    print(\"A학점\")\n",
    "elif avg >= 80:\n",
    "    print(\"B학점\")\n",
    "elif avg >= 70:\n",
    "    print(\"C학점\")\n",
    "elif avg >= 60:\n",
    "    print(\"D학점\")\n",
    "else:\n",
    "    print(\"F학점\")"
   ]
  },
  {
   "cell_type": "markdown",
   "id": "fc119c7f",
   "metadata": {},
   "source": [
    "#### 전자 계산기 프로그램(사칙연산)\n",
    "\n",
    "연산자: +  \n",
    "숫자1: 10  \n",
    "숫자2: 5  \n",
    "\n",
    "결과: 10+5 = 15"
   ]
  },
  {
   "cell_type": "code",
   "execution_count": 24,
   "id": "ffb45607",
   "metadata": {},
   "outputs": [
    {
     "name": "stdout",
     "output_type": "stream",
     "text": [
      "연산자: 3\n",
      "숫자1: 2\n",
      "숫자2: 2\n",
      "연산자를 다시 입력해주세요.\n"
     ]
    }
   ],
   "source": [
    "연산자 = input(\"연산자: \")\n",
    "숫자1 = int(input(\"숫자1: \"))\n",
    "숫자2 = int(input(\"숫자2: \"))\n",
    "\n",
    "if 연산자 == '+' :\n",
    "    print(\"결과: %d + %d = %d\" %(숫자1,숫자2,숫자1+숫자2))\n",
    "elif 연산자 == '-':\n",
    "    print(\"결과: %d - %d = %d\" %(숫자1,숫자2,숫자1-숫자2))\n",
    "elif 연산자 == '/':\n",
    "    print(\"결과: %d / %d = %.1f\" %(숫자1,숫자2,숫자1/숫자2))\n",
    "elif 연산자 == '*':\n",
    "    print(\"결과: %d * %d = %d\" %(숫자1,숫자2,숫자1*숫자2))\n",
    "else:\n",
    "    print(\"연산자를 다시 입력해주세요.\")"
   ]
  },
  {
   "cell_type": "code",
   "execution_count": 27,
   "id": "63f7bdb6",
   "metadata": {},
   "outputs": [
    {
     "name": "stdout",
     "output_type": "stream",
     "text": [
      "b가 가장 크다.\n",
      "---------------------------------\n",
      "ID: erere\n",
      "Password: 1111\n",
      "아이디가 틀렸습니다.\n"
     ]
    }
   ],
   "source": [
    "#### 조건문의 중첩\n",
    "\n",
    "a,b,c = 8,10,3\n",
    "\n",
    "if a>b :\n",
    "    if a>c :\n",
    "        print(\"a가 가장 크다.\")\n",
    "    else:\n",
    "        print(\"c가 가장 크다.\")\n",
    "else:\n",
    "    if b>c :\n",
    "        print(\"b가 가장 크다.\")\n",
    "    else:\n",
    "        print(\"c가 가장 크다.\")\n",
    "        \n",
    "print(\"---------------------------------\")\n",
    "\n",
    "id = input(\"ID: \") # tiger\n",
    "pw = input(\"Password: \") #1111\n",
    "\n",
    "if id != \"tiger\":\n",
    "    if pw != \"1111\":\n",
    "         print(\"아이디와 패스워드가 틀렸습니다.\")\n",
    "    else: \n",
    "        print(\"아이디가 틀렸습니다.\")\n",
    "else:\n",
    "    if pw != \"1111\":\n",
    "        print(\"패스워드가 틀렸습니다.\")\n",
    "    else:\n",
    "        print(\"로그인 완료되었습니다.\")"
   ]
  },
  {
   "cell_type": "code",
   "execution_count": 28,
   "id": "f99442c8",
   "metadata": {},
   "outputs": [
    {
     "data": {
      "text/plain": [
       "2"
      ]
     },
     "execution_count": 28,
     "metadata": {},
     "output_type": "execute_result"
    }
   ],
   "source": [
    "import random\n",
    "\n",
    "random.randint(0,5) # 0부터 5까지 하나뽑기"
   ]
  },
  {
   "cell_type": "code",
   "execution_count": 35,
   "id": "8ce723cf",
   "metadata": {},
   "outputs": [
    {
     "name": "stdout",
     "output_type": "stream",
     "text": [
      "가위,바위,보 중에서 하나를 입력: 보\n",
      "컴퓨터: 보\n",
      "무승부\n"
     ]
    }
   ],
   "source": [
    "#### 가위바위보 게임 프로그램\n",
    "import random\n",
    "사용자 = input(\"가위,바위,보 중에서 하나를 입력: \")\n",
    "컴퓨터 = random.choice([\"가위\",\"바위\",\"보\"]) \n",
    "print(\"컴퓨터:\",컴퓨터)\n",
    "\n",
    "if 사용자 == \"가위\" :\n",
    "    if 컴퓨터 == \"가위\":\n",
    "        print(\"무승부\")\n",
    "    elif 컴퓨터 == \"바위\":\n",
    "        print(\"컴퓨터 승\")\n",
    "    else:\n",
    "        print(\"사용자 승\")\n",
    "elif 사용자 == \"바위\" :\n",
    "    if 컴퓨터 == \"가위\":\n",
    "        print(\"사용자 승\")\n",
    "    elif 컴퓨터 == \"바위\":\n",
    "        print(\"무승부\")\n",
    "    else:\n",
    "        print(\"컴퓨터 승\")\n",
    "else:\n",
    "    if 컴퓨터 == \"가위\":\n",
    "        print(\"컴퓨터 승\")\n",
    "    elif 컴퓨터 == \"바위\":\n",
    "        print(\"사용자 승\")\n",
    "    else:\n",
    "        print(\"무승부\")"
   ]
  },
  {
   "cell_type": "markdown",
   "id": "5693d45c",
   "metadata": {},
   "source": [
    "### (2) while\n",
    "   \n",
    "   while 조건식:\n",
    "        문장\n",
    "        ..."
   ]
  },
  {
   "cell_type": "code",
   "execution_count": 38,
   "id": "cc5dae95",
   "metadata": {},
   "outputs": [
    {
     "name": "stdout",
     "output_type": "stream",
     "text": [
      "**********\n",
      "**********"
     ]
    }
   ],
   "source": [
    "print(\"**********\")\n",
    "\n",
    "cnt = 0\n",
    "while cnt < 10 :\n",
    "    print(\"*\",end=\"\") # 줄바꾸기 X\n",
    "    cnt = cnt +1"
   ]
  },
  {
   "cell_type": "code",
   "execution_count": 41,
   "id": "d2d0b3e8",
   "metadata": {},
   "outputs": [
    {
     "name": "stdout",
     "output_type": "stream",
     "text": [
      "결과:  55\n"
     ]
    }
   ],
   "source": [
    "#### 1부터 10 까지의 합계\n",
    "\n",
    "cnt = 0\n",
    "sum = 0\n",
    "\n",
    "while cnt <= 10 :\n",
    "    sum = sum + cnt\n",
    "    cnt += 1\n",
    "\n",
    "print(\"결과: \",sum)"
   ]
  },
  {
   "cell_type": "code",
   "execution_count": 43,
   "id": "f6f91d26",
   "metadata": {},
   "outputs": [
    {
     "name": "stdout",
     "output_type": "stream",
     "text": [
      "결과:  1024\n"
     ]
    }
   ],
   "source": [
    "#### 2의 10승 : 1024\n",
    "\n",
    "cnt = 0\n",
    "sum = 1\n",
    "\n",
    "while cnt < 10:\n",
    "    sum *= 2\n",
    "    cnt += 1\n",
    "\n",
    "print(\"결과: \", sum)"
   ]
  },
  {
   "cell_type": "markdown",
   "id": "88474f04",
   "metadata": {},
   "source": [
    "---\n",
    "\n",
    "### (3) for\n",
    "    \n",
    "    for 변수 in 집합자료형:\n",
    "        문장\n",
    "        ...\n",
    "        "
   ]
  },
  {
   "cell_type": "code",
   "execution_count": 4,
   "id": "5d560386",
   "metadata": {},
   "outputs": [
    {
     "name": "stdout",
     "output_type": "stream",
     "text": [
      "10\n",
      "20\n",
      "홍길동\n",
      "3.14\n",
      "True\n",
      "------------------------------------------\n",
      "10\n",
      "20\n",
      "홍길동\n",
      "3.14\n",
      "True\n",
      "------------------------------------------\n",
      "**********"
     ]
    }
   ],
   "source": [
    "data = [10,20,\"홍길동\",3.14,True]\n",
    "\n",
    "cnt = 0\n",
    "while cnt < len(data):\n",
    "    print(data[cnt])\n",
    "    cnt += 1\n",
    "    \n",
    "print(\"------------------------------------------\")\n",
    "\n",
    "for v in data:\n",
    "    print(v)\n",
    "\n",
    "print(\"------------------------------------------\")\n",
    "\n",
    "for v in range(10) : # 0~9\n",
    "    print(\"*\",end = \"\")"
   ]
  },
  {
   "cell_type": "markdown",
   "id": "5f82c9ee",
   "metadata": {},
   "source": [
    "---\n",
    "\n",
    "### (4) 반복문의 강제 종료\n",
    "\n",
    "+ break : 완전 종료\n",
    "+ continue : 일시 종료"
   ]
  },
  {
   "cell_type": "code",
   "execution_count": 11,
   "id": "ff0b695a",
   "metadata": {},
   "outputs": [
    {
     "name": "stdout",
     "output_type": "stream",
     "text": [
      "0\n",
      "1\n",
      "2\n",
      "3\n",
      "4\n"
     ]
    }
   ],
   "source": [
    "for v in range(10):\n",
    "    if v == 5:        \n",
    "        break           # 5일 때 반복문을 완전히 종료\n",
    "    print(v)"
   ]
  },
  {
   "cell_type": "code",
   "execution_count": 12,
   "id": "868158d0",
   "metadata": {},
   "outputs": [
    {
     "name": "stdout",
     "output_type": "stream",
     "text": [
      "0\n",
      "1\n",
      "2\n",
      "3\n",
      "4\n",
      "6\n",
      "7\n",
      "8\n",
      "9\n"
     ]
    }
   ],
   "source": [
    "for v in range(10):\n",
    "    if v == 5:\n",
    "        continue    # 5일 때 밑에 명령 건너뛰고 다음으로 넘어감\n",
    "    print(v)"
   ]
  },
  {
   "cell_type": "code",
   "execution_count": 13,
   "id": "86ecd8ca",
   "metadata": {},
   "outputs": [
    {
     "name": "stdout",
     "output_type": "stream",
     "text": [
      "********************"
     ]
    }
   ],
   "source": [
    "cnt = 0\n",
    "while True: \n",
    "    if cnt == 20:\n",
    "        break\n",
    "    print(\"*\", end=\"\")\n",
    "    cnt += 1"
   ]
  },
  {
   "cell_type": "code",
   "execution_count": 19,
   "id": "2f561468",
   "metadata": {},
   "outputs": [
    {
     "name": "stdout",
     "output_type": "stream",
     "text": [
      "연산자: +\n",
      "숫자1: 3\n",
      "숫자2: 2\n",
      "결과: 3 + 2 = 5\n",
      "연산자: -\n",
      "숫자1: 3\n",
      "숫자2: 5\n",
      "결과: 3 - 5 = -2\n",
      "연산자: D\n",
      "숫자1: 3\n",
      "숫자2: 5\n",
      "연산자를 다시 입력해주세요.\n",
      "연산자: x\n",
      "숫자1: 3\n",
      "숫자2: 2\n"
     ]
    }
   ],
   "source": [
    "\"문제1 전자계산기 프로그램을 반복문을 이용하여 업그레이드 (끝나는 조건은 연산자에 x를 입력하면 종료)\"\n",
    "\n",
    "while(True):\n",
    "    연산자 = input(\"연산자: \")\n",
    "    숫자1 = int(input(\"숫자1: \"))\n",
    "    숫자2 = int(input(\"숫자2: \"))\n",
    "\n",
    "    if 연산자 == '+' :\n",
    "        print(\"결과: %d + %d = %d\" %(숫자1,숫자2,숫자1+숫자2))\n",
    "        continue\n",
    "    elif 연산자 == '-':\n",
    "        print(\"결과: %d - %d = %d\" %(숫자1,숫자2,숫자1-숫자2))\n",
    "        continue\n",
    "    elif 연산자 == '/':\n",
    "        print(\"결과: %d / %d = %.1f\" %(숫자1,숫자2,숫자1/숫자2))\n",
    "        continue\n",
    "    elif 연산자 == '*':\n",
    "        print(\"결과: %d * %d = %d\" %(숫자1,숫자2,숫자1*숫자2))\n",
    "        continue\n",
    "    elif 연산자 == 'x':\n",
    "        break\n",
    "    else:\n",
    "        print(\"연산자를 다시 입력해주세요.\")"
   ]
  },
  {
   "cell_type": "code",
   "execution_count": 21,
   "id": "eb1a1e4b",
   "metadata": {},
   "outputs": [
    {
     "name": "stdout",
     "output_type": "stream",
     "text": [
      "가위,바위,보 중에서 하나를 입력: 가위\n",
      "컴퓨터: 바위\n",
      "컴퓨터 승\n",
      "가위,바위,보 중에서 하나를 입력: 보\n",
      "컴퓨터: 가위\n",
      "컴퓨터 승\n",
      "가위,바위,보 중에서 하나를 입력: 바위\n",
      "컴퓨터: 가위\n",
      "사용자 승\n",
      "가위,바위,보 중에서 하나를 입력: x\n",
      "컴퓨터: 보\n"
     ]
    }
   ],
   "source": [
    "\"문제2 가위바위보 게임을 반복문을 이용하여 업그레이드 (끝나는 조건은 x나 q를 입력하면 종료) 끝날 때 결과에 ?승 ?패를 출력\"\n",
    "\n",
    "import random\n",
    "\n",
    "while(True):\n",
    "    사용자 = input(\"가위,바위,보 중에서 하나를 입력: \")\n",
    "    컴퓨터 = random.choice([\"가위\",\"바위\",\"보\"]) \n",
    "    print(\"컴퓨터:\",컴퓨터)\n",
    "\n",
    "    if 사용자 == \"가위\" :\n",
    "        if 컴퓨터 == \"가위\":\n",
    "            print(\"무승부\")\n",
    "            continue\n",
    "        elif 컴퓨터 == \"바위\":\n",
    "            print(\"컴퓨터 승\")\n",
    "            continue\n",
    "        else:\n",
    "            print(\"사용자 승\")\n",
    "            continue\n",
    "    elif 사용자 == \"바위\" :\n",
    "        if 컴퓨터 == \"가위\":\n",
    "            print(\"사용자 승\")\n",
    "            continue\n",
    "        elif 컴퓨터 == \"바위\":\n",
    "            print(\"무승부\")\n",
    "            continue\n",
    "        else:\n",
    "            print(\"컴퓨터 승\")\n",
    "            continue\n",
    "    elif 사용자 == \"보\":\n",
    "        if 컴퓨터 == \"가위\":\n",
    "            print(\"컴퓨터 승\")\n",
    "            continue\n",
    "        elif 컴퓨터 == \"바위\":\n",
    "            print(\"사용자 승\")\n",
    "            continue\n",
    "        else:\n",
    "            print(\"무승부\")\n",
    "            continue\n",
    "    elif 사용자 == \"x\" or 사용자 == \"q\":\n",
    "        break\n"
   ]
  },
  {
   "cell_type": "code",
   "execution_count": 30,
   "id": "7a10a90c",
   "metadata": {},
   "outputs": [
    {
     "name": "stdout",
     "output_type": "stream",
     "text": [
      "숫자1:2\n",
      "숫자2:3\n",
      "숫자3:4\n",
      "숫자4:5\n",
      "숫자5:6\n",
      "숫자6:7\n",
      "숫자7:0\n",
      "짝수의 합:  12\n",
      "홀수의 합:  15\n"
     ]
    }
   ],
   "source": [
    "\"문제3 숫자를 입력받아 짝수의 합과 홀수의 합을 구하시오.(0을 입력하면 종료)\"\n",
    "\n",
    "i = 1\n",
    "sum1 = 0\n",
    "sum2 = 0\n",
    "\n",
    "while(True):\n",
    "    num = int(input(\"숫자%d:\"%i))\n",
    "    i += 1\n",
    "    if num != 0:\n",
    "        if num%2 == 0:\n",
    "            sum1 += num\n",
    "        else:\n",
    "            sum2 += num\n",
    "    else:\n",
    "        print(\"짝수의 합: \",sum1)\n",
    "        print(\"홀수의 합: \",sum2)\n",
    "        break\n",
    "    "
   ]
  },
  {
   "cell_type": "code",
   "execution_count": 36,
   "id": "1a4986d6",
   "metadata": {},
   "outputs": [
    {
     "name": "stdout",
     "output_type": "stream",
     "text": [
      "숫자 입력: 3\n",
      "높음\n",
      "숫자 입력: 4\n",
      "높음\n",
      "숫자 입력: 90\n",
      "낮음\n",
      "숫자 입력: 80\n",
      "낮음\n",
      "숫자 입력: 70\n",
      "낮음\n",
      "숫자 입력: 60\n",
      "낮음\n",
      "숫자 입력: 50\n",
      "낮음\n",
      "숫자 입력: 40\n",
      "정답입니다. 시도회수는 8 입니다.\n"
     ]
    }
   ],
   "source": [
    "\"문제4 숫자 맞추기 게임\"\n",
    "\n",
    "import random\n",
    "num = random.randint(0,100)\n",
    "count = 0\n",
    "while(True):\n",
    "    user = int(input(\"숫자 입력: \"))\n",
    "    count += 1\n",
    "    if num == user:\n",
    "        print(\"정답입니다. 시도회수는 %d 입니다.\"%count)\n",
    "        break\n",
    "    elif num < user:\n",
    "        print(\"낮음\")\n",
    "        continue\n",
    "    else:\n",
    "        print(\"높음\")\n",
    "        continue\n",
    "    \n"
   ]
  },
  {
   "cell_type": "code",
   "execution_count": null,
   "id": "6600f355",
   "metadata": {},
   "outputs": [
    {
     "name": "stdout",
     "output_type": "stream",
     "text": [
      "1.친구 리스트 출력\n",
      " 2.친구 추가\n",
      " 3.친구 삭제\n",
      " 4.이름 변경\n",
      " 9.종료\n",
      "\n",
      "메뉴를 선택: 1\n",
      "[]\n",
      "-------------------------------------\n",
      "1.친구 리스트 출력\n",
      " 2.친구 추가\n",
      " 3.친구 삭제\n",
      " 4.이름 변경\n",
      " 9.종료\n",
      "\n",
      "메뉴를 선택: 2\n",
      "이름을 입력: 성혀니\n",
      "-------------------------------------\n",
      "1.친구 리스트 출력\n",
      " 2.친구 추가\n",
      " 3.친구 삭제\n",
      " 4.이름 변경\n",
      " 9.종료\n",
      "\n",
      "메뉴를 선택: 1\n",
      "['성혀니']\n",
      "-------------------------------------\n",
      "1.친구 리스트 출력\n",
      " 2.친구 추가\n",
      " 3.친구 삭제\n",
      " 4.이름 변경\n",
      " 9.종료\n",
      "\n"
     ]
    }
   ],
   "source": [
    "\"\"\"문제5\n",
    "친구 관리 프로그램\n",
    "====================\n",
    "\n",
    "1.친구 리스트 출력\n",
    "2.친구 추가\n",
    "3.친구 삭제\n",
    "4.이름 변경\n",
    "9.종료\n",
    "메뉴를 선택 : 2 (엔터)\n",
    "이름을 입력 : 홍길동 (엔터)\n",
    "-----------------------\n",
    "1.친구 리스트 출력\n",
    "2.친구 추가\n",
    "3.친구 삭제\n",
    "4.이름 변경\n",
    "9.종료\n",
    "메뉴를 선택 : 2 (엔터)\n",
    "이름을 입력 : 임꺽정 (엔터)\n",
    "-----------------------\n",
    "1.친구 리스트 출력\n",
    "2.친구 추가\n",
    "3.친구 삭제\n",
    "4.이름 변경\n",
    "9.종료\n",
    "메뉴를 선택 : 1 (엔터)\n",
    "[\"홍길동\", \"임꺽정\"]\n",
    "----------------------\n",
    "1.친구 리스트 출력\n",
    "2.친구 추가\n",
    "3.친구 삭제\n",
    "4.이름 변경\n",
    "9.종료\n",
    "메뉴를 선택 : 4 (엔터)\n",
    "변경할 이름 선택 : 홍길동 (엔터)\n",
    "변경하고 싶은 이름 입력 : 홍길순 (엔터)\n",
    "-------------------------------\n",
    "1.친구 리스트 출력\n",
    "2.친구 추가\n",
    "3.친구 삭제\n",
    "4.이름 변경\n",
    "9.종료\n",
    "메뉴를 선택 : 1 (엔터)\n",
    "[\"홍길순\", \"임꺽정\"]\n",
    "-------------------------------\n",
    "1.친구 리스트 출력\n",
    "2.친구 추가\n",
    "3.친구 삭제\n",
    "4.이름 변경\n",
    "9.종료\n",
    "메뉴를 선택 : 3 (엔터)\n",
    "삭제할 이름 입력 : 홍길순\n",
    "------------------------------\n",
    "\"\"\"\n",
    "\n",
    "list = []\n",
    "while (True):\n",
    "    print(\"1.친구 리스트 출력\\n 2.친구 추가\\n 3.친구 삭제\\n 4.이름 변경\\n 9.종료\\n\")\n",
    "    \n",
    "    선택 = int(input(\"메뉴를 선택: \"))\n",
    "    \n",
    "    if 선택 == 1:\n",
    "        print(list)\n",
    "    elif 선택 == 2:\n",
    "        이름 = input(\"이름을 입력: \")\n",
    "        list.append(이름)\n",
    "    elif 선택 == 3:\n",
    "        이름 = input(\"삭제할 이름을 입력: \")\n",
    "        list.remove(이름)\n",
    "    elif 선택 == 4:\n",
    "        이름1 = input(\"변경할 이름 선택 : \")\n",
    "        이름2 = input(\"변경하고 싶은 이름 선택: \")\n",
    "        list.remove(이름1)\n",
    "        list.append(이름2)\n",
    "    elif 선택 == 9:\n",
    "        break\n",
    "    print(\"-------------------------------------\")"
   ]
  },
  {
   "cell_type": "markdown",
   "id": "14d343d4",
   "metadata": {},
   "source": [
    "---\n",
    "\n",
    "### (5) 반복문의 중첩"
   ]
  },
  {
   "cell_type": "code",
   "execution_count": 25,
   "id": "1c8aa5d0",
   "metadata": {},
   "outputs": [
    {
     "name": "stdout",
     "output_type": "stream",
     "text": [
      "**********\n",
      "**********\n",
      "**********\n"
     ]
    }
   ],
   "source": [
    "for v1 in range(3):          # 행의 개념\n",
    "    for v2 in range(10):     # 열의 개념\n",
    "        print(\"*\",end=\"\")\n",
    "    print()"
   ]
  },
  {
   "cell_type": "code",
   "execution_count": 37,
   "id": "52493115",
   "metadata": {},
   "outputs": [
    {
     "name": "stdout",
     "output_type": "stream",
     "text": [
      "*\n",
      "**\n",
      "***\n",
      "****\n",
      "*****\n",
      "******\n"
     ]
    }
   ],
   "source": [
    "\"\"\"\n",
    "*\n",
    "**\n",
    "***\n",
    "****\n",
    "*****\n",
    "******\n",
    "\"\"\"\n",
    "\n",
    "for v1 in range(6):\n",
    "    for v2 in range(v1+1):\n",
    "        print(\"*\",end =\"\")\n",
    "    print()"
   ]
  },
  {
   "cell_type": "code",
   "execution_count": 1,
   "id": "df0cd86b",
   "metadata": {},
   "outputs": [
    {
     "name": "stdout",
     "output_type": "stream",
     "text": [
      "     \n",
      "    *\n",
      "   ***\n",
      "  *****\n",
      " *******\n",
      "*********\n"
     ]
    }
   ],
   "source": [
    "\"\"\"\n",
    "문제6\n",
    "     *\n",
    "    ***\n",
    "   *****\n",
    "  *******\n",
    " *********\n",
    "\n",
    "\"\"\"\n",
    "for v1 in range(6):\n",
    "    for v2 in range(5-v1):\n",
    "        print(\" \",end=\"\")\n",
    "    for v2 in range(2*v1-1):\n",
    "        print(\"*\",end=\"\")\n",
    "    print()"
   ]
  },
  {
   "cell_type": "markdown",
   "id": "68267e10",
   "metadata": {},
   "source": [
    "### (6) List Comprehension"
   ]
  },
  {
   "cell_type": "code",
   "execution_count": 7,
   "id": "bd167b93",
   "metadata": {},
   "outputs": [
    {
     "name": "stdout",
     "output_type": "stream",
     "text": [
      "[0, 1, 2, 3, 4, 5, 6, 7, 8, 9]\n",
      "[0, 1, 2, 3, 4, 5, 6, 7, 8, 9]\n",
      "----------------------------------------------------------------------------------\n",
      "\n",
      "[0, 2, 4, 6, 8]\n",
      "[0, 2, 4, 6, 8]\n"
     ]
    }
   ],
   "source": [
    "result = []\n",
    "\n",
    "for i in range(10):\n",
    "    result.append(i)\n",
    "\n",
    "print(result)\n",
    "\n",
    "result = [i for i in range(10)]\n",
    "print(result)\n",
    "\n",
    "print(\"----------------------------------------------------------------------------------\\n\")\n",
    "\n",
    "result = []\n",
    "\n",
    "for i in range(10):\n",
    "    if i % 2 == 0:\n",
    "        result.append(i)\n",
    "print(result)\n",
    "\n",
    "result = [i for i in range(10) if i % 2 == 0]\n",
    "print(result)"
   ]
  },
  {
   "cell_type": "code",
   "execution_count": 25,
   "id": "fef7fce3",
   "metadata": {},
   "outputs": [
    {
     "name": "stdout",
     "output_type": "stream",
     "text": [
      "['AD', 'AE', 'AA', 'BD', 'BE', 'BA', 'CD', 'CE', 'CA']\n",
      "['AD', 'AE', 'AA', 'BD', 'BE', 'BA', 'CD', 'CE', 'CA']\n",
      "['AD', 'AE', 'AA', 'BD', 'BE', 'BA', 'CD', 'CE', 'CA']\n",
      "---------------------------------------------------------------\n",
      "['AD', 'AE', 'BD', 'BE', 'BA', 'CD', 'CE', 'CA']\n",
      "['AD', 'AE', 'BD', 'BE', 'BA', 'CD', 'CE', 'CA']\n",
      "-----------------------------------------------------------------\n",
      "[['AD', 'AE', 'AA'], ['BD', 'BE', 'BA'], ['CD', 'CE', 'CA']]\n",
      "[['AD', 'AE', 'AA'], ['BD', 'BE', 'BA'], ['CD', 'CE', 'CA']]\n"
     ]
    }
   ],
   "source": [
    "c1 = [\"A\",\"B\",\"C\"]\n",
    "c2 = [\"D\",\"E\",\"A\"]\n",
    "\n",
    "result = []\n",
    "\n",
    "for i in range(len(c1)):\n",
    "    for j in range(len(c2)):\n",
    "        result.append(c1[i]+c2[j])\n",
    "print(result)\n",
    "\n",
    "result = []\n",
    "for row in c1:\n",
    "    for col in c2:\n",
    "        result.append(row + col)\n",
    "\n",
    "print(result)\n",
    "\n",
    "\n",
    "result = []\n",
    "\n",
    "result = [row + col for row in c1 for col in c2]\n",
    "print(result)\n",
    "\n",
    "print(\"---------------------------------------------------------------\")\n",
    "\n",
    "result = []\n",
    "\n",
    "for row in c1:\n",
    "    for col in c2:\n",
    "        if row != col:\n",
    "            result.append(row+col)\n",
    "print(result)\n",
    "\n",
    "result = [row + col for row in c1 for col in c2 if not row == col]\n",
    "print(result)\n",
    "\n",
    "print(\"-----------------------------------------------------------------\")\n",
    "\n",
    "result = []\n",
    "for row in c1:\n",
    "    list = []\n",
    "    for col in c2:\n",
    "        list.append(row+col)\n",
    "    result.append(list)\n",
    "print(result)\n",
    "\n",
    "result = [[row+col for col in c2] for row in c1]\n",
    "print(result)"
   ]
  },
  {
   "cell_type": "code",
   "execution_count": 23,
   "id": "54e3e058",
   "metadata": {},
   "outputs": [
    {
     "name": "stdout",
     "output_type": "stream",
     "text": [
      "['some', 'where', 'over', 'the', 'rainbow', 'way', 'up', 'high']\n",
      "['SOME', 'some', 4]\n",
      "['WHERE', 'where', 5]\n",
      "['OVER', 'over', 4]\n",
      "['THE', 'the', 3]\n",
      "['RAINBOW', 'rainbow', 7]\n",
      "['WAY', 'way', 3]\n",
      "['UP', 'up', 2]\n",
      "['HIGH', 'high', 4]\n"
     ]
    }
   ],
   "source": [
    "words = \"some where over the rainbow way up high\"\n",
    "strings = words.split()\n",
    "\n",
    "for word in strings:\n",
    "    result = [word.upper(),word,len(word)]\n",
    "    print(result)"
   ]
  },
  {
   "cell_type": "markdown",
   "id": "70614806",
   "metadata": {},
   "source": [
    "### 연습문제 p146"
   ]
  },
  {
   "cell_type": "code",
   "execution_count": 1,
   "id": "d799db1a",
   "metadata": {},
   "outputs": [
    {
     "name": "stdout",
     "output_type": "stream",
     "text": [
      "shirt\n"
     ]
    }
   ],
   "source": [
    "# 1. \n",
    "\n",
    "a = \"Life is too short, you need python\"\n",
    "\n",
    "if \"wife\" in a: print(\"wife\")\n",
    "elif \"python\" in a and \"you\" not in a: print(\"python\")\n",
    "elif \"shirt\" not in a: print(\"shirt\")\n",
    "elif \"need\" in a : print(\"need\")\n",
    "else: print(\"none\") "
   ]
  },
  {
   "cell_type": "code",
   "execution_count": 2,
   "id": "41472d1c",
   "metadata": {},
   "outputs": [
    {
     "name": "stdout",
     "output_type": "stream",
     "text": [
      "166833\n"
     ]
    }
   ],
   "source": [
    "# 2.\n",
    "\n",
    "result = 0\n",
    "i = 1\n",
    "while i<=1000:\n",
    "    if i%3 == 0:\n",
    "        result += i\n",
    "    i += 1\n",
    "    \n",
    "print(result)\n",
    "\n"
   ]
  },
  {
   "cell_type": "code",
   "execution_count": 3,
   "id": "d5a1d220",
   "metadata": {},
   "outputs": [
    {
     "name": "stdout",
     "output_type": "stream",
     "text": [
      "*\n",
      "**\n",
      "***\n",
      "****\n",
      "*****\n"
     ]
    }
   ],
   "source": [
    "# 3.\n",
    "i = 0\n",
    "\n",
    "while True:\n",
    "    i += 1\n",
    "    if i > 5 : break\n",
    "    print(\"*\"*i,end=\"\")\n",
    "    print()"
   ]
  },
  {
   "cell_type": "code",
   "execution_count": 4,
   "id": "23e7a6e0",
   "metadata": {},
   "outputs": [
    {
     "name": "stdout",
     "output_type": "stream",
     "text": [
      "1\n",
      "2\n",
      "3\n",
      "4\n",
      "5\n",
      "6\n",
      "7\n",
      "8\n",
      "9\n",
      "10\n",
      "11\n",
      "12\n",
      "13\n",
      "14\n",
      "15\n",
      "16\n",
      "17\n",
      "18\n",
      "19\n",
      "20\n",
      "21\n",
      "22\n",
      "23\n",
      "24\n",
      "25\n",
      "26\n",
      "27\n",
      "28\n",
      "29\n",
      "30\n",
      "31\n",
      "32\n",
      "33\n",
      "34\n",
      "35\n",
      "36\n",
      "37\n",
      "38\n",
      "39\n",
      "40\n",
      "41\n",
      "42\n",
      "43\n",
      "44\n",
      "45\n",
      "46\n",
      "47\n",
      "48\n",
      "49\n",
      "50\n",
      "51\n",
      "52\n",
      "53\n",
      "54\n",
      "55\n",
      "56\n",
      "57\n",
      "58\n",
      "59\n",
      "60\n",
      "61\n",
      "62\n",
      "63\n",
      "64\n",
      "65\n",
      "66\n",
      "67\n",
      "68\n",
      "69\n",
      "70\n",
      "71\n",
      "72\n",
      "73\n",
      "74\n",
      "75\n",
      "76\n",
      "77\n",
      "78\n",
      "79\n",
      "80\n",
      "81\n",
      "82\n",
      "83\n",
      "84\n",
      "85\n",
      "86\n",
      "87\n",
      "88\n",
      "89\n",
      "90\n",
      "91\n",
      "92\n",
      "93\n",
      "94\n",
      "95\n",
      "96\n",
      "97\n",
      "98\n",
      "99\n",
      "100\n"
     ]
    }
   ],
   "source": [
    "# 4.\n",
    "\n",
    "for i in range(1,101):\n",
    "    print(i)"
   ]
  },
  {
   "cell_type": "code",
   "execution_count": 5,
   "id": "afe1f1d0",
   "metadata": {},
   "outputs": [
    {
     "name": "stdout",
     "output_type": "stream",
     "text": [
      "79.0\n"
     ]
    }
   ],
   "source": [
    "# 5.\n",
    "\n",
    "A = [70,60,55,75,95,90,80,80,85,100]\n",
    "\n",
    "total = 0\n",
    "for score in A:\n",
    "    total += score\n",
    "average = total/len(A)\n",
    "print(average)"
   ]
  },
  {
   "cell_type": "code",
   "execution_count": 6,
   "id": "df174663",
   "metadata": {},
   "outputs": [
    {
     "name": "stdout",
     "output_type": "stream",
     "text": [
      "[2, 6, 10]\n"
     ]
    }
   ],
   "source": [
    "# 6.\n",
    "\n",
    "numbers = [1,2,3,4,5]\n",
    "\n",
    "result = []\n",
    "for n in numbers:\n",
    "    if n%2 == 1:\n",
    "        result.append(n*2)\n",
    "        \n",
    "result = [n*2 for n in numbers if n%2 == 1]\n",
    "print(result)"
   ]
  },
  {
   "cell_type": "code",
   "execution_count": null,
   "id": "5e730b70",
   "metadata": {},
   "outputs": [],
   "source": []
  }
 ],
 "metadata": {
  "kernelspec": {
   "display_name": "Python 3",
   "language": "python",
   "name": "python3"
  },
  "language_info": {
   "codemirror_mode": {
    "name": "ipython",
    "version": 3
   },
   "file_extension": ".py",
   "mimetype": "text/x-python",
   "name": "python",
   "nbconvert_exporter": "python",
   "pygments_lexer": "ipython3",
   "version": "3.8.8"
  }
 },
 "nbformat": 4,
 "nbformat_minor": 5
}
