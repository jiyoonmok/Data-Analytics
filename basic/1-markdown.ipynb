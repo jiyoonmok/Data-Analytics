{
 "cells": [
  {
   "cell_type": "markdown",
   "id": "858256eb",
   "metadata": {},
   "source": [
    "# 글자 크기\n",
    "\n",
    "## 글자 크기\n",
    "\n",
    "### 글자 크기\n",
    "\n",
    "#### 글자 크기\n",
    "\n",
    "##### 글자 크기\n",
    "\n",
    "글자 크기\n",
    "\n",
    "#은 주로 제목을 나타낼 때 사용한다. \n",
    "\n",
    "<h1> 글자크기 </h1>\n",
    "    \n",
    "글자 크기\n",
    "==\n",
    "\n",
    "글자 크기\n",
    "--\n"
   ]
  },
  {
   "cell_type": "markdown",
   "id": "3ee64c87",
   "metadata": {},
   "source": [
    "---\n",
    "\n",
    "들여쓰기 문법 입니다.\n",
    "> 첫번째 들여쓰기\n",
    "\n",
    "> 두번째 들여쓰기\n",
    "\n",
    ">> 세번째 들여쓰기"
   ]
  },
  {
   "cell_type": "markdown",
   "id": "adb75a76",
   "metadata": {},
   "source": [
    "--- \n",
    "순서 있는 리스트  \n",
    "과일의 종류\n",
    "1. 사과\n",
    "2. 배\n",
    "3. 포도\n",
    "\n",
    "순서 없는 리스트  \n",
    "좋아하는 색상\n",
    "+ 빨강\n",
    "* 노랑\n",
    "- 파랑\n",
    "\n",
    "지역\n",
    "* 서울\n",
    "    + 강남구\n",
    "    + 강북구\n",
    "    + 강서구\n",
    "    + 강동구\n",
    "* 경기\n",
    "    + 의정부\n",
    "    + 포천"
   ]
  },
  {
   "cell_type": "markdown",
   "id": "3fdbaadd",
   "metadata": {},
   "source": [
    "[네이버](https://www.naver.com)"
   ]
  },
  {
   "cell_type": "markdown",
   "id": "516b03cc",
   "metadata": {},
   "source": [
    "이것은 *이탤릭체* 입니다.\n",
    "\n",
    "이것은 **볼드체** 입니다.\n",
    "\n",
    "이것은 ~관통선~ 입니다.\n",
    "\n",
    "![이미지가 없을 경우 텍스트](images/images.jfif)"
   ]
  },
  {
   "cell_type": "code",
   "execution_count": null,
   "id": "4fc5a692",
   "metadata": {},
   "outputs": [],
   "source": []
  }
 ],
 "metadata": {
  "kernelspec": {
   "display_name": "Python 3",
   "language": "python",
   "name": "python3"
  },
  "language_info": {
   "codemirror_mode": {
    "name": "ipython",
    "version": 3
   },
   "file_extension": ".py",
   "mimetype": "text/x-python",
   "name": "python",
   "nbconvert_exporter": "python",
   "pygments_lexer": "ipython3",
   "version": "3.8.8"
  }
 },
 "nbformat": 4,
 "nbformat_minor": 5
}
