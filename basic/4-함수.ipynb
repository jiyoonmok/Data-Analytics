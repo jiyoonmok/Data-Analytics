{
 "cells": [
  {
   "cell_type": "markdown",
   "id": "7e02cd6a",
   "metadata": {},
   "source": [
    "## 1. 함수의 정의\n",
    "\n",
    "+ 일정한 작업을 수행하는 코드 블럭  \n",
    "\n",
    "## 2. 함수의 장점\n",
    "\n",
    "+ 반복적인 코드를 없애주어 전체 코드의 길이를 짧게 만들어 준다(재사용)\n",
    "+ 프로그램의 유지보수를 쉽게 만들어 준다.\n",
    "\n",
    "## 3. 함수의 구현\n",
    "    \n",
    "    def 함수명(...):\n",
    "        코드 정의\n",
    "        ...\n",
    "        [return...]\n",
    "\n",
    "## 4. 함수의 호출 방식\n",
    "    \n",
    "    1) 인자(인수)가 없는 방식\n",
    "    2) 인자(인수)가 있는 방식\n",
    "    3) 반환값이 있는 경우\n",
    "        - return의 두 가지 기능\n",
    "            *. 값을 반환 : 값은 1개만 반환\n",
    "            *. 함수의 강제종료\n",
    "            \n",
    "## 함수 설계\n",
    "\n",
    "+ 단일 기능\n",
    "+ 재사용성     \n",
    "\n",
    "\n",
    "## 함수의 종류\n",
    "\n",
    "+ 사용자 정의 함수 (User Define Function)\n",
    "+ 내장 함수 (Built-in Function)\n",
    "+ 외장 함수 (External Function)"
   ]
  },
  {
   "cell_type": "code",
   "execution_count": 12,
   "id": "0ecd71e8",
   "metadata": {},
   "outputs": [],
   "source": [
    "def line(n,shape):       # 매개변수 parameter\n",
    "    for i in range(n):\n",
    "        print(shape,end=\"\")\n",
    "    print()"
   ]
  },
  {
   "cell_type": "code",
   "execution_count": 13,
   "id": "feb6bb04",
   "metadata": {},
   "outputs": [
    {
     "name": "stdout",
     "output_type": "stream",
     "text": [
      "----------------------------------------\n",
      "              친구관리 프로그램                 \n",
      "========================================\n",
      "1. 리스트 출력\n",
      "2. 친구 추가\n",
      "3. 종료\n",
      "**************************************************\n"
     ]
    }
   ],
   "source": [
    "line(40,'-')        # 40 ->실인자, 실인수\n",
    "# 함수를 호출   # 하던 일을 그만두고 호출하기-> interrupt # 함수 정의한 부분으로 위로 가기 -> jump\n",
    "print(\"              친구관리 프로그램                 \") # 다시 복귀 -> return \n",
    "line(40,'=')\n",
    "print(\"1. 리스트 출력\")\n",
    "print(\"2. 친구 추가\")\n",
    "print(\"3. 종료\")\n",
    "line(50,'*')"
   ]
  },
  {
   "cell_type": "code",
   "execution_count": 3,
   "id": "a1b7046d",
   "metadata": {},
   "outputs": [],
   "source": [
    "def swap(num1,num2):\n",
    "    temp = num1\n",
    "    num1 = num2\n",
    "    num2 = temp\n",
    "    \n",
    "    return num1, num2   # packing"
   ]
  },
  {
   "cell_type": "code",
   "execution_count": 7,
   "id": "9f7a9fff",
   "metadata": {},
   "outputs": [
    {
     "name": "stdout",
     "output_type": "stream",
     "text": [
      "두 수의 교환\n",
      "(5, 10)\n",
      "결과:  5 10\n"
     ]
    }
   ],
   "source": [
    "num1, num2 = 10, 5\n",
    "\n",
    "print(\"두 수의 교환\")\n",
    "\n",
    "print(swap(num1,num2)) \n",
    "\n",
    "n1,n2 = swap(num1, num2) # unpacking\n",
    "\n",
    "print(\"결과: \",n1,n2)"
   ]
  },
  {
   "cell_type": "markdown",
   "id": "7306ba00",
   "metadata": {},
   "source": [
    "---\n",
    "\n",
    "### 파이썬에서 함수를 지원하기 위한 문법"
   ]
  },
  {
   "cell_type": "code",
   "execution_count": 10,
   "id": "fe57bdc9",
   "metadata": {},
   "outputs": [
    {
     "name": "stdout",
     "output_type": "stream",
     "text": [
      "전국 대표\n",
      "홍길동 전국 대표\n"
     ]
    }
   ],
   "source": [
    "##### 변수의 유효(생존) 범위 : 지역변수, 전역변수\n",
    "\n",
    "player = \"전국 대표\" # 전역변수\n",
    "\n",
    "def funcSoccer():\n",
    "    name = \"홍길동\"  # 지역변수\n",
    "    print(name, player)\n",
    "\n",
    "###########################################\n",
    "\n",
    "print(player)\n",
    "funcSoccer()"
   ]
  },
  {
   "cell_type": "code",
   "execution_count": 8,
   "id": "7403e0a9",
   "metadata": {},
   "outputs": [
    {
     "name": "stdout",
     "output_type": "stream",
     "text": [
      "**********\n",
      "**********\n",
      "안녕하세요~~홍길동님\n",
      "반드시 이름을 입력해야합니다.\n",
      "안녕하세요! 서울에 사는 홍길동님... 당신의 나이는 27입니다.\n",
      "안녕하세요! 서울에 사는 임꺽정님... 당신의 나이는 30입니다.\n",
      "안녕하세요! 서울에 사는 신돌석님... 당신의 나이는 25입니다.\n"
     ]
    }
   ],
   "source": [
    "##### default 인수\n",
    "\n",
    "def line(cnt=10):    # default = 10\n",
    "    for v in range(cnt):\n",
    "        print(\"*\", end=\"\")\n",
    "    print()\n",
    "    \n",
    "def hello1(name=None):  # default = None\n",
    "    if name == None:\n",
    "        print(\"반드시 이름을 입력해야합니다.\")\n",
    "        return          # 함수에서 다시 돌아가도록 함\n",
    "    \n",
    "    print(\"안녕하세요~~{}님\".format(name))\n",
    "\n",
    "def hello2(name,age=25,addr=\"서울\"):   # default값은 뒤에서 부터 \n",
    "    print(\"안녕하세요! %s에 사는 %s님... 당신의 나이는 %d입니다.\"%(addr,name,age))\n",
    "#################################################\n",
    "\n",
    "line(10)\n",
    "line() # default값으로 처리 \n",
    "\n",
    "hello1(\"홍길동\")\n",
    "hello1()\n",
    "\n",
    "hello2(\"홍길동\",27,\"서울\")\n",
    "hello2(\"임꺽정\",30)\n",
    "hello2(\"신돌석\")"
   ]
  },
  {
   "cell_type": "code",
   "execution_count": 15,
   "id": "11cfc75f",
   "metadata": {},
   "outputs": [
    {
     "name": "stdout",
     "output_type": "stream",
     "text": [
      "('홍길동',) 안녕하세요\n",
      "('홍길동', '임꺽정', '신돌석') 안녕하세요\n",
      "[1, 2] [3, 4] [5, 6]\n",
      "[1, 2] [3, 4] [5, 6]\n",
      "50 170 홍길동 {}\n",
      "60 180 임꺽정 {'blood': 'B', 'age': 30, 'addr': '서울'}\n"
     ]
    }
   ],
   "source": [
    "##### 가변 인수\n",
    "#-------------------\n",
    "# * : 곱셈, 반복, 매개변수(가변인수,packing), 일반변수(unpacking)\n",
    "# ** : 거듭제곱, 매개변수(가변인수,dict)\n",
    "\n",
    "def greeting(*name):      # 변수 개수 에 상관없이 다 가능\n",
    "    print(name, \"안녕하세요\")\n",
    "    \n",
    "def info(weight,height,name, **other):  # 다른 변수 아무거나 여러개 다 가능 # dict 형식 (키:값)\n",
    "    print(weight,height,name,other)\n",
    "        \n",
    "###############################################\n",
    "\n",
    "greeting(\"홍길동\")\n",
    "greeting(\"홍길동\",\"임꺽정\",\"신돌석\")\n",
    "\n",
    "# unpacking\n",
    "# 리스트와 튜플의 차이 -> 튜플은 수정불가능, 패킹/언패킹을 자동으로 해줌 리스트는 수정가능, 패킹/언패킹 안해줌 \n",
    "\n",
    "a,b,c = ([1,2],[3,4],[5,6])\n",
    "print(a,b,c)\n",
    "\n",
    "d = ([1,2],[3,4],[5,6])\n",
    "print(*d)    # 자동으로 unpacking\n",
    "\n",
    "info(50,170,\"홍길동\")\n",
    "info(60,180,\"임꺽정\",blood=\"B\",age=30,addr=\"서울\") # 키:값"
   ]
  },
  {
   "cell_type": "markdown",
   "id": "48b778e9",
   "metadata": {},
   "source": [
    "---\n",
    "### Built in Function"
   ]
  },
  {
   "cell_type": "code",
   "execution_count": 21,
   "id": "2ba7eba7",
   "metadata": {},
   "outputs": [
    {
     "name": "stdout",
     "output_type": "stream",
     "text": [
      "True\n",
      "False\n",
      "False\n",
      "False\n",
      "-------------------------------------------------------\n",
      "True\n",
      "True\n",
      "True\n",
      "True\n"
     ]
    }
   ],
   "source": [
    "#---------------------------------------------------------\n",
    "# all(), any() : and,or 연산자\n",
    "#---------------------------------------------------------\n",
    "# all -> 모두 true여야 true\n",
    "print(all([1,2,3,-1,-2]))   # False인 데이터가 하나도 없다 -> True\n",
    "print(all([1,2,3,0,-1,-2]))   # 0이 있다 -> False\n",
    "print(all([1,2,3,\"\",-1,-2]))  # 공백이 있다 -> False\n",
    "print(all([1,2,3,None,-1,-2])) # None이 있다 -> False\n",
    "\n",
    "print(\"-------------------------------------------------------\")\n",
    "\n",
    "# any -> 하나라도 true면 true\n",
    "print(any([1,2,3,-1,-2]))   \n",
    "print(any([1,2,3,0,-1,-2]))   \n",
    "print(any([1,2,3,\"\",-1,-2]))  \n",
    "print(any([1,2,3,None,-1,-2])) "
   ]
  },
  {
   "cell_type": "code",
   "execution_count": 27,
   "id": "c8f4b2eb",
   "metadata": {},
   "outputs": [
    {
     "name": "stdout",
     "output_type": "stream",
     "text": [
      "100 홍길동\n",
      "101 임꺽정\n",
      "102 고길동\n",
      "103 Tom\n",
      "104 Jerry\n"
     ]
    }
   ],
   "source": [
    "#-------------------------------------------------------------------------------------------------\n",
    "# enumerate(iterator)  : 순서가 있는 자료형(list, tuple, str)을 입력받아 인덱스 값을 포함해서 리턴 \n",
    "#-------------------------------------------------------------------------------------------------\n",
    "\n",
    "for i,v in enumerate([\"홍길동\",\"임꺽정\",\"고길동\",\"Tom\",\"Jerry\"],start = 100): # start:디폴트 값 0 \n",
    "    print(i,v)\n"
   ]
  },
  {
   "cell_type": "code",
   "execution_count": 39,
   "id": "cc0585ee",
   "metadata": {},
   "outputs": [
    {
     "name": "stdout",
     "output_type": "stream",
     "text": [
      "7\n",
      "7\n",
      "안녕하세요\n"
     ]
    },
    {
     "data": {
      "text/plain": [
       "(2, 1)"
      ]
     },
     "execution_count": 39,
     "metadata": {},
     "output_type": "execute_result"
    }
   ],
   "source": [
    "#-----------------------------------------------------------------------\n",
    "# eval(expression) : 표현식을 파이썬에서 실행 가능하게 만들어주는 역할\n",
    "#-----------------------------------------------------------------------\n",
    "\n",
    "a = \"3+4\"\n",
    "print(int(a[0]) + int(a[-1]))\n",
    "print(eval(a))\n",
    "\n",
    "b = \"print('안녕하세요')\"\n",
    "eval(b)\n",
    "\n",
    "# 몫과 나머지를 한번에 다 보여줌\n",
    "c = \"divmod(9,4)\"\n",
    "eval(c)"
   ]
  },
  {
   "cell_type": "code",
   "execution_count": 46,
   "id": "f4b65b33",
   "metadata": {},
   "outputs": [
    {
     "name": "stdout",
     "output_type": "stream",
     "text": [
      "12\n",
      "[12, 22, 32, 42, 52]\n",
      "12\n",
      "22\n",
      "32\n",
      "42\n",
      "52\n"
     ]
    },
    {
     "data": {
      "text/plain": [
       "[12, 22, 32, 42, 52]"
      ]
     },
     "execution_count": 46,
     "metadata": {},
     "output_type": "execute_result"
    }
   ],
   "source": [
    "#--------------------------------------------------------------------------------\n",
    "# map(function, iterator): 집합의 각 요소가 함수에 의해 수행된 결과를 묶어서 리턴\n",
    "#--------------------------------------------------------------------------------\n",
    "\n",
    "def calc(x):\n",
    "    return x + 2\n",
    "\n",
    "#############################################################\n",
    "\n",
    "print(calc(10))\n",
    "\n",
    "data = [10,20,30,40,50]\n",
    "result = []\n",
    "for v in data:\n",
    "    result.append(calc(v))\n",
    "print(result)\n",
    "\n",
    "# map -> 반복을 돌면서 함수에 매핑 시켜준다\n",
    "map(calc, data) # 결과값이 저장된 주소\n",
    "\n",
    "for v in map(calc,data):\n",
    "    print(v)\n",
    "\n",
    "list(map(calc,data))"
   ]
  },
  {
   "cell_type": "code",
   "execution_count": 5,
   "id": "8cb695dc",
   "metadata": {},
   "outputs": [
    {
     "name": "stdout",
     "output_type": "stream",
     "text": [
      "0 a1 b1 c1\n",
      "1 a2 b2 c2\n",
      "2 a3 b3 c3\n"
     ]
    }
   ],
   "source": [
    "#--------------------------------------------------------------------------------\n",
    "# zip(iterator): 동일한 갯수로 이루어진 자료형을 묶어주는 역할\n",
    "#--------------------------------------------------------------------------------\n",
    "\n",
    "a = [\"a1\",\"a2\",\"a3\"]\n",
    "b = [\"b1\",\"b2\",\"b3\"]\n",
    "c = [\"c1\",\"c2\",\"c3\"]\n",
    "\n",
    "list(zip(a,b,c)) # 컬럼끼리(세로로) 묶어줌\n",
    "\n",
    "for i,v in enumerate(zip(a,b,c)):\n",
    "    print(i,*v)"
   ]
  },
  {
   "cell_type": "markdown",
   "id": "7d6dec70",
   "metadata": {},
   "source": [
    "---\n",
    "### External Function\n",
    "\n",
    "+ import 모듈명 #.py -> 모듈 \n",
    "+ C:\\users\\acorn\\Anaconda3\\lib\\site-pakages"
   ]
  },
  {
   "cell_type": "code",
   "execution_count": 10,
   "id": "8a4a4f8b",
   "metadata": {},
   "outputs": [
    {
     "name": "stdout",
     "output_type": "stream",
     "text": [
      "['__breakpointhook__', '__displayhook__', '__doc__', '__excepthook__', '__interactivehook__', '__loader__', '__name__', '__package__', '__spec__', '__stderr__', '__stdin__', '__stdout__', '__unraisablehook__', '_base_executable', '_clear_type_cache', '_current_frames', '_debugmallocstats', '_enablelegacywindowsfsencoding', '_framework', '_getframe', '_git', '_home', '_xoptions', 'addaudithook', 'api_version', 'argv', 'audit', 'base_exec_prefix', 'base_prefix', 'breakpointhook', 'builtin_module_names', 'byteorder', 'call_tracing', 'callstats', 'copyright', 'displayhook', 'dllhandle', 'dont_write_bytecode', 'exc_info', 'excepthook', 'exec_prefix', 'executable', 'exit', 'flags', 'float_info', 'float_repr_style', 'get_asyncgen_hooks', 'get_coroutine_origin_tracking_depth', 'getallocatedblocks', 'getcheckinterval', 'getdefaultencoding', 'getfilesystemencodeerrors', 'getfilesystemencoding', 'getprofile', 'getrecursionlimit', 'getrefcount', 'getsizeof', 'getswitchinterval', 'gettrace', 'getwindowsversion', 'hash_info', 'hexversion', 'implementation', 'int_info', 'intern', 'is_finalizing', 'last_traceback', 'last_type', 'last_value', 'maxsize', 'maxunicode', 'meta_path', 'modules', 'path', 'path_hooks', 'path_importer_cache', 'platform', 'prefix', 'ps1', 'ps2', 'ps3', 'pycache_prefix', 'set_asyncgen_hooks', 'set_coroutine_origin_tracking_depth', 'setcheckinterval', 'setprofile', 'setrecursionlimit', 'setswitchinterval', 'settrace', 'stderr', 'stdin', 'stdout', 'thread_info', 'unraisablehook', 'version', 'version_info', 'warnoptions', 'winver']\n",
      "----------------------------------------------------------------------------------------------\n",
      "['C:\\\\Users\\\\목지윤\\\\pythonwork', 'C:\\\\anaconda\\\\python38.zip', 'C:\\\\anaconda\\\\DLLs', 'C:\\\\anaconda\\\\lib', 'C:\\\\anaconda', '', 'C:\\\\anaconda\\\\lib\\\\site-packages', 'C:\\\\anaconda\\\\lib\\\\site-packages\\\\win32', 'C:\\\\anaconda\\\\lib\\\\site-packages\\\\win32\\\\lib', 'C:\\\\anaconda\\\\lib\\\\site-packages\\\\Pythonwin', 'C:\\\\anaconda\\\\lib\\\\site-packages\\\\IPython\\\\extensions', 'C:\\\\Users\\\\목지윤\\\\.ipython']\n",
      "win32\n",
      "3.8.5 (default, Sep  3 2020, 21:29:08) [MSC v.1916 64 bit (AMD64)]\n"
     ]
    }
   ],
   "source": [
    "import sys \n",
    "\n",
    "print(dir(sys)) # 모듈의 내용을 알려줌\n",
    "print(\"----------------------------------------------------------------------------------------------\")\n",
    "print(sys.path) # sys안에 만들어져 있는 변수 # 호출해서 실행 할 수 있는 경로 \n",
    "print(sys.platform) # 운영체제의 종류 \n",
    "print(sys.version) # 파이썬 버전"
   ]
  },
  {
   "cell_type": "code",
   "execution_count": 12,
   "id": "ab5eae43",
   "metadata": {},
   "outputs": [
    {
     "name": "stdout",
     "output_type": "stream",
     "text": [
      "['DirEntry', 'F_OK', 'MutableMapping', 'O_APPEND', 'O_BINARY', 'O_CREAT', 'O_EXCL', 'O_NOINHERIT', 'O_RANDOM', 'O_RDONLY', 'O_RDWR', 'O_SEQUENTIAL', 'O_SHORT_LIVED', 'O_TEMPORARY', 'O_TEXT', 'O_TRUNC', 'O_WRONLY', 'P_DETACH', 'P_NOWAIT', 'P_NOWAITO', 'P_OVERLAY', 'P_WAIT', 'PathLike', 'R_OK', 'SEEK_CUR', 'SEEK_END', 'SEEK_SET', 'TMP_MAX', 'W_OK', 'X_OK', '_AddedDllDirectory', '_Environ', '__all__', '__builtins__', '__cached__', '__doc__', '__file__', '__loader__', '__name__', '__package__', '__spec__', '_check_methods', '_execvpe', '_exists', '_exit', '_fspath', '_get_exports_list', '_putenv', '_unsetenv', '_wrap_close', 'abc', 'abort', 'access', 'add_dll_directory', 'altsep', 'chdir', 'chmod', 'close', 'closerange', 'cpu_count', 'curdir', 'defpath', 'device_encoding', 'devnull', 'dup', 'dup2', 'environ', 'error', 'execl', 'execle', 'execlp', 'execlpe', 'execv', 'execve', 'execvp', 'execvpe', 'extsep', 'fdopen', 'fsdecode', 'fsencode', 'fspath', 'fstat', 'fsync', 'ftruncate', 'get_exec_path', 'get_handle_inheritable', 'get_inheritable', 'get_terminal_size', 'getcwd', 'getcwdb', 'getenv', 'getlogin', 'getpid', 'getppid', 'isatty', 'kill', 'linesep', 'link', 'listdir', 'lseek', 'lstat', 'makedirs', 'mkdir', 'name', 'open', 'pardir', 'path', 'pathsep', 'pipe', 'popen', 'putenv', 'read', 'readlink', 'remove', 'removedirs', 'rename', 'renames', 'replace', 'rmdir', 'scandir', 'sep', 'set_handle_inheritable', 'set_inheritable', 'spawnl', 'spawnle', 'spawnv', 'spawnve', 'st', 'startfile', 'stat', 'stat_result', 'statvfs_result', 'strerror', 'supports_bytes_environ', 'supports_dir_fd', 'supports_effective_ids', 'supports_fd', 'supports_follow_symlinks', 'symlink', 'sys', 'system', 'terminal_size', 'times', 'times_result', 'truncate', 'umask', 'uname_result', 'unlink', 'urandom', 'utime', 'waitpid', 'walk', 'write']\n",
      "----------------------------------------------------------------------------------------------\n",
      "C:\\Users\\목지윤\\pythonwork\n"
     ]
    }
   ],
   "source": [
    "import os\n",
    "\n",
    "print(dir(os))\n",
    "print(\"----------------------------------------------------------------------------------------------\")\n",
    "print(os.getcwd())  # 내가 작업하고 있는 위치 (get current work directory)\n"
   ]
  },
  {
   "cell_type": "code",
   "execution_count": 17,
   "id": "c4c4474b",
   "metadata": {},
   "outputs": [
    {
     "name": "stdout",
     "output_type": "stream",
     "text": [
      "['__builtins__', '__cached__', '__doc__', '__file__', '__loader__', '__name__', '__package__', '__spec__', 'company', 'info', 'sum']\n",
      "------------------------------------------------------------\n",
      "30\n",
      "키:  175\n",
      "몸무게:  80\n",
      "기타:  {'name': '홍길동', 'age': 30, 'addr': '서울'}\n",
      "None\n",
      "회사명 :  파이썬 주식회사\n"
     ]
    }
   ],
   "source": [
    "import mymodule \n",
    "\n",
    "print(dir(mymodule))\n",
    "print(\"------------------------------------------------------------\")\n",
    "print(mymodule.sum(10,20))\n",
    "print(mymodule.info(80,175,name=\"홍길동\",age=30,addr=\"서울\"))\n",
    "print(\"회사명 : \",mymodule.company)"
   ]
  },
  {
   "cell_type": "code",
   "execution_count": 24,
   "id": "97b67509",
   "metadata": {},
   "outputs": [
    {
     "name": "stdout",
     "output_type": "stream",
     "text": [
      "2021-09-16 , 2021 , 9 , 16\n",
      "2021-09-16 16:56:12.676157\n",
      "---------------------------------------------------------------------------------------\n"
     ]
    },
    {
     "data": {
      "text/plain": [
       "datetime.timedelta(0)"
      ]
     },
     "execution_count": 24,
     "metadata": {},
     "output_type": "execute_result"
    }
   ],
   "source": [
    "import datetime\n",
    "\n",
    "# 현재 날짜\n",
    "today = datetime.date.today()  \n",
    "print(today, \",\", today.year,\",\",today.month,\",\",today.day) # 필요한 부분만 뽑아 올수도 있당\n",
    "\n",
    "# 현재 시간\n",
    "ctime = datetime.datetime.today()  # 현재 날짜와 시간 \n",
    "print(ctime)\n",
    "\n",
    "print(\"---------------------------------------------------------------------------------------\")\n",
    "\n",
    "# 날짜와 시간을 계산\n",
    "mydays = datetime.timedelta(days = -1)\n",
    "print(mydays)\n",
    "print(\"어제 : {}\".format(today + mydays))\n",
    "\n",
    "myhours = datetime.timedelta(hours = -8)\n",
    "print(\"8시간 전 {}\".format(ctime + myhours))\n",
    "\n",
    "print(\"-------------------------------------------------------------------\")\n",
    "\n",
    "# 날짜와 시간의 형식\n",
    "print(today.strftime(\"%m/%d/%Y\"))\n",
    "print(type(today.strftime(\"%m/%d/%Y\")))\n",
    "print(ctime.strftime(\"%Y-%m-%m %H^%M^%S\"))\n",
    "\n",
    "print(\"-------------------------------------------------------------------\")\n",
    "\n",
    "# 날짜의 형식 변환\n",
    "# 날짜를 문자열로 : strftime(), 문자열을 날짜로 : strptime()\n",
    "\n",
    "str1 = \"2021-5-5 11:56:57\"\n",
    "print(type(str1))\n",
    "\n",
    "d1 = datetime.datetime.strptime(str1, \"%Y-%m-%d %H:%M:%S\")\n",
    "print(type(d1))\n",
    "print(d1)"
   ]
  },
  {
   "cell_type": "markdown",
   "id": "ccfbf15d",
   "metadata": {},
   "source": [
    "---\n",
    "\n",
    "### 파일 처리\n",
    "\n",
    "+ IO 관점\n",
    "+ Data Persistence 관점\n",
    "+ 사용 함수\n",
    "    - open(파일명(경로포함), 모드)\n",
    "        * 모드 : r, w, a, rb, wb, ab\n",
    "    - close()\n",
    "    - 읽어올 때 : readline(), readlines(), read()\n",
    "    - 저장할 때 : write()"
   ]
  },
  {
   "cell_type": "code",
   "execution_count": 1,
   "id": "7ce9d408",
   "metadata": {
    "scrolled": false
   },
   "outputs": [
    {
     "name": "stdout",
     "output_type": "stream",
     "text": [
      "<_io.TextIOWrapper name='mymodule.py' mode='r' encoding='cp949'>\n",
      "def sum(num1,num2):\n",
      "\n",
      "\thap = num1 + num2\n",
      "\n",
      "\treturn hap\n",
      "\n",
      "\n",
      "\n",
      "def info(weight,height,**other):\n",
      "\n",
      "\tprint(\"키: \",height)\n",
      "\n",
      "\tprint(\"몸무게: \",weight)\n",
      "\n",
      "\tprint(\"기타: \",other)\n",
      "\n",
      "\n",
      "\n",
      "company = \"파이썬 주식회사\"\n"
     ]
    }
   ],
   "source": [
    "# 보조기억 장치에 있는 파일을 메모리로 로드(load)해 그 주소를 저장함  * 메모리에 있는걸 보조기억장치로 내리는것 -> save\n",
    "f = open(\"mymodule.py\",\"r\") \n",
    "print(f)\n",
    "\n",
    "while True:\n",
    "    line = f.readline()\n",
    "    if line == '':\n",
    "        break\n",
    "    print(line)\n",
    "\n",
    "f.close()"
   ]
  },
  {
   "cell_type": "code",
   "execution_count": 2,
   "id": "5546a893",
   "metadata": {},
   "outputs": [
    {
     "name": "stdout",
     "output_type": "stream",
     "text": [
      "abcd\n",
      "\n",
      "efgh\n",
      "\n",
      "ijklmn\n",
      "\n",
      "1234\n",
      "\n",
      "5678\n",
      "\n",
      "가나다라\n",
      "\n",
      "마바사아\n"
     ]
    }
   ],
   "source": [
    "f = open(\"C:\\\\jiyoon\\\\pythonwork\\\\basic\\\\data\\\\filetest1.txt\",\"r\")\n",
    "\n",
    "while True:\n",
    "    line = f.readline()\n",
    "    \n",
    "    if line == '':\n",
    "        break\n",
    "    print(line)\n",
    "\n",
    "f.close()"
   ]
  },
  {
   "cell_type": "code",
   "execution_count": 3,
   "id": "abec18fa",
   "metadata": {},
   "outputs": [
    {
     "name": "stdout",
     "output_type": "stream",
     "text": [
      "['abcd\\n', 'efgh\\n', 'ijklmn\\n', '1234\\n', '5678\\n', '가나다라\\n', '마바사아']\n"
     ]
    }
   ],
   "source": [
    "f = open(\"C:\\\\jiyoon\\\\pythonwork\\\\basic\\\\data\\\\filetest1.txt\",\"r\")\n",
    "\n",
    "lines = f.readlines()       # 전체 데이터를 각각의 줄을 구분해서 리스트로 묶어줌\n",
    "print(lines)\n",
    "\n",
    "f.close()"
   ]
  },
  {
   "cell_type": "code",
   "execution_count": 5,
   "id": "97e38475",
   "metadata": {},
   "outputs": [
    {
     "name": "stdout",
     "output_type": "stream",
     "text": [
      "abcd\n",
      "efgh\n",
      "ijklmn\n",
      "1234\n",
      "5678\n",
      "가나다라\n",
      "마바사아\n",
      "<class 'str'>\n"
     ]
    }
   ],
   "source": [
    "f = open(\"C:\\\\jiyoon\\\\pythonwork\\\\basic\\\\data\\\\filetest1.txt\",\"r\")\n",
    "\n",
    "data= f.read()       # 전체 데이터를 각각의 줄을 구분해서 리스트로 묶어줌\n",
    "print(data)\n",
    "print(type(data))\n",
    "\n",
    "f.close()"
   ]
  },
  {
   "cell_type": "code",
   "execution_count": 17,
   "id": "899754c5",
   "metadata": {},
   "outputs": [
    {
     "name": "stdout",
     "output_type": "stream",
     "text": [
      "1 : abcd\n",
      "2 : efgh\n",
      "3 : ijklmn\n",
      "4 : 1234\n",
      "5 : 5678\n",
      "6 : 가나다라\n",
      "7 : 마바사아\n",
      "---------------------------------------------\n",
      "1 : abcd\n",
      "2 : efgh\n",
      "3 : ijklmn\n",
      "4 : 1234\n",
      "5 : 5678\n",
      "6 : 가나다라\n",
      "7 : 마바사아\n"
     ]
    }
   ],
   "source": [
    "sdata = data.split(\"\\n\")\n",
    "cnt = 1\n",
    "\n",
    "for line in sdata:\n",
    "    print(cnt,\":\",line)\n",
    "    cnt += 1\n",
    "    \n",
    "print(\"---------------------------------------------\")\n",
    "\n",
    "for idx, line in enumerate(sdata,start=1):\n",
    "    print(idx, \":\", line)\n"
   ]
  },
  {
   "cell_type": "code",
   "execution_count": 21,
   "id": "1f532038",
   "metadata": {},
   "outputs": [],
   "source": [
    "f = open(\"C:\\\\jiyoon\\\\pythonwork\\\\basic\\\\data\\\\filetest2.txt\",\"w\")\n",
    "\n",
    "f.write(\"이름: 홍길동,\")\n",
    "f.write(\"전화: 010-111-1111,\")\n",
    "f.write(\"주소: 서울시 강남구\\n\")\n",
    "\n",
    "f.write(\"이름: 임꺽정,\")\n",
    "f.write(\"전화: 010-222-2222,\")\n",
    "f.write(\"주소: 서울시 강북구\\n\")\n",
    "\n",
    "f.close()"
   ]
  },
  {
   "cell_type": "code",
   "execution_count": 23,
   "id": "e6784fe3",
   "metadata": {},
   "outputs": [],
   "source": [
    "f = open(\"C:\\\\jiyoon\\\\pythonwork\\\\basic\\\\data\\\\filetest2.txt\",\"w\") # overwrite. 원래 데이터는 지우고 새로 추가됨\n",
    "\n",
    "f.write(\"이름: 고길동,\")\n",
    "f.write(\"전화: 010-333-3333,\")\n",
    "f.write(\"주소: 서울시 강서구\\n\")\n",
    "\n",
    "f = open(\"C:\\\\jiyoon\\\\pythonwork\\\\basic\\\\data\\\\filetest2.txt\",\"a\") # 원래 데이터 그대로 두고 새로 추가됨\n",
    "\n",
    "f.write(\"이름: 김철수,\")\n",
    "f.write(\"전화: 010-444-4444,\")\n",
    "f.write(\"주소: 서울시 동작구\\n\")\n",
    "\n",
    "f.close()"
   ]
  },
  {
   "cell_type": "code",
   "execution_count": 24,
   "id": "3bbcd27b",
   "metadata": {},
   "outputs": [],
   "source": [
    "nums = [11, 21, 31, 41, 51, 61, 71, 81, 91]\n",
    "\n",
    "f = open(\"data/filetest3.txt\",\"w\")\n",
    "\n",
    "f.write(str(nums))            # 문자열만 저장 가능함 숫자X\n",
    "\n",
    "f.close()"
   ]
  },
  {
   "cell_type": "code",
   "execution_count": 25,
   "id": "10c699c4",
   "metadata": {},
   "outputs": [],
   "source": [
    "##### csv형식으로 저장 (,로 구분된 데이터) \n",
    "\n",
    "f = open(\"data/filetest3.txt\",\"w\")\n",
    "\n",
    "for i in range(len(nums)):\n",
    "    f.write(str(nums[i]) + \",\")\n",
    "f.close()"
   ]
  },
  {
   "cell_type": "code",
   "execution_count": 26,
   "id": "4bf521fa",
   "metadata": {},
   "outputs": [],
   "source": [
    "f = open(\"data/filetest3.txt\",\"w\")\n",
    "\n",
    "cnt = len(nums)\n",
    "for i in range(cnt):\n",
    "    if i < cnt -1 :\n",
    "        f.write(str(nums[i]) + \",\")\n",
    "    else:\n",
    "        f.write(str(nums[i]))\n",
    "f.close()"
   ]
  },
  {
   "cell_type": "code",
   "execution_count": 30,
   "id": "0ba20a8d",
   "metadata": {},
   "outputs": [],
   "source": [
    "f = open(\"data/filetest3.txt\",\"w\")\n",
    "\n",
    "f.write(\",\".join([str(i) for i in nums]))\n",
    "\n",
    "f.close()"
   ]
  },
  {
   "cell_type": "code",
   "execution_count": 34,
   "id": "e343dcbf",
   "metadata": {},
   "outputs": [
    {
     "name": "stdout",
     "output_type": "stream",
     "text": [
      "['1-markdown.ipynb', '2-변수와 자료형.ipynb', '3-제어문.ipynb', '4-함수.ipynb']\n"
     ]
    }
   ],
   "source": [
    "##### 동시에 여러개의 파일을 읽어오는 방법\n",
    "\n",
    "import glob\n",
    "\n",
    "# files = glob.glob(\"*\")   # 모든 파일이름 가져오기\n",
    "# files = glob.glob(\"*.*\")   # 폴더는 제외하고 파일만 가져오기\n",
    "files = glob.glob(\"*.ipynb\") # ipynb 파일만 가져오기\n",
    "print(files)"
   ]
  },
  {
   "cell_type": "markdown",
   "id": "0763054f",
   "metadata": {},
   "source": [
    "### 연습문제 p179"
   ]
  },
  {
   "cell_type": "code",
   "execution_count": 47,
   "id": "20c72f33",
   "metadata": {},
   "outputs": [],
   "source": [
    "# 1.\n",
    "\n",
    "def is_odd(number):\n",
    "    if number % 2 == 1:\n",
    "        return True\n",
    "    else:\n",
    "        return False"
   ]
  },
  {
   "cell_type": "code",
   "execution_count": 50,
   "id": "f4d12e95",
   "metadata": {},
   "outputs": [
    {
     "data": {
      "text/plain": [
       "1.5"
      ]
     },
     "execution_count": 50,
     "metadata": {},
     "output_type": "execute_result"
    }
   ],
   "source": [
    "# 2.\n",
    "\n",
    "def avg_numbers(*args):\n",
    "    result = 0\n",
    "    for i in args:\n",
    "        result += i\n",
    "    return result/len(args)\n",
    "\n",
    "avg_numbers(1,2)\n",
    "avg_numbers(1,2,3,4,5)"
   ]
  },
  {
   "cell_type": "code",
   "execution_count": 2,
   "id": "6083e516",
   "metadata": {},
   "outputs": [
    {
     "name": "stdout",
     "output_type": "stream",
     "text": [
      "첫번째 숫자를 입력하세요: 3\n",
      "두번째 숫자를 입력하세요: 6\n",
      "두 수의 합은 9 입니다\n"
     ]
    }
   ],
   "source": [
    "# 3.\n",
    "\n",
    "input1 = int(input(\"첫번째 숫자를 입력하세요: \"))\n",
    "input2 = int(input(\"두번째 숫자를 입력하세요: \"))\n",
    "\n",
    "total = input1 + input2\n",
    "print(\"두 수의 합은 %s 입니다\" %total)"
   ]
  },
  {
   "cell_type": "code",
   "execution_count": 3,
   "id": "463571fc",
   "metadata": {},
   "outputs": [
    {
     "name": "stdout",
     "output_type": "stream",
     "text": [
      "youneedpython\n",
      "youneedpython\n",
      "you need python\n",
      "youneedpython\n"
     ]
    }
   ],
   "source": [
    "# 4.\n",
    "\n",
    "print(\"you\" \"need\" \"python\")\n",
    "print(\"you\"+\"need\"+\"python\")\n",
    "print(\"you\",\"need\",\"python\")\n",
    "print(\"\".join([\"you\",\"need\",\"python\"]))"
   ]
  },
  {
   "cell_type": "code",
   "execution_count": 5,
   "id": "366917f9",
   "metadata": {},
   "outputs": [
    {
     "name": "stdout",
     "output_type": "stream",
     "text": [
      "Life is too short\n"
     ]
    }
   ],
   "source": [
    "# 5.\n",
    "\n",
    "f1 = open(\"data/test.txt\",\"w\")\n",
    "f1.write(\"Life is too short\")\n",
    "f1.close()  # 닫아주어야함\n",
    "\n",
    "f2 = open(\"data/test.txt\",\"r\")\n",
    "print(f2.read())\n",
    "f2.close()"
   ]
  },
  {
   "cell_type": "code",
   "execution_count": 7,
   "id": "36cb60f0",
   "metadata": {},
   "outputs": [
    {
     "name": "stdout",
     "output_type": "stream",
     "text": [
      "저장할 내용을 입력하세요: 아아아\n"
     ]
    }
   ],
   "source": [
    "# 6.\n",
    "\n",
    "user_input = input(\"저장할 내용을 입력하세요: \")\n",
    "f = open(\"test.txt\",\"a\")\n",
    "f.write(user_input)\n",
    "f.write(\"\\n\")\n",
    "f.close()"
   ]
  },
  {
   "cell_type": "code",
   "execution_count": 8,
   "id": "1ca8e7bb",
   "metadata": {},
   "outputs": [],
   "source": [
    "# 7.\n",
    "\n",
    "f = open('test.txt','r')\n",
    "body = f.read()\n",
    "\n",
    "body = body.replace('java','python')\n",
    "\n",
    "f = open('test.txt','w')\n",
    "f.write(body)\n",
    "f.close()"
   ]
  },
  {
   "cell_type": "code",
   "execution_count": 10,
   "id": "a3a3fbef",
   "metadata": {},
   "outputs": [
    {
     "name": "stdout",
     "output_type": "stream",
     "text": [
      "결과: 5 - 3 = 2\n"
     ]
    }
   ],
   "source": [
    "# 1. 계산기 함수\n",
    "\n",
    "def calculator(연산자,숫자1,숫자2):\n",
    "\n",
    "    if 연산자 == '+' :\n",
    "        print(\"결과: %d + %d = %d\" %(숫자1,숫자2,숫자1+숫자2))\n",
    "    elif 연산자 == '-':\n",
    "        print(\"결과: %d - %d = %d\" %(숫자1,숫자2,숫자1-숫자2))\n",
    "    elif 연산자 == '/':\n",
    "        print(\"결과: %d / %d = %.1f\" %(숫자1,숫자2,숫자1/숫자2))\n",
    "    elif 연산자 == '*':\n",
    "        print(\"결과: %d * %d = %d\" %(숫자1,숫자2,숫자1*숫자2))\n",
    "    else:\n",
    "        print(\"연산자를 다시 입력해주세요.\")\n",
    "        \n",
    "calculator(\"-\",5,3)"
   ]
  },
  {
   "cell_type": "code",
   "execution_count": 13,
   "id": "52e64b94",
   "metadata": {},
   "outputs": [
    {
     "name": "stdout",
     "output_type": "stream",
     "text": [
      "컴퓨터: 보\n",
      "사용자 승\n"
     ]
    }
   ],
   "source": [
    "# 2. 가위바위보 게임 함수\n",
    "\n",
    "\n",
    "def game(사용자):\n",
    "    \n",
    "    import random\n",
    "    컴퓨터 = random.choice([\"가위\",\"바위\",\"보\"]) \n",
    "    print(\"컴퓨터:\",컴퓨터)\n",
    "\n",
    "    if 사용자 == \"가위\" :\n",
    "        if 컴퓨터 == \"가위\":\n",
    "            print(\"무승부\")\n",
    "        elif 컴퓨터 == \"바위\":\n",
    "            print(\"컴퓨터 승\")\n",
    "        else:\n",
    "            print(\"사용자 승\")\n",
    "    elif 사용자 == \"바위\" :\n",
    "        if 컴퓨터 == \"가위\":\n",
    "            print(\"사용자 승\")\n",
    "        elif 컴퓨터 == \"바위\":\n",
    "            print(\"무승부\")\n",
    "        else:\n",
    "            print(\"컴퓨터 승\")\n",
    "    elif 사용자 == \"보\":\n",
    "        if 컴퓨터 == \"가위\":\n",
    "            print(\"컴퓨터 승\")\n",
    "        elif 컴퓨터 == \"바위\":\n",
    "            print(\"사용자 승\")\n",
    "        else:\n",
    "            print(\"무승부\")\n",
    "    else:\n",
    "        print(\"다시 입력해주세요\")\n",
    "\n",
    "game('가위')"
   ]
  },
  {
   "cell_type": "code",
   "execution_count": 18,
   "id": "0f7c4f25",
   "metadata": {},
   "outputs": [
    {
     "name": "stdout",
     "output_type": "stream",
     "text": [
      "짝수의 합:  6\n",
      "홀수의 합:  9\n"
     ]
    }
   ],
   "source": [
    "# 3. 짝수합, 홀수합 함수\n",
    "\n",
    "def num_sum(*num):\n",
    "\n",
    "    sum1 = 0\n",
    "    sum2 = 0\n",
    "    \n",
    "    for i in num:\n",
    "        if i%2 == 0:\n",
    "            sum1 += i\n",
    "        else:\n",
    "            sum2 += i\n",
    "\n",
    "    print(\"짝수의 합: \",sum1)\n",
    "    print(\"홀수의 합: \",sum2)\n",
    "\n",
    "num_sum(1,2,3,4,5)\n"
   ]
  },
  {
   "cell_type": "code",
   "execution_count": 19,
   "id": "8dd4b593",
   "metadata": {},
   "outputs": [
    {
     "name": "stdout",
     "output_type": "stream",
     "text": [
      "낮음\n"
     ]
    }
   ],
   "source": [
    "# 4. 숫자 맞추기 함수\n",
    "\n",
    "def num_game(user):\n",
    "    import random\n",
    "    num = random.randint(0,100)\n",
    "   \n",
    "    if num == user:\n",
    "        print(\"정답입니다. 시도회수는 %d 입니다.\"%count)\n",
    "    elif num < user:\n",
    "        print(\"낮음\")\n",
    "    else:\n",
    "        print(\"높음\")\n",
    "        \n",
    "num_game(32)\n"
   ]
  },
  {
   "cell_type": "code",
   "execution_count": 3,
   "id": "02d5e739",
   "metadata": {},
   "outputs": [
    {
     "name": "stdout",
     "output_type": "stream",
     "text": [
      "1.친구 리스트 출력\n",
      " 2.친구 추가\n",
      " 3.친구 삭제\n",
      " 4.이름 변경\n",
      " 9.종료\n",
      "\n",
      "이름을 입력: 목지윤\n"
     ]
    }
   ],
   "source": [
    "# 5. 친구관리프로그램 함수\n",
    "\n",
    "def friend_list(선택):\n",
    "    list = []\n",
    "    print(\"1.친구 리스트 출력\\n 2.친구 추가\\n 3.친구 삭제\\n 4.이름 변경\\n 9.종료\\n\")\n",
    "    \n",
    "    if 선택 == 1:\n",
    "        print(list)\n",
    "    elif 선택 == 2:\n",
    "        이름 = input(\"이름을 입력: \")\n",
    "        list.append(이름)\n",
    "    elif 선택 == 3:\n",
    "        이름 = input(\"삭제할 이름을 입력: \")\n",
    "        list.remove(이름)\n",
    "    elif 선택 == 4:\n",
    "        이름1 = input(\"변경할 이름 선택 : \")\n",
    "        이름2 = input(\"변경하고 싶은 이름 선택: \")\n",
    "        list.remove(이름1)\n",
    "        list.append(이름2)\n",
    "    else:\n",
    "        print(\"다시 입력해주세요.\")\n",
    "\n",
    "friend_list(2)"
   ]
  },
  {
   "cell_type": "code",
   "execution_count": null,
   "id": "476f1149",
   "metadata": {},
   "outputs": [],
   "source": []
  }
 ],
 "metadata": {
  "kernelspec": {
   "display_name": "Python 3",
   "language": "python",
   "name": "python3"
  },
  "language_info": {
   "codemirror_mode": {
    "name": "ipython",
    "version": 3
   },
   "file_extension": ".py",
   "mimetype": "text/x-python",
   "name": "python",
   "nbconvert_exporter": "python",
   "pygments_lexer": "ipython3",
   "version": "3.8.8"
  }
 },
 "nbformat": 4,
 "nbformat_minor": 5
}
