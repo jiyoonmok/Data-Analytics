{
 "cells": [
  {
   "cell_type": "markdown",
   "id": "574483d1",
   "metadata": {},
   "source": [
    "# 1. 모듈"
   ]
  },
  {
   "cell_type": "markdown",
   "id": "6fb55ca8",
   "metadata": {},
   "source": [
    "### (1) 정의\n",
    "\n",
    "+ 비슷하거나 관련된 일을 하는 함수, 클래스, 상수값들을 모아서 하나의 파일에 저장하고 추후에 재사용하기 위한 목적\n",
    "+ 상수, 함수, 클래스들을 모아놓은 파일 : .py\n",
    "\n",
    "### (2) 종류\n",
    "\n",
    "+ 표준 모듈\n",
    "+ 사용자 정의 모듈\n",
    "+ 시드 피터 모듈\n",
    "\n",
    "### (3) 참조\n",
    "\n",
    "+ 같은 경로\n",
    "+ 기존 모듈 경로에 추가 : 주로 아나콘다의 경우에는 Lib/site-packages\n",
    "+ sys 모듈을 이용해서 path경로에 추가\n",
    "    sys.path.append(\"경로\")\n",
    "    \n",
    "### (4) 선언 방법\n",
    "\n",
    "+ import 모듈명\n",
    "+ import 모듈명 as 별칭\n",
    "+ from 모듈명 import 상수,함수,클래스\n",
    "+ from 모듈명 import * \n",
    "+ from 모듈명 import 이름 as 별칭\n",
    "\n",
    "### (5) 패키지\n",
    "\n",
    "+ 여러 모듈들을 모아놓은 폴더 \n"
   ]
  },
  {
   "cell_type": "code",
   "execution_count": 9,
   "id": "5fd00f27",
   "metadata": {},
   "outputs": [],
   "source": [
    "import sys \n",
    "sys.path.append(\"C:\\\\mylib\")"
   ]
  },
  {
   "cell_type": "code",
   "execution_count": 10,
   "id": "9151d4d2",
   "metadata": {},
   "outputs": [
    {
     "name": "stdout",
     "output_type": "stream",
     "text": [
      "40\n",
      "키 :  180\n",
      "몸무게 :  80\n",
      "기타 :  {'name': '홍길동', 'blood': 'o'}\n",
      "파이썬 주식회사\n",
      "3.141592\n",
      "28.274328\n"
     ]
    }
   ],
   "source": [
    "\"\"\"\n",
    "import mymodule2 as my\n",
    "\n",
    "print(my.sum(20, 20))\n",
    "my.info(80,180, name =\"홍길동\", blood=\"o\")\n",
    "print(my.company)\n",
    "print(my.Math().PI)\n",
    "print(my.Math().solve(3))\n",
    "\n",
    "\"\"\"\n",
    "\"\"\"\n",
    "from mymodule2 import sum, info, company, Math\n",
    "\n",
    "print(sum(20, 20))\n",
    "info(80,180, name =\"홍길동\", blood=\"o\")\n",
    "print(company)\n",
    "print(Math().PI)\n",
    "print(Math().solve(3))\n",
    "\"\"\"\n",
    "\n",
    "from mymodule2 import *\n",
    "\n",
    "print(sum(20, 20))\n",
    "info(80,180, name =\"홍길동\", blood=\"o\")\n",
    "print(company)\n",
    "print(Math().PI)\n",
    "print(Math().solve(3))\n"
   ]
  },
  {
   "cell_type": "code",
   "execution_count": 7,
   "id": "db216144",
   "metadata": {},
   "outputs": [
    {
     "name": "stdout",
     "output_type": "stream",
     "text": [
      "40\n",
      "키 :  180\n",
      "몸무게 :  80\n",
      "기타 :  {'name': '홍길동', 'blood': 'o'}\n",
      "파이썬 주식회사\n",
      "3.141592\n",
      "28.274328\n"
     ]
    }
   ],
   "source": []
  },
  {
   "cell_type": "code",
   "execution_count": null,
   "id": "780888a2",
   "metadata": {},
   "outputs": [],
   "source": []
  }
 ],
 "metadata": {
  "kernelspec": {
   "display_name": "Python 3",
   "language": "python",
   "name": "python3"
  },
  "language_info": {
   "codemirror_mode": {
    "name": "ipython",
    "version": 3
   },
   "file_extension": ".py",
   "mimetype": "text/x-python",
   "name": "python",
   "nbconvert_exporter": "python",
   "pygments_lexer": "ipython3",
   "version": "3.8.8"
  }
 },
 "nbformat": 4,
 "nbformat_minor": 5
}
