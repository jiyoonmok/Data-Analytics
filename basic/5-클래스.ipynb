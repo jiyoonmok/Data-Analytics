{
 "cells": [
  {
   "cell_type": "markdown",
   "id": "0ccd2396",
   "metadata": {},
   "source": [
    "## 1.특징\n",
    "\n",
    "+ 묶음(코드 블럭)\n",
    "    - 변수(멤버 변수,속성,필드), 함수(멤버 함수, 메서드)\n",
    "    - 여러 개의 함수를 묶어서 좀 더 큰 단위의 모듈로 관리 \n",
    "    \n",
    "+ 설계도(추상적)\n",
    "    - 인스턴스(instance), 객체(object)\n",
    "\n",
    "+ 사용자 정의 자료형\n",
    "\n",
    "+ 객체의 조건\n",
    "    - 상속성 (Inheritance)\n",
    "    - 다형성 (Polymorphism) \n",
    "    - 캡슐화 (Encapsulation)  \n",
    "    => 객체 지향 언어: java , c++, c#  \n",
    "    다 만족하지는 않는 언어 -> 객체 기반 언어\n",
    "    "
   ]
  },
  {
   "cell_type": "markdown",
   "id": "744d5611",
   "metadata": {},
   "source": [
    "---\n",
    " \n",
    "## 2. 작성방법\n",
    "\n",
    "    class 이름: \n",
    "        변수\n",
    "        함수\n",
    "        \n",
    "    또는\n",
    "    \n",
    "    class 이름(...):\n",
    "        변수\n",
    "        함수\n",
    " "
   ]
  },
  {
   "cell_type": "code",
   "execution_count": 14,
   "id": "d9751a24",
   "metadata": {},
   "outputs": [
    {
     "name": "stdout",
     "output_type": "stream",
     "text": [
      "10\n",
      "Test 클래스\n",
      "<class 'int'>\n"
     ]
    }
   ],
   "source": [
    "class Test:\n",
    "    a = 10\n",
    "    \n",
    "    # 인자가 필수적으로 하나 이상 있어야함\n",
    "    def show(self):\n",
    "        return \"Test 클래스\"\n",
    "        \n",
    "###############################################################################\n",
    "\n",
    "ob = Test()  # 객체 주소 저장\n",
    "print(ob.a)\n",
    "print(ob.show())\n",
    "\n",
    "a = 10\n",
    "print(type(a))"
   ]
  },
  {
   "cell_type": "code",
   "execution_count": 15,
   "id": "1ce71706",
   "metadata": {},
   "outputs": [
    {
     "name": "stdout",
     "output_type": "stream",
     "text": [
      "국적 :  한국\n",
      "이름 :  홍길동\n",
      "나이 :  20\n",
      "신장 :  170\n",
      "취미 :  ['독서', '여행']\n",
      "\n",
      "-----------------------------------------\n",
      "국적 :  프랑스\n",
      "이름 :  시몽\n",
      "나이 :  25\n",
      "신장 :  168\n",
      "취미 :  ['우표수집', '여행', '음악감상']\n",
      "\n",
      "-----------------------------------------\n",
      "국적 :  독일\n",
      "이름 :  괴테\n",
      "나이 :  30\n",
      "신장 :  175\n",
      "취미 :  ['낚시']\n",
      "\n",
      "-----------------------------------------\n"
     ]
    }
   ],
   "source": [
    "##### 사용자 정의 자료형\n",
    "# 국적, 이름, 나이, 신장, 취미\n",
    "\n",
    "class Person:\n",
    "    nation = \"한국\"\n",
    "    name = str()\n",
    "    age = int()\n",
    "    height = float()\n",
    "    hobbies = []\n",
    "    \n",
    "    def show(self):\n",
    "        print(\"국적 : \",self.nation)\n",
    "        print(\"이름 : \",self.name)\n",
    "        print(\"나이 : \",self.age)\n",
    "        print(\"신장 : \",self.height)\n",
    "        print(\"취미 : \",self.hobbies)\n",
    "        print(\"\\n-----------------------------------------\")\n",
    "\n",
    "####################################################################################\n",
    "\n",
    "p1 = Person()\n",
    "p2 = Person()\n",
    "p3 = Person()\n",
    "\n",
    "p1.name = \"홍길동\"\n",
    "p1.age = 20\n",
    "p1.height = 170\n",
    "p1.hobbies = [\"독서\",\"여행\"]\n",
    "\n",
    "p2.nation = \"프랑스\"\n",
    "p2.name = \"시몽\"\n",
    "p2.age = 25\n",
    "p2.height = 168\n",
    "p2.hobbies = [\"우표수집\",\"여행\",\"음악감상\"]\n",
    "\n",
    "p3.nation = \"독일\"\n",
    "p3.name = \"괴테\"\n",
    "p3.age = 30\n",
    "p3.height = 175\n",
    "p3.hobbies = [\"낚시\"]\n",
    "\n",
    "data = [p1,p2,p3]\n",
    "\n",
    "for i in range(len(data)):\n",
    "    data[i].show()"
   ]
  },
  {
   "cell_type": "markdown",
   "id": "66a75a5c",
   "metadata": {},
   "source": [
    "---\n",
    "\n",
    "### (1).self\n",
    "\n",
    "- 현재 사용중인 객체의 주소를 저장하고있는 참조 변수\n",
    "- read only"
   ]
  },
  {
   "cell_type": "code",
   "execution_count": 11,
   "id": "4ce89ef5",
   "metadata": {},
   "outputs": [],
   "source": [
    "class Test:\n",
    "    a = int()\n",
    "    b = float()\n",
    "    c = str()\n",
    "    \n",
    "    def show(self):\n",
    "        # self = 1000 이런식으로 바꿀 수 없음 read only.\n",
    "        print(self.a,self.b,self.c)\n",
    "        print(\"현재 주소: \",id(self))\n",
    "    \n",
    "    def setValue(self,a,b,c):\n",
    "        self.a = a\n",
    "        self.b = b\n",
    "        self.c = c"
   ]
  },
  {
   "cell_type": "code",
   "execution_count": 14,
   "id": "6cf221c8",
   "metadata": {},
   "outputs": [
    {
     "name": "stdout",
     "output_type": "stream",
     "text": [
      "10 3.14 홍길동\n",
      "현재 주소:  2185158449136\n",
      "----------------------------------------------------\n",
      "100 4.5 임꺽정\n",
      "현재 주소:  2185158447792\n",
      "----------------------------------------------------\n",
      "200 55 고길동\n",
      "현재 주소:  2185158450912\n"
     ]
    }
   ],
   "source": [
    "t1 = Test()\n",
    "t2 = Test()\n",
    "t3 = Test()\n",
    "\n",
    "t1.a = 10\n",
    "t1.b = 3.14\n",
    "t1.c = \"홍길동\"\n",
    "\n",
    "t1.show()\n",
    "\n",
    "print(\"----------------------------------------------------\")\n",
    "\n",
    "t2.a = 100\n",
    "t2.b = 4.5\n",
    "t2.c = \"임꺽정\"\n",
    "\n",
    "t2.show()\n",
    "print(\"----------------------------------------------------\")\n",
    "\n",
    "t3.setValue(200,55,\"고길동\")\n",
    "t3.show()"
   ]
  },
  {
   "cell_type": "markdown",
   "id": "ba1914e8",
   "metadata": {},
   "source": [
    "---\n",
    "\n",
    "### (2) 생성자(Constructor)와 소멸자(Deconstructor)\n",
    "\n",
    "- 메서드\n",
    "- 객체(인스턴스)를 생성하는 용도\n",
    "- 생성자의 경우 객체를 처음 만들때 호출된다. (단 한번만 호출)\n",
    "- 초기화 용도로만 쓰임"
   ]
  },
  {
   "cell_type": "code",
   "execution_count": 37,
   "id": "5e83efe3",
   "metadata": {},
   "outputs": [],
   "source": [
    "class Test:\n",
    "    a = int()\n",
    "    b = str()\n",
    "    \n",
    "#    def __init__(self):\n",
    "#        print(\"생성자 호출됨\")\n",
    "#        self.a = 5\n",
    "#        self.b = \"무명씨\"\n",
    "\n",
    "    def __init__(self,a=0,b=\" \"):  # 초기값 설정해주어야 함\n",
    "        self.a = a\n",
    "        self.b = b\n",
    "    \n",
    "    def __del__(self):\n",
    "        print(\"소멸자 호출\")\n",
    "        \n",
    "    def setVal(self, a, b):\n",
    "        self.a = a\n",
    "        self.b = b\n",
    "        "
   ]
  },
  {
   "cell_type": "code",
   "execution_count": 43,
   "id": "ba2d31be",
   "metadata": {},
   "outputs": [
    {
     "name": "stdout",
     "output_type": "stream",
     "text": [
      "소멸자 호출\n",
      "10 홍길동\n",
      "-----------------------------------------\n",
      "소멸자 호출\n",
      "20 고길동\n",
      "-----------------------------------------\n",
      "소멸자 호출\n",
      "0  \n",
      "-----------------------------------------\n",
      "40 임꺽정\n"
     ]
    }
   ],
   "source": [
    "t1 = Test()\n",
    "t1.setVal(10,\"홍길동\")\n",
    "print(t1.a,t1.b)\n",
    "\n",
    "print(\"-----------------------------------------\")\n",
    "\n",
    "t2 = Test()\n",
    "t2.setVal(20,\"고길동\")\n",
    "print(t2.a,t2.b)\n",
    "\n",
    "print(\"-----------------------------------------\")\n",
    "\n",
    "t3 = Test()\n",
    "print(t3.a,t3.b)\n",
    "\n",
    "print(\"-----------------------------------------\")\n",
    "\n",
    "t4 = Test(40,\"임꺽정\")\n",
    "print(t4.a,t4.b)"
   ]
  },
  {
   "cell_type": "code",
   "execution_count": 44,
   "id": "c3423826",
   "metadata": {},
   "outputs": [
    {
     "name": "stdout",
     "output_type": "stream",
     "text": [
      "소멸자 호출\n"
     ]
    }
   ],
   "source": [
    "del t4"
   ]
  },
  {
   "cell_type": "markdown",
   "id": "7e361758",
   "metadata": {},
   "source": [
    "---\n",
    "\n",
    "### (3) static\n",
    "\n",
    "+ 인스턴스와 구별\n",
    "+ 동일한 공간을 모든 객체들이 공동으로 사용\n",
    "+ 정적(클래스) 변수, 정적(클래스) 메서드"
   ]
  },
  {
   "cell_type": "code",
   "execution_count": 61,
   "id": "3b353568",
   "metadata": {},
   "outputs": [],
   "source": [
    "class Person:\n",
    "    nation = \"한국\"\n",
    "    name = str()\n",
    "    age = int()\n",
    "    height = float()\n",
    "    hobbies = []\n",
    "    company = str()\n",
    "    # 생략가능한 부분임\n",
    "    \n",
    "    def show(self):\n",
    "        print(\"국적 : \",self.nation)\n",
    "        print(\"이름 : \",self.name)\n",
    "        print(\"나이 : \",self.age)\n",
    "        print(\"신장 : \",self.height)\n",
    "        print(\"취미 : \",self.hobbies)\n",
    "        print(\"회사명 : \",Person.company)\n",
    "        print(\"\\n-----------------------------------------\")\n",
    "    \n",
    "    @staticmethod \n",
    "    def funcCompany():\n",
    "        Person.company = \"파이썬 주식회사\"\n",
    "        return \"회사명 : \" + Person.company"
   ]
  },
  {
   "cell_type": "code",
   "execution_count": 62,
   "id": "c0ef8440",
   "metadata": {},
   "outputs": [
    {
     "name": "stdout",
     "output_type": "stream",
     "text": [
      "한국\n"
     ]
    }
   ],
   "source": [
    "print(Person.nation)  # 모든 객체가 사용할 수 있는 nation -> static\n"
   ]
  },
  {
   "cell_type": "code",
   "execution_count": 63,
   "id": "6979e6a0",
   "metadata": {},
   "outputs": [
    {
     "name": "stdout",
     "output_type": "stream",
     "text": [
      "한국 한국\n",
      "독일 프랑스\n",
      "한국\n"
     ]
    }
   ],
   "source": [
    "p1 = Person()\n",
    "p2 = Person()\n",
    "\n",
    "print(p1.nation, p2.nation) # 지정된 객체만 사용할 수 있는 nation -> instance \n",
    "\n",
    "p1.nation = \"독일\"\n",
    "p2.nation = \"프랑스\"\n",
    "print(p1.nation,p2.nation)  # instance\n",
    "print(Person.nation)  # static"
   ]
  },
  {
   "cell_type": "code",
   "execution_count": 64,
   "id": "eb3883f5",
   "metadata": {},
   "outputs": [
    {
     "name": "stdout",
     "output_type": "stream",
     "text": [
      "파이썬 주식회사 파이썬 주식회사\n",
      "국적 :  독일\n",
      "이름 :  \n",
      "나이 :  0\n",
      "신장 :  0.0\n",
      "취미 :  []\n",
      "회사명 :  파이썬 주식회사\n",
      "\n",
      "-----------------------------------------\n"
     ]
    }
   ],
   "source": [
    "Person.company = \"파이썬 주식회사\"\n",
    "\n",
    "print(p1.company,p2.company)\n",
    "p1.show()"
   ]
  },
  {
   "cell_type": "code",
   "execution_count": 65,
   "id": "768c1b42",
   "metadata": {},
   "outputs": [
    {
     "data": {
      "text/plain": [
       "'회사명 : 파이썬 주식회사'"
      ]
     },
     "execution_count": 65,
     "metadata": {},
     "output_type": "execute_result"
    }
   ],
   "source": [
    "Person.funcCompany()"
   ]
  },
  {
   "cell_type": "code",
   "execution_count": 4,
   "id": "941a9358",
   "metadata": {},
   "outputs": [],
   "source": [
    "##### 객체의 수를 카운팅 \n",
    "\n",
    "class Counter:\n",
    "    m_cnt = 0\n",
    "    \n",
    "    def __init__(self):\n",
    "        self.m_cnt += 1\n",
    "    \n",
    "    def printCount(self):\n",
    "        print(\"총 객체의 수 : \", self.m_cnt)"
   ]
  },
  {
   "cell_type": "code",
   "execution_count": 6,
   "id": "59d825bb",
   "metadata": {},
   "outputs": [
    {
     "name": "stdout",
     "output_type": "stream",
     "text": [
      "총 객체의 수 :  1\n",
      "총 객체의 수 :  1\n",
      "총 객체의 수 :  1\n"
     ]
    }
   ],
   "source": [
    "a,b,c = Counter(),Counter(),Counter()\n",
    "a.printCount()\n",
    "b.printCount()\n",
    "c.printCount()   # 값이 누적되지 않는다\n"
   ]
  },
  {
   "cell_type": "code",
   "execution_count": 28,
   "id": "163354c2",
   "metadata": {},
   "outputs": [],
   "source": [
    "##### 객체의 수를 카운팅 \n",
    "\n",
    "class Counter:\n",
    "    m_cnt = 0\n",
    "    \n",
    "    def __init__(self):\n",
    "        Counter.m_cnt += 1\n",
    "    \n",
    "    @staticmethod\n",
    "    def printCount():\n",
    "        print(\"총 객체의 수 : \", Counter.m_cnt)"
   ]
  },
  {
   "cell_type": "code",
   "execution_count": 29,
   "id": "eb17f5e4",
   "metadata": {},
   "outputs": [
    {
     "name": "stdout",
     "output_type": "stream",
     "text": [
      "총 객체의 수 :  3\n"
     ]
    }
   ],
   "source": [
    "a,b,c = Counter(),Counter(),Counter()\n",
    "Counter.printCount()"
   ]
  },
  {
   "cell_type": "code",
   "execution_count": 56,
   "id": "da9619bd",
   "metadata": {},
   "outputs": [],
   "source": [
    "\"\"\"\n",
    "e1 = Employee(1111, \"홍길동\", 1000000, [\"여행\", \"낚시\", \"운동\"])\n",
    "e1.display()\n",
    "\n",
    "결과 :\n",
    "    사번 : 1111\n",
    "    이름 : 홍길동\n",
    "    급여 : 1000000\n",
    "    취미 : 여행, 낚시, 운동\n",
    "    \n",
    "e2 = Employee(1112, \"임꺽정\", 1200000, [\"자전거\", \"볼링\"])\n",
    "e3 = Employee(1113, \"신돌석\", 1400000, [\"독서\"])\n",
    "\n",
    "total = Employee.getCount()\n",
    "print(\"인원수 : \", total)\n",
    "\n",
    "# 데이터 수정\n",
    "e3.setSalary(2000000)\n",
    "e3.appendHobby(\"피아노\", \"드론\")\n",
    "e3.display()\n",
    "\n",
    "결과 :\n",
    "    사번 : 1113\n",
    "    이름 : 신돌석\n",
    "    급여 : 2000000\n",
    "    취미 : 독서, 피아노, 드론\n",
    "\"\"\" \n",
    "\n",
    "class Employee:\n",
    "    \n",
    "    num = int()\n",
    "    name = str()\n",
    "    salary = int()\n",
    "    hobbies = []\n",
    "    e_cnt = 0\n",
    "    \n",
    "    def display(self):\n",
    "        print(\"결과:\")\n",
    "        print(\"사번: \",self.num)\n",
    "        print(\"이름: \",self.name)\n",
    "        print(\"급여: \",self.salary)\n",
    "        print(\"취미: \",self.hobbies)\n",
    "    \n",
    "    def __init__(self,num,name,salary,hobbies):\n",
    "       \n",
    "        self.num = num\n",
    "        self.name = name\n",
    "        self.salary = salary\n",
    "        self.hobbies = hobbies\n",
    "        Employee.e_cnt += 1\n",
    "        \n",
    "    \n",
    "    def getCount():\n",
    "        return Employee.e_cnt\n",
    "    \n",
    "    def setSalary(self,salary):\n",
    "        self.salary = salary\n",
    "    \n",
    "    def appendHobby(self,*hobbies):\n",
    "        self.hobbies.extend(hobbies)"
   ]
  },
  {
   "cell_type": "code",
   "execution_count": 57,
   "id": "3c9e8796",
   "metadata": {},
   "outputs": [
    {
     "name": "stdout",
     "output_type": "stream",
     "text": [
      "결과:\n",
      "사번:  1111\n",
      "이름:  홍길동\n",
      "급여:  1000000\n",
      "취미:  ['여행', '낚시', '운동']\n",
      "인원수:  3\n",
      "결과:\n",
      "사번:  1113\n",
      "이름:  신돌석\n",
      "급여:  2000000\n",
      "취미:  ['독서', '피아노', '드론']\n"
     ]
    }
   ],
   "source": [
    "e1 = Employee(1111,\"홍길동\",1000000,[\"여행\",\"낚시\",\"운동\"])\n",
    "e1.display()\n",
    "\n",
    "e2 = Employee(1112,\"임꺽정\",1200000,[\"자전거\",\"볼링\"])\n",
    "e3 = Employee(1113,\"신돌석\",1400000,[\"독서\"])\n",
    "\n",
    "total = Employee.getCount()\n",
    "print(\"인원수: \",total)\n",
    "\n",
    "# 데이터 수정\n",
    "e3.setSalary(2000000)\n",
    "e3.appendHobby(\"피아노\",\"드론\")\n",
    "e3.display()"
   ]
  },
  {
   "cell_type": "markdown",
   "id": "efc81e6c",
   "metadata": {},
   "source": [
    "---\n",
    "\n",
    "### (4) 원래 설계된 멤버변수 외에 객체 별로 멤버 변수를 추가할 수 있다."
   ]
  },
  {
   "cell_type": "code",
   "execution_count": 66,
   "id": "0b347cbe",
   "metadata": {},
   "outputs": [],
   "source": [
    "class Test:\n",
    "    a = 0\n",
    "    \n",
    "    def display(self):\n",
    "        print(self.a)"
   ]
  },
  {
   "cell_type": "code",
   "execution_count": 67,
   "id": "9dacfe18",
   "metadata": {},
   "outputs": [
    {
     "name": "stdout",
     "output_type": "stream",
     "text": [
      "0\n",
      "0\n",
      "10 100\n"
     ]
    }
   ],
   "source": [
    "ob1 = Test()\n",
    "ob1.display()\n",
    "\n",
    "ob2 = Test()\n",
    "ob2.display()\n",
    "\n",
    "ob2.a = 10\n",
    "ob2.b = 100\n",
    "print(ob2.a,ob2.b)"
   ]
  },
  {
   "cell_type": "markdown",
   "id": "ce6bc9f0",
   "metadata": {},
   "source": [
    "---\n",
    "\n",
    "### (5) _ 와 __\n",
    "\n",
    "+ 기본 인터프리터에서 사용 (최근에 사용한 값을 저장하고 불러오기) : _\n",
    "+ 값을 무시\n",
    "+ 접근 권한"
   ]
  },
  {
   "cell_type": "code",
   "execution_count": 69,
   "id": "cb0eff7b",
   "metadata": {},
   "outputs": [
    {
     "name": "stdout",
     "output_type": "stream",
     "text": [
      "20 30\n"
     ]
    }
   ],
   "source": [
    "# 값을 무시\n",
    "_, b, c = (10, 20, 30)\n",
    "a, _, c = (10, 20, 30)\n",
    "_, _, c = (10, 20, 30)\n",
    "\n",
    "print(b,c)"
   ]
  },
  {
   "cell_type": "code",
   "execution_count": 71,
   "id": "77c0767c",
   "metadata": {},
   "outputs": [],
   "source": [
    "a, _, _, _, _, b = (10, 20, 30, 40, 50, 60)\n",
    "\n",
    "# 여러개 한번에 값 무시\n",
    "a, *_, b = (10, 20, 30, 40, 50, 60)"
   ]
  },
  {
   "cell_type": "code",
   "execution_count": 83,
   "id": "3afc9e7c",
   "metadata": {},
   "outputs": [],
   "source": [
    "class Test:\n",
    "    str1 = '안녕하세요!!'\n",
    "    _str2 = '홍길동입니다.'\n",
    "    __str3 = '이것은 건드리지 마세요.' # 간접적으로 사용할 수 있음 (함수를 만들어서)\n",
    "    \n",
    "    def __funcTest(self):\n",
    "        print(\"funcTest입니다.\",self.str1)\n",
    "    \n",
    "    def setStr3(a):\n",
    "        self.__str3 = a\n",
    "        \n",
    "    def getStr3():\n",
    "        return self.__str3 "
   ]
  },
  {
   "cell_type": "code",
   "execution_count": 84,
   "id": "2906471b",
   "metadata": {},
   "outputs": [
    {
     "name": "stdout",
     "output_type": "stream",
     "text": [
      "안녕하세요!!\n",
      "홍길동입니다.\n",
      "임꺽정입니다.\n",
      "['_Test__funcTest', '_Test__str3', '__class__', '__delattr__', '__dict__', '__dir__', '__doc__', '__eq__', '__format__', '__ge__', '__getattribute__', '__gt__', '__hash__', '__init__', '__init_subclass__', '__le__', '__lt__', '__module__', '__ne__', '__new__', '__reduce__', '__reduce_ex__', '__repr__', '__setattr__', '__sizeof__', '__str__', '__subclasshook__', '__weakref__', '_str2', 'getStr3', 'setStr3', 'str1']\n",
      "이것은 건드리지 마세요.\n"
     ]
    },
    {
     "ename": "TypeError",
     "evalue": "setStr3() takes 1 positional argument but 2 were given",
     "output_type": "error",
     "traceback": [
      "\u001b[1;31m---------------------------------------------------------------------------\u001b[0m",
      "\u001b[1;31mTypeError\u001b[0m                                 Traceback (most recent call last)",
      "\u001b[1;32m<ipython-input-84-5c98b0815fba>\u001b[0m in \u001b[0;36m<module>\u001b[1;34m\u001b[0m\n\u001b[0;32m     12\u001b[0m \u001b[1;31m# ob1._Test__funcTest()\u001b[0m\u001b[1;33m\u001b[0m\u001b[1;33m\u001b[0m\u001b[1;33m\u001b[0m\u001b[0m\n\u001b[0;32m     13\u001b[0m \u001b[1;33m\u001b[0m\u001b[0m\n\u001b[1;32m---> 14\u001b[1;33m \u001b[0mob1\u001b[0m\u001b[1;33m.\u001b[0m\u001b[0msetStr3\u001b[0m\u001b[1;33m(\u001b[0m\u001b[1;34m\"수정하였음...\"\u001b[0m\u001b[1;33m)\u001b[0m\u001b[1;33m\u001b[0m\u001b[1;33m\u001b[0m\u001b[0m\n\u001b[0m\u001b[0;32m     15\u001b[0m \u001b[0mprint\u001b[0m\u001b[1;33m(\u001b[0m\u001b[0mob1\u001b[0m\u001b[1;33m.\u001b[0m\u001b[0mgetStr3\u001b[0m\u001b[1;33m(\u001b[0m\u001b[1;33m)\u001b[0m\u001b[1;33m)\u001b[0m\u001b[1;33m\u001b[0m\u001b[1;33m\u001b[0m\u001b[0m\n",
      "\u001b[1;31mTypeError\u001b[0m: setStr3() takes 1 positional argument but 2 were given"
     ]
    }
   ],
   "source": [
    "ob1 = Test()\n",
    "print(ob1.str1)\n",
    "print(ob1._str2)\n",
    "\n",
    "ob1._str2 = \"임꺽정입니다.\"\n",
    "print(ob1._str2)\n",
    "\n",
    "# print(ob1.__str3)\n",
    "print(dir(ob1))\n",
    "print(ob1._Test__str3)  # 좋지 않은 방법\n",
    "\n",
    "# ob1._Test__funcTest()\n",
    "\n",
    "ob1.setStr3(\"수정하였음...\")\n",
    "print(ob1.getStr3())"
   ]
  },
  {
   "cell_type": "markdown",
   "id": "0381c81a",
   "metadata": {},
   "source": [
    "---\n",
    "\n",
    "## 3. 상속(Inheritance)\n",
    "\n",
    "- 상속 설계 시 고려할 점\n",
    "    + 부모 클래스는 최소한의 코드로 작성 (모든 자식들이 공통적으로 필요로 하는 것으로 구성)  \n",
    "    + 상속받는 자식 클래스는 반드시 기능을 추가(확장)시켜야 한다.  \n",
    "    + 중복된 기능이 있어서는 안된다.\n",
    "   \n",
    "- Override(재정의), Overload(중복정의)"
   ]
  },
  {
   "cell_type": "code",
   "execution_count": 85,
   "id": "3177957d",
   "metadata": {},
   "outputs": [],
   "source": [
    "class Animal:\n",
    "    def move(self):\n",
    "        print(\"움직인다.\")\n",
    "        \n",
    "# Animal로 부터 상속받음\n",
    "class Dog(Animal):\n",
    "    def bark(self):\n",
    "        print(\"멍멍~~~~\")\n",
    "\n",
    "class Horse(Animal):\n",
    "    def speed(self,s):\n",
    "        print(\"현재 속도는 \",s)"
   ]
  },
  {
   "cell_type": "code",
   "execution_count": 87,
   "id": "7f9c2146",
   "metadata": {},
   "outputs": [
    {
     "name": "stdout",
     "output_type": "stream",
     "text": [
      "멍멍~~~~\n",
      "움직인다.\n"
     ]
    }
   ],
   "source": [
    "d1 = Dog()\n",
    "d1.bark()\n",
    "d1.move()"
   ]
  },
  {
   "cell_type": "code",
   "execution_count": 93,
   "id": "b48788ea",
   "metadata": {},
   "outputs": [],
   "source": [
    "class Calculator:\n",
    "    first = 0\n",
    "    second = 0\n",
    "    \n",
    "    def __init__(self, first=None, second=None):\n",
    "        self.first = first\n",
    "        self.second = second\n",
    "    \n",
    "    def setData(self, first=None, second=None):\n",
    "        self.first = first\n",
    "        self.second = second\n",
    "    \n",
    "    def sum(self):\n",
    "        return self.first + self.second\n",
    "    \n",
    "    def div(self):\n",
    "        return self.first / self.second\n",
    "    \n",
    "    def mul(self):\n",
    "        return self.first * self.second\n",
    "    \n",
    "    def sub(self):\n",
    "        return self.first - self.second\n",
    "\n",
    "class Calculator2(Calculator):\n",
    "    def pow(self):\n",
    "        return self.first ** self.second"
   ]
  },
  {
   "cell_type": "code",
   "execution_count": 96,
   "id": "5d19a90e",
   "metadata": {},
   "outputs": [
    {
     "name": "stdout",
     "output_type": "stream",
     "text": [
      "30\n",
      "600\n",
      "1024\n",
      "12\n",
      "20\n"
     ]
    }
   ],
   "source": [
    "cal1 = Calculator()\n",
    "cal1.setData(10,20)\n",
    "print(cal1.sum())\n",
    "\n",
    "cal2 = Calculator(20,30)\n",
    "print(cal2.mul())\n",
    "\n",
    "cal3 = Calculator2(2,10)\n",
    "print(cal3.pow())\n",
    "print(cal3.sum())\n",
    "print(cal3.mul())"
   ]
  },
  {
   "cell_type": "code",
   "execution_count": null,
   "id": "a5143b9f",
   "metadata": {},
   "outputs": [],
   "source": [
    "class Phone:\n",
    "    def call(self):\n",
    "        print(\"전화 걸기\")\n",
    "\n",
    "class FolderPhone(Phone):\n",
    "    def call(self):\n",
    "        print(\"전화걸기 + 게임\")\n",
    "\n",
    "class CameraPhone(Phone):\n",
    "    def call(self):\n",
    "        print(\"전화걸기 + 카메라 추가\")\n",
    "\n",
    "class SmartPhone(Phone):\n",
    "    def call(self):\n",
    "        print(\"전화걸기 + 카메라 추가 + 인터넷 기능\")"
   ]
  },
  {
   "cell_type": "code",
   "execution_count": 97,
   "id": "45ffe6e0",
   "metadata": {},
   "outputs": [],
   "source": [
    "class Person:\n",
    "    say = \"난 사람이다.\"\n",
    "    age = 20\n",
    "    \n",
    "    def info(self):\n",
    "        print(\"나이 : {}, 하고 싶은 말 : {}\".format(self.age,self.say))\n",
    "    \n",
    "    def __init__(self):\n",
    "        print(\"Person 클래스\")\n",
    "        \n",
    "class Employee(Person):\n",
    "    def __init__(self):\n",
    "        print(\"Employee 클래스\")\n",
    "        \n",
    "    say = \"난 회사원이다\""
   ]
  },
  {
   "cell_type": "markdown",
   "id": "23f99e22",
   "metadata": {},
   "source": [
    "#### (3) 람다 함수 (무명함수, 익명함수)"
   ]
  },
  {
   "cell_type": "code",
   "execution_count": 98,
   "id": "483e261a",
   "metadata": {},
   "outputs": [
    {
     "name": "stdout",
     "output_type": "stream",
     "text": [
      "30\n"
     ]
    }
   ],
   "source": [
    "def hap (x,y):\n",
    "    return x + y\n",
    "\n",
    "################################\n",
    "\n",
    "result = hap(10,20)\n",
    "print(result)"
   ]
  },
  {
   "cell_type": "code",
   "execution_count": 99,
   "id": "e5336418",
   "metadata": {},
   "outputs": [
    {
     "data": {
      "text/plain": [
       "30"
      ]
     },
     "execution_count": 99,
     "metadata": {},
     "output_type": "execute_result"
    }
   ],
   "source": [
    "(lambda x,y : x + y)(10,20)"
   ]
  },
  {
   "cell_type": "code",
   "execution_count": 103,
   "id": "9a7f2a4c",
   "metadata": {},
   "outputs": [
    {
     "name": "stdout",
     "output_type": "stream",
     "text": [
      "1 (2, 3, 4, 5) {'m': 6, 'n': 7, 'o': 8}\n",
      "1 (2, 3, 4, 5) {'m': 6, 'n': 7, 'o': 8}\n"
     ]
    }
   ],
   "source": [
    "def func_test(a, *b, **c):\n",
    "    print(a,b,c)\n",
    "\n",
    "###################################\n",
    "\n",
    "func_test(1, 2, 3, 4, 5, m=6, n=7, o=8)\n",
    "\n",
    "#################################### 함수의 내용이 간단해야 lambda 쓸수있음\n",
    "\n",
    "(lambda a,*b,**c :  print(a,b,c))(1, 2, 3, 4, 5, m=6, n=7, o=8)"
   ]
  },
  {
   "cell_type": "markdown",
   "id": "a3a74f3f",
   "metadata": {},
   "source": [
    "#### (4) 함수 장식자 (decorator)\n",
    "\n",
    "- 일종의 함수 감싸기 (wrapping)를 해주는 디자인 패턴\n",
    "- 메타 프로그래밍 기법\n",
    "- @staticmethod, @classmethod, @abstract,..."
   ]
  },
  {
   "cell_type": "code",
   "execution_count": 108,
   "id": "3dcc52b0",
   "metadata": {},
   "outputs": [
    {
     "data": {
      "text/plain": [
       "'안녕 반가워 홍길동'"
      ]
     },
     "execution_count": 108,
     "metadata": {},
     "output_type": "execute_result"
    }
   ],
   "source": [
    "def make2(fn):\n",
    "    return lambda : \"안녕 \" + fn()\n",
    "\n",
    "def make1(fn):\n",
    "    return lambda : \"반가워 \" + fn()\n",
    "\n",
    "def hello():\n",
    "    return \"홍길동\"\n",
    "\n",
    "############################################\n",
    "\n",
    "make2(make1(hello))()"
   ]
  },
  {
   "cell_type": "code",
   "execution_count": 119,
   "id": "3cde22f7",
   "metadata": {},
   "outputs": [
    {
     "data": {
      "text/plain": [
       "'안녕 반가워 홍길동'"
      ]
     },
     "execution_count": 119,
     "metadata": {},
     "output_type": "execute_result"
    }
   ],
   "source": [
    "def make2(fn):\n",
    "    return lambda : \"안녕 \" + fn()\n",
    "\n",
    "def make1(fn):\n",
    "    return lambda : \"반가워 \" + fn()\n",
    "\n",
    "@make2\n",
    "@make1\n",
    "def hello():\n",
    "    return \"홍길동\"\n",
    "\n",
    "hello()"
   ]
  },
  {
   "cell_type": "code",
   "execution_count": 120,
   "id": "58e2b65f",
   "metadata": {},
   "outputs": [
    {
     "name": "stdout",
     "output_type": "stream",
     "text": [
      "결과는 30 이다.\n"
     ]
    }
   ],
   "source": [
    "def outer(fn):\n",
    "    def inner(n1, n2):\n",
    "        print(\"결과는 {} 이다.\".format(fn(n1, n2)))\n",
    "    \n",
    "    return inner\n",
    "\n",
    "@outer\n",
    "def func(n1, n2):\n",
    "    return n1 + n2\n",
    "\n",
    "########################################################\n",
    "\n",
    "# result = outer(func)  #inner함수의 주소\n",
    "# result(10,20)\n",
    "\n",
    "func(10,20)"
   ]
  },
  {
   "cell_type": "code",
   "execution_count": null,
   "id": "a68db776",
   "metadata": {},
   "outputs": [],
   "source": []
  }
 ],
 "metadata": {
  "kernelspec": {
   "display_name": "Python 3",
   "language": "python",
   "name": "python3"
  },
  "language_info": {
   "codemirror_mode": {
    "name": "ipython",
    "version": 3
   },
   "file_extension": ".py",
   "mimetype": "text/x-python",
   "name": "python",
   "nbconvert_exporter": "python",
   "pygments_lexer": "ipython3",
   "version": "3.8.8"
  }
 },
 "nbformat": 4,
 "nbformat_minor": 5
}
